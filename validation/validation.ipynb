{
 "cells": [
  {
   "cell_type": "code",
   "execution_count": 1,
   "metadata": {},
   "outputs": [],
   "source": [
    "import sys\n",
    "sys.path.insert(1, \"../gapfilling/scripts/\")"
   ]
  },
  {
   "cell_type": "code",
   "execution_count": 2,
   "metadata": {},
   "outputs": [],
   "source": [
    "# loading gap filling module\n",
    "from Gapfilling import *\n",
    "from modelseed_gapfilling import *\n",
    "import random"
   ]
  },
  {
   "cell_type": "code",
   "execution_count": 3,
   "metadata": {},
   "outputs": [],
   "source": [
    "import psamm"
   ]
  },
  {
   "cell_type": "code",
   "execution_count": 4,
   "metadata": {},
   "outputs": [],
   "source": [
    "def make_model_copies(model, n = 10):\n",
    "    d = {}\n",
    "    N = n + 1\n",
    "    for i in range(1, N):\n",
    "        d[str(model) + \"_\" + str(i)] = fake_copy(model)\n",
    "    return d"
   ]
  },
  {
   "cell_type": "code",
   "execution_count": 5,
   "metadata": {},
   "outputs": [],
   "source": [
    "def remove_random_reaction(reference, model_dict, n = 1):\n",
    "    \"\"\"\n",
    "    model_dict: dictionary of samples\n",
    "    n: number of reactions to be removed from each model\n",
    "    \"\"\"\n",
    "    n_samples = len(model_dict)\n",
    "    N = n * n_samples\n",
    "    \n",
    "    reactions = list(reference.reactions)\n",
    "    Random = random.sample(reactions, N)\n",
    "    random_reactions = [i.id for i in Random]\n",
    "    \n",
    "    print(random_reactions)\n",
    "    \n",
    "    if N == n_samples:\n",
    "        for i in range(len(model_dict)):\n",
    "            list(model_dict.values())[i].remove_reactions([random_reactions[i]])\n",
    "    else:\n",
    "        c = 0\n",
    "        for i in range(len(model_dict)):\n",
    "            for j in range(c, c + n):\n",
    "                list(model_dict.values())[i].remove_reactions([random_reactions[j]])\n",
    "                c += 1\n",
    "    return model_dict"
   ]
  },
  {
   "cell_type": "code",
   "execution_count": 6,
   "metadata": {},
   "outputs": [
    {
     "name": "stdout",
     "output_type": "stream",
     "text": [
      "Using license file /home/fco/gurobi.lic\n",
      "Academic license - for non-commercial use only - expires 2021-08-10\n"
     ]
    }
   ],
   "source": [
    "# loading models\n",
    "e_coli = read_sbml_model(\"../experiment/models/references/iML1515.xml\")\n",
    "l_lactis = read_sbml_model(\"../experiment/models/references/iNF517.xml\")\n",
    "p_putida = read_sbml_model(\"../experiment/models/references/iJN1463.xml\")"
   ]
  },
  {
   "cell_type": "code",
   "execution_count": 7,
   "metadata": {},
   "outputs": [
    {
     "name": "stdout",
     "output_type": "stream",
     "text": [
      "OBJECTIVE FUNCTIONS:\n",
      "\n",
      "E. coli:\n",
      "\n",
      "Maximize\n",
      "1.0*BIOMASS_Ec_iML1515_core_75p37M - 1.0*BIOMASS_Ec_iML1515_core_75p37M_reverse_35685\n",
      "\n",
      "L. lactis:\n",
      "\n",
      "Maximize\n",
      "1.0*BIOMASS_LLA - 1.0*BIOMASS_LLA_reverse_0796e\n",
      "\n",
      "P. putida:\n",
      "\n",
      "Maximize\n",
      "1.0*BIOMASS_KT2440_WT3 - 1.0*BIOMASS_KT2440_WT3_reverse_d86d5\n",
      "\n"
     ]
    }
   ],
   "source": [
    "# Checking objective functions\n",
    "print(\"OBJECTIVE FUNCTIONS:\\n\")\n",
    "print(\"E. coli:\\n\\n\" + str(e_coli.objective) + \"\\n\")\n",
    "print(\"L. lactis:\\n\\n\" + str(l_lactis.objective) + \"\\n\")\n",
    "print(\"P. putida:\\n\\n\" + str(p_putida.objective) + \"\\n\")"
   ]
  },
  {
   "cell_type": "markdown",
   "metadata": {},
   "source": [
    "All three models are meant to optimized biomass production. Let's change the objective function of one of them in order to have a more diverse dataset."
   ]
  },
  {
   "cell_type": "code",
   "execution_count": 8,
   "metadata": {},
   "outputs": [
    {
     "data": {
      "text/html": [
       "\n",
       "        <table>\n",
       "            <tr>\n",
       "                <td><strong>Reaction identifier</strong></td><td>ACS</td>\n",
       "            </tr><tr>\n",
       "                <td><strong>Name</strong></td><td>Acetyl-CoA synthetase</td>\n",
       "            </tr><tr>\n",
       "                <td><strong>Memory address</strong></td>\n",
       "                <td>0x07ff5a82163d0</td>\n",
       "            </tr><tr>\n",
       "                <td><strong>Stoichiometry</strong></td>\n",
       "                <td>\n",
       "                    <p style='text-align:right'>ac_c + atp_c + coa_c --> accoa_c + amp_c + ppi_c</p>\n",
       "                    <p style='text-align:right'>Acetate + ATP C10H12N5O13P3 + Coenzyme A --> Acetyl-CoA + AMP C10H12N5O7P + Diphosphate</p>\n",
       "                </td>\n",
       "            </tr><tr>\n",
       "                <td><strong>GPR</strong></td><td>PP_4487 or PP_4702 or PP_3071</td>\n",
       "            </tr><tr>\n",
       "                <td><strong>Lower bound</strong></td><td>0.0</td>\n",
       "            </tr><tr>\n",
       "                <td><strong>Upper bound</strong></td><td>999999.0</td>\n",
       "            </tr>\n",
       "        </table>\n",
       "        "
      ],
      "text/plain": [
       "<Reaction ACS at 0x7ff5a82163d0>"
      ]
     },
     "execution_count": 8,
     "metadata": {},
     "output_type": "execute_result"
    }
   ],
   "source": [
    "p_putida.reactions.ACS"
   ]
  },
  {
   "cell_type": "code",
   "execution_count": 9,
   "metadata": {},
   "outputs": [],
   "source": [
    "p_putida.objective = \"ACS\""
   ]
  },
  {
   "cell_type": "code",
   "execution_count": 10,
   "metadata": {
    "scrolled": false
   },
   "outputs": [
    {
     "name": "stdout",
     "output_type": "stream",
     "text": [
      "FLUX VALUES:\n",
      "\n",
      "E. coli:\n",
      "\n",
      "0.8769972144269736\n",
      "\n",
      "L. lactis:\n",
      "\n",
      "0.04263460544337326\n",
      "\n",
      "P. putida:\n",
      "\n",
      "129.57999999999998\n",
      "\n"
     ]
    }
   ],
   "source": [
    "# Checking the fluxes of each model\n",
    "print(\"FLUX VALUES:\\n\")\n",
    "print(\"E. coli:\\n\\n\" + str(e_coli.optimize().objective_value) + \"\\n\")\n",
    "print(\"L. lactis:\\n\\n\" + str(l_lactis.optimize().objective_value) + \"\\n\")\n",
    "print(\"P. putida:\\n\\n\" + str(p_putida.optimize().objective_value) + \"\\n\")"
   ]
  },
  {
   "cell_type": "code",
   "execution_count": 13,
   "metadata": {},
   "outputs": [],
   "source": [
    "# Creating 10 copies of each model\n",
    "\n",
    "e_coli_samples = make_model_copies(e_coli)\n",
    "l_lactis_samples = make_model_copies(l_lactis)\n",
    "p_putida_samples = make_model_copies(p_putida)"
   ]
  },
  {
   "cell_type": "markdown",
   "metadata": {},
   "source": [
    "Now, we will remove one random reaction of every copy. "
   ]
  },
  {
   "cell_type": "code",
   "execution_count": 14,
   "metadata": {},
   "outputs": [
    {
     "name": "stdout",
     "output_type": "stream",
     "text": [
      "2712\n",
      "754\n",
      "2927\n"
     ]
    }
   ],
   "source": [
    "print(len(list(e_coli_samples.values())[5].reactions))\n",
    "print(len(list(l_lactis_samples.values())[5].reactions))\n",
    "print(len(list(p_putida_samples.values())[5].reactions))"
   ]
  },
  {
   "cell_type": "code",
   "execution_count": 15,
   "metadata": {
    "scrolled": true
   },
   "outputs": [
    {
     "name": "stdout",
     "output_type": "stream",
     "text": [
      "['EX_g1p_e', 'MALTHXtexi', 'THRt2pp', 'EX_fru_e', '5DGLCNR', 'DHNCOAT', 'UDCPDPS', 'FRUtex', 'EX_chtbs_e', 'GLYCK2']\n",
      "['GLYCAt2rpp', 'LTDCL', 'SADH', 'EX_34dhcinm_e', 'EX_so3_e', 'LPADSS2_1', '3OAS181', 'DMPPS', 'OMBZLM', 'ALGE8']\n",
      "['OCMAT3', 'HPPK', 'EX_glcn__D_e', 'EX_pyr_e', 'ILETRS_1', 'AGAT_LLA', 'EX_ser__L_e', 'MTHFC', 'ALAR', 'PRAIS_1']\n"
     ]
    },
    {
     "data": {
      "text/plain": [
       "{'iNF517_1': <Model iNF517 at 0x7ff519f77130>,\n",
       " 'iNF517_2': <Model iNF517 at 0x7ff517212bb0>,\n",
       " 'iNF517_3': <Model iNF517 at 0x7ff516f5f460>,\n",
       " 'iNF517_4': <Model iNF517 at 0x7ff5184d9ac0>,\n",
       " 'iNF517_5': <Model iNF517 at 0x7ff5162c3460>,\n",
       " 'iNF517_6': <Model iNF517 at 0x7ff515c561f0>,\n",
       " 'iNF517_7': <Model iNF517 at 0x7ff5154ad6d0>,\n",
       " 'iNF517_8': <Model iNF517 at 0x7ff514f231c0>,\n",
       " 'iNF517_9': <Model iNF517 at 0x7ff514844580>,\n",
       " 'iNF517_10': <Model iNF517 at 0x7ff5141d7e50>}"
      ]
     },
     "execution_count": 15,
     "metadata": {},
     "output_type": "execute_result"
    }
   ],
   "source": [
    "# removing one reaction from every model\n",
    "\n",
    "remove_random_reaction(e_coli, e_coli_samples)\n",
    "remove_random_reaction(p_putida, p_putida_samples)\n",
    "remove_random_reaction(l_lactis, l_lactis_samples)"
   ]
  },
  {
   "cell_type": "code",
   "execution_count": 16,
   "metadata": {},
   "outputs": [
    {
     "name": "stdout",
     "output_type": "stream",
     "text": [
      "2711\n",
      "753\n",
      "2926\n"
     ]
    }
   ],
   "source": [
    "print(len(list(e_coli_samples.values())[5].reactions))\n",
    "print(len(list(l_lactis_samples.values())[5].reactions))\n",
    "print(len(list(p_putida_samples.values())[5].reactions))"
   ]
  },
  {
   "cell_type": "code",
   "execution_count": 17,
   "metadata": {},
   "outputs": [
    {
     "name": "stdout",
     "output_type": "stream",
     "text": [
      "iML1515_1\n",
      "0.8769972144269712\n",
      "iML1515_2\n",
      "0.8769972144269669\n",
      "iML1515_3\n",
      "0.8769972144269712\n",
      "iML1515_4\n",
      "0.8769972144269763\n",
      "iML1515_5\n",
      "0.8769972144269759\n",
      "iML1515_6\n",
      "0.876997214426967\n",
      "iML1515_7\n",
      "0.0\n",
      "iML1515_8\n",
      "0.8769972144269678\n",
      "iML1515_9\n",
      "0.8769972144269725\n",
      "iML1515_10\n",
      "0.8769972144269655\n"
     ]
    }
   ],
   "source": [
    "# checking functionality of the models\n",
    "# e. coli\n",
    "for i in range(len(e_coli_samples)):\n",
    "    print(list(e_coli_samples.keys())[i])\n",
    "    print(list(e_coli_samples.values())[i].optimize().objective_value)"
   ]
  },
  {
   "cell_type": "code",
   "execution_count": 18,
   "metadata": {},
   "outputs": [
    {
     "name": "stdout",
     "output_type": "stream",
     "text": [
      "iNF517_1\n",
      "0.0\n",
      "iNF517_2\n",
      "0.0\n",
      "iNF517_3\n",
      "0.04263460544337327\n",
      "iNF517_4\n",
      "0.04263460544337326\n",
      "iNF517_5\n",
      "0.0\n",
      "iNF517_6\n",
      "0.0\n",
      "iNF517_7\n",
      "0.04263460544337325\n",
      "iNF517_8\n",
      "0.04263460544337326\n",
      "iNF517_9\n",
      "0.0\n",
      "iNF517_10\n",
      "0.04263460544337327\n"
     ]
    }
   ],
   "source": [
    "# l. lactis\n",
    "for i in range(len(l_lactis_samples)):\n",
    "    print(list(l_lactis_samples.keys())[i])\n",
    "    print(list(l_lactis_samples.values())[i].optimize().objective_value)"
   ]
  },
  {
   "cell_type": "code",
   "execution_count": 19,
   "metadata": {},
   "outputs": [
    {
     "name": "stdout",
     "output_type": "stream",
     "text": [
      "iJN1463_1\n",
      "129.57999999999998\n",
      "iJN1463_2\n",
      "129.57999999999998\n",
      "iJN1463_3\n",
      "129.57999999999998\n",
      "iJN1463_4\n",
      "129.58000000000004\n",
      "iJN1463_5\n",
      "129.58000000000004\n",
      "iJN1463_6\n",
      "129.58000000000004\n",
      "iJN1463_7\n",
      "129.58000000000004\n",
      "iJN1463_8\n",
      "129.57999999999998\n",
      "iJN1463_9\n",
      "129.57999999999998\n",
      "iJN1463_10\n",
      "129.57999999999998\n"
     ]
    }
   ],
   "source": [
    "# p. putida\n",
    "for i in range(len(p_putida_samples)):\n",
    "    print(list(p_putida_samples.keys())[i])\n",
    "    print(list(p_putida_samples.values())[i].optimize().objective_value)"
   ]
  },
  {
   "cell_type": "code",
   "execution_count": 30,
   "metadata": {},
   "outputs": [],
   "source": [
    "# Make copies of each set of models for comparison\n",
    "e_coli_cobra = {}\n",
    "e_coli_gallant = {}\n",
    "for x in e_coli_samples:\n",
    "    e_coli_cobra[x] = fake_copy(e_coli_samples[x])\n",
    "    e_coli_gallant[x] = fake_copy(e_coli_samples[x])"
   ]
  },
  {
   "cell_type": "code",
   "execution_count": 40,
   "metadata": {},
   "outputs": [],
   "source": [
    "l_lactis_cobra = {}\n",
    "l_lactis_gallant = {}\n",
    "for x in l_lactis_samples:\n",
    "    l_lactis_cobra[x] = fake_copy(l_lactis_samples[x])\n",
    "    l_lactis_gallant[x] = fake_copy(l_lactis_samples[x])"
   ]
  },
  {
   "cell_type": "code",
   "execution_count": 32,
   "metadata": {},
   "outputs": [],
   "source": [
    "p_putida_cobra = {}\n",
    "p_putida_gallant = {}\n",
    "for x in p_putida_samples:\n",
    "    p_putida_cobra[x] = fake_copy(p_putida_samples[x])\n",
    "    p_putida_gallant[x] = fake_copy(p_putida_samples[x])"
   ]
  },
  {
   "cell_type": "code",
   "execution_count": 33,
   "metadata": {
    "scrolled": true
   },
   "outputs": [
    {
     "name": "stdout",
     "output_type": "stream",
     "text": [
      "iML1515_1\n",
      "[]\n",
      "iML1515_2\n",
      "[]\n",
      "iML1515_3\n",
      "[]\n",
      "iML1515_4\n",
      "[]\n",
      "iML1515_5\n",
      "[]\n",
      "iML1515_6\n",
      "[]\n",
      "iML1515_7\n",
      "iML1515_8\n",
      "[]\n",
      "iML1515_9\n",
      "[]\n",
      "iML1515_10\n",
      "[]\n",
      "2min 56s ± 0 ns per loop (mean ± std. dev. of 1 run, 1 loop each)\n"
     ]
    }
   ],
   "source": [
    "%%timeit -n1 -r1\n",
    "# E. coli\n",
    "# COBRA\n",
    "for x in e_coli_cobra:\n",
    "    print(x)\n",
    "    with suppress_stdout():\n",
    "        sol = 0\n",
    "        try:\n",
    "            sol = cobra.flux_analysis.gapfill(e_coli_cobra[x], e_coli, demand_reactions=False)\n",
    "        except exceptions.Infeasible:\n",
    "            continue\n",
    "        except RuntimeError:\n",
    "            continue\n",
    "    print(sol[0])"
   ]
  },
  {
   "cell_type": "code",
   "execution_count": 34,
   "metadata": {
    "scrolled": true
   },
   "outputs": [
    {
     "name": "stdout",
     "output_type": "stream",
     "text": [
      "iML1515_1\n",
      "{'iML1515': [('EX_g1p_e', 'Exchange reaction')]}\n",
      "iML1515_2\n",
      "{'iML1515': [('MALTHXtexi', ['b4036'])]}\n",
      "iML1515_3\n",
      "{'iML1515': [('THRt2pp', ['b0813', 'b3823'])]}\n",
      "iML1515_4\n",
      "{'iML1515': [('EX_fru_e', 'Exchange reaction')]}\n",
      "iML1515_5\n",
      "{'iML1515': []}\n",
      "iML1515_6\n",
      "{'iML1515': []}\n",
      "iML1515_7\n",
      "{}\n",
      "iML1515_8\n",
      "{'iML1515': [('FRUtex', ['b1377', 'b0241', 'b0929', 'b2215'])]}\n",
      "iML1515_9\n",
      "{'iML1515': [('EX_chtbs_e', 'Exchange reaction')]}\n",
      "iML1515_10\n",
      "{'iML1515': []}\n",
      "3min 29s ± 0 ns per loop (mean ± std. dev. of 1 run, 1 loop each)\n"
     ]
    }
   ],
   "source": [
    "%%timeit -n1 -r1\n",
    "# GALLANT\n",
    "for x in e_coli_gallant:\n",
    "    print(x)\n",
    "    with suppress_stdout():\n",
    "        sol = homology_gapfilling(e_coli_gallant[x], [e_coli], integer_threshold=1e-9,\n",
    "                                  force_exchange=True, force_transport=True)\n",
    "    print(sol[1])"
   ]
  },
  {
   "cell_type": "code",
   "execution_count": 41,
   "metadata": {},
   "outputs": [
    {
     "name": "stdout",
     "output_type": "stream",
     "text": [
      "iNF517_1\n",
      "iNF517_2\n",
      "iNF517_3\n",
      "iNF517_4\n",
      "iNF517_5\n",
      "iNF517_6\n",
      "iNF517_7\n",
      "iNF517_8\n",
      "iNF517_9\n",
      "iNF517_10\n",
      "47.2 s ± 0 ns per loop (mean ± std. dev. of 1 run, 1 loop each)\n"
     ]
    }
   ],
   "source": [
    "%%timeit -n1 -r1\n",
    "# L. lactis\n",
    "# COBRA\n",
    "for x in l_lactis_cobra:\n",
    "    print(x)\n",
    "    sol = 0\n",
    "    with suppress_stdout():\n",
    "        try:\n",
    "            sol = cobra.flux_analysis.gapfill(l_lactis_cobra[x], l_lactis, demand_reactions=False)\n",
    "        except exceptions.Infeasible:\n",
    "            continue\n",
    "        except RuntimeError:\n",
    "            continue\n",
    "    print(sol[0])"
   ]
  },
  {
   "cell_type": "code",
   "execution_count": 43,
   "metadata": {
    "scrolled": true
   },
   "outputs": [
    {
     "name": "stdout",
     "output_type": "stream",
     "text": [
      "iNF517_1\n",
      "{}\n",
      "iNF517_2\n",
      "{}\n",
      "iNF517_3\n",
      "{}\n",
      "iNF517_4\n",
      "{}\n",
      "iNF517_5\n",
      "{}\n",
      "iNF517_6\n",
      "{}\n",
      "iNF517_7\n",
      "{}\n",
      "iNF517_8\n",
      "{}\n",
      "iNF517_9\n",
      "{}\n",
      "iNF517_10\n",
      "{}\n",
      "49.3 s ± 0 ns per loop (mean ± std. dev. of 1 run, 1 loop each)\n"
     ]
    }
   ],
   "source": [
    "%%timeit -n1 -r1\n",
    "# GALLANT\n",
    "for x in l_lactis_gallant:\n",
    "    print(x)\n",
    "    with suppress_stdout():\n",
    "        sol = homology_gapfilling(l_lactis_gallant[x], [l_lactis], integer_threshold=1e-9,\n",
    "                                  force_exchange=True, force_transport=True)\n",
    "    print(sol[1])"
   ]
  },
  {
   "cell_type": "code",
   "execution_count": 44,
   "metadata": {},
   "outputs": [
    {
     "name": "stdout",
     "output_type": "stream",
     "text": [
      "iJN1463_1\n",
      "[]\n",
      "iJN1463_2\n",
      "[]\n",
      "iJN1463_3\n",
      "[]\n",
      "iJN1463_4\n",
      "[]\n",
      "iJN1463_5\n",
      "[]\n",
      "iJN1463_6\n",
      "[]\n",
      "iJN1463_7\n",
      "[]\n",
      "iJN1463_8\n",
      "[]\n",
      "iJN1463_9\n",
      "[]\n",
      "iJN1463_10\n",
      "[]\n",
      "3min 10s ± 0 ns per loop (mean ± std. dev. of 1 run, 1 loop each)\n"
     ]
    }
   ],
   "source": [
    "%%timeit -n1 -r1\n",
    "# P. putida\n",
    "# COBRA\n",
    "for x in p_putida_cobra:\n",
    "    print(x)\n",
    "    sol = 0\n",
    "    with suppress_stdout():\n",
    "        try:\n",
    "            sol = cobra.flux_analysis.gapfill(p_putida_cobra[x], p_putida, demand_reactions=False)\n",
    "        except exceptions.Infeasible:\n",
    "            continue\n",
    "        except RuntimeError:\n",
    "            continue\n",
    "    print(sol[0])"
   ]
  },
  {
   "cell_type": "code",
   "execution_count": 45,
   "metadata": {},
   "outputs": [
    {
     "name": "stdout",
     "output_type": "stream",
     "text": [
      "iJN1463_1\n",
      "{'iJN1463': [('GLYCAt2rpp', ['PP_3600'])]}\n",
      "iJN1463_2\n",
      "{'iJN1463': []}\n",
      "iJN1463_3\n",
      "{'iJN1463': []}\n",
      "iJN1463_4\n",
      "{'iJN1463': [('EX_34dhcinm_e', 'Exchange reaction')]}\n",
      "iJN1463_5\n",
      "{'iJN1463': [('EX_so3_e', 'Exchange reaction')]}\n",
      "iJN1463_6\n",
      "{'iJN1463': []}\n",
      "iJN1463_7\n",
      "{'iJN1463': []}\n",
      "iJN1463_8\n",
      "{'iJN1463': []}\n",
      "iJN1463_9\n",
      "{'iJN1463': []}\n",
      "iJN1463_10\n",
      "{'iJN1463': []}\n",
      "3min 27s ± 0 ns per loop (mean ± std. dev. of 1 run, 1 loop each)\n"
     ]
    }
   ],
   "source": [
    "%%timeit -n1 -r1\n",
    "# GALLANT\n",
    "for x in p_putida_gallant:\n",
    "    print(x)\n",
    "    with suppress_stdout():\n",
    "        sol = homology_gapfilling(p_putida_gallant[x], [p_putida], integer_threshold=1e-9,\n",
    "                                  force_exchange=True, force_transport=True)\n",
    "    print(sol[1])"
   ]
  },
  {
   "cell_type": "code",
   "execution_count": 36,
   "metadata": {},
   "outputs": [],
   "source": [
    "X = {}\n",
    "for x in e_coli_samples:\n",
    "    X[x] = fake_copy(e_coli_samples[x])"
   ]
  }
 ],
 "metadata": {
  "kernelspec": {
   "display_name": "Python 3",
   "language": "python",
   "name": "python3"
  },
  "language_info": {
   "codemirror_mode": {
    "name": "ipython",
    "version": 3
   },
   "file_extension": ".py",
   "mimetype": "text/x-python",
   "name": "python",
   "nbconvert_exporter": "python",
   "pygments_lexer": "ipython3",
   "version": "3.8.5"
  }
 },
 "nbformat": 4,
 "nbformat_minor": 4
}
