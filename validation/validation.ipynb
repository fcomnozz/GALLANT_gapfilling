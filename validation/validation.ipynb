{
 "cells": [
  {
   "cell_type": "markdown",
   "metadata": {},
   "source": [
    "### Imports"
   ]
  },
  {
   "cell_type": "code",
   "execution_count": null,
   "metadata": {},
   "outputs": [],
   "source": [
    "import sys\n",
    "sys.path.insert(1, \"../gapfilling/scripts/\")"
   ]
  },
  {
   "cell_type": "code",
   "execution_count": 2,
   "metadata": {},
   "outputs": [],
   "source": [
    "# loading gap filling module\n",
    "from Gapfilling import *\n",
    "from modelseed_gapfilling import *\n",
    "import random"
   ]
  },
  {
   "cell_type": "code",
   "execution_count": 3,
   "metadata": {},
   "outputs": [],
   "source": [
    "import psamm"
   ]
  },
  {
   "cell_type": "markdown",
   "metadata": {},
   "source": [
    "### New functions"
   ]
  },
  {
   "cell_type": "code",
   "execution_count": 4,
   "metadata": {},
   "outputs": [],
   "source": [
    "def make_model_copies(model, n = 10):\n",
    "    d = {}\n",
    "    N = n + 1\n",
    "    for i in range(1, N):\n",
    "        d[str(model) + \"_\" + str(i)] = fake_copy(model)\n",
    "    return d"
   ]
  },
  {
   "cell_type": "code",
   "execution_count": 5,
   "metadata": {},
   "outputs": [],
   "source": [
    "def remove_random_reaction(reference, model_dict, n = 1):\n",
    "    \"\"\"\n",
    "    model_dict: dictionary of samples\n",
    "    n: number of reactions to be removed from each model\n",
    "    \"\"\"\n",
    "    n_samples = len(model_dict)\n",
    "    N = n * n_samples\n",
    "    \n",
    "    reactions = list(reference.reactions)\n",
    "    Random = random.sample(reactions, N)\n",
    "    random_reactions = [i.id for i in Random]\n",
    "    \n",
    "    print(random_reactions)\n",
    "    \n",
    "    if N == n_samples:\n",
    "        for i in range(len(model_dict)):\n",
    "            list(model_dict.values())[i].remove_reactions([random_reactions[i]])\n",
    "    else:\n",
    "        c = 0\n",
    "        for i in range(len(model_dict)):\n",
    "            for j in range(c, c + n):\n",
    "                list(model_dict.values())[i].remove_reactions([random_reactions[j]])\n",
    "                c += 1\n",
    "    return model_dict"
   ]
  },
  {
   "cell_type": "markdown",
   "metadata": {},
   "source": [
    "### Testing\n",
    "#### Loading models"
   ]
  },
  {
   "cell_type": "code",
   "execution_count": 6,
   "metadata": {},
   "outputs": [
    {
     "name": "stdout",
     "output_type": "stream",
     "text": [
      "Using license file /home/fco/gurobi.lic\n",
      "Academic license - for non-commercial use only - expires 2021-08-10\n"
     ]
    }
   ],
   "source": [
    "e_coli = read_sbml_model(\"../experiment/models/references/iML1515.xml\")\n",
    "l_lactis = read_sbml_model(\"../experiment/models/references/iNF517.xml\")\n",
    "p_putida = read_sbml_model(\"../experiment/models/references/iJN1463.xml\")"
   ]
  },
  {
   "cell_type": "markdown",
   "metadata": {},
   "source": [
    "#### Checking objective functions"
   ]
  },
  {
   "cell_type": "code",
   "execution_count": 7,
   "metadata": {},
   "outputs": [
    {
     "name": "stdout",
     "output_type": "stream",
     "text": [
      "OBJECTIVE FUNCTIONS:\n",
      "\n",
      "E. coli:\n",
      "\n",
      "Maximize\n",
      "1.0*BIOMASS_Ec_iML1515_core_75p37M - 1.0*BIOMASS_Ec_iML1515_core_75p37M_reverse_35685\n",
      "\n",
      "L. lactis:\n",
      "\n",
      "Maximize\n",
      "1.0*BIOMASS_LLA - 1.0*BIOMASS_LLA_reverse_0796e\n",
      "\n",
      "P. putida:\n",
      "\n",
      "Maximize\n",
      "1.0*BIOMASS_KT2440_WT3 - 1.0*BIOMASS_KT2440_WT3_reverse_d86d5\n",
      "\n"
     ]
    }
   ],
   "source": [
    "print(\"OBJECTIVE FUNCTIONS:\\n\")\n",
    "print(\"E. coli:\\n\\n\" + str(e_coli.objective) + \"\\n\")\n",
    "print(\"L. lactis:\\n\\n\" + str(l_lactis.objective) + \"\\n\")\n",
    "print(\"P. putida:\\n\\n\" + str(p_putida.objective) + \"\\n\")"
   ]
  },
  {
   "cell_type": "markdown",
   "metadata": {},
   "source": [
    "All three models are meant to optimized biomass production. Let's change the objective function of one of them in order to have a more diverse dataset."
   ]
  },
  {
   "cell_type": "code",
   "execution_count": 8,
   "metadata": {},
   "outputs": [
    {
     "data": {
      "text/html": [
       "\n",
       "        <table>\n",
       "            <tr>\n",
       "                <td><strong>Reaction identifier</strong></td><td>ACS</td>\n",
       "            </tr><tr>\n",
       "                <td><strong>Name</strong></td><td>Acetyl-CoA synthetase</td>\n",
       "            </tr><tr>\n",
       "                <td><strong>Memory address</strong></td>\n",
       "                <td>0x07ff5a82163d0</td>\n",
       "            </tr><tr>\n",
       "                <td><strong>Stoichiometry</strong></td>\n",
       "                <td>\n",
       "                    <p style='text-align:right'>ac_c + atp_c + coa_c --> accoa_c + amp_c + ppi_c</p>\n",
       "                    <p style='text-align:right'>Acetate + ATP C10H12N5O13P3 + Coenzyme A --> Acetyl-CoA + AMP C10H12N5O7P + Diphosphate</p>\n",
       "                </td>\n",
       "            </tr><tr>\n",
       "                <td><strong>GPR</strong></td><td>PP_4487 or PP_4702 or PP_3071</td>\n",
       "            </tr><tr>\n",
       "                <td><strong>Lower bound</strong></td><td>0.0</td>\n",
       "            </tr><tr>\n",
       "                <td><strong>Upper bound</strong></td><td>999999.0</td>\n",
       "            </tr>\n",
       "        </table>\n",
       "        "
      ],
      "text/plain": [
       "<Reaction ACS at 0x7ff5a82163d0>"
      ]
     },
     "execution_count": 8,
     "metadata": {},
     "output_type": "execute_result"
    }
   ],
   "source": [
    "p_putida.reactions.ACS"
   ]
  },
  {
   "cell_type": "code",
   "execution_count": 9,
   "metadata": {},
   "outputs": [],
   "source": [
    "p_putida.objective = \"ACS\""
   ]
  },
  {
   "cell_type": "code",
   "execution_count": 10,
   "metadata": {
    "scrolled": false
   },
   "outputs": [
    {
     "name": "stdout",
     "output_type": "stream",
     "text": [
      "FLUX VALUES:\n",
      "\n",
      "E. coli:\n",
      "\n",
      "0.8769972144269736\n",
      "\n",
      "L. lactis:\n",
      "\n",
      "0.04263460544337326\n",
      "\n",
      "P. putida:\n",
      "\n",
      "129.57999999999998\n",
      "\n"
     ]
    }
   ],
   "source": [
    "# Checking the fluxes of each model\n",
    "print(\"FLUX VALUES:\\n\")\n",
    "print(\"E. coli:\\n\\n\" + str(e_coli.optimize().objective_value) + \"\\n\")\n",
    "print(\"L. lactis:\\n\\n\" + str(l_lactis.optimize().objective_value) + \"\\n\")\n",
    "print(\"P. putida:\\n\\n\" + str(p_putida.optimize().objective_value) + \"\\n\")"
   ]
  },
  {
   "cell_type": "markdown",
   "metadata": {},
   "source": [
    "### Test 1: removal of 1 reaction"
   ]
  },
  {
   "cell_type": "code",
   "execution_count": 68,
   "metadata": {},
   "outputs": [],
   "source": [
    "# Creating 10 copies of each model\n",
    "\n",
    "e_coli_samples = make_model_copies(e_coli)\n",
    "l_lactis_samples = make_model_copies(l_lactis)\n",
    "p_putida_samples = make_model_copies(p_putida)"
   ]
  },
  {
   "cell_type": "markdown",
   "metadata": {},
   "source": [
    "Now, we will remove one random reaction of every copy. "
   ]
  },
  {
   "cell_type": "code",
   "execution_count": 69,
   "metadata": {},
   "outputs": [
    {
     "name": "stdout",
     "output_type": "stream",
     "text": [
      "2712\n",
      "754\n",
      "2927\n"
     ]
    }
   ],
   "source": [
    "print(len(list(e_coli_samples.values())[5].reactions))\n",
    "print(len(list(l_lactis_samples.values())[5].reactions))\n",
    "print(len(list(p_putida_samples.values())[5].reactions))"
   ]
  },
  {
   "cell_type": "code",
   "execution_count": 70,
   "metadata": {
    "scrolled": true
   },
   "outputs": [
    {
     "name": "stdout",
     "output_type": "stream",
     "text": [
      "['EX_alaala_e', 'G3PD5', 'TYRTA', 'DSBCGT', 'TMPPP', 'GSNtex', '23CUMPtex', 'EX_metsox_S__L_e', 'XYLUt2pp', 'EX_rfamp_e']\n",
      "['MBCOAi', 'PHADPCP90', 'PSERT', 'RHA140tpp', 'MUCCYCI', 'AGPAT161', 'DHAD1_copy2', 'ECOAH25', 'EX_glyphe_e', 'MDH2']\n",
      "['EX_2hxic__L_e', 'EX_pyr_e', 'UGLDDS1', 'DHNPA_1', 'AMMQT8_2', 'THRA', 'ASPCT', 'UAAGLS1_1', 'PTRCabc', 'ACHBS']\n"
     ]
    },
    {
     "data": {
      "text/plain": [
       "{'iNF517_1': <Model iNF517 at 0x7ff511efdcd0>,\n",
       " 'iNF517_2': <Model iNF517 at 0x7ff3b1cb02b0>,\n",
       " 'iNF517_3': <Model iNF517 at 0x7ff3b5f82640>,\n",
       " 'iNF517_4': <Model iNF517 at 0x7ff404117040>,\n",
       " 'iNF517_5': <Model iNF517 at 0x7ff3e200af70>,\n",
       " 'iNF517_6': <Model iNF517 at 0x7ff407f7a070>,\n",
       " 'iNF517_7': <Model iNF517 at 0x7ff3d69fbca0>,\n",
       " 'iNF517_8': <Model iNF517 at 0x7ff3d69fbd00>,\n",
       " 'iNF517_9': <Model iNF517 at 0x7ff3cfc36130>,\n",
       " 'iNF517_10': <Model iNF517 at 0x7ff3b5254310>}"
      ]
     },
     "execution_count": 70,
     "metadata": {},
     "output_type": "execute_result"
    }
   ],
   "source": [
    "# removing one reaction from every model\n",
    "\n",
    "remove_random_reaction(e_coli, e_coli_samples)\n",
    "remove_random_reaction(p_putida, p_putida_samples)\n",
    "remove_random_reaction(l_lactis, l_lactis_samples)"
   ]
  },
  {
   "cell_type": "code",
   "execution_count": 71,
   "metadata": {
    "scrolled": true
   },
   "outputs": [
    {
     "name": "stdout",
     "output_type": "stream",
     "text": [
      "2711\n",
      "753\n",
      "2926\n"
     ]
    }
   ],
   "source": [
    "print(len(list(e_coli_samples.values())[5].reactions))\n",
    "print(len(list(l_lactis_samples.values())[5].reactions))\n",
    "print(len(list(p_putida_samples.values())[5].reactions))"
   ]
  },
  {
   "cell_type": "markdown",
   "metadata": {},
   "source": [
    "#### E. coli"
   ]
  },
  {
   "cell_type": "code",
   "execution_count": 72,
   "metadata": {
    "scrolled": true
   },
   "outputs": [
    {
     "name": "stdout",
     "output_type": "stream",
     "text": [
      "iML1515_1\n",
      "0.8769972144269665\n",
      "iML1515_2\n",
      "0.8769972144269692\n",
      "iML1515_3\n",
      "0.0\n",
      "iML1515_4\n",
      "0.8769972144269693\n",
      "iML1515_5\n",
      "0.0\n",
      "iML1515_6\n",
      "0.8769972144269685\n",
      "iML1515_7\n",
      "0.8769972144269668\n",
      "iML1515_8\n",
      "0.8769972144269672\n",
      "iML1515_9\n",
      "0.8769972144269698\n",
      "iML1515_10\n",
      "0.8769972144269701\n"
     ]
    }
   ],
   "source": [
    "# checking functionality of the models\n",
    "for i in range(len(e_coli_samples)):\n",
    "    print(list(e_coli_samples.keys())[i])\n",
    "    print(list(e_coli_samples.values())[i].optimize().objective_value)"
   ]
  },
  {
   "cell_type": "code",
   "execution_count": 73,
   "metadata": {},
   "outputs": [
    {
     "name": "stdout",
     "output_type": "stream",
     "text": [
      "iML1515_1\n",
      "[]\n",
      "iML1515_2\n",
      "[]\n",
      "iML1515_3\n",
      "[<Reaction TYRTA at 0x7ff452fc90a0>]\n",
      "iML1515_4\n",
      "[]\n",
      "iML1515_5\n",
      "iML1515_6\n",
      "[]\n",
      "iML1515_7\n",
      "[]\n",
      "iML1515_8\n",
      "[]\n",
      "iML1515_9\n",
      "[]\n",
      "iML1515_10\n",
      "[]\n",
      "2min 53s ± 0 ns per loop (mean ± std. dev. of 1 run, 1 loop each)\n"
     ]
    }
   ],
   "source": [
    "%%timeit -n1 -r1\n",
    "# COBRA\n",
    "for x in e_coli_samples:\n",
    "    print(x)\n",
    "    with suppress_stdout():\n",
    "        sol = 0\n",
    "        try:\n",
    "            sol = cobra.flux_analysis.gapfill(e_coli_samples[x], e_coli, demand_reactions=False)\n",
    "        except exceptions.Infeasible:\n",
    "            continue\n",
    "        except RuntimeError:\n",
    "            continue\n",
    "    print(sol[0])"
   ]
  },
  {
   "cell_type": "code",
   "execution_count": 74,
   "metadata": {},
   "outputs": [
    {
     "name": "stdout",
     "output_type": "stream",
     "text": [
      "iML1515_1\n",
      "{'iML1515': [('EX_alaala_e', 'Exchange reaction')]}\n",
      "iML1515_2\n",
      "{'iML1515': []}\n",
      "iML1515_3\n",
      "{'iML1515': [('TYRTA', ['b0928', 'b3770', 'b4054'])]}\n",
      "iML1515_4\n",
      "{'iML1515': []}\n",
      "iML1515_5\n",
      "{'iML1515': [('TMPPP', ['b3993'])]}\n",
      "iML1515_6\n",
      "{'iML1515': [('GSNtex', ['b1377', 'b0241', 'b0929', 'b2215'])]}\n",
      "iML1515_7\n",
      "{'iML1515': [('23CUMPtex', ['b1377', 'b0241', 'b0929', 'b2215'])]}\n",
      "iML1515_8\n",
      "{'iML1515': [('EX_metsox_S__L_e', 'Exchange reaction')]}\n",
      "iML1515_9\n",
      "{'iML1515': [('XYLUt2pp', ['b3578', 'b3577', 'b3579'])]}\n",
      "iML1515_10\n",
      "{'iML1515': [('EX_rfamp_e', 'Exchange reaction')]}\n",
      "3min 40s ± 0 ns per loop (mean ± std. dev. of 1 run, 1 loop each)\n"
     ]
    }
   ],
   "source": [
    "%%timeit -n1 -r1\n",
    "# GALLANT\n",
    "for x in e_coli_samples:\n",
    "    print(x)\n",
    "    with suppress_stdout():\n",
    "        sol = homology_gapfilling(e_coli_samples[x], [e_coli], integer_threshold=1e-9,\n",
    "                                  force_exchange=True, force_transport=True)\n",
    "    print(sol[1])"
   ]
  },
  {
   "cell_type": "markdown",
   "metadata": {},
   "source": [
    "#### L. lactis"
   ]
  },
  {
   "cell_type": "code",
   "execution_count": 75,
   "metadata": {},
   "outputs": [
    {
     "name": "stdout",
     "output_type": "stream",
     "text": [
      "iNF517_1\n",
      "0.04263460544337327\n",
      "iNF517_2\n",
      "0.04263460544337326\n",
      "iNF517_3\n",
      "0.0\n",
      "iNF517_4\n",
      "0.0\n",
      "iNF517_5\n",
      "0.04263460544337326\n",
      "iNF517_6\n",
      "0.04263460544337326\n",
      "iNF517_7\n",
      "0.04263460544337326\n",
      "iNF517_8\n",
      "0.0\n",
      "iNF517_9\n",
      "0.04263460544337326\n",
      "iNF517_10\n",
      "0.04263460544337326\n"
     ]
    }
   ],
   "source": [
    "for i in range(len(l_lactis_samples)):\n",
    "    print(list(l_lactis_samples.keys())[i])\n",
    "    print(list(l_lactis_samples.values())[i].optimize().objective_value)"
   ]
  },
  {
   "cell_type": "code",
   "execution_count": 76,
   "metadata": {},
   "outputs": [
    {
     "name": "stdout",
     "output_type": "stream",
     "text": [
      "iNF517_1\n",
      "iNF517_2\n",
      "iNF517_3\n",
      "iNF517_4\n",
      "iNF517_5\n",
      "iNF517_6\n",
      "iNF517_7\n",
      "iNF517_8\n",
      "iNF517_9\n",
      "iNF517_10\n",
      "51.9 s ± 0 ns per loop (mean ± std. dev. of 1 run, 1 loop each)\n"
     ]
    }
   ],
   "source": [
    "%%timeit -n1 -r1\n",
    "# COBRA\n",
    "for x in l_lactis_samples:\n",
    "    print(x)\n",
    "    sol = 0\n",
    "    with suppress_stdout():\n",
    "        try:\n",
    "            sol = cobra.flux_analysis.gapfill(l_lactis_samples[x], l_lactis, demand_reactions=False)\n",
    "        except exceptions.Infeasible:\n",
    "            continue\n",
    "        except RuntimeError:\n",
    "            continue\n",
    "    print(sol[0])"
   ]
  },
  {
   "cell_type": "code",
   "execution_count": 77,
   "metadata": {},
   "outputs": [
    {
     "name": "stdout",
     "output_type": "stream",
     "text": [
      "iNF517_1\n",
      "{}\n",
      "iNF517_2\n",
      "{}\n",
      "iNF517_3\n",
      "{}\n",
      "iNF517_4\n",
      "{}\n",
      "iNF517_5\n",
      "{}\n",
      "iNF517_6\n",
      "{}\n",
      "iNF517_7\n",
      "{}\n",
      "iNF517_8\n",
      "{}\n",
      "iNF517_9\n",
      "{}\n",
      "iNF517_10\n",
      "{}\n",
      "52.3 s ± 0 ns per loop (mean ± std. dev. of 1 run, 1 loop each)\n"
     ]
    }
   ],
   "source": [
    "%%timeit -n1 -r1\n",
    "# GALLANT\n",
    "for x in l_lactis_samples:\n",
    "    print(x)\n",
    "    with suppress_stdout():\n",
    "        sol = homology_gapfilling(l_lactis_samples[x], [l_lactis], integer_threshold=1e-9,\n",
    "                                  force_exchange=True, force_transport=True)\n",
    "    print(sol[1])"
   ]
  },
  {
   "cell_type": "markdown",
   "metadata": {},
   "source": [
    "#### P. putida"
   ]
  },
  {
   "cell_type": "code",
   "execution_count": 78,
   "metadata": {},
   "outputs": [
    {
     "name": "stdout",
     "output_type": "stream",
     "text": [
      "iJN1463_1\n",
      "129.57999999999998\n",
      "iJN1463_2\n",
      "129.57999999999998\n",
      "iJN1463_3\n",
      "129.57999999999998\n",
      "iJN1463_4\n",
      "129.58\n",
      "iJN1463_5\n",
      "129.57999999999998\n",
      "iJN1463_6\n",
      "129.58000000000004\n",
      "iJN1463_7\n",
      "129.57999999999998\n",
      "iJN1463_8\n",
      "129.57999999999998\n",
      "iJN1463_9\n",
      "129.57999999999998\n",
      "iJN1463_10\n",
      "129.57999999999998\n"
     ]
    }
   ],
   "source": [
    "for i in range(len(p_putida_samples)):\n",
    "    print(list(p_putida_samples.keys())[i])\n",
    "    print(list(p_putida_samples.values())[i].optimize().objective_value)"
   ]
  },
  {
   "cell_type": "code",
   "execution_count": 79,
   "metadata": {},
   "outputs": [
    {
     "name": "stdout",
     "output_type": "stream",
     "text": [
      "iJN1463_1\n",
      "[]\n",
      "iJN1463_2\n",
      "[]\n",
      "iJN1463_3\n",
      "[]\n",
      "iJN1463_4\n",
      "[]\n",
      "iJN1463_5\n",
      "[]\n",
      "iJN1463_6\n",
      "[]\n",
      "iJN1463_7\n",
      "[]\n",
      "iJN1463_8\n",
      "[]\n",
      "iJN1463_9\n",
      "[]\n",
      "iJN1463_10\n",
      "[]\n",
      "3min 20s ± 0 ns per loop (mean ± std. dev. of 1 run, 1 loop each)\n"
     ]
    }
   ],
   "source": [
    "%%timeit -n1 -r1\n",
    "# COBRA\n",
    "for x in p_putida_samples:\n",
    "    print(x)\n",
    "    sol = 0\n",
    "    with suppress_stdout():\n",
    "        try:\n",
    "            sol = cobra.flux_analysis.gapfill(p_putida_samples[x], p_putida, demand_reactions=False)\n",
    "        except exceptions.Infeasible:\n",
    "            continue\n",
    "        except RuntimeError:\n",
    "            continue\n",
    "    print(sol[0])"
   ]
  },
  {
   "cell_type": "code",
   "execution_count": 80,
   "metadata": {},
   "outputs": [
    {
     "name": "stdout",
     "output_type": "stream",
     "text": [
      "iJN1463_1\n",
      "{'iJN1463': []}\n",
      "iJN1463_2\n",
      "{'iJN1463': []}\n",
      "iJN1463_3\n",
      "{'iJN1463': []}\n",
      "iJN1463_4\n",
      "{'iJN1463': [('RHA140tpp', [])]}\n",
      "iJN1463_5\n",
      "{'iJN1463': []}\n",
      "iJN1463_6\n",
      "{'iJN1463': []}\n",
      "iJN1463_7\n",
      "{'iJN1463': []}\n",
      "iJN1463_8\n",
      "{'iJN1463': []}\n",
      "iJN1463_9\n",
      "{'iJN1463': [('EX_glyphe_e', 'Exchange reaction')]}\n",
      "iJN1463_10\n",
      "{'iJN1463': []}\n",
      "3min 21s ± 0 ns per loop (mean ± std. dev. of 1 run, 1 loop each)\n"
     ]
    }
   ],
   "source": [
    "%%timeit -n1 -r1\n",
    "# GALLANT\n",
    "for x in p_putida_samples:\n",
    "    print(x)\n",
    "    with suppress_stdout():\n",
    "        sol = homology_gapfilling(p_putida_samples[x], [p_putida], integer_threshold=1e-9,\n",
    "                                  force_exchange=True, force_transport=True)\n",
    "    print(sol[1])"
   ]
  },
  {
   "cell_type": "markdown",
   "metadata": {},
   "source": [
    "### Test 2: removal of 2 reactions"
   ]
  },
  {
   "cell_type": "code",
   "execution_count": 81,
   "metadata": {},
   "outputs": [],
   "source": [
    "e_coli_samples = make_model_copies(e_coli)\n",
    "l_lactis_samples = make_model_copies(l_lactis)\n",
    "p_putida_samples = make_model_copies(p_putida)"
   ]
  },
  {
   "cell_type": "code",
   "execution_count": 82,
   "metadata": {},
   "outputs": [
    {
     "name": "stdout",
     "output_type": "stream",
     "text": [
      "['14GLUCANabcpp', 'FE2tex', 'EX_crn__D_e', 'GLYC3Ptex', 'ACtex', 'PGPP161pp', 'DURIK1', 'HISTD', 'GPDDA2', 'GART', 'HCYSMT', 'NODOx', 'NNATr', 'G3PD5', 'SARCOX', 'PPALtex', 'FE3DCITtonex', 'SBTPD', 'LPLIPAL2E161', 'PGI']\n",
      "['EX_phedca_e', 'PHADPC140', 'PE141abcpp', 'RECOAH25', 'EX_aso4_e', 'EX_adocbl_e', 'DAAD7', 'EX_pptrn_e', 'ADOCBIK', 'ACOAD29f', 'ACSPHAC101', 'CITtex', 'KARA1', 'HMSH', 'NTD6', 'AMPTASEHG', 'EX_acpptrn_e', 'ACACtex', '3HAACOAT140', 'APG3PAT120']\n",
      "['S6PG', 'DNAS_LLA', 'RNDR3', 'MANAO', 'PGCD', 'GMPS2', 'HSK', 'IGPDH_1', 'DADK', 'LYSTRS_1', 'ADEt2', 'GLYCt', 'EX_btd_RR_e', 'SUCpts', 'TDPDRR_1', 'UGT2_LLA', 'ACHBS', 'VALTRS_1', 'OCBT_1', 'araphe1']\n"
     ]
    },
    {
     "data": {
      "text/plain": [
       "{'iNF517_1': <Model iNF517 at 0x7ff37c946eb0>,\n",
       " 'iNF517_2': <Model iNF517 at 0x7ff410ae00d0>,\n",
       " 'iNF517_3': <Model iNF517 at 0x7ff3929ef7f0>,\n",
       " 'iNF517_4': <Model iNF517 at 0x7ff404218e20>,\n",
       " 'iNF517_5': <Model iNF517 at 0x7ff51b6d7190>,\n",
       " 'iNF517_6': <Model iNF517 at 0x7ff37f339eb0>,\n",
       " 'iNF517_7': <Model iNF517 at 0x7ff510e4e820>,\n",
       " 'iNF517_8': <Model iNF517 at 0x7ff5121bcd60>,\n",
       " 'iNF517_9': <Model iNF517 at 0x7ff50c2f3520>,\n",
       " 'iNF517_10': <Model iNF517 at 0x7ff386fc3ee0>}"
      ]
     },
     "execution_count": 82,
     "metadata": {},
     "output_type": "execute_result"
    }
   ],
   "source": [
    "remove_random_reaction(e_coli, e_coli_samples, n = 2)\n",
    "remove_random_reaction(p_putida, p_putida_samples, n = 2)\n",
    "remove_random_reaction(l_lactis, l_lactis_samples, n = 2)"
   ]
  },
  {
   "cell_type": "code",
   "execution_count": 83,
   "metadata": {},
   "outputs": [
    {
     "name": "stdout",
     "output_type": "stream",
     "text": [
      "2710\n",
      "752\n",
      "2925\n"
     ]
    }
   ],
   "source": [
    "print(len(list(e_coli_samples.values())[5].reactions))\n",
    "print(len(list(l_lactis_samples.values())[5].reactions))\n",
    "print(len(list(p_putida_samples.values())[5].reactions))"
   ]
  },
  {
   "cell_type": "markdown",
   "metadata": {},
   "source": [
    "#### E. coli"
   ]
  },
  {
   "cell_type": "code",
   "execution_count": 85,
   "metadata": {
    "scrolled": true
   },
   "outputs": [
    {
     "name": "stdout",
     "output_type": "stream",
     "text": [
      "iML1515_1\n",
      "0.8769200461250599\n",
      "iML1515_2\n",
      "0.8769972144269671\n",
      "iML1515_3\n",
      "0.8769972144269651\n",
      "iML1515_4\n",
      "0.0\n",
      "iML1515_5\n",
      "0.8769972144269718\n",
      "iML1515_6\n",
      "0.8769972144269661\n",
      "iML1515_7\n",
      "0.0\n",
      "iML1515_8\n",
      "0.8769972144269708\n",
      "iML1515_9\n",
      "0.876997214426969\n",
      "iML1515_10\n",
      "0.8696956584514168\n"
     ]
    }
   ],
   "source": [
    "# checking functionality of the models\n",
    "for i in range(len(e_coli_samples)):\n",
    "    print(list(e_coli_samples.keys())[i])\n",
    "    print(list(e_coli_samples.values())[i].optimize().objective_value)"
   ]
  },
  {
   "cell_type": "code",
   "execution_count": 86,
   "metadata": {},
   "outputs": [
    {
     "name": "stdout",
     "output_type": "stream",
     "text": [
      "iML1515_1\n",
      "[]\n",
      "iML1515_2\n",
      "[]\n",
      "iML1515_3\n",
      "[]\n",
      "iML1515_4\n",
      "[<Reaction HISTD at 0x7ff381146a00>]\n",
      "iML1515_5\n",
      "[]\n",
      "iML1515_6\n",
      "[]\n",
      "iML1515_7\n",
      "iML1515_8\n",
      "[]\n",
      "iML1515_9\n",
      "[]\n",
      "iML1515_10\n",
      "[]\n",
      "2min 50s ± 0 ns per loop (mean ± std. dev. of 1 run, 1 loop each)\n"
     ]
    }
   ],
   "source": [
    "%%timeit -n1 -r1\n",
    "# COBRA\n",
    "for x in e_coli_samples:\n",
    "    print(x)\n",
    "    with suppress_stdout():\n",
    "        sol = 0\n",
    "        try:\n",
    "            sol = cobra.flux_analysis.gapfill(e_coli_samples[x], e_coli, demand_reactions=False)\n",
    "        except exceptions.Infeasible:\n",
    "            continue\n",
    "        except RuntimeError:\n",
    "            continue\n",
    "    print(sol[0])"
   ]
  },
  {
   "cell_type": "code",
   "execution_count": 87,
   "metadata": {},
   "outputs": [
    {
     "name": "stdout",
     "output_type": "stream",
     "text": [
      "iML1515_1\n",
      "{'iML1515': [('FE2tex', ['b1377', 'b0241', 'b0929', 'b2215']), ('14GLUCANabcpp', ['b4032', 'b4034', 'b4035', 'b4033'])]}\n",
      "iML1515_2\n",
      "{'iML1515': [('EX_crn__D_e', 'Exchange reaction'), ('GLYC3Ptex', ['b1377', 'b0241', 'b0929', 'b2215'])]}\n",
      "iML1515_3\n",
      "{'iML1515': [('ACtex', ['b1377', 'b0241', 'b0929', 'b2215'])]}\n",
      "iML1515_4\n",
      "{'iML1515': [('HISTD', ['b2020'])]}\n",
      "iML1515_5\n",
      "{'iML1515': []}\n",
      "iML1515_6\n",
      "{'iML1515': []}\n",
      "iML1515_7\n",
      "{'iML1515': [('NNATr', ['b0639'])]}\n",
      "iML1515_8\n",
      "{'iML1515': [('PPALtex', ['b1377', 'b0241', 'b0929', 'b2215'])]}\n",
      "iML1515_9\n",
      "{'iML1515': [('FE3DCITtonex', ['b3005', 'b4291', 'b1252', 'b3006'])]}\n",
      "iML1515_10\n",
      "{'iML1515': []}\n",
      "3min 35s ± 0 ns per loop (mean ± std. dev. of 1 run, 1 loop each)\n"
     ]
    }
   ],
   "source": [
    "%%timeit -n1 -r1\n",
    "# GALLANT\n",
    "for x in e_coli_samples:\n",
    "    print(x)\n",
    "    with suppress_stdout():\n",
    "        sol = homology_gapfilling(e_coli_samples[x], [e_coli], integer_threshold=1e-9,\n",
    "                                  force_exchange=True, force_transport=True)\n",
    "    print(sol[1])"
   ]
  },
  {
   "cell_type": "markdown",
   "metadata": {},
   "source": [
    "#### L. lactis"
   ]
  },
  {
   "cell_type": "code",
   "execution_count": 88,
   "metadata": {},
   "outputs": [
    {
     "name": "stdout",
     "output_type": "stream",
     "text": [
      "iNF517_1\n",
      "0.0\n",
      "iNF517_2\n",
      "0.04263460544337327\n",
      "iNF517_3\n",
      "0.042634605443373254\n",
      "iNF517_4\n",
      "0.04263460544337326\n",
      "iNF517_5\n",
      "0.0\n",
      "iNF517_6\n",
      "0.04263460544337326\n",
      "iNF517_7\n",
      "0.04263460544337326\n",
      "iNF517_8\n",
      "0.0\n",
      "iNF517_9\n",
      "0.0\n",
      "iNF517_10\n",
      "None\n"
     ]
    }
   ],
   "source": [
    "for i in range(len(l_lactis_samples)):\n",
    "    print(list(l_lactis_samples.keys())[i])\n",
    "    print(list(l_lactis_samples.values())[i].optimize().objective_value)"
   ]
  },
  {
   "cell_type": "code",
   "execution_count": 89,
   "metadata": {},
   "outputs": [
    {
     "name": "stdout",
     "output_type": "stream",
     "text": [
      "iNF517_1\n",
      "iNF517_2\n",
      "iNF517_3\n",
      "iNF517_4\n",
      "iNF517_5\n",
      "iNF517_6\n",
      "iNF517_7\n",
      "iNF517_8\n",
      "iNF517_9\n",
      "iNF517_10\n",
      "51.9 s ± 0 ns per loop (mean ± std. dev. of 1 run, 1 loop each)\n"
     ]
    }
   ],
   "source": [
    "%%timeit -n1 -r1\n",
    "# COBRA\n",
    "for x in l_lactis_samples:\n",
    "    print(x)\n",
    "    sol = 0\n",
    "    with suppress_stdout():\n",
    "        try:\n",
    "            sol = cobra.flux_analysis.gapfill(l_lactis_samples[x], l_lactis, demand_reactions=False)\n",
    "        except exceptions.Infeasible:\n",
    "            continue\n",
    "        except RuntimeError:\n",
    "            continue\n",
    "    print(sol[0])"
   ]
  },
  {
   "cell_type": "code",
   "execution_count": 90,
   "metadata": {},
   "outputs": [
    {
     "name": "stdout",
     "output_type": "stream",
     "text": [
      "iNF517_1\n",
      "{}\n",
      "iNF517_2\n",
      "{}\n",
      "iNF517_3\n",
      "{}\n",
      "iNF517_4\n",
      "{}\n",
      "iNF517_5\n",
      "{}\n",
      "iNF517_6\n",
      "{}\n",
      "iNF517_7\n",
      "{}\n",
      "iNF517_8\n",
      "{}\n",
      "iNF517_9\n",
      "{}\n",
      "iNF517_10\n",
      "{}\n",
      "48.9 s ± 0 ns per loop (mean ± std. dev. of 1 run, 1 loop each)\n"
     ]
    }
   ],
   "source": [
    "%%timeit -n1 -r1\n",
    "# GALLANT\n",
    "for x in l_lactis_samples:\n",
    "    print(x)\n",
    "    with suppress_stdout():\n",
    "        sol = homology_gapfilling(l_lactis_samples[x], [l_lactis], integer_threshold=1e-9,\n",
    "                                  force_exchange=True, force_transport=True)\n",
    "    print(sol[1])"
   ]
  },
  {
   "cell_type": "markdown",
   "metadata": {},
   "source": [
    "#### P. putida"
   ]
  },
  {
   "cell_type": "code",
   "execution_count": 91,
   "metadata": {},
   "outputs": [
    {
     "name": "stdout",
     "output_type": "stream",
     "text": [
      "iJN1463_1\n",
      "129.57999999999998\n",
      "iJN1463_2\n",
      "129.58000000000104\n",
      "iJN1463_3\n",
      "129.57999999999998\n",
      "iJN1463_4\n",
      "129.57999999999998\n",
      "iJN1463_5\n",
      "129.57999999999998\n",
      "iJN1463_6\n",
      "129.57999999999998\n",
      "iJN1463_7\n",
      "129.58\n",
      "iJN1463_8\n",
      "129.58\n",
      "iJN1463_9\n",
      "129.57999999999998\n",
      "iJN1463_10\n",
      "129.58000000000004\n"
     ]
    }
   ],
   "source": [
    "for i in range(len(p_putida_samples)):\n",
    "    print(list(p_putida_samples.keys())[i])\n",
    "    print(list(p_putida_samples.values())[i].optimize().objective_value)"
   ]
  },
  {
   "cell_type": "code",
   "execution_count": 92,
   "metadata": {},
   "outputs": [
    {
     "name": "stdout",
     "output_type": "stream",
     "text": [
      "iJN1463_1\n",
      "[]\n",
      "iJN1463_2\n",
      "[]\n",
      "iJN1463_3\n",
      "[]\n",
      "iJN1463_4\n",
      "[]\n",
      "iJN1463_5\n",
      "[]\n",
      "iJN1463_6\n",
      "[]\n",
      "iJN1463_7\n",
      "[]\n",
      "iJN1463_8\n",
      "[]\n",
      "iJN1463_9\n",
      "[]\n",
      "iJN1463_10\n",
      "[]\n",
      "3min 22s ± 0 ns per loop (mean ± std. dev. of 1 run, 1 loop each)\n"
     ]
    }
   ],
   "source": [
    "%%timeit -n1 -r1\n",
    "# COBRA\n",
    "for x in p_putida_samples:\n",
    "    print(x)\n",
    "    sol = 0\n",
    "    with suppress_stdout():\n",
    "        try:\n",
    "            sol = cobra.flux_analysis.gapfill(p_putida_samples[x], p_putida, demand_reactions=False)\n",
    "        except exceptions.Infeasible:\n",
    "            continue\n",
    "        except RuntimeError:\n",
    "            continue\n",
    "    print(sol[0])"
   ]
  },
  {
   "cell_type": "code",
   "execution_count": 93,
   "metadata": {},
   "outputs": [
    {
     "name": "stdout",
     "output_type": "stream",
     "text": [
      "iJN1463_1\n",
      "{'iJN1463': [('EX_phedca_e', 'Exchange reaction')]}\n",
      "iJN1463_2\n",
      "{'iJN1463': []}\n",
      "iJN1463_3\n",
      "{'iJN1463': [('EX_adocbl_e', 'Exchange reaction'), ('EX_aso4_e', 'Exchange reaction')]}\n",
      "iJN1463_4\n",
      "{'iJN1463': [('EX_pptrn_e', 'Exchange reaction')]}\n",
      "iJN1463_5\n",
      "{'iJN1463': []}\n",
      "iJN1463_6\n",
      "{'iJN1463': [('CITtex', ['PP_1419', 'PP_2058'])]}\n",
      "iJN1463_7\n",
      "{'iJN1463': []}\n",
      "iJN1463_8\n",
      "{'iJN1463': []}\n",
      "iJN1463_9\n",
      "{'iJN1463': [('EX_acpptrn_e', 'Exchange reaction'), ('ACACtex', [])]}\n",
      "iJN1463_10\n",
      "{'iJN1463': []}\n",
      "3min 39s ± 0 ns per loop (mean ± std. dev. of 1 run, 1 loop each)\n"
     ]
    }
   ],
   "source": [
    "%%timeit -n1 -r1\n",
    "# GALLANT\n",
    "for x in p_putida_samples:\n",
    "    print(x)\n",
    "    with suppress_stdout():\n",
    "        sol = homology_gapfilling(p_putida_samples[x], [p_putida], integer_threshold=1e-9,\n",
    "                                  force_exchange=True, force_transport=True)\n",
    "    print(sol[1])"
   ]
  },
  {
   "cell_type": "markdown",
   "metadata": {},
   "source": [
    "### Test 3: removal of 5 reactions"
   ]
  },
  {
   "cell_type": "code",
   "execution_count": 94,
   "metadata": {},
   "outputs": [],
   "source": [
    "e_coli_samples = make_model_copies(e_coli)\n",
    "l_lactis_samples = make_model_copies(l_lactis)\n",
    "p_putida_samples = make_model_copies(p_putida)"
   ]
  },
  {
   "cell_type": "code",
   "execution_count": 95,
   "metadata": {},
   "outputs": [
    {
     "name": "stdout",
     "output_type": "stream",
     "text": [
      "['SULFACtex', 'NTPP8', '3NTD4pp', 'URDGLYCD', 'LPLIPAL1G161pp', 'PRAIi', 'CCGS', 'DHFR', 'SUCCt2_2pp', 'CMtex', 'BUTSO3tex', 'PPM2', 'EX_octa_e', 'ACGAL1Ptex', 'SFGTHi', 'CD2t3pp', 'LPLIPAL2ATG141', 'OCTDPS', 'PPK2', '3HBZCT', 'FECRMR2', 'EX_gam_e', 'G3PIabcpp', 'LACZ', 'S2FE2SS2', 'NADPPPS', 'PYK', 'CU1abcpp', 'GALabcpp', 'HISTP', 'DASYN141', 'DHPS2', 'GLUt4pp', 'LIPAabcpp', 'OHPHM', 'G3PStex', 'FA80ACPHi', '2AGPE180tipp', 'DAGK180', 'APH180', 'G3PAT141', 'ETHSO3tex', 'METabcpp', 'CS1tex', 'GP4GH', 'EX_dopa_e', 'EAR181y', 'PG120abcpp', 'MCITS', 'LPLIPAL2E180']\n",
      "['EX_5aptn_e', 'GLXO3r', 'KAT28', 'PEAMNtex', 'PRAMPC_copy1', 'ECOAH15', 'CARBSARAH', 'AKGt2rpp', 'ALAt2pp', '4PCP', 'NTD9pp', 'DAGK181', 'MN2t3pp', 'ECTOabcpp', 'RECOAH3', 'OCOAT4', 'HACD2i', 'AGMtex', 'PAPSR', 'GLCP3', 'TMPPP', 'MMETtex', 'CLPNH181pp', 'DURAD2', 'ECOAH8', 'ISOAML', 'LPCOXc', 'EX_algac_MG_23_e', 'PPGPPDP', 'PALDP', 'LYSTRS', 'EX_ag_e', 'FA161ACPHi', 'ADSS', 'AOBUTDs', '34DHPHEtex', 'D3ONEtpp', 'ECOAH29', 'PHAP2C80', 'EX_glu__L_e', 'FACOAL50t2pp', 'ARGTRS', 'AGMt2pp', 'UDPG4E', 'GLYMETabcpp', '2AACLPPEAT161', 'I2FE2ST', 'PYRt2rpp', 'BWCOGDS2', 'PDE1']\n",
      "['EX_drib_e', 'GLYt2r_copy2', 'GMPR', 'FE3abc', 'MANpts', 'NADHPO', 'LEUt2r_copy1', '2S6HCCi', 'OCDMAT8', 'FRDx', 'HDMAT7', 'DHAPT', 'DRIBt2', 'AIRCr', 'UGLDDS1', 'ACKVAL', 'GARFT', 'ZNabc', 'PTAILE', 'AEPabc', 'ADCS', 'ASPTRS_1', 'EX_glyc3p_e', 'HODHL8', 'BIOMASS_LLA_noATPnoH', 'NACt', 'GLU5K', 'DASYN_LLA', 'EX_glcn__D_e', 'AMALT2', 'DAPE', 'aratyr3', 'PUNP4', 'ATPPRT', 'OHPBAT', 'FOLt', 'ORPT', 'UAMAS', 'GLUabc', 'PSCVT', 'RNDR4', 'FABM1', 'CYTK1', 'ALKP', 'UAPGR', 'RNAS_LLA', 'GTPCII', 'PRATPP', 'EX_ptrc_e', 'FABM']\n"
     ]
    },
    {
     "data": {
      "text/plain": [
       "{'iNF517_1': <Model iNF517 at 0x7ff3de3a4f40>,\n",
       " 'iNF517_2': <Model iNF517 at 0x7ff35a7c1c70>,\n",
       " 'iNF517_3': <Model iNF517 at 0x7ff31f9575e0>,\n",
       " 'iNF517_4': <Model iNF517 at 0x7ff322b39700>,\n",
       " 'iNF517_5': <Model iNF517 at 0x7ff326404370>,\n",
       " 'iNF517_6': <Model iNF517 at 0x7ff322a46730>,\n",
       " 'iNF517_7': <Model iNF517 at 0x7ff3372a5cd0>,\n",
       " 'iNF517_8': <Model iNF517 at 0x7ff3a34f2760>,\n",
       " 'iNF517_9': <Model iNF517 at 0x7ff35f7629d0>,\n",
       " 'iNF517_10': <Model iNF517 at 0x7ff54435cd60>}"
      ]
     },
     "execution_count": 95,
     "metadata": {},
     "output_type": "execute_result"
    }
   ],
   "source": [
    "remove_random_reaction(e_coli, e_coli_samples, n = 5)\n",
    "remove_random_reaction(p_putida, p_putida_samples, n = 5)\n",
    "remove_random_reaction(l_lactis, l_lactis_samples, n = 5)"
   ]
  },
  {
   "cell_type": "code",
   "execution_count": 96,
   "metadata": {},
   "outputs": [
    {
     "name": "stdout",
     "output_type": "stream",
     "text": [
      "2707\n",
      "749\n",
      "2922\n"
     ]
    }
   ],
   "source": [
    "print(len(list(e_coli_samples.values())[5].reactions))\n",
    "print(len(list(l_lactis_samples.values())[5].reactions))\n",
    "print(len(list(p_putida_samples.values())[5].reactions))"
   ]
  },
  {
   "cell_type": "markdown",
   "metadata": {},
   "source": [
    "#### E. coli"
   ]
  },
  {
   "cell_type": "code",
   "execution_count": 97,
   "metadata": {},
   "outputs": [
    {
     "name": "stdout",
     "output_type": "stream",
     "text": [
      "iML1515_1\n",
      "0.8769972144269703\n",
      "iML1515_2\n",
      "0.0\n",
      "iML1515_3\n",
      "0.8769972144269664\n",
      "iML1515_4\n",
      "0.0\n",
      "iML1515_5\n",
      "0.8769972144269689\n",
      "iML1515_6\n",
      "0.0\n",
      "iML1515_7\n",
      "0.0\n",
      "iML1515_8\n",
      "0.8769972144269679\n",
      "iML1515_9\n",
      "0.8769972144269665\n",
      "iML1515_10\n",
      "0.8769972144269738\n"
     ]
    }
   ],
   "source": [
    "for i in range(len(e_coli_samples)):\n",
    "    print(list(e_coli_samples.keys())[i])\n",
    "    print(list(e_coli_samples.values())[i].optimize().objective_value)"
   ]
  },
  {
   "cell_type": "code",
   "execution_count": 98,
   "metadata": {},
   "outputs": [
    {
     "name": "stdout",
     "output_type": "stream",
     "text": [
      "iML1515_1\n",
      "[]\n",
      "iML1515_2\n",
      "[<Reaction DHFR at 0x7ff381a65f40>, <Reaction PRAIi at 0x7ff381a65fa0>]\n",
      "iML1515_3\n",
      "[]\n",
      "iML1515_4\n",
      "iML1515_5\n",
      "[]\n",
      "iML1515_6\n",
      "[<Reaction HISTP at 0x7ff3cd9a3910>]\n",
      "iML1515_7\n",
      "iML1515_8\n",
      "[]\n",
      "iML1515_9\n",
      "[]\n",
      "iML1515_10\n",
      "[]\n",
      "2min 52s ± 0 ns per loop (mean ± std. dev. of 1 run, 1 loop each)\n"
     ]
    }
   ],
   "source": [
    "%%timeit -n1 -r1\n",
    "# COBRA\n",
    "for x in e_coli_samples:\n",
    "    print(x)\n",
    "    sol = 0\n",
    "    with suppress_stdout():\n",
    "        try:\n",
    "            sol = cobra.flux_analysis.gapfill(e_coli_samples[x], e_coli, demand_reactions=False)\n",
    "        except exceptions.Infeasible:\n",
    "            continue\n",
    "        except RuntimeError:\n",
    "            continue\n",
    "    print(sol[0])"
   ]
  },
  {
   "cell_type": "code",
   "execution_count": 99,
   "metadata": {},
   "outputs": [
    {
     "name": "stdout",
     "output_type": "stream",
     "text": [
      "iML1515_1\n",
      "{'iML1515': [('SULFACtex', ['b1377', 'b0241', 'b0929', 'b2215'])]}\n",
      "iML1515_2\n",
      "{'iML1515': [('SUCCt2_2pp', ['b3528', 'b0010']), ('CMtex', ['b1377', 'b0241', 'b0929', 'b2215']), ('DHFR', ['b1606', 'b0048']), ('PRAIi', ['b1262'])]}\n",
      "iML1515_3\n",
      "{'iML1515': [('EX_octa_e', 'Exchange reaction'), ('BUTSO3tex', ['b1377', 'b0241', 'b0929', 'b2215']), ('ACGAL1Ptex', ['b1377', 'b0241', 'b0929', 'b2215'])]}\n",
      "iML1515_4\n",
      "{'iML1515': [('CD2t3pp', ['b0752', 'b3915']), ('OCTDPS', ['b3187'])]}\n",
      "iML1515_5\n",
      "{'iML1515': [('EX_gam_e', 'Exchange reaction')]}\n",
      "iML1515_6\n",
      "{'iML1515': [('HISTP', ['b2022'])]}\n",
      "iML1515_7\n",
      "{'iML1515': [('GLUt4pp', ['b3653']), ('DHPS2', ['b3177'])]}\n",
      "iML1515_8\n",
      "{'iML1515': [('G3PStex', ['b1377', 'b0241', 'b0929', 'b2215']), ('2AGPE180tipp', ['b2835'])]}\n",
      "iML1515_9\n",
      "{'iML1515': [('ETHSO3tex', ['b1377', 'b0241', 'b0929', 'b2215']), ('CS1tex', ['b1377', 'b0241', 'b0929', 'b2215'])]}\n",
      "iML1515_10\n",
      "{'iML1515': [('EX_dopa_e', 'Exchange reaction')]}\n",
      "3min 48s ± 0 ns per loop (mean ± std. dev. of 1 run, 1 loop each)\n"
     ]
    }
   ],
   "source": [
    "%%timeit -n1 -r1\n",
    "# GALLANT\n",
    "for x in e_coli_samples:\n",
    "    print(x)\n",
    "    with suppress_stdout():\n",
    "        sol = homology_gapfilling(e_coli_samples[x], [e_coli], integer_threshold=1e-9,\n",
    "                                  force_exchange=True, force_transport=True)\n",
    "    print(sol[1])"
   ]
  },
  {
   "cell_type": "markdown",
   "metadata": {},
   "source": [
    "#### L. lactis"
   ]
  },
  {
   "cell_type": "code",
   "execution_count": 100,
   "metadata": {},
   "outputs": [
    {
     "name": "stdout",
     "output_type": "stream",
     "text": [
      "iNF517_1\n",
      "0.04263460544337327\n",
      "iNF517_2\n",
      "0.0\n",
      "iNF517_3\n",
      "0.0\n",
      "iNF517_4\n",
      "0.04263460544337327\n",
      "iNF517_5\n",
      "0.0\n",
      "iNF517_6\n",
      "0.0\n",
      "iNF517_7\n",
      "0.04263460544337326\n",
      "iNF517_8\n",
      "0.0\n",
      "iNF517_9\n",
      "0.0\n",
      "iNF517_10\n",
      "0.0\n"
     ]
    }
   ],
   "source": [
    "for i in range(len(l_lactis_samples)):\n",
    "    print(list(l_lactis_samples.keys())[i])\n",
    "    print(list(l_lactis_samples.values())[i].optimize().objective_value)"
   ]
  },
  {
   "cell_type": "code",
   "execution_count": 101,
   "metadata": {},
   "outputs": [
    {
     "name": "stdout",
     "output_type": "stream",
     "text": [
      "iNF517_1\n",
      "iNF517_2\n",
      "iNF517_3\n",
      "iNF517_4\n",
      "iNF517_5\n",
      "iNF517_6\n",
      "iNF517_7\n",
      "iNF517_8\n",
      "iNF517_9\n",
      "iNF517_10\n",
      "47.9 s ± 0 ns per loop (mean ± std. dev. of 1 run, 1 loop each)\n"
     ]
    }
   ],
   "source": [
    "%%timeit -n1 -r1\n",
    "# COBRA\n",
    "for x in l_lactis_samples:\n",
    "    print(x)\n",
    "    sol = 0\n",
    "    with suppress_stdout():\n",
    "        try:\n",
    "            sol = cobra.flux_analysis.gapfill(l_lactis_samples[x], l_lactis, demand_reactions=False)\n",
    "        except exceptions.Infeasible:\n",
    "            continue\n",
    "        except RuntimeError:\n",
    "            continue\n",
    "    print(sol[0])"
   ]
  },
  {
   "cell_type": "code",
   "execution_count": 102,
   "metadata": {},
   "outputs": [
    {
     "name": "stdout",
     "output_type": "stream",
     "text": [
      "iNF517_1\n",
      "{}\n",
      "iNF517_2\n",
      "{}\n",
      "iNF517_3\n",
      "{}\n",
      "iNF517_4\n",
      "{}\n",
      "iNF517_5\n",
      "{}\n",
      "iNF517_6\n",
      "{}\n",
      "iNF517_7\n",
      "{}\n",
      "iNF517_8\n",
      "{}\n",
      "iNF517_9\n",
      "{}\n",
      "iNF517_10\n",
      "{}\n",
      "50.4 s ± 0 ns per loop (mean ± std. dev. of 1 run, 1 loop each)\n"
     ]
    }
   ],
   "source": [
    "%%timeit -n1 -r1\n",
    "# GALLANT\n",
    "for x in l_lactis_samples:\n",
    "    print(x)\n",
    "    with suppress_stdout():\n",
    "        sol = homology_gapfilling(l_lactis_samples[x], [l_lactis], integer_threshold=1e-9,\n",
    "                                  force_exchange=True, force_transport=True)\n",
    "    print(sol[1])"
   ]
  },
  {
   "cell_type": "markdown",
   "metadata": {},
   "source": [
    "#### P. putida"
   ]
  },
  {
   "cell_type": "code",
   "execution_count": 103,
   "metadata": {},
   "outputs": [
    {
     "name": "stdout",
     "output_type": "stream",
     "text": [
      "iJN1463_1\n",
      "129.57999999999998\n",
      "iJN1463_2\n",
      "129.58000000000004\n",
      "iJN1463_3\n",
      "129.57999999999998\n",
      "iJN1463_4\n",
      "129.57999999999998\n",
      "iJN1463_5\n",
      "129.57999999999998\n",
      "iJN1463_6\n",
      "129.58000000000104\n",
      "iJN1463_7\n",
      "129.57999999999998\n",
      "iJN1463_8\n",
      "129.57999999999998\n",
      "iJN1463_9\n",
      "129.57999999999998\n",
      "iJN1463_10\n",
      "129.57999999999998\n"
     ]
    }
   ],
   "source": [
    "for i in range(len(p_putida_samples)):\n",
    "    print(list(p_putida_samples.keys())[i])\n",
    "    print(list(p_putida_samples.values())[i].optimize().objective_value)"
   ]
  },
  {
   "cell_type": "code",
   "execution_count": 104,
   "metadata": {},
   "outputs": [
    {
     "name": "stdout",
     "output_type": "stream",
     "text": [
      "iJN1463_1\n",
      "[]\n",
      "iJN1463_2\n",
      "[]\n",
      "iJN1463_3\n",
      "[]\n",
      "iJN1463_4\n",
      "[]\n",
      "iJN1463_5\n",
      "[]\n",
      "iJN1463_6\n",
      "[]\n",
      "iJN1463_7\n",
      "[]\n",
      "iJN1463_8\n",
      "[]\n",
      "iJN1463_9\n",
      "[]\n",
      "iJN1463_10\n",
      "[]\n",
      "3min 16s ± 0 ns per loop (mean ± std. dev. of 1 run, 1 loop each)\n"
     ]
    }
   ],
   "source": [
    "%%timeit -n1 -r1\n",
    "# COBRA\n",
    "for x in p_putida_samples:\n",
    "    print(x)\n",
    "    sol = 0\n",
    "    with suppress_stdout():\n",
    "        try:\n",
    "            sol = cobra.flux_analysis.gapfill(p_putida_samples[x], p_putida, demand_reactions=False)\n",
    "        except exceptions.Infeasible:\n",
    "            continue\n",
    "        except RuntimeError:\n",
    "            continue\n",
    "    print(sol[0])"
   ]
  },
  {
   "cell_type": "code",
   "execution_count": 105,
   "metadata": {},
   "outputs": [
    {
     "name": "stdout",
     "output_type": "stream",
     "text": [
      "iJN1463_1\n",
      "{'iJN1463': [('EX_5aptn_e', 'Exchange reaction'), ('PEAMNtex', [])]}\n",
      "iJN1463_2\n",
      "{'iJN1463': [('AKGt2rpp', ['PP_1400']), ('ALAt2pp', ['PP_4840'])]}\n",
      "iJN1463_3\n",
      "{'iJN1463': [('MN2t3pp', ['PP_4774'])]}\n",
      "iJN1463_4\n",
      "{'iJN1463': [('AGMtex', [])]}\n",
      "iJN1463_5\n",
      "{'iJN1463': [('MMETtex', [])]}\n",
      "iJN1463_6\n",
      "{'iJN1463': [('EX_algac_MG_23_e', 'Exchange reaction')]}\n",
      "iJN1463_7\n",
      "{'iJN1463': [('EX_ag_e', 'Exchange reaction')]}\n",
      "iJN1463_8\n",
      "{'iJN1463': [('EX_glu__L_e', 'Exchange reaction'), ('34DHPHEtex', []), ('D3ONEtpp', [])]}\n",
      "iJN1463_9\n",
      "{'iJN1463': [('AGMt2pp', ['PP_1355'])]}\n",
      "iJN1463_10\n",
      "{'iJN1463': [('PYRt2rpp', [])]}\n",
      "3min 35s ± 0 ns per loop (mean ± std. dev. of 1 run, 1 loop each)\n"
     ]
    }
   ],
   "source": [
    "%%timeit -n1 -r1\n",
    "# GALLANT\n",
    "for x in p_putida_samples:\n",
    "    print(x)\n",
    "    with suppress_stdout():\n",
    "        sol = homology_gapfilling(p_putida_samples[x], [p_putida], integer_threshold=1e-9,\n",
    "                                  force_exchange=True, force_transport=True)\n",
    "    print(sol[1])"
   ]
  },
  {
   "cell_type": "markdown",
   "metadata": {},
   "source": [
    "### Test 4: removal of 10 reactions"
   ]
  },
  {
   "cell_type": "code",
   "execution_count": 106,
   "metadata": {},
   "outputs": [],
   "source": [
    "e_coli_samples = make_model_copies(e_coli)\n",
    "l_lactis_samples = make_model_copies(l_lactis)\n",
    "p_putida_samples = make_model_copies(p_putida)"
   ]
  },
  {
   "cell_type": "code",
   "execution_count": 107,
   "metadata": {},
   "outputs": [
    {
     "name": "stdout",
     "output_type": "stream",
     "text": [
      "['Ftex', 'EX_hxan_e', 'EX_glcr_e', 'SLNTabcpp', 'HISTP', 'UACGALPpp', 'DDPA', 'GLCP', 'EX_ade_e', 'ACOATA', 'LIPACabcpp', 'PPND', 'AKGt2rpp', 'FRULYStex', 'ACP1_FMN', 'GLNabcpp', 'POR5', 'EX_lac__L_e', 'SHCHD2', 'MDDCP4pp', 'NADPHXD', 'GALt2pp', 'DMSOtex', 'G3PD7', 'GLBRAN2', 'AGM4PCPpp', 'Htex', 'AGMHE', 'EX_malt_e', 'ACGALtex', '3OAR120', 'DAPabcpp', 'PLIPA1E160pp', '3OAR100', 'ACOAD2f', 'GLUt2rpp', 'EX_halipa_e', 'AMALT2', 'NTPP11', 'NH4tex', 'EX_hxa_e', 'UM4PL', 'EX_fuc__L_e', 'AGM3PApp', 'AST', 'ARBTNabcpp', 'NAt3_1p5pp', 'CPGNUtpp', 'SUCptspp', 'EX_cgly_e', 'GLUabcpp', 'EX_lys__L_e', 'EX_quin_e', 'HKNDDH', 'EX_2dglc_e', 'DHQTi', '3HPPtex', 'PETNT161pp', 'ADSS', 'GLYOX', 'EX_udpacgal_e', 'CMtex', 'PSD120', 'FEOXAMexs', 'SELtex', 'Kt2pp', 'AM3PA', '3AMPtex', 'ILEt3pp', 'IDOND', 'FECRMtonex', 'MANPGH', 'EX_duri_e', 'CTECOAI8', 'GALURtex', 'CYNTt2pp', 'APG3PAT181', 'CDGS', 'Kt3pp', 'PGM', 'G1SAT', 'DMPPS', 'PTRCtex', 'TAUDO', '2AGPA181tipp', 'E4PP', 'ALAALAr', 'SQtex', 'APG3PAT141', 'FE3DCITabcpp', 'PSERtex', 'MLDEP2pp', 'NO3R1bpp', 'GLYCK2', 'SELGTHR3', 'UACGAMtex', 'AHGDx', 'GALCTNLt2pp', 'NTD4', 'FACOAE181']\n",
      "['ALGSex11', 'EX_R_3hocta_e', 'SOTA', 'TAURabc', 'RDXR', 'ADPT', 'FUMtex', 'GF6PTA', 'ECOAH29', 'GLCNtex', 'PACt3', 'D3ONEtpp', 'PLIPA2G181d11pp', 'DASYN160', 'QUINtpp', 'EX_gudptn_e', 'FA80ACPHi', 'PC', 'FTHFCL', 'KAT10', 'ADK3', 'ALDD4', 'HOMt2pp', 'RHACOARP80', 'EX_indole_e', 'PGLYCP', 'FE3abcpp', 'PTRCabcpp', 'Kabcpp', 'APCtex', 'PHEMEabcpp', 'DALADALAD', 'ALAGLUabcpp', 'EX_2dhglcn_e', 'CINNMCOAH', 'EX_cys__D_e', 'MALEI', 'UDPG4E', 'ACSPHACP60', 'RHACOARP50', 'ACOAD1f', 'RHACOAEP100', 'PSERT', 'MOTS1', 'CU2abcpp', 'PHAP2C142', 'FEENTERabcpp', 'ACACT12', 'ACOAD23f', 'MI1PP', 'PEAL2tabc', 'MCTP2App', 'ORNDC', 'GACH', 'OCDCAtexi', 'SFGTHi', 'EX_alahis_e', 'HCO3E', 'EAR161y', 'CPH4S', 'KAT29', 'CYTCBB3pp', 'PHAPC40', 'BTNt2ipp', 'HG2tex', 'BWCOGDS1', 'CLPNH180pp', 'BVMO1', 'CD2abcpp', 'ECOAH26', '3OAS100', 'CYANST', 'HACD31i', 'ECOAH32', 'GLXO3r', 'EX_tag182d9d12_e', 'BALAt2pp', 'TOLtex', 'EX_cu2_e', 'DASYN141', 'ARBTNtonex', '3HAD140', 'ALGSex10', 'GLYBti4pp', 'EX_R_3hphpa_e', 'THRA', 'FE3DCITR3', 'TKT2', 'BZt2_pp', 'G2PP', '3HAACOAT80', 'URO_c', 'HACD13i', '23CTI3', 'MCOATA', 'FACOAL180t2pp', 'BALAGLYabcpp', 'PGPP161', 'FACOAL70t2pp', 'EX_n2one_e']\n",
      "['RIBFLVt2', 'DALAt2r', 'IGPDH_1', 'DPMVD', 'SERD_L', 'EX_mal__L_e', 'PUNP5', 'PTPATi', 'HSTPTr', 'PGCD', 'GTPDPK', 'RBFSb', 'DRPA', 'EX_sbt__D_e', 'PRPPS', 'EX_fol_e', 'ADEt2', 'HMGCOAR', 'GLYt2r_copy1', 'TDPDRE', 'SUCBZL', 'DNAS_LLA', 'EX_2mba_e', 'ZNabc', 'BTDD_RR', 'URAt2', 'EX_cit_e', '3MBAt6', '2H3MBt', 'TYRTRS_1', 'DHPPDA', 'araphe1', 'CYTK1', 'ARGTRS_1', 'ACHBS', 'GF6PTA', 'FORt2', 'CBMKr_copy2', 'PPM', 'PRAIi', 'TRPTRS_1', 'ARGt2r', 'PPNCL', 'TMDPK', 'NDPK4', 'DHORDi', 'HISt2r', 'UAMAS', 'RBFK', 'aratyr2', 'EX_cellb_e', 'ASPK', 'araphe2', 'PAPPT1', 'LEUt2r_copy1', 'DHAD1', 'SPODM', 'PSP_L', 'HHYHL2', 'MTAN', 'FABM', 'ACGApts', 'UAAGLS1_1', 'RIBabc', 'NOX', '2H3MPt', 'ADPRDP', 'EX_lys__L_e', 'EX_fru_e', 'EX_diact_e', 'AMALT1', 'O2t', 'PUNP7', 'G1PTMT', 'CYSTL', 'UAAGDS', 'EX_drib_e', 'ACPSc', 'M1PD', 'DAPDC', 'DASYN_LLA', 'EX_2aeppn_e', 'PGPP_LLA', 'ARAT', 'PEAt', 'LYSt2r', 'GPDDA1', 'ETOHt', 'NH3c', 'EX_glyc3p_e', 'ICDHyr', 'DPCOAK', 'AGAT_LLA', 'FABM2', 'DAPE', 'EX_man_e', 'MTHFC', 'HISTRS_1', 'AHSERL2', 'SUCD1']\n"
     ]
    },
    {
     "data": {
      "text/plain": [
       "{'iNF517_1': <Model iNF517 at 0x7ff46937bb50>,\n",
       " 'iNF517_2': <Model iNF517 at 0x7ff462201550>,\n",
       " 'iNF517_3': <Model iNF517 at 0x7ff467cab460>,\n",
       " 'iNF517_4': <Model iNF517 at 0x7ff4769af8e0>,\n",
       " 'iNF517_5': <Model iNF517 at 0x7ff472fba4c0>,\n",
       " 'iNF517_6': <Model iNF517 at 0x7ff467cab3d0>,\n",
       " 'iNF517_7': <Model iNF517 at 0x7ff4d83106d0>,\n",
       " 'iNF517_8': <Model iNF517 at 0x7ff4d6ba5580>,\n",
       " 'iNF517_9': <Model iNF517 at 0x7ff4dfb5d370>,\n",
       " 'iNF517_10': <Model iNF517 at 0x7ff488519fd0>}"
      ]
     },
     "execution_count": 107,
     "metadata": {},
     "output_type": "execute_result"
    }
   ],
   "source": [
    "remove_random_reaction(e_coli, e_coli_samples, n = 10)\n",
    "remove_random_reaction(p_putida, p_putida_samples, n = 10)\n",
    "remove_random_reaction(l_lactis, l_lactis_samples, n = 10)"
   ]
  },
  {
   "cell_type": "code",
   "execution_count": 108,
   "metadata": {},
   "outputs": [
    {
     "name": "stdout",
     "output_type": "stream",
     "text": [
      "2702\n",
      "744\n",
      "2917\n"
     ]
    }
   ],
   "source": [
    "print(len(list(e_coli_samples.values())[5].reactions))\n",
    "print(len(list(l_lactis_samples.values())[5].reactions))\n",
    "print(len(list(p_putida_samples.values())[5].reactions))"
   ]
  },
  {
   "cell_type": "markdown",
   "metadata": {},
   "source": [
    "#### E. coli"
   ]
  },
  {
   "cell_type": "code",
   "execution_count": 109,
   "metadata": {},
   "outputs": [
    {
     "name": "stdout",
     "output_type": "stream",
     "text": [
      "iML1515_1\n",
      "0.0\n",
      "iML1515_2\n",
      "0.0\n",
      "iML1515_3\n",
      "0.8769972144269718\n",
      "iML1515_4\n",
      "0.0\n",
      "iML1515_5\n",
      "0.8769972144269693\n",
      "iML1515_6\n",
      "0.0\n",
      "iML1515_7\n",
      "0.8765145269377971\n",
      "iML1515_8\n",
      "0.816573060491076\n",
      "iML1515_9\n",
      "0.0\n",
      "iML1515_10\n",
      "0.8769972144269695\n"
     ]
    }
   ],
   "source": [
    "for i in range(len(e_coli_samples)):\n",
    "    print(list(e_coli_samples.keys())[i])\n",
    "    print(list(e_coli_samples.values())[i].optimize().objective_value)"
   ]
  },
  {
   "cell_type": "code",
   "execution_count": 110,
   "metadata": {},
   "outputs": [
    {
     "name": "stdout",
     "output_type": "stream",
     "text": [
      "iML1515_1\n",
      "[<Reaction DDPA at 0x7ff385f76d00>, <Reaction HISTP at 0x7ff386386a60>]\n",
      "iML1515_2\n",
      "iML1515_3\n",
      "[]\n",
      "iML1515_4\n",
      "[<Reaction NH4tex at 0x7ff2f71b98b0>, <Reaction ACOAD2f at 0x7ff2f5334be0>]\n",
      "iML1515_5\n",
      "[]\n",
      "iML1515_6\n",
      "[<Reaction DHQTi at 0x7ff492c93f40>, <Reaction ADSS at 0x7ff5117c5e50>]\n",
      "iML1515_7\n",
      "[]\n",
      "iML1515_8\n",
      "[]\n",
      "iML1515_9\n",
      "iML1515_10\n",
      "[]\n",
      "2min 59s ± 0 ns per loop (mean ± std. dev. of 1 run, 1 loop each)\n"
     ]
    }
   ],
   "source": [
    "%%timeit -n1 -r1\n",
    "# COBRA\n",
    "for x in e_coli_samples:\n",
    "    print(x)\n",
    "    sol = 0\n",
    "    with suppress_stdout():\n",
    "        try:\n",
    "            sol = cobra.flux_analysis.gapfill(e_coli_samples[x], e_coli, demand_reactions=False)\n",
    "        except exceptions.Infeasible:\n",
    "            continue\n",
    "        except RuntimeError:\n",
    "            continue\n",
    "    print(sol[0])"
   ]
  },
  {
   "cell_type": "code",
   "execution_count": 111,
   "metadata": {},
   "outputs": [
    {
     "name": "stdout",
     "output_type": "stream",
     "text": [
      "iML1515_1\n",
      "{'iML1515': [('EX_hxan_e', 'Exchange reaction'), ('EX_ade_e', 'Exchange reaction'), ('EX_glcr_e', 'Exchange reaction'), ('Ftex', ['b1377', 'b0241', 'b0929', 'b2215']), ('DDPA', ['b0754', 'b2601', 'b1704']), ('HISTP', ['b2022'])]}\n",
      "iML1515_2\n",
      "{'iML1515': [('EX_lac__L_e', 'Exchange reaction'), ('AKGt2rpp', ['b2587']), ('FRULYStex', ['b1377', 'b0241', 'b0929', 'b2215']), ('SHCHD2', ['b3368']), ('PPND', ['b2600'])]}\n",
      "iML1515_3\n",
      "{'iML1515': [('EX_malt_e', 'Exchange reaction'), ('Htex', ['b1377', 'b0241', 'b0929', 'b2215']), ('GALt2pp', ['b2943']), ('DMSOtex', ['b1377', 'b0241', 'b0929', 'b2215']), ('ACGALtex', ['b1377', 'b0241', 'b0929', 'b2215'])]}\n",
      "iML1515_4\n",
      "{'iML1515': [('EX_halipa_e', 'Exchange reaction'), ('DAPabcpp', []), ('NH4tex', ['b1377', 'b0241', 'b0929', 'b2215']), ('GLUt2rpp', ['b4077']), ('3OAR100', ['b1093'])]}\n",
      "iML1515_5\n",
      "{'iML1515': [('EX_fuc__L_e', 'Exchange reaction'), ('EX_hxa_e', 'Exchange reaction'), ('EX_cgly_e', 'Exchange reaction'), ('CPGNUtpp', []), ('NAt3_1p5pp', ['b1186']), ('ARBTNabcpp', ['b0152', 'b0153', 'b0151'])]}\n",
      "iML1515_6\n",
      "{'iML1515': [('EX_lys__L_e', 'Exchange reaction'), ('EX_2dglc_e', 'Exchange reaction'), ('EX_quin_e', 'Exchange reaction'), ('3HPPtex', ['b1377', 'b0241', 'b0929', 'b2215']), ('DHQTi', ['b1693']), ('ADSS', ['b4177'])]}\n",
      "iML1515_7\n",
      "{'iML1515': [('EX_udpacgal_e', 'Exchange reaction'), ('Kt2pp', ['b1363', 'b1250', 'b3747', 'b3849', 'b3290', 'b1291']), ('3AMPtex', ['b1377', 'b0241', 'b0929', 'b2215']), ('SELtex', ['b1377', 'b0241', 'b0929', 'b2215']), ('CMtex', ['b1377', 'b0241', 'b0929', 'b2215']), ('ILEt3pp', ['b4141'])]}\n",
      "iML1515_8\n",
      "{'iML1515': [('EX_duri_e', 'Exchange reaction'), ('GALURtex', ['b1377', 'b0241', 'b0929', 'b2215']), ('CYNTt2pp', ['b0341']), ('FECRMtonex', ['b0150', 'b3005', 'b1252', 'b3006']), ('Kt3pp', ['b3350', 'b0047', 'b1216', 'b0842'])]}\n",
      "iML1515_9\n",
      "{'iML1515': [('PTRCtex', ['b1377', 'b0241', 'b0929', 'b2215']), ('2AGPA181tipp', ['b2835']), ('SQtex', ['b3875']), ('G1SAT', ['b0154']), ('ALAALAr', ['b0381', 'b0092'])]}\n",
      "iML1515_10\n",
      "{'iML1515': [('UACGAMtex', ['b1377', 'b0241', 'b0929', 'b2215']), ('PSERtex', ['b1377', 'b0241', 'b0929', 'b2215']), ('GALCTNLt2pp', ['b4356'])]}\n",
      "3min 57s ± 0 ns per loop (mean ± std. dev. of 1 run, 1 loop each)\n"
     ]
    }
   ],
   "source": [
    "%%timeit -n1 -r1\n",
    "# GALLANT\n",
    "for x in e_coli_samples:\n",
    "    print(x)\n",
    "    with suppress_stdout():\n",
    "        sol = homology_gapfilling(e_coli_samples[x], [e_coli], integer_threshold=1e-9,\n",
    "                                  force_exchange=True, force_transport=True)\n",
    "    print(sol[1])"
   ]
  },
  {
   "cell_type": "markdown",
   "metadata": {},
   "source": [
    "#### L. lactis"
   ]
  },
  {
   "cell_type": "code",
   "execution_count": 112,
   "metadata": {},
   "outputs": [
    {
     "name": "stdout",
     "output_type": "stream",
     "text": [
      "iNF517_1\n",
      "0.0\n",
      "iNF517_2\n",
      "0.0\n",
      "iNF517_3\n",
      "None\n",
      "iNF517_4\n",
      "None\n",
      "iNF517_5\n",
      "0.0\n",
      "iNF517_6\n",
      "0.0\n",
      "iNF517_7\n",
      "0.0\n",
      "iNF517_8\n",
      "0.0\n",
      "iNF517_9\n",
      "None\n",
      "iNF517_10\n",
      "0.0\n"
     ]
    }
   ],
   "source": [
    "for i in range(len(l_lactis_samples)):\n",
    "    print(list(l_lactis_samples.keys())[i])\n",
    "    print(list(l_lactis_samples.values())[i].optimize().objective_value)"
   ]
  },
  {
   "cell_type": "code",
   "execution_count": 113,
   "metadata": {},
   "outputs": [
    {
     "name": "stdout",
     "output_type": "stream",
     "text": [
      "iNF517_1\n",
      "iNF517_2\n",
      "iNF517_3\n",
      "iNF517_4\n",
      "iNF517_5\n",
      "iNF517_6\n",
      "iNF517_7\n",
      "iNF517_8\n",
      "iNF517_9\n",
      "iNF517_10\n",
      "48.7 s ± 0 ns per loop (mean ± std. dev. of 1 run, 1 loop each)\n"
     ]
    }
   ],
   "source": [
    "%%timeit -n1 -r1\n",
    "# COBRA\n",
    "for x in l_lactis_samples:\n",
    "    print(x)\n",
    "    sol = 0\n",
    "    with suppress_stdout():\n",
    "        try:\n",
    "            sol = cobra.flux_analysis.gapfill(l_lactis_samples[x], l_lactis, demand_reactions=False)\n",
    "        except exceptions.Infeasible:\n",
    "            continue\n",
    "        except RuntimeError:\n",
    "            continue\n",
    "    print(sol[0])"
   ]
  },
  {
   "cell_type": "code",
   "execution_count": 114,
   "metadata": {},
   "outputs": [
    {
     "name": "stdout",
     "output_type": "stream",
     "text": [
      "iNF517_1\n",
      "{}\n",
      "iNF517_2\n",
      "{}\n",
      "iNF517_3\n",
      "{}\n",
      "iNF517_4\n",
      "{}\n",
      "iNF517_5\n",
      "{}\n",
      "iNF517_6\n",
      "{}\n",
      "iNF517_7\n",
      "{}\n",
      "iNF517_8\n",
      "{}\n",
      "iNF517_9\n",
      "{}\n",
      "iNF517_10\n",
      "{}\n",
      "50.9 s ± 0 ns per loop (mean ± std. dev. of 1 run, 1 loop each)\n"
     ]
    }
   ],
   "source": [
    "%%timeit -n1 -r1\n",
    "# GALLANT\n",
    "for x in l_lactis_samples:\n",
    "    print(x)\n",
    "    with suppress_stdout():\n",
    "        sol = homology_gapfilling(l_lactis_samples[x], [l_lactis], integer_threshold=1e-9,\n",
    "                                  force_exchange=True, force_transport=True)\n",
    "    print(sol[1])"
   ]
  },
  {
   "cell_type": "markdown",
   "metadata": {},
   "source": [
    "#### P. putida"
   ]
  },
  {
   "cell_type": "code",
   "execution_count": 115,
   "metadata": {},
   "outputs": [
    {
     "name": "stdout",
     "output_type": "stream",
     "text": [
      "iJN1463_1\n",
      "129.57999999999998\n",
      "iJN1463_2\n",
      "129.57999999999998\n",
      "iJN1463_3\n",
      "129.57999999999998\n",
      "iJN1463_4\n",
      "129.58000000000004\n",
      "iJN1463_5\n",
      "129.57999999999998\n",
      "iJN1463_6\n",
      "129.57999999999998\n",
      "iJN1463_7\n",
      "129.57999999999998\n",
      "iJN1463_8\n",
      "129.58000000000004\n",
      "iJN1463_9\n",
      "129.57999999999998\n",
      "iJN1463_10\n",
      "129.58000000000004\n"
     ]
    }
   ],
   "source": [
    "for i in range(len(p_putida_samples)):\n",
    "    print(list(p_putida_samples.keys())[i])\n",
    "    print(list(p_putida_samples.values())[i].optimize().objective_value)"
   ]
  },
  {
   "cell_type": "code",
   "execution_count": 116,
   "metadata": {},
   "outputs": [
    {
     "name": "stdout",
     "output_type": "stream",
     "text": [
      "iJN1463_1\n",
      "[]\n",
      "iJN1463_2\n",
      "[]\n",
      "iJN1463_3\n",
      "[]\n",
      "iJN1463_4\n",
      "[]\n",
      "iJN1463_5\n",
      "[]\n",
      "iJN1463_6\n",
      "[]\n",
      "iJN1463_7\n",
      "[]\n",
      "iJN1463_8\n",
      "[]\n",
      "iJN1463_9\n",
      "[]\n",
      "iJN1463_10\n",
      "[]\n",
      "3min 19s ± 0 ns per loop (mean ± std. dev. of 1 run, 1 loop each)\n"
     ]
    }
   ],
   "source": [
    "%%timeit -n1 -r1\n",
    "# COBRA\n",
    "for x in p_putida_samples:\n",
    "    print(x)\n",
    "    sol = 0\n",
    "    with suppress_stdout():\n",
    "        try:\n",
    "            sol = cobra.flux_analysis.gapfill(p_putida_samples[x], p_putida, demand_reactions=False)\n",
    "        except exceptions.Infeasible:\n",
    "            continue\n",
    "        except RuntimeError:\n",
    "            continue\n",
    "    print(sol[0])"
   ]
  },
  {
   "cell_type": "code",
   "execution_count": 117,
   "metadata": {},
   "outputs": [
    {
     "name": "stdout",
     "output_type": "stream",
     "text": [
      "iJN1463_1\n",
      "{'iJN1463': [('EX_R_3hocta_e', 'Exchange reaction'), ('ALGSex11', ['PP_1284']), ('FUMtex', []), ('GLCNtex', ['PP_1173'])]}\n",
      "iJN1463_2\n",
      "{'iJN1463': [('EX_gudptn_e', 'Exchange reaction'), ('PACt3', ['PP_3272']), ('QUINtpp', ['PP_2553']), ('D3ONEtpp', [])]}\n",
      "iJN1463_3\n",
      "{'iJN1463': [('EX_indole_e', 'Exchange reaction'), ('APCtex', []), ('HOMt2pp', ['PP_2239'])]}\n",
      "iJN1463_4\n",
      "{'iJN1463': [('EX_2dhglcn_e', 'Exchange reaction'), ('EX_cys__D_e', 'Exchange reaction'), ('ALAGLUabcpp', ['PP_0879', 'PP_0881', 'PP_0880', 'PP_0878', 'PP_0884', 'PP_0882', 'PP_0885'])]}\n",
      "iJN1463_5\n",
      "{'iJN1463': []}\n",
      "iJN1463_6\n",
      "{'iJN1463': [('EX_alahis_e', 'Exchange reaction'), ('OCDCAtexi', ['PP_1689'])]}\n",
      "iJN1463_7\n",
      "{'iJN1463': [('HG2tex', []), ('BTNt2ipp', [])]}\n",
      "iJN1463_8\n",
      "{'iJN1463': [('EX_cu2_e', 'Exchange reaction'), ('EX_tag182d9d12_e', 'Exchange reaction'), ('TOLtex', ['pWW0_127']), ('BALAt2pp', ['PP_4840', 'PP_0284'])]}\n",
      "iJN1463_9\n",
      "{'iJN1463': [('EX_R_3hphpa_e', 'Exchange reaction'), ('ALGSex10', ['PP_1284']), ('ARBTNtonex', ['PP_2193', 'PP_5308', 'PP_5306', 'PP_5307']), ('BZt2_pp', ['PP_1188']), ('GLYBti4pp', ['PP_5061', 'PP_0229', 'PP_5374', 'PP_3957'])]}\n",
      "iJN1463_10\n",
      "{'iJN1463': [('EX_n2one_e', 'Exchange reaction')]}\n",
      "3min 24s ± 0 ns per loop (mean ± std. dev. of 1 run, 1 loop each)\n"
     ]
    }
   ],
   "source": [
    "%%timeit -n1 -r1\n",
    "# GALLANT\n",
    "for x in p_putida_samples:\n",
    "    print(x)\n",
    "    with suppress_stdout():\n",
    "        sol = homology_gapfilling(p_putida_samples[x], [p_putida], integer_threshold=1e-9,\n",
    "                                  force_exchange=True, force_transport=True)\n",
    "    print(sol[1])"
   ]
  }
 ],
 "metadata": {
  "kernelspec": {
   "display_name": "Python 3",
   "language": "python",
   "name": "python3"
  },
  "language_info": {
   "codemirror_mode": {
    "name": "ipython",
    "version": 3
   },
   "file_extension": ".py",
   "mimetype": "text/x-python",
   "name": "python",
   "nbconvert_exporter": "python",
   "pygments_lexer": "ipython3",
   "version": "3.8.5"
  }
 },
 "nbformat": 4,
 "nbformat_minor": 4
}
