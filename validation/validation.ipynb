{
 "cells": [
  {
   "cell_type": "markdown",
   "metadata": {},
   "source": [
    "### Imports"
   ]
  },
  {
   "cell_type": "code",
   "execution_count": 12,
   "metadata": {},
   "outputs": [],
   "source": [
    "import sys\n",
    "sys.path.insert(1, \"../gapfilling/scripts/\")"
   ]
  },
  {
   "cell_type": "code",
   "execution_count": 13,
   "metadata": {},
   "outputs": [],
   "source": [
    "# loading gap filling module\n",
    "from Gapfilling import *\n",
    "from modelseed_gapfilling import *\n",
    "import random"
   ]
  },
  {
   "cell_type": "code",
   "execution_count": 14,
   "metadata": {},
   "outputs": [],
   "source": [
    "from cobra.flux_analysis import flux_variability_analysis"
   ]
  },
  {
   "cell_type": "markdown",
   "metadata": {},
   "source": [
    "### New functions"
   ]
  },
  {
   "cell_type": "code",
   "execution_count": 15,
   "metadata": {},
   "outputs": [],
   "source": [
    "def make_model_copies(model, n = 10):\n",
    "    d = {}\n",
    "    N = n + 1\n",
    "    for i in range(1, N):\n",
    "        d[str(model) + \"_\" + str(i)] = fake_copy(model)\n",
    "    return d"
   ]
  },
  {
   "cell_type": "code",
   "execution_count": 119,
   "metadata": {},
   "outputs": [],
   "source": [
    "def remove_random_reaction(reference, model_dict, reactions_list = [] , n = 1):\n",
    "    \"\"\"\n",
    "    model_dict: dictionary of samples\n",
    "    n: number of reactions to be removed from each model\n",
    "    \"\"\"\n",
    "    n_samples = len(model_dict)\n",
    "    N = n * n_samples\n",
    "    \n",
    "    if reactions_list == []:\n",
    "        reactions = list(reference.reactions)\n",
    "        Random = random.sample(reactions, N)\n",
    "        random_reactions = [i.id for i in Random]\n",
    "        \n",
    "    else:\n",
    "        random_reactions = random.sample(reactions_list, N)\n",
    "        \n",
    "    print(random_reactions)\n",
    "    \n",
    "    if N == n_samples:\n",
    "        for i in range(len(model_dict)):\n",
    "            list(model_dict.values())[i].remove_reactions([random_reactions[i]])\n",
    "    else:\n",
    "        c = 0\n",
    "        for i in range(len(model_dict)):\n",
    "            for j in range(c, c + n):\n",
    "                list(model_dict.values())[i].remove_reactions([random_reactions[j]])\n",
    "                c += 1\n",
    "    return model_dict"
   ]
  },
  {
   "cell_type": "markdown",
   "metadata": {},
   "source": [
    "### Testing\n",
    "#### Loading models"
   ]
  },
  {
   "cell_type": "code",
   "execution_count": 65,
   "metadata": {},
   "outputs": [],
   "source": [
    "e_coli = read_sbml_model(\"../experiment/models/references/iML1515.xml\")\n",
    "l_lactis = read_sbml_model(\"../experiment/models/references/iNF517.xml\")\n",
    "p_putida = read_sbml_model(\"../experiment/models/references/iJN1463.xml\")"
   ]
  },
  {
   "cell_type": "code",
   "execution_count": 69,
   "metadata": {},
   "outputs": [
    {
     "data": {
      "text/html": [
       "<h3>Objective</h3><p>1.0 BIOMASS_LLA = 0.04263460544337326</p><h4>Uptake</h4><table border=\"1\" class=\"dataframe\">\n",
       "  <thead>\n",
       "    <tr style=\"text-align: right;\">\n",
       "      <th>Metabolite</th>\n",
       "      <th>Reaction</th>\n",
       "      <th>Flux</th>\n",
       "      <th>C-Number</th>\n",
       "      <th>C-Flux</th>\n",
       "    </tr>\n",
       "  </thead>\n",
       "  <tbody>\n",
       "    <tr>\n",
       "      <td>4abz_e</td>\n",
       "      <td>EX_4abz_e</td>\n",
       "      <td>4.263E-07</td>\n",
       "      <td>7</td>\n",
       "      <td>0.00%</td>\n",
       "    </tr>\n",
       "    <tr>\n",
       "      <td>ade_e</td>\n",
       "      <td>EX_ade_e</td>\n",
       "      <td>0.00475</td>\n",
       "      <td>5</td>\n",
       "      <td>0.30%</td>\n",
       "    </tr>\n",
       "    <tr>\n",
       "      <td>ala__L_e</td>\n",
       "      <td>EX_ala__L_e</td>\n",
       "      <td>0.04</td>\n",
       "      <td>3</td>\n",
       "      <td>1.53%</td>\n",
       "    </tr>\n",
       "    <tr>\n",
       "      <td>arg__L_e</td>\n",
       "      <td>EX_arg__L_e</td>\n",
       "      <td>0.02</td>\n",
       "      <td>6</td>\n",
       "      <td>1.53%</td>\n",
       "    </tr>\n",
       "    <tr>\n",
       "      <td>asp__L_e</td>\n",
       "      <td>EX_asp__L_e</td>\n",
       "      <td>0.01</td>\n",
       "      <td>4</td>\n",
       "      <td>0.51%</td>\n",
       "    </tr>\n",
       "    <tr>\n",
       "      <td>cys__L_e</td>\n",
       "      <td>EX_cys__L_e</td>\n",
       "      <td>0.008785</td>\n",
       "      <td>3</td>\n",
       "      <td>0.34%</td>\n",
       "    </tr>\n",
       "    <tr>\n",
       "      <td>glc__D_e</td>\n",
       "      <td>EX_glc__D_e</td>\n",
       "      <td>1.095</td>\n",
       "      <td>6</td>\n",
       "      <td>83.71%</td>\n",
       "    </tr>\n",
       "    <tr>\n",
       "      <td>glu__L_e</td>\n",
       "      <td>EX_glu__L_e</td>\n",
       "      <td>0.05</td>\n",
       "      <td>5</td>\n",
       "      <td>3.19%</td>\n",
       "    </tr>\n",
       "    <tr>\n",
       "      <td>gly_e</td>\n",
       "      <td>EX_gly_e</td>\n",
       "      <td>0.002388</td>\n",
       "      <td>2</td>\n",
       "      <td>0.06%</td>\n",
       "    </tr>\n",
       "    <tr>\n",
       "      <td>gua_e</td>\n",
       "      <td>EX_gua_e</td>\n",
       "      <td>0.005057</td>\n",
       "      <td>5</td>\n",
       "      <td>0.32%</td>\n",
       "    </tr>\n",
       "    <tr>\n",
       "      <td>h2o_e</td>\n",
       "      <td>EX_h2o_e</td>\n",
       "      <td>0.3979</td>\n",
       "      <td>0</td>\n",
       "      <td>0.00%</td>\n",
       "    </tr>\n",
       "    <tr>\n",
       "      <td>his__L_e</td>\n",
       "      <td>EX_his__L_e</td>\n",
       "      <td>0.003224</td>\n",
       "      <td>6</td>\n",
       "      <td>0.25%</td>\n",
       "    </tr>\n",
       "    <tr>\n",
       "      <td>ile__L_e</td>\n",
       "      <td>EX_ile__L_e</td>\n",
       "      <td>0.01039</td>\n",
       "      <td>6</td>\n",
       "      <td>0.79%</td>\n",
       "    </tr>\n",
       "    <tr>\n",
       "      <td>leu__L_e</td>\n",
       "      <td>EX_leu__L_e</td>\n",
       "      <td>0.01576</td>\n",
       "      <td>6</td>\n",
       "      <td>1.21%</td>\n",
       "    </tr>\n",
       "    <tr>\n",
       "      <td>lys__L_e</td>\n",
       "      <td>EX_lys__L_e</td>\n",
       "      <td>0.01516</td>\n",
       "      <td>6</td>\n",
       "      <td>1.16%</td>\n",
       "    </tr>\n",
       "    <tr>\n",
       "      <td>met__L_e</td>\n",
       "      <td>EX_met__L_e</td>\n",
       "      <td>0.004257</td>\n",
       "      <td>5</td>\n",
       "      <td>0.27%</td>\n",
       "    </tr>\n",
       "    <tr>\n",
       "      <td>nac_e</td>\n",
       "      <td>EX_nac_e</td>\n",
       "      <td>8.527E-05</td>\n",
       "      <td>6</td>\n",
       "      <td>0.01%</td>\n",
       "    </tr>\n",
       "    <tr>\n",
       "      <td>phe__L_e</td>\n",
       "      <td>EX_phe__L_e</td>\n",
       "      <td>0.007164</td>\n",
       "      <td>9</td>\n",
       "      <td>0.82%</td>\n",
       "    </tr>\n",
       "    <tr>\n",
       "      <td>pi_e</td>\n",
       "      <td>EX_pi_e</td>\n",
       "      <td>0.02939</td>\n",
       "      <td>0</td>\n",
       "      <td>0.00%</td>\n",
       "    </tr>\n",
       "    <tr>\n",
       "      <td>pnto__R_e</td>\n",
       "      <td>EX_pnto__R_e</td>\n",
       "      <td>8.527E-06</td>\n",
       "      <td>9</td>\n",
       "      <td>0.00%</td>\n",
       "    </tr>\n",
       "    <tr>\n",
       "      <td>ser__L_e</td>\n",
       "      <td>EX_ser__L_e</td>\n",
       "      <td>0.04438</td>\n",
       "      <td>3</td>\n",
       "      <td>1.70%</td>\n",
       "    </tr>\n",
       "    <tr>\n",
       "      <td>thm_e</td>\n",
       "      <td>EX_thm_e</td>\n",
       "      <td>4.263E-07</td>\n",
       "      <td>12</td>\n",
       "      <td>0.00%</td>\n",
       "    </tr>\n",
       "    <tr>\n",
       "      <td>thr__L_e</td>\n",
       "      <td>EX_thr__L_e</td>\n",
       "      <td>0.02</td>\n",
       "      <td>4</td>\n",
       "      <td>1.02%</td>\n",
       "    </tr>\n",
       "    <tr>\n",
       "      <td>thymd_e</td>\n",
       "      <td>EX_thymd_e</td>\n",
       "      <td>0.00101</td>\n",
       "      <td>10</td>\n",
       "      <td>0.13%</td>\n",
       "    </tr>\n",
       "    <tr>\n",
       "      <td>ura_e</td>\n",
       "      <td>EX_ura_e</td>\n",
       "      <td>0.006459</td>\n",
       "      <td>4</td>\n",
       "      <td>0.33%</td>\n",
       "    </tr>\n",
       "    <tr>\n",
       "      <td>val__L_e</td>\n",
       "      <td>EX_val__L_e</td>\n",
       "      <td>0.01307</td>\n",
       "      <td>5</td>\n",
       "      <td>0.83%</td>\n",
       "    </tr>\n",
       "  </tbody>\n",
       "</table><h4>Secretion</h4><table border=\"1\" class=\"dataframe\">\n",
       "  <thead>\n",
       "    <tr style=\"text-align: right;\">\n",
       "      <th>Metabolite</th>\n",
       "      <th>Reaction</th>\n",
       "      <th>Flux</th>\n",
       "      <th>C-Number</th>\n",
       "      <th>C-Flux</th>\n",
       "    </tr>\n",
       "  </thead>\n",
       "  <tbody>\n",
       "    <tr>\n",
       "      <td>ac_e</td>\n",
       "      <td>EX_ac_e</td>\n",
       "      <td>-0.83</td>\n",
       "      <td>2</td>\n",
       "      <td>25.89%</td>\n",
       "    </tr>\n",
       "    <tr>\n",
       "      <td>acald_e</td>\n",
       "      <td>EX_acald_e</td>\n",
       "      <td>-0.09428</td>\n",
       "      <td>2</td>\n",
       "      <td>2.94%</td>\n",
       "    </tr>\n",
       "    <tr>\n",
       "      <td>co2_e</td>\n",
       "      <td>EX_co2_e</td>\n",
       "      <td>-0.0242</td>\n",
       "      <td>1</td>\n",
       "      <td>0.38%</td>\n",
       "    </tr>\n",
       "    <tr>\n",
       "      <td>etoh_e</td>\n",
       "      <td>EX_etoh_e</td>\n",
       "      <td>-0.7394</td>\n",
       "      <td>2</td>\n",
       "      <td>23.06%</td>\n",
       "    </tr>\n",
       "    <tr>\n",
       "      <td>for_e</td>\n",
       "      <td>EX_for_e</td>\n",
       "      <td>-1.71</td>\n",
       "      <td>1</td>\n",
       "      <td>26.67%</td>\n",
       "    </tr>\n",
       "    <tr>\n",
       "      <td>gcald_e</td>\n",
       "      <td>EX_gcald_e</td>\n",
       "      <td>-4.263E-07</td>\n",
       "      <td>2</td>\n",
       "      <td>0.00%</td>\n",
       "    </tr>\n",
       "    <tr>\n",
       "      <td>h2s_e</td>\n",
       "      <td>EX_h2s_e</td>\n",
       "      <td>-0.0006751</td>\n",
       "      <td>0</td>\n",
       "      <td>0.00%</td>\n",
       "    </tr>\n",
       "    <tr>\n",
       "      <td>h_e</td>\n",
       "      <td>EX_h_e</td>\n",
       "      <td>-2.852</td>\n",
       "      <td>0</td>\n",
       "      <td>0.00%</td>\n",
       "    </tr>\n",
       "    <tr>\n",
       "      <td>lac__L_e</td>\n",
       "      <td>EX_lac__L_e</td>\n",
       "      <td>-0.4</td>\n",
       "      <td>3</td>\n",
       "      <td>18.72%</td>\n",
       "    </tr>\n",
       "    <tr>\n",
       "      <td>nh4_e</td>\n",
       "      <td>EX_nh4_e</td>\n",
       "      <td>-0.03033</td>\n",
       "      <td>0</td>\n",
       "      <td>0.00%</td>\n",
       "    </tr>\n",
       "    <tr>\n",
       "      <td>pro__L_e</td>\n",
       "      <td>EX_pro__L_e</td>\n",
       "      <td>-0.03</td>\n",
       "      <td>5</td>\n",
       "      <td>2.34%</td>\n",
       "    </tr>\n",
       "  </tbody>\n",
       "</table>"
      ],
      "text/plain": [
       "<cobra.summary.model_summary.ModelSummary at 0x7f308b882ee0>"
      ]
     },
     "execution_count": 69,
     "metadata": {},
     "output_type": "execute_result"
    }
   ],
   "source": [
    "# these are the functions which bounds must be augmented in order to give the model degrees of freedom\n",
    "l_lactis.summary()"
   ]
  },
  {
   "cell_type": "code",
   "execution_count": 70,
   "metadata": {
    "scrolled": true
   },
   "outputs": [
    {
     "data": {
      "text/html": [
       "\n",
       "        <table>\n",
       "            <tr>\n",
       "                <td><strong>Reaction identifier</strong></td><td>EX_glc__D_e</td>\n",
       "            </tr><tr>\n",
       "                <td><strong>Name</strong></td><td>D-Glucose exchange</td>\n",
       "            </tr><tr>\n",
       "                <td><strong>Memory address</strong></td>\n",
       "                <td>0x07f30e8292b80</td>\n",
       "            </tr><tr>\n",
       "                <td><strong>Stoichiometry</strong></td>\n",
       "                <td>\n",
       "                    <p style='text-align:right'>glc__D_e <-- </p>\n",
       "                    <p style='text-align:right'>D-Glucose <-- </p>\n",
       "                </td>\n",
       "            </tr><tr>\n",
       "                <td><strong>GPR</strong></td><td></td>\n",
       "            </tr><tr>\n",
       "                <td><strong>Lower bound</strong></td><td>-2.12</td>\n",
       "            </tr><tr>\n",
       "                <td><strong>Upper bound</strong></td><td>-0.92</td>\n",
       "            </tr>\n",
       "        </table>\n",
       "        "
      ],
      "text/plain": [
       "<Reaction EX_glc__D_e at 0x7f30e8292b80>"
      ]
     },
     "execution_count": 70,
     "metadata": {},
     "output_type": "execute_result"
    }
   ],
   "source": [
    "l_lactis.reactions.EX_glc__D_e"
   ]
  },
  {
   "cell_type": "markdown",
   "metadata": {},
   "source": [
    "#### Checking objective functions"
   ]
  },
  {
   "cell_type": "code",
   "execution_count": 72,
   "metadata": {},
   "outputs": [
    {
     "name": "stdout",
     "output_type": "stream",
     "text": [
      "OBJECTIVE FUNCTIONS:\n",
      "\n",
      "E. coli:\n",
      "\n",
      "Maximize\n",
      "1.0*BIOMASS_Ec_iML1515_core_75p37M - 1.0*BIOMASS_Ec_iML1515_core_75p37M_reverse_35685\n",
      "\n",
      "L. lactis:\n",
      "\n",
      "Maximize\n",
      "1.0*BIOMASS_LLA - 1.0*BIOMASS_LLA_reverse_0796e\n",
      "\n",
      "P. putida:\n",
      "\n",
      "Maximize\n",
      "1.0*BIOMASS_KT2440_WT3 - 1.0*BIOMASS_KT2440_WT3_reverse_d86d5\n",
      "\n"
     ]
    }
   ],
   "source": [
    "print(\"OBJECTIVE FUNCTIONS:\\n\")\n",
    "print(\"E. coli:\\n\\n\" + str(e_coli.objective) + \"\\n\")\n",
    "print(\"L. lactis:\\n\\n\" + str(l_lactis.objective) + \"\\n\")\n",
    "print(\"P. putida:\\n\\n\" + str(p_putida.objective) + \"\\n\")"
   ]
  },
  {
   "cell_type": "code",
   "execution_count": 73,
   "metadata": {
    "scrolled": false
   },
   "outputs": [
    {
     "name": "stdout",
     "output_type": "stream",
     "text": [
      "FLUX VALUES:\n",
      "\n",
      "E. coli:\n",
      "\n",
      "0.8769972144269736\n",
      "\n",
      "L. lactis:\n",
      "\n",
      "0.04263460544337326\n",
      "\n",
      "P. putida:\n",
      "\n",
      "0.5861175448479816\n",
      "\n"
     ]
    }
   ],
   "source": [
    "# Checking the fluxes of each model\n",
    "print(\"FLUX VALUES:\\n\")\n",
    "print(\"E. coli:\\n\\n\" + str(e_coli.optimize().objective_value) + \"\\n\")\n",
    "print(\"L. lactis:\\n\\n\" + str(l_lactis.optimize().objective_value) + \"\\n\")\n",
    "print(\"P. putida:\\n\\n\" + str(p_putida.optimize().objective_value) + \"\\n\")"
   ]
  },
  {
   "cell_type": "markdown",
   "metadata": {},
   "source": [
    "The L.lactis model is pretty constrained. This is known to drastically affects gap filling, so we will remove these constrictions."
   ]
  },
  {
   "cell_type": "code",
   "execution_count": 74,
   "metadata": {},
   "outputs": [
    {
     "data": {
      "text/html": [
       "<h3>Objective</h3><p>1.0 BIOMASS_LLA = 0.04263460544337326</p><h4>Uptake</h4><table border=\"1\" class=\"dataframe\">\n",
       "  <thead>\n",
       "    <tr style=\"text-align: right;\">\n",
       "      <th>Metabolite</th>\n",
       "      <th>Reaction</th>\n",
       "      <th>Flux</th>\n",
       "      <th>C-Number</th>\n",
       "      <th>C-Flux</th>\n",
       "    </tr>\n",
       "  </thead>\n",
       "  <tbody>\n",
       "    <tr>\n",
       "      <td>4abz_e</td>\n",
       "      <td>EX_4abz_e</td>\n",
       "      <td>4.263E-07</td>\n",
       "      <td>7</td>\n",
       "      <td>0.00%</td>\n",
       "    </tr>\n",
       "    <tr>\n",
       "      <td>ade_e</td>\n",
       "      <td>EX_ade_e</td>\n",
       "      <td>0.00475</td>\n",
       "      <td>5</td>\n",
       "      <td>0.30%</td>\n",
       "    </tr>\n",
       "    <tr>\n",
       "      <td>ala__L_e</td>\n",
       "      <td>EX_ala__L_e</td>\n",
       "      <td>0.04</td>\n",
       "      <td>3</td>\n",
       "      <td>1.53%</td>\n",
       "    </tr>\n",
       "    <tr>\n",
       "      <td>arg__L_e</td>\n",
       "      <td>EX_arg__L_e</td>\n",
       "      <td>0.02</td>\n",
       "      <td>6</td>\n",
       "      <td>1.53%</td>\n",
       "    </tr>\n",
       "    <tr>\n",
       "      <td>asp__L_e</td>\n",
       "      <td>EX_asp__L_e</td>\n",
       "      <td>0.01</td>\n",
       "      <td>4</td>\n",
       "      <td>0.51%</td>\n",
       "    </tr>\n",
       "    <tr>\n",
       "      <td>cys__L_e</td>\n",
       "      <td>EX_cys__L_e</td>\n",
       "      <td>0.008785</td>\n",
       "      <td>3</td>\n",
       "      <td>0.34%</td>\n",
       "    </tr>\n",
       "    <tr>\n",
       "      <td>glc__D_e</td>\n",
       "      <td>EX_glc__D_e</td>\n",
       "      <td>1.095</td>\n",
       "      <td>6</td>\n",
       "      <td>83.71%</td>\n",
       "    </tr>\n",
       "    <tr>\n",
       "      <td>glu__L_e</td>\n",
       "      <td>EX_glu__L_e</td>\n",
       "      <td>0.05</td>\n",
       "      <td>5</td>\n",
       "      <td>3.19%</td>\n",
       "    </tr>\n",
       "    <tr>\n",
       "      <td>gly_e</td>\n",
       "      <td>EX_gly_e</td>\n",
       "      <td>0.002388</td>\n",
       "      <td>2</td>\n",
       "      <td>0.06%</td>\n",
       "    </tr>\n",
       "    <tr>\n",
       "      <td>gua_e</td>\n",
       "      <td>EX_gua_e</td>\n",
       "      <td>0.005057</td>\n",
       "      <td>5</td>\n",
       "      <td>0.32%</td>\n",
       "    </tr>\n",
       "    <tr>\n",
       "      <td>h2o_e</td>\n",
       "      <td>EX_h2o_e</td>\n",
       "      <td>0.3979</td>\n",
       "      <td>0</td>\n",
       "      <td>0.00%</td>\n",
       "    </tr>\n",
       "    <tr>\n",
       "      <td>his__L_e</td>\n",
       "      <td>EX_his__L_e</td>\n",
       "      <td>0.003224</td>\n",
       "      <td>6</td>\n",
       "      <td>0.25%</td>\n",
       "    </tr>\n",
       "    <tr>\n",
       "      <td>ile__L_e</td>\n",
       "      <td>EX_ile__L_e</td>\n",
       "      <td>0.01039</td>\n",
       "      <td>6</td>\n",
       "      <td>0.79%</td>\n",
       "    </tr>\n",
       "    <tr>\n",
       "      <td>leu__L_e</td>\n",
       "      <td>EX_leu__L_e</td>\n",
       "      <td>0.01576</td>\n",
       "      <td>6</td>\n",
       "      <td>1.21%</td>\n",
       "    </tr>\n",
       "    <tr>\n",
       "      <td>lys__L_e</td>\n",
       "      <td>EX_lys__L_e</td>\n",
       "      <td>0.01516</td>\n",
       "      <td>6</td>\n",
       "      <td>1.16%</td>\n",
       "    </tr>\n",
       "    <tr>\n",
       "      <td>met__L_e</td>\n",
       "      <td>EX_met__L_e</td>\n",
       "      <td>0.004257</td>\n",
       "      <td>5</td>\n",
       "      <td>0.27%</td>\n",
       "    </tr>\n",
       "    <tr>\n",
       "      <td>nac_e</td>\n",
       "      <td>EX_nac_e</td>\n",
       "      <td>8.527E-05</td>\n",
       "      <td>6</td>\n",
       "      <td>0.01%</td>\n",
       "    </tr>\n",
       "    <tr>\n",
       "      <td>phe__L_e</td>\n",
       "      <td>EX_phe__L_e</td>\n",
       "      <td>0.007164</td>\n",
       "      <td>9</td>\n",
       "      <td>0.82%</td>\n",
       "    </tr>\n",
       "    <tr>\n",
       "      <td>pi_e</td>\n",
       "      <td>EX_pi_e</td>\n",
       "      <td>0.02939</td>\n",
       "      <td>0</td>\n",
       "      <td>0.00%</td>\n",
       "    </tr>\n",
       "    <tr>\n",
       "      <td>pnto__R_e</td>\n",
       "      <td>EX_pnto__R_e</td>\n",
       "      <td>8.527E-06</td>\n",
       "      <td>9</td>\n",
       "      <td>0.00%</td>\n",
       "    </tr>\n",
       "    <tr>\n",
       "      <td>ser__L_e</td>\n",
       "      <td>EX_ser__L_e</td>\n",
       "      <td>0.04438</td>\n",
       "      <td>3</td>\n",
       "      <td>1.70%</td>\n",
       "    </tr>\n",
       "    <tr>\n",
       "      <td>thm_e</td>\n",
       "      <td>EX_thm_e</td>\n",
       "      <td>4.263E-07</td>\n",
       "      <td>12</td>\n",
       "      <td>0.00%</td>\n",
       "    </tr>\n",
       "    <tr>\n",
       "      <td>thr__L_e</td>\n",
       "      <td>EX_thr__L_e</td>\n",
       "      <td>0.02</td>\n",
       "      <td>4</td>\n",
       "      <td>1.02%</td>\n",
       "    </tr>\n",
       "    <tr>\n",
       "      <td>thymd_e</td>\n",
       "      <td>EX_thymd_e</td>\n",
       "      <td>0.00101</td>\n",
       "      <td>10</td>\n",
       "      <td>0.13%</td>\n",
       "    </tr>\n",
       "    <tr>\n",
       "      <td>ura_e</td>\n",
       "      <td>EX_ura_e</td>\n",
       "      <td>0.006459</td>\n",
       "      <td>4</td>\n",
       "      <td>0.33%</td>\n",
       "    </tr>\n",
       "    <tr>\n",
       "      <td>val__L_e</td>\n",
       "      <td>EX_val__L_e</td>\n",
       "      <td>0.01307</td>\n",
       "      <td>5</td>\n",
       "      <td>0.83%</td>\n",
       "    </tr>\n",
       "  </tbody>\n",
       "</table><h4>Secretion</h4><table border=\"1\" class=\"dataframe\">\n",
       "  <thead>\n",
       "    <tr style=\"text-align: right;\">\n",
       "      <th>Metabolite</th>\n",
       "      <th>Reaction</th>\n",
       "      <th>Flux</th>\n",
       "      <th>C-Number</th>\n",
       "      <th>C-Flux</th>\n",
       "    </tr>\n",
       "  </thead>\n",
       "  <tbody>\n",
       "    <tr>\n",
       "      <td>ac_e</td>\n",
       "      <td>EX_ac_e</td>\n",
       "      <td>-0.83</td>\n",
       "      <td>2</td>\n",
       "      <td>25.89%</td>\n",
       "    </tr>\n",
       "    <tr>\n",
       "      <td>acald_e</td>\n",
       "      <td>EX_acald_e</td>\n",
       "      <td>-0.09428</td>\n",
       "      <td>2</td>\n",
       "      <td>2.94%</td>\n",
       "    </tr>\n",
       "    <tr>\n",
       "      <td>co2_e</td>\n",
       "      <td>EX_co2_e</td>\n",
       "      <td>-0.0242</td>\n",
       "      <td>1</td>\n",
       "      <td>0.38%</td>\n",
       "    </tr>\n",
       "    <tr>\n",
       "      <td>etoh_e</td>\n",
       "      <td>EX_etoh_e</td>\n",
       "      <td>-0.7394</td>\n",
       "      <td>2</td>\n",
       "      <td>23.06%</td>\n",
       "    </tr>\n",
       "    <tr>\n",
       "      <td>for_e</td>\n",
       "      <td>EX_for_e</td>\n",
       "      <td>-1.71</td>\n",
       "      <td>1</td>\n",
       "      <td>26.67%</td>\n",
       "    </tr>\n",
       "    <tr>\n",
       "      <td>gcald_e</td>\n",
       "      <td>EX_gcald_e</td>\n",
       "      <td>-4.263E-07</td>\n",
       "      <td>2</td>\n",
       "      <td>0.00%</td>\n",
       "    </tr>\n",
       "    <tr>\n",
       "      <td>h2s_e</td>\n",
       "      <td>EX_h2s_e</td>\n",
       "      <td>-0.0006751</td>\n",
       "      <td>0</td>\n",
       "      <td>0.00%</td>\n",
       "    </tr>\n",
       "    <tr>\n",
       "      <td>h_e</td>\n",
       "      <td>EX_h_e</td>\n",
       "      <td>-2.852</td>\n",
       "      <td>0</td>\n",
       "      <td>0.00%</td>\n",
       "    </tr>\n",
       "    <tr>\n",
       "      <td>lac__L_e</td>\n",
       "      <td>EX_lac__L_e</td>\n",
       "      <td>-0.4</td>\n",
       "      <td>3</td>\n",
       "      <td>18.72%</td>\n",
       "    </tr>\n",
       "    <tr>\n",
       "      <td>nh4_e</td>\n",
       "      <td>EX_nh4_e</td>\n",
       "      <td>-0.03033</td>\n",
       "      <td>0</td>\n",
       "      <td>0.00%</td>\n",
       "    </tr>\n",
       "    <tr>\n",
       "      <td>pro__L_e</td>\n",
       "      <td>EX_pro__L_e</td>\n",
       "      <td>-0.03</td>\n",
       "      <td>5</td>\n",
       "      <td>2.34%</td>\n",
       "    </tr>\n",
       "  </tbody>\n",
       "</table>"
      ],
      "text/plain": [
       "<cobra.summary.model_summary.ModelSummary at 0x7f308b882fd0>"
      ]
     },
     "execution_count": 74,
     "metadata": {},
     "output_type": "execute_result"
    }
   ],
   "source": [
    "l_lactis.summary()"
   ]
  },
  {
   "cell_type": "code",
   "execution_count": 75,
   "metadata": {},
   "outputs": [],
   "source": [
    "# uptake (except Glc)\n",
    "uptake = ['EX_4abz_e', 'EX_ade_e', 'EX_ala__L_e', 'EX_arg__L_e', 'EX_asp__L_e', 'EX_cys__L_e', \n",
    "          'EX_glu__L_e', 'EX_gly_e', 'EX_gua_e', 'EX_h2o_e', 'EX_his__L_e', 'EX_ile__L_e',\n",
    "          'EX_leu__L_e', 'EX_lys__L_e', 'EX_met__L_e', 'EX_nac_e', 'EX_phe__L_e', 'EX_pi_e', \n",
    "          'EX_pnto__R_e', 'EX_ser__L_e', 'EX_thm_e', 'EX_thr__L_e', 'EX_thymd_e', 'EX_ura_e', 'EX_val__L_e']\n",
    "\n",
    "# secretion\n",
    "secretion = ['EX_ac_e', 'EX_acald_e', 'EX_co2_e', 'EX_etoh_e', 'EX_for_e', 'EX_gcald_e', 'EX_h2s_e', \n",
    "             'EX_h_e', 'EX_lac__L_e', 'EX_nh4_e', 'EX_pro__L_e']"
   ]
  },
  {
   "cell_type": "code",
   "execution_count": 76,
   "metadata": {},
   "outputs": [],
   "source": [
    "for i in uptake:\n",
    "    l_lactis.reactions.get_by_id(i).lower_bound = -30.0"
   ]
  },
  {
   "cell_type": "code",
   "execution_count": 77,
   "metadata": {},
   "outputs": [
    {
     "data": {
      "text/html": [
       "\n",
       "        <table>\n",
       "            <tr>\n",
       "                <td><strong>Reaction identifier</strong></td><td>EX_ile__L_e</td>\n",
       "            </tr><tr>\n",
       "                <td><strong>Name</strong></td><td>L-Isoleucine exchange</td>\n",
       "            </tr><tr>\n",
       "                <td><strong>Memory address</strong></td>\n",
       "                <td>0x07f30e82acdc0</td>\n",
       "            </tr><tr>\n",
       "                <td><strong>Stoichiometry</strong></td>\n",
       "                <td>\n",
       "                    <p style='text-align:right'>ile__L_e <-- </p>\n",
       "                    <p style='text-align:right'>L-Isoleucine <-- </p>\n",
       "                </td>\n",
       "            </tr><tr>\n",
       "                <td><strong>GPR</strong></td><td></td>\n",
       "            </tr><tr>\n",
       "                <td><strong>Lower bound</strong></td><td>-30.0</td>\n",
       "            </tr><tr>\n",
       "                <td><strong>Upper bound</strong></td><td>-0.01</td>\n",
       "            </tr>\n",
       "        </table>\n",
       "        "
      ],
      "text/plain": [
       "<Reaction EX_ile__L_e at 0x7f30e82acdc0>"
      ]
     },
     "execution_count": 77,
     "metadata": {},
     "output_type": "execute_result"
    }
   ],
   "source": [
    "l_lactis.reactions.EX_ile__L_e"
   ]
  },
  {
   "cell_type": "code",
   "execution_count": 80,
   "metadata": {},
   "outputs": [],
   "source": [
    "for i in secretion:\n",
    "    l_lactis.reactions.get_by_id(i).upper_bound = 1000.0"
   ]
  },
  {
   "cell_type": "code",
   "execution_count": 81,
   "metadata": {
    "scrolled": true
   },
   "outputs": [
    {
     "data": {
      "text/html": [
       "\n",
       "        <table>\n",
       "            <tr>\n",
       "                <td><strong>Reaction identifier</strong></td><td>EX_lac__L_e</td>\n",
       "            </tr><tr>\n",
       "                <td><strong>Name</strong></td><td>L-Lactate exchange</td>\n",
       "            </tr><tr>\n",
       "                <td><strong>Memory address</strong></td>\n",
       "                <td>0x07f30e8233fa0</td>\n",
       "            </tr><tr>\n",
       "                <td><strong>Stoichiometry</strong></td>\n",
       "                <td>\n",
       "                    <p style='text-align:right'>lac__L_e --> </p>\n",
       "                    <p style='text-align:right'>L-Lactate --> </p>\n",
       "                </td>\n",
       "            </tr><tr>\n",
       "                <td><strong>GPR</strong></td><td></td>\n",
       "            </tr><tr>\n",
       "                <td><strong>Lower bound</strong></td><td>0.4</td>\n",
       "            </tr><tr>\n",
       "                <td><strong>Upper bound</strong></td><td>1000.0</td>\n",
       "            </tr>\n",
       "        </table>\n",
       "        "
      ],
      "text/plain": [
       "<Reaction EX_lac__L_e at 0x7f30e8233fa0>"
      ]
     },
     "execution_count": 81,
     "metadata": {},
     "output_type": "execute_result"
    }
   ],
   "source": [
    "l_lactis.reactions.EX_lac__L_e"
   ]
  },
  {
   "cell_type": "code",
   "execution_count": 113,
   "metadata": {},
   "outputs": [
    {
     "data": {
      "text/plain": [
       "0.801206927384408"
      ]
     },
     "execution_count": 113,
     "metadata": {},
     "output_type": "execute_result"
    }
   ],
   "source": [
    "l_lactis.optimize().objective_value"
   ]
  },
  {
   "cell_type": "markdown",
   "metadata": {},
   "source": [
    "### Obtention of sets of reactions with flux"
   ]
  },
  {
   "cell_type": "code",
   "execution_count": 161,
   "metadata": {},
   "outputs": [],
   "source": [
    "# E.coli\n",
    "e_coli_glc_fva = flux_variability_analysis(e_coli)"
   ]
  },
  {
   "cell_type": "code",
   "execution_count": 162,
   "metadata": {},
   "outputs": [
    {
     "data": {
      "text/html": [
       "<div>\n",
       "<style scoped>\n",
       "    .dataframe tbody tr th:only-of-type {\n",
       "        vertical-align: middle;\n",
       "    }\n",
       "\n",
       "    .dataframe tbody tr th {\n",
       "        vertical-align: top;\n",
       "    }\n",
       "\n",
       "    .dataframe thead th {\n",
       "        text-align: right;\n",
       "    }\n",
       "</style>\n",
       "<table border=\"1\" class=\"dataframe\">\n",
       "  <thead>\n",
       "    <tr style=\"text-align: right;\">\n",
       "      <th></th>\n",
       "      <th>minimum</th>\n",
       "      <th>maximum</th>\n",
       "    </tr>\n",
       "  </thead>\n",
       "  <tbody>\n",
       "    <tr>\n",
       "      <th>CYTDK2</th>\n",
       "      <td>0.000000</td>\n",
       "      <td>1.555200e-12</td>\n",
       "    </tr>\n",
       "    <tr>\n",
       "      <th>XPPT</th>\n",
       "      <td>0.000000</td>\n",
       "      <td>1.560529e-12</td>\n",
       "    </tr>\n",
       "    <tr>\n",
       "      <th>HXPRT</th>\n",
       "      <td>0.000000</td>\n",
       "      <td>0.000000e+00</td>\n",
       "    </tr>\n",
       "    <tr>\n",
       "      <th>NDPK5</th>\n",
       "      <td>-0.022948</td>\n",
       "      <td>-5.923262e-12</td>\n",
       "    </tr>\n",
       "    <tr>\n",
       "      <th>SHK3Dr</th>\n",
       "      <td>0.334240</td>\n",
       "      <td>3.342403e-01</td>\n",
       "    </tr>\n",
       "    <tr>\n",
       "      <th>...</th>\n",
       "      <td>...</td>\n",
       "      <td>...</td>\n",
       "    </tr>\n",
       "    <tr>\n",
       "      <th>MPTS</th>\n",
       "      <td>0.000000</td>\n",
       "      <td>0.000000e+00</td>\n",
       "    </tr>\n",
       "    <tr>\n",
       "      <th>MOCOS</th>\n",
       "      <td>0.000000</td>\n",
       "      <td>0.000000e+00</td>\n",
       "    </tr>\n",
       "    <tr>\n",
       "      <th>BMOGDS2</th>\n",
       "      <td>0.000000</td>\n",
       "      <td>0.000000e+00</td>\n",
       "    </tr>\n",
       "    <tr>\n",
       "      <th>FESD2s</th>\n",
       "      <td>0.000000</td>\n",
       "      <td>0.000000e+00</td>\n",
       "    </tr>\n",
       "    <tr>\n",
       "      <th>OCTNLL</th>\n",
       "      <td>0.000000</td>\n",
       "      <td>0.000000e+00</td>\n",
       "    </tr>\n",
       "  </tbody>\n",
       "</table>\n",
       "<p>2712 rows × 2 columns</p>\n",
       "</div>"
      ],
      "text/plain": [
       "          minimum       maximum\n",
       "CYTDK2   0.000000  1.555200e-12\n",
       "XPPT     0.000000  1.560529e-12\n",
       "HXPRT    0.000000  0.000000e+00\n",
       "NDPK5   -0.022948 -5.923262e-12\n",
       "SHK3Dr   0.334240  3.342403e-01\n",
       "...           ...           ...\n",
       "MPTS     0.000000  0.000000e+00\n",
       "MOCOS    0.000000  0.000000e+00\n",
       "BMOGDS2  0.000000  0.000000e+00\n",
       "FESD2s   0.000000  0.000000e+00\n",
       "OCTNLL   0.000000  0.000000e+00\n",
       "\n",
       "[2712 rows x 2 columns]"
      ]
     },
     "execution_count": 162,
     "metadata": {},
     "output_type": "execute_result"
    }
   ],
   "source": [
    "e_coli_glc_fva"
   ]
  },
  {
   "cell_type": "code",
   "execution_count": 163,
   "metadata": {},
   "outputs": [
    {
     "data": {
      "text/plain": [
       "430"
      ]
     },
     "execution_count": 163,
     "metadata": {},
     "output_type": "execute_result"
    }
   ],
   "source": [
    "e_coli_glc_r = e_coli_glc_fva.loc[(e_coli_glc_fva['minimum'] != 0) & (e_coli_glc_fva['maximum'] != 0)].copy()\n",
    "len(e_coli_glc_r)"
   ]
  },
  {
   "cell_type": "code",
   "execution_count": 164,
   "metadata": {},
   "outputs": [],
   "source": [
    "# we went from 2712 to 430 reactions (~15,86%)\n",
    "# extracting reactions IDs\n",
    "e_coli_glc_r_ids = list(e_coli_glc_r.index)"
   ]
  },
  {
   "cell_type": "code",
   "execution_count": 165,
   "metadata": {},
   "outputs": [
    {
     "data": {
      "text/plain": [
       "['NDPK5',\n",
       " 'SHK3Dr',\n",
       " 'NDPK8',\n",
       " 'DHORTS',\n",
       " 'OMPDC',\n",
       " 'G5SD',\n",
       " 'CS',\n",
       " 'ICDHyr',\n",
       " 'ACALD',\n",
       " 'PPA']"
      ]
     },
     "execution_count": 165,
     "metadata": {},
     "output_type": "execute_result"
    }
   ],
   "source": [
    "e_coli_glc_r_ids[:10]"
   ]
  },
  {
   "cell_type": "code",
   "execution_count": 166,
   "metadata": {},
   "outputs": [
    {
     "data": {
      "text/plain": [
       "325"
      ]
     },
     "execution_count": 166,
     "metadata": {},
     "output_type": "execute_result"
    }
   ],
   "source": [
    "# L. lactis\n",
    "l_lactis_glc_fva = flux_variability_analysis(l_lactis)\n",
    "l_lactis_glc_r = l_lactis_glc_fva.loc[(l_lactis_glc_fva['minimum'] != 0) & (l_lactis_glc_fva['maximum'] != 0)].copy()\n",
    "l_lactis_glc_r_ids = list(l_lactis_glc_r.index)\n",
    "len(l_lactis_glc_r_ids)"
   ]
  },
  {
   "cell_type": "code",
   "execution_count": 167,
   "metadata": {},
   "outputs": [
    {
     "data": {
      "text/plain": [
       "596"
      ]
     },
     "execution_count": 167,
     "metadata": {},
     "output_type": "execute_result"
    }
   ],
   "source": [
    "# P. putida\n",
    "p_putida_glc_fva = flux_variability_analysis(p_putida)\n",
    "p_putida_glc_r = p_putida_glc_fva.loc[(p_putida_glc_fva['minimum'] != 0) & (p_putida_glc_fva['maximum'] != 0)].copy()\n",
    "p_putida_glc_r_ids = list(p_putida_glc_r.index)\n",
    "len(p_putida_glc_r_ids)"
   ]
  },
  {
   "cell_type": "markdown",
   "metadata": {},
   "source": [
    "We want to test our function in several models and two different carbon source, glucose and ribose."
   ]
  },
  {
   "cell_type": "code",
   "execution_count": 168,
   "metadata": {},
   "outputs": [],
   "source": [
    "e_coli_rib = fake_copy(e_coli)\n",
    "l_lactis_rib = fake_copy(l_lactis)\n",
    "p_putida_rib = fake_copy(p_putida)"
   ]
  },
  {
   "cell_type": "code",
   "execution_count": 169,
   "metadata": {},
   "outputs": [],
   "source": [
    "rib_models = [e_coli_rib, l_lactis_rib, p_putida_rib]\n",
    "\n",
    "for x in rib_models:\n",
    "    x.reactions.EX_glc__D_e.lower_bound = 0.0\n",
    "    x.reactions.EX_rib__D_e.lower_bound = -10.0\n",
    "\n",
    "# setting L. lactis ribose bound to -2.12 to match Glc bound\n",
    "l_lactis_rib.reactions.EX_rib__D_e.lower_bound = -2.12"
   ]
  },
  {
   "cell_type": "code",
   "execution_count": 170,
   "metadata": {},
   "outputs": [
    {
     "name": "stdout",
     "output_type": "stream",
     "text": [
      "0.6889133990312893\n",
      "0.7357382398247538\n",
      "0.8066668126261822\n"
     ]
    }
   ],
   "source": [
    "for x in rib_models:\n",
    "    print(x.optimize().objective_value)"
   ]
  },
  {
   "cell_type": "code",
   "execution_count": 118,
   "metadata": {},
   "outputs": [],
   "source": [
    "# l.lactis and e. coli lowers their flux; p. putida rise it"
   ]
  },
  {
   "cell_type": "code",
   "execution_count": 171,
   "metadata": {},
   "outputs": [
    {
     "name": "stdout",
     "output_type": "stream",
     "text": [
      "434\n",
      "328\n",
      "592\n"
     ]
    }
   ],
   "source": [
    "# fva analysis for models with ribose as cs\n",
    "# E.coli\n",
    "e_coli_rib_fva = flux_variability_analysis(e_coli_rib)\n",
    "e_coli_rib_r = e_coli_rib_fva.loc[(e_coli_rib_fva['minimum'] != 0) & (e_coli_rib_fva['maximum'] != 0)].copy()\n",
    "e_coli_rib_r_ids = list(e_coli_rib_r.index)\n",
    "print(len(e_coli_rib_r_ids))\n",
    "\n",
    "# L. lactis\n",
    "l_lactis_rib_fva = flux_variability_analysis(l_lactis_rib)\n",
    "l_lactis_rib_r = l_lactis_rib_fva.loc[(l_lactis_rib_fva['minimum'] != 0) & (l_lactis_rib_fva['maximum'] != 0)].copy()\n",
    "l_lactis_rib_r_ids = list(l_lactis_rib_r.index)\n",
    "print(len(l_lactis_rib_r_ids))\n",
    "\n",
    "# P. putida\n",
    "p_putida_rib_fva = flux_variability_analysis(p_putida_rib)\n",
    "p_putida_rib_r = p_putida_rib_fva.loc[(p_putida_rib_fva['minimum'] != 0) & (p_putida_rib_fva['maximum'] != 0)].copy()\n",
    "p_putida_rib_r_ids = list(p_putida_rib_r.index)\n",
    "print(len(p_putida_rib_r_ids))"
   ]
  },
  {
   "cell_type": "markdown",
   "metadata": {},
   "source": [
    "### Test 1a: removal of 1 reaction (glucose)"
   ]
  },
  {
   "cell_type": "code",
   "execution_count": 172,
   "metadata": {},
   "outputs": [],
   "source": [
    "# Creating 10 copies of each model\n",
    "\n",
    "e_coli_samples_glc = make_model_copies(e_coli)\n",
    "l_lactis_samples_glc = make_model_copies(l_lactis)\n",
    "p_putida_samples_glc = make_model_copies(p_putida)"
   ]
  },
  {
   "cell_type": "markdown",
   "metadata": {},
   "source": [
    "Now, we will remove one random reaction of every copy. "
   ]
  },
  {
   "cell_type": "code",
   "execution_count": 173,
   "metadata": {
    "scrolled": true
   },
   "outputs": [
    {
     "name": "stdout",
     "output_type": "stream",
     "text": [
      "2712\n",
      "754\n",
      "2927\n"
     ]
    }
   ],
   "source": [
    "# original number of reactions\n",
    "print(len(list(e_coli_samples_glc.values())[5].reactions))\n",
    "print(len(list(l_lactis_samples_glc.values())[5].reactions))\n",
    "print(len(list(p_putida_samples_glc.values())[5].reactions))"
   ]
  },
  {
   "cell_type": "code",
   "execution_count": 174,
   "metadata": {
    "scrolled": true
   },
   "outputs": [
    {
     "name": "stdout",
     "output_type": "stream",
     "text": [
      "['DHQTi', 'PMEACPE', 'ENO', 'SULR', 'OPMEACPS', 'G3PD2', 'PPBNGS', 'APRAUR', '3OAR140', 'DASYN161']\n",
      "['VALTRS_1', 'METt2r', 'BTMAT1', 'GLYTRS_1', 'PFK', 'UDCPDPS', 'EX_thm_e', 'THRD_L', 'OCDMAT8', 'LTAS_LLA']\n",
      "['PGSA160', 'PSD181', 'PGCD', 'NADH16pp', 'H2Otpp', 'PACCOAL', 'OCBT', 'CFAS160E', '3OAS100', 'THRA2']\n"
     ]
    },
    {
     "data": {
      "text/plain": [
       "{'iJN1463_1': <Model iJN1463 at 0x7f3000770130>,\n",
       " 'iJN1463_2': <Model iJN1463 at 0x7f306bbdbee0>,\n",
       " 'iJN1463_3': <Model iJN1463 at 0x7f301a3dda00>,\n",
       " 'iJN1463_4': <Model iJN1463 at 0x7f30115227c0>,\n",
       " 'iJN1463_5': <Model iJN1463 at 0x7f300b6556a0>,\n",
       " 'iJN1463_6': <Model iJN1463 at 0x7f30131d6220>,\n",
       " 'iJN1463_7': <Model iJN1463 at 0x7f2ffb7ef970>,\n",
       " 'iJN1463_8': <Model iJN1463 at 0x7f3041fde280>,\n",
       " 'iJN1463_9': <Model iJN1463 at 0x7f304130de20>,\n",
       " 'iJN1463_10': <Model iJN1463 at 0x7f2fe8ffb880>}"
      ]
     },
     "execution_count": 174,
     "metadata": {},
     "output_type": "execute_result"
    }
   ],
   "source": [
    "# removing one reaction from every model\n",
    "\n",
    "remove_random_reaction(e_coli, e_coli_samples_glc, reactions_list=e_coli_glc_r_ids)\n",
    "remove_random_reaction(l_lactis, l_lactis_samples_glc, reactions_list=l_lactis_glc_r_ids)\n",
    "remove_random_reaction(p_putida, p_putida_samples_glc, reactions_list=p_putida_glc_r_ids)"
   ]
  },
  {
   "cell_type": "code",
   "execution_count": 175,
   "metadata": {
    "scrolled": true
   },
   "outputs": [
    {
     "name": "stdout",
     "output_type": "stream",
     "text": [
      "2711\n",
      "753\n",
      "2926\n"
     ]
    }
   ],
   "source": [
    "print(len(list(e_coli_samples_glc.values())[5].reactions))\n",
    "print(len(list(l_lactis_samples_glc.values())[5].reactions))\n",
    "print(len(list(p_putida_samples_glc.values())[5].reactions))"
   ]
  },
  {
   "cell_type": "markdown",
   "metadata": {},
   "source": [
    "#### E. coli"
   ]
  },
  {
   "cell_type": "code",
   "execution_count": 176,
   "metadata": {
    "scrolled": true
   },
   "outputs": [
    {
     "name": "stdout",
     "output_type": "stream",
     "text": [
      "iML1515_1\n",
      "0.0\n",
      "iML1515_2\n",
      "0.0\n",
      "iML1515_3\n",
      "0.8035669172773582\n",
      "iML1515_4\n",
      "0.0\n",
      "iML1515_5\n",
      "0.0\n",
      "iML1515_6\n",
      "0.8766533613913154\n",
      "iML1515_7\n",
      "0.0\n",
      "iML1515_8\n",
      "0.0\n",
      "iML1515_9\n",
      "0.0\n",
      "iML1515_10\n",
      "0.0\n"
     ]
    }
   ],
   "source": [
    "# checking functionality of the models\n",
    "for i in range(len(e_coli_samples_glc)):\n",
    "    print(list(e_coli_samples_glc.keys())[i])\n",
    "    print(list(e_coli_samples_glc.values())[i].optimize().objective_value)"
   ]
  },
  {
   "cell_type": "code",
   "execution_count": 177,
   "metadata": {},
   "outputs": [
    {
     "name": "stdout",
     "output_type": "stream",
     "text": [
      "iML1515_1\n",
      "[<Reaction DHQTi at 0x7f3025d73a30>]\n",
      "iML1515_2\n",
      "iML1515_3\n",
      "[]\n",
      "iML1515_4\n",
      "[<Reaction SULR at 0x7f3055fce2e0>]\n",
      "iML1515_5\n",
      "iML1515_6\n",
      "[]\n",
      "iML1515_7\n",
      "iML1515_8\n",
      "iML1515_9\n",
      "[<Reaction 3OAR140 at 0x7f2fdb160310>]\n",
      "iML1515_10\n",
      "[<Reaction DASYN161 at 0x7f2fc9cb6bb0>]\n",
      "2min 40s ± 0 ns per loop (mean ± std. dev. of 1 run, 1 loop each)\n"
     ]
    }
   ],
   "source": [
    "%%timeit -n1 -r1\n",
    "# COBRA\n",
    "for x in e_coli_samples_glc:\n",
    "    print(x)\n",
    "    with suppress_stdout():\n",
    "        sol = 0\n",
    "        try:\n",
    "            sol = cobra.flux_analysis.gapfill(e_coli_samples_glc[x], e_coli, demand_reactions=False)\n",
    "        except exceptions.Infeasible:\n",
    "            continue\n",
    "        except RuntimeError:\n",
    "            continue\n",
    "    print(sol[0])"
   ]
  },
  {
   "cell_type": "code",
   "execution_count": 178,
   "metadata": {},
   "outputs": [
    {
     "name": "stdout",
     "output_type": "stream",
     "text": [
      "iML1515_1\n",
      "{'iML1515': [('DHQTi', ['b1693'])]}\n",
      "iML1515_2\n",
      "{}\n",
      "iML1515_3\n",
      "{'iML1515': []}\n",
      "iML1515_4\n",
      "{'iML1515': [('SULR', ['b2763', 'b2764'])]}\n",
      "iML1515_5\n",
      "{}\n",
      "iML1515_6\n",
      "{'iML1515': []}\n",
      "iML1515_7\n",
      "{'iML1515': [('PPBNGS', ['b0369'])]}\n",
      "iML1515_8\n",
      "{'iML1515': [('APRAUR', ['b0414'])]}\n",
      "iML1515_9\n",
      "{'iML1515': [('3OAR140', ['b1093'])]}\n",
      "iML1515_10\n",
      "{'iML1515': [('DASYN161', ['b0175'])]}\n",
      "3min 17s ± 0 ns per loop (mean ± std. dev. of 1 run, 1 loop each)\n"
     ]
    }
   ],
   "source": [
    "%%timeit -n1 -r1\n",
    "# GALLANT\n",
    "for x in e_coli_samples_glc:\n",
    "    print(x)\n",
    "    with suppress_stdout():\n",
    "        sol = homology_gapfilling(e_coli_samples_glc[x], [e_coli], integer_threshold=1e-9,\n",
    "                                  force_exchange=True, force_transport=True)\n",
    "    print(sol[1])"
   ]
  },
  {
   "cell_type": "markdown",
   "metadata": {},
   "source": [
    "#### L. lactis"
   ]
  },
  {
   "cell_type": "code",
   "execution_count": 182,
   "metadata": {},
   "outputs": [
    {
     "name": "stdout",
     "output_type": "stream",
     "text": [
      "iNF517_1\n",
      "0.0\n",
      "iNF517_2\n",
      "0.8003873811152523\n",
      "iNF517_3\n",
      "0.0\n",
      "iNF517_4\n",
      "0.0\n",
      "iNF517_5\n",
      "0.0014450588620622544\n",
      "iNF517_6\n",
      "0.0\n",
      "iNF517_7\n",
      "0.0\n",
      "iNF517_8\n",
      "0.7815898078090185\n",
      "iNF517_9\n",
      "0.0\n",
      "iNF517_10\n",
      "0.0\n"
     ]
    }
   ],
   "source": [
    "for i in range(len(l_lactis_samples_glc)):\n",
    "    print(list(l_lactis_samples_glc.keys())[i])\n",
    "    print(list(l_lactis_samples_glc.values())[i].optimize().objective_value)"
   ]
  },
  {
   "cell_type": "code",
   "execution_count": 183,
   "metadata": {},
   "outputs": [
    {
     "name": "stdout",
     "output_type": "stream",
     "text": [
      "iNF517_1\n",
      "[<Reaction VALTRS_1 at 0x7f2fb4ff1100>]\n",
      "iNF517_2\n",
      "[]\n",
      "iNF517_3\n",
      "[<Reaction BTMAT1 at 0x7f2fda63dbb0>]\n",
      "iNF517_4\n",
      "[<Reaction GLYTRS_1 at 0x7f3023c89e20>]\n",
      "iNF517_5\n",
      "[<Reaction PFK at 0x7f30185f3610>]\n",
      "iNF517_6\n",
      "iNF517_7\n",
      "iNF517_8\n",
      "[]\n",
      "iNF517_9\n",
      "iNF517_10\n",
      "47.2 s ± 0 ns per loop (mean ± std. dev. of 1 run, 1 loop each)\n"
     ]
    }
   ],
   "source": [
    "%%timeit -n1 -r1\n",
    "# COBRA\n",
    "for x in l_lactis_samples_glc:\n",
    "    print(x)\n",
    "    sol = 0\n",
    "    with suppress_stdout():\n",
    "        try:\n",
    "            sol = cobra.flux_analysis.gapfill(l_lactis_samples_glc[x], l_lactis, demand_reactions=False)\n",
    "        except exceptions.Infeasible:\n",
    "            continue\n",
    "        except RuntimeError:\n",
    "            continue\n",
    "    print(sol[0])"
   ]
  },
  {
   "cell_type": "code",
   "execution_count": 184,
   "metadata": {},
   "outputs": [
    {
     "name": "stdout",
     "output_type": "stream",
     "text": [
      "iNF517_1\n",
      "{'iNF517': [('VALTRS_1', ['LLMG_RS12325'])]}\n",
      "iNF517_2\n",
      "{'iNF517': [('Transport reaction: METt2r', [])]}\n",
      "iNF517_3\n",
      "{'iNF517': [('BTMAT1', ['LLMG_RS02820'])]}\n",
      "iNF517_4\n",
      "{'iNF517': [('GLYTRS_1', ['LLMG_RS07455', 'LLMG_RS07450'])]}\n",
      "iNF517_5\n",
      "{'iNF517': [('PFK', ['LLMG_RS05680'])]}\n",
      "iNF517_6\n",
      "{}\n",
      "iNF517_7\n",
      "{'iNF517': [('EX_thm_e', 'Exchange reaction')]}\n",
      "iNF517_8\n",
      "{'iNF517': []}\n",
      "iNF517_9\n",
      "{'iNF517': [('OCDMAT8', ['LLMG_RS02820'])]}\n",
      "iNF517_10\n",
      "{'iNF517': [('LTAS_LLA', [])]}\n",
      "58.4 s ± 0 ns per loop (mean ± std. dev. of 1 run, 1 loop each)\n"
     ]
    }
   ],
   "source": [
    "%%timeit -n1 -r1\n",
    "# GALLANT\n",
    "for x in l_lactis_samples_glc:\n",
    "    print(x)\n",
    "    with suppress_stdout():\n",
    "        sol = homology_gapfilling(l_lactis_samples_glc[x], [l_lactis], integer_threshold=1e-9,\n",
    "                                  force_exchange=True, force_transport=True)\n",
    "    print(sol[1])"
   ]
  },
  {
   "cell_type": "code",
   "execution_count": 266,
   "metadata": {},
   "outputs": [
    {
     "data": {
      "text/plain": [
       "0.125"
      ]
     },
     "execution_count": 266,
     "metadata": {},
     "output_type": "execute_result"
    }
   ],
   "source": [
    "1/8"
   ]
  },
  {
   "cell_type": "markdown",
   "metadata": {},
   "source": [
    "#### P. putida"
   ]
  },
  {
   "cell_type": "code",
   "execution_count": 185,
   "metadata": {},
   "outputs": [
    {
     "name": "stdout",
     "output_type": "stream",
     "text": [
      "iJN1463_1\n",
      "0.0\n",
      "iJN1463_2\n",
      "0.0\n",
      "iJN1463_3\n",
      "0.0\n",
      "iJN1463_4\n",
      "0.5247973972311358\n",
      "iJN1463_5\n",
      "0.08796688835043205\n",
      "iJN1463_6\n",
      "0.5861175448479808\n",
      "iJN1463_7\n",
      "0.0\n",
      "iJN1463_8\n",
      "0.0\n",
      "iJN1463_9\n",
      "0.0\n",
      "iJN1463_10\n",
      "0.0\n"
     ]
    }
   ],
   "source": [
    "for i in range(len(p_putida_samples_glc)):\n",
    "    print(list(p_putida_samples_glc.keys())[i])\n",
    "    print(list(p_putida_samples_glc.values())[i].optimize().objective_value)"
   ]
  },
  {
   "cell_type": "code",
   "execution_count": 186,
   "metadata": {},
   "outputs": [
    {
     "name": "stdout",
     "output_type": "stream",
     "text": [
      "iJN1463_1\n",
      "iJN1463_2\n",
      "iJN1463_3\n",
      "iJN1463_4\n",
      "[]\n",
      "iJN1463_5\n",
      "[]\n",
      "iJN1463_6\n",
      "[]\n",
      "iJN1463_7\n",
      "iJN1463_8\n",
      "iJN1463_9\n",
      "iJN1463_10\n",
      "2min 58s ± 0 ns per loop (mean ± std. dev. of 1 run, 1 loop each)\n"
     ]
    }
   ],
   "source": [
    "%%timeit -n1 -r1\n",
    "# COBRA\n",
    "for x in p_putida_samples_glc:\n",
    "    print(x)\n",
    "    sol = 0\n",
    "    with suppress_stdout():\n",
    "        try:\n",
    "            sol = cobra.flux_analysis.gapfill(p_putida_samples_glc[x], p_putida, demand_reactions=False)\n",
    "        except exceptions.Infeasible:\n",
    "            continue\n",
    "        except RuntimeError:\n",
    "            continue\n",
    "    print(sol[0])"
   ]
  },
  {
   "cell_type": "code",
   "execution_count": 187,
   "metadata": {},
   "outputs": [
    {
     "name": "stdout",
     "output_type": "stream",
     "text": [
      "iJN1463_1\n",
      "{}\n",
      "iJN1463_2\n",
      "{}\n",
      "iJN1463_3\n",
      "{'iJN1463': [('PGCD', ['PP_5155'])]}\n",
      "iJN1463_4\n",
      "{'iJN1463': [('Transport reaction: NADH16pp', ['PP_4123', 'PP_4121', 'PP_4124', 'PP_4126', 'PP_4125', 'PP_4120', 'PP_4119', 'PP_4131', 'PP_4122', 'PP_4130', 'PP_4127', 'PP_4128', 'PP_4129'])]}\n",
      "iJN1463_5\n",
      "{'iJN1463': [('Transport reaction: H2Otpp', ['PP_s0001', 'PP_4282'])]}\n",
      "iJN1463_6\n",
      "{'iJN1463': []}\n",
      "iJN1463_7\n",
      "{'iJN1463': [('OCBT', ['PP_1079', 'PP_1000'])]}\n",
      "iJN1463_8\n",
      "{}\n",
      "iJN1463_9\n",
      "{'iJN1463': [('3OAS100', ['PP_4175', 'PP_3303', 'PP_1916'])]}\n",
      "iJN1463_10\n",
      "{}\n",
      "3min 26s ± 0 ns per loop (mean ± std. dev. of 1 run, 1 loop each)\n"
     ]
    }
   ],
   "source": [
    "%%timeit -n1 -r1\n",
    "# GALLANT\n",
    "for x in p_putida_samples_glc:\n",
    "    print(x)\n",
    "    with suppress_stdout():\n",
    "        sol = homology_gapfilling(p_putida_samples_glc[x], [p_putida], integer_threshold=1e-9,\n",
    "                                  force_exchange=True, force_transport=True)\n",
    "    print(sol[1])"
   ]
  },
  {
   "cell_type": "markdown",
   "metadata": {},
   "source": [
    "### Test 1b: removal of 1 reaction (ribose)"
   ]
  },
  {
   "cell_type": "code",
   "execution_count": 188,
   "metadata": {},
   "outputs": [],
   "source": [
    "e_coli_samples_rib = make_model_copies(e_coli_rib)\n",
    "l_lactis_samples_rib = make_model_copies(l_lactis_rib)\n",
    "p_putida_samples_rib = make_model_copies(p_putida_rib)"
   ]
  },
  {
   "cell_type": "code",
   "execution_count": 189,
   "metadata": {},
   "outputs": [
    {
     "name": "stdout",
     "output_type": "stream",
     "text": [
      "['DHAD1', 'RBK', 'OMCDC', 'PMDPHT', 'ASPtpp', 'DALAt2pp', 'PSP_L', 'HACD4', 'GLUR', 'ACOAD5f']\n",
      "['NAPRT', 'MCMAT4', 'DTMPK', 'PROTRS_1', 'CTPS1', 'ABUTt2r', 'GTPCI', 'EX_asp__L_e', 'EX_ala__L_e', 'ARGORNt3']\n",
      "['PYOVDM1', 'EX_mn2_e', 'HPYRRx', 'NNDMBRT', 'NI2tpp', 'MCTP2App', 'H2CO3D2', 'BMOGDS2', 'ADCYRS', 'MTHFD']\n"
     ]
    },
    {
     "data": {
      "text/plain": [
       "{'iJN1463_1': <Model iJN1463 at 0x7f2fb0c5eb80>,\n",
       " 'iJN1463_2': <Model iJN1463 at 0x7f302c843880>,\n",
       " 'iJN1463_3': <Model iJN1463 at 0x7f2fba614d30>,\n",
       " 'iJN1463_4': <Model iJN1463 at 0x7f2facaba310>,\n",
       " 'iJN1463_5': <Model iJN1463 at 0x7f2f9c2841c0>,\n",
       " 'iJN1463_6': <Model iJN1463 at 0x7f2f92baa100>,\n",
       " 'iJN1463_7': <Model iJN1463 at 0x7f2fbd6b7e80>,\n",
       " 'iJN1463_8': <Model iJN1463 at 0x7f2fb5514250>,\n",
       " 'iJN1463_9': <Model iJN1463 at 0x7f2fa3a54370>,\n",
       " 'iJN1463_10': <Model iJN1463 at 0x7f2f97e08b20>}"
      ]
     },
     "execution_count": 189,
     "metadata": {},
     "output_type": "execute_result"
    }
   ],
   "source": [
    "remove_random_reaction(e_coli_rib, e_coli_samples_rib, reactions_list=e_coli_rib_r_ids)\n",
    "remove_random_reaction(l_lactis_rib, l_lactis_samples_rib, reactions_list=l_lactis_rib_r_ids)\n",
    "remove_random_reaction(p_putida_rib, p_putida_samples_rib, reactions_list=p_putida_rib_r_ids)"
   ]
  },
  {
   "cell_type": "markdown",
   "metadata": {},
   "source": [
    "#### E. coli"
   ]
  },
  {
   "cell_type": "code",
   "execution_count": 190,
   "metadata": {},
   "outputs": [
    {
     "name": "stdout",
     "output_type": "stream",
     "text": [
      "iML1515_1\n",
      "0.0\n",
      "iML1515_2\n"
     ]
    },
    {
     "name": "stderr",
     "output_type": "stream",
     "text": [
      "/home/fco/miniconda3/envs/TFM/lib/python3.8/site-packages/cobra/util/solver.py:430: UserWarning: solver status is 'infeasible'\n",
      "  warn(\"solver status is '{}'\".format(status), UserWarning)\n"
     ]
    },
    {
     "name": "stdout",
     "output_type": "stream",
     "text": [
      "None\n",
      "iML1515_3\n",
      "0.0\n",
      "iML1515_4\n",
      "0.0\n",
      "iML1515_5\n",
      "0.6889133990312898\n",
      "iML1515_6\n",
      "0.6885085709876102\n",
      "iML1515_7\n",
      "0.6750829044838003\n",
      "iML1515_8\n",
      "0.6848306747602794\n",
      "iML1515_9\n",
      "0.0\n",
      "iML1515_10\n",
      "0.6854889702091407\n"
     ]
    }
   ],
   "source": [
    "# checking functionality of the models\n",
    "for i in range(len(e_coli_samples_rib)):\n",
    "    print(list(e_coli_samples_rib.keys())[i])\n",
    "    print(list(e_coli_samples_rib.values())[i].optimize().objective_value)"
   ]
  },
  {
   "cell_type": "code",
   "execution_count": 191,
   "metadata": {},
   "outputs": [
    {
     "name": "stdout",
     "output_type": "stream",
     "text": [
      "iML1515_1\n",
      "[<Reaction DHAD1 at 0x7f2f86a11d30>]\n",
      "iML1515_2\n",
      "[<Reaction RBK at 0x7f301841f2e0>]\n",
      "iML1515_3\n",
      "[<Reaction OMCDC at 0x7f2fd857b3a0>]\n",
      "iML1515_4\n",
      "iML1515_5\n",
      "[]\n",
      "iML1515_6\n",
      "[]\n",
      "iML1515_7\n",
      "[]\n",
      "iML1515_8\n",
      "[]\n",
      "iML1515_9\n",
      "[<Reaction GLUR at 0x7f2f70f12760>]\n",
      "iML1515_10\n",
      "[]\n",
      "2min 43s ± 0 ns per loop (mean ± std. dev. of 1 run, 1 loop each)\n"
     ]
    }
   ],
   "source": [
    "%%timeit -n1 -r1\n",
    "# COBRA\n",
    "for x in e_coli_samples_rib:\n",
    "    print(x)\n",
    "    with suppress_stdout():\n",
    "        sol = 0\n",
    "        try:\n",
    "            sol = cobra.flux_analysis.gapfill(e_coli_samples_rib[x], e_coli_rib, demand_reactions=False)\n",
    "        except exceptions.Infeasible:\n",
    "            continue\n",
    "        except RuntimeError:\n",
    "            continue\n",
    "    print(sol[0])"
   ]
  },
  {
   "cell_type": "code",
   "execution_count": 192,
   "metadata": {},
   "outputs": [
    {
     "name": "stdout",
     "output_type": "stream",
     "text": [
      "iML1515_1\n",
      "{'iML1515': [('DHAD1', ['b3771'])]}\n",
      "iML1515_2\n",
      "{'iML1515': [('RBK', ['b3752'])]}\n",
      "iML1515_3\n",
      "{'iML1515': [('OMCDC', ['s0001'])]}\n",
      "iML1515_4\n",
      "{'iML1515': [('PMDPHT', ['b0844', 'b3812'])]}\n",
      "iML1515_5\n",
      "{'iML1515': [('Transport reaction: ASPtpp', ['b1206'])]}\n",
      "iML1515_6\n",
      "{'iML1515': [('Transport reaction: DALAt2pp', ['b4208'])]}\n",
      "iML1515_7\n",
      "{'iML1515': []}\n",
      "iML1515_8\n",
      "{'iML1515': []}\n",
      "iML1515_9\n",
      "{'iML1515': [('GLUR', ['b3967'])]}\n",
      "iML1515_10\n",
      "{'iML1515': []}\n",
      "3min 22s ± 0 ns per loop (mean ± std. dev. of 1 run, 1 loop each)\n"
     ]
    }
   ],
   "source": [
    "%%timeit -n1 -r1\n",
    "# GALLANT\n",
    "for x in e_coli_samples_rib:\n",
    "    print(x)\n",
    "    with suppress_stdout():\n",
    "        sol = homology_gapfilling(e_coli_samples_rib[x], [e_coli_rib], integer_threshold=1e-9,\n",
    "                                  force_exchange=True, force_transport=True)\n",
    "    print(sol[1])"
   ]
  },
  {
   "cell_type": "code",
   "execution_count": 267,
   "metadata": {},
   "outputs": [
    {
     "data": {
      "text/plain": [
       "0.2857142857142857"
      ]
     },
     "execution_count": 267,
     "metadata": {},
     "output_type": "execute_result"
    }
   ],
   "source": [
    "2/7"
   ]
  },
  {
   "cell_type": "markdown",
   "metadata": {},
   "source": [
    "#### L. lactis"
   ]
  },
  {
   "cell_type": "code",
   "execution_count": 193,
   "metadata": {},
   "outputs": [
    {
     "name": "stdout",
     "output_type": "stream",
     "text": [
      "iNF517_1\n",
      "0.0\n",
      "iNF517_2\n",
      "0.0\n",
      "iNF517_3\n",
      "0.0\n",
      "iNF517_4\n",
      "0.0\n",
      "iNF517_5\n",
      "0.7051284187920162\n",
      "iNF517_6\n",
      "0.7313938106350848\n",
      "iNF517_7\n",
      "0.0\n",
      "iNF517_8\n",
      "0.7300471172912578\n",
      "iNF517_9\n",
      "0.7324555516963561\n",
      "iNF517_10\n",
      "0.7357280183015322\n"
     ]
    }
   ],
   "source": [
    "# checking functionality of the models\n",
    "for i in range(len(l_lactis_samples_rib)):\n",
    "    print(list(l_lactis_samples_rib.keys())[i])\n",
    "    print(list(l_lactis_samples_rib.values())[i].optimize().objective_value)"
   ]
  },
  {
   "cell_type": "code",
   "execution_count": 194,
   "metadata": {},
   "outputs": [
    {
     "name": "stdout",
     "output_type": "stream",
     "text": [
      "iNF517_1\n",
      "iNF517_2\n",
      "[<Reaction MCMAT4 at 0x7f2fba43d2e0>]\n",
      "iNF517_3\n",
      "[<Reaction DTMPK at 0x7f2f890bcd00>]\n",
      "iNF517_4\n",
      "[<Reaction PROTRS_1 at 0x7f2f72bf3490>]\n",
      "iNF517_5\n",
      "[]\n",
      "iNF517_6\n",
      "[]\n",
      "iNF517_7\n",
      "iNF517_8\n",
      "[]\n",
      "iNF517_9\n",
      "[]\n",
      "iNF517_10\n",
      "[]\n",
      "47.5 s ± 0 ns per loop (mean ± std. dev. of 1 run, 1 loop each)\n"
     ]
    }
   ],
   "source": [
    "%%timeit -n1 -r1\n",
    "# COBRA\n",
    "for x in l_lactis_samples_rib:\n",
    "    print(x)\n",
    "    with suppress_stdout():\n",
    "        sol = 0\n",
    "        try:\n",
    "            sol = cobra.flux_analysis.gapfill(l_lactis_samples_rib[x], l_lactis_rib, demand_reactions=False)\n",
    "        except exceptions.Infeasible:\n",
    "            continue\n",
    "        except RuntimeError:\n",
    "            continue\n",
    "    print(sol[0])"
   ]
  },
  {
   "cell_type": "code",
   "execution_count": 195,
   "metadata": {},
   "outputs": [
    {
     "name": "stdout",
     "output_type": "stream",
     "text": [
      "iNF517_1\n",
      "{'iNF517': [('NAPRT', ['LLMG_RS07425'])]}\n",
      "iNF517_2\n",
      "{'iNF517': [('MCMAT4', ['LLMG_RS08945'])]}\n",
      "iNF517_3\n",
      "{'iNF517': [('DTMPK', ['LLMG_RS02125'])]}\n",
      "iNF517_4\n",
      "{'iNF517': [('PROTRS_1', ['LLMG_RS12095'])]}\n",
      "iNF517_5\n",
      "{'iNF517': []}\n",
      "iNF517_6\n",
      "{'iNF517': [('Transport reaction: ABUTt2r', [])]}\n",
      "iNF517_7\n",
      "{}\n",
      "iNF517_8\n",
      "{'iNF517': [('EX_asp__L_e', 'Exchange reaction')]}\n",
      "iNF517_9\n",
      "{'iNF517': [('EX_ala__L_e', 'Exchange reaction')]}\n",
      "iNF517_10\n",
      "{'iNF517': [('Transport reaction: ARGORNt3', ['LLMG_RS11585', 'LLMG_RS11565'])]}\n",
      "58.1 s ± 0 ns per loop (mean ± std. dev. of 1 run, 1 loop each)\n"
     ]
    }
   ],
   "source": [
    "%%timeit -n1 -r1\n",
    "# GALLANT\n",
    "for x in l_lactis_samples_rib:\n",
    "    print(x)\n",
    "    with suppress_stdout():\n",
    "        sol = homology_gapfilling(l_lactis_samples_rib[x], [l_lactis_rib], integer_threshold=1e-9,\n",
    "                                  force_exchange=True, force_transport=True)\n",
    "    print(sol[1])"
   ]
  },
  {
   "cell_type": "markdown",
   "metadata": {},
   "source": [
    "#### P. putida"
   ]
  },
  {
   "cell_type": "code",
   "execution_count": 196,
   "metadata": {},
   "outputs": [
    {
     "name": "stdout",
     "output_type": "stream",
     "text": [
      "iJN1463_1\n",
      "0.0\n",
      "iJN1463_2\n",
      "0.0\n",
      "iJN1463_3\n",
      "0.8066668126261828\n",
      "iJN1463_4\n",
      "0.0\n",
      "iJN1463_5\n",
      "0.8066565289528399\n",
      "iJN1463_6\n",
      "0.0\n",
      "iJN1463_7\n",
      "0.8066668126261851\n",
      "iJN1463_8\n",
      "0.0\n",
      "iJN1463_9\n",
      "0.0\n",
      "iJN1463_10\n",
      "0.780624801337949\n"
     ]
    }
   ],
   "source": [
    "# checking functionality of the models\n",
    "for i in range(len(p_putida_samples_rib)):\n",
    "    print(list(p_putida_samples_rib.keys())[i])\n",
    "    print(list(p_putida_samples_rib.values())[i].optimize().objective_value)"
   ]
  },
  {
   "cell_type": "code",
   "execution_count": 197,
   "metadata": {},
   "outputs": [
    {
     "name": "stdout",
     "output_type": "stream",
     "text": [
      "iJN1463_1\n",
      "iJN1463_2\n",
      "iJN1463_3\n",
      "[]\n",
      "iJN1463_4\n",
      "iJN1463_5\n",
      "[]\n",
      "iJN1463_6\n",
      "iJN1463_7\n",
      "[]\n",
      "iJN1463_8\n",
      "iJN1463_9\n",
      "iJN1463_10\n",
      "[]\n",
      "3min 1s ± 0 ns per loop (mean ± std. dev. of 1 run, 1 loop each)\n"
     ]
    }
   ],
   "source": [
    "%%timeit -n1 -r1\n",
    "# COBRA\n",
    "for x in p_putida_samples_rib:\n",
    "    print(x)\n",
    "    with suppress_stdout():\n",
    "        sol = 0\n",
    "        try:\n",
    "            sol = cobra.flux_analysis.gapfill(p_putida_samples_rib[x], p_putida_rib, demand_reactions=False)\n",
    "        except exceptions.Infeasible:\n",
    "            continue\n",
    "        except RuntimeError:\n",
    "            continue\n",
    "    print(sol[0])"
   ]
  },
  {
   "cell_type": "code",
   "execution_count": 198,
   "metadata": {},
   "outputs": [
    {
     "name": "stdout",
     "output_type": "stream",
     "text": [
      "iJN1463_1\n",
      "{}\n",
      "iJN1463_2\n",
      "{'iJN1463': [('EX_mn2_e', 'Exchange reaction')]}\n",
      "iJN1463_3\n",
      "{'iJN1463': []}\n",
      "iJN1463_4\n",
      "{}\n",
      "iJN1463_5\n",
      "{'iJN1463': [('Transport reaction: NI2tpp', ['PP_1843'])]}\n",
      "iJN1463_6\n",
      "{}\n",
      "iJN1463_7\n",
      "{'iJN1463': []}\n",
      "iJN1463_8\n",
      "{}\n",
      "iJN1463_9\n",
      "{}\n",
      "iJN1463_10\n",
      "{'iJN1463': []}\n",
      "3min 12s ± 0 ns per loop (mean ± std. dev. of 1 run, 1 loop each)\n"
     ]
    }
   ],
   "source": [
    "%%timeit -n1 -r1\n",
    "# GALLANT\n",
    "for x in p_putida_samples_rib:\n",
    "    print(x)\n",
    "    with suppress_stdout():\n",
    "        sol = homology_gapfilling(p_putida_samples_rib[x], [p_putida_rib], integer_threshold=1e-9,\n",
    "                                  force_exchange=True, force_transport=True)\n",
    "    print(sol[1])"
   ]
  },
  {
   "cell_type": "markdown",
   "metadata": {},
   "source": [
    "### Test 2a: removal of 2 reactions (glucose)"
   ]
  },
  {
   "cell_type": "code",
   "execution_count": 199,
   "metadata": {},
   "outputs": [],
   "source": [
    "e_coli_samples_glc = make_model_copies(e_coli)\n",
    "l_lactis_samples_glc = make_model_copies(l_lactis)\n",
    "p_putida_samples_glc = make_model_copies(p_putida)"
   ]
  },
  {
   "cell_type": "code",
   "execution_count": 200,
   "metadata": {
    "scrolled": true
   },
   "outputs": [
    {
     "name": "stdout",
     "output_type": "stream",
     "text": [
      "['ACACT4r', 'IGPDH', 'I4FE4SR', 'UPPDC1', 'NNDPR', 'MEOHtex', 'UAGPT3', 'IPPMIa', 'OMCDC', 'ACACT1r', 'UAGDP', 'EX_ni2_e', 'ENO', 'IMPD', 'PRFGS', 'GLUDy', 'HSTPT', 'A5PISO', 'FUM', 'CLtex']\n",
      "['ETOHt', '4ABZt', 'PGGT2', 'FABM1', 'GLUR', 'EX_thr__L_e', 'FABM2', 'EX_h2o_e', 'ILEt2r_copy2', 'ARGORNt3', 'DEMAT4', 'aratyr3', 'araphe1', 'UAGDP', 'UAGCVT', 'EX_ser__L_e', 'PSCVT', 'NDPK3', 'VALTA', 'UAGPT1']\n",
      "['DDPA', 'G5SD_copy2', 'LPSGTR1_kt', 'FEROpp', 'NNDMBRT', 'ASPK', 'GHMT2r', 'DHDPS', 'EX_so4_e', 'GLUPRT', '3OAR160', 'MOADSUx', 'UAMAS', 'PGM', 'VALTA', '3HAACOAT141', 'DMATT', 'ALATRS', 'ACONTb', '3HAD80']\n"
     ]
    },
    {
     "data": {
      "text/plain": [
       "{'iJN1463_1': <Model iJN1463 at 0x7f2f363e9580>,\n",
       " 'iJN1463_2': <Model iJN1463 at 0x7f2f75efa520>,\n",
       " 'iJN1463_3': <Model iJN1463 at 0x7f2fa3c21e20>,\n",
       " 'iJN1463_4': <Model iJN1463 at 0x7f2f806392e0>,\n",
       " 'iJN1463_5': <Model iJN1463 at 0x7f2f5ec83e20>,\n",
       " 'iJN1463_6': <Model iJN1463 at 0x7f2f81db6160>,\n",
       " 'iJN1463_7': <Model iJN1463 at 0x7f2fe8fabfd0>,\n",
       " 'iJN1463_8': <Model iJN1463 at 0x7f2f7ffa1100>,\n",
       " 'iJN1463_9': <Model iJN1463 at 0x7f3009da5e50>,\n",
       " 'iJN1463_10': <Model iJN1463 at 0x7f2fdb2ec070>}"
      ]
     },
     "execution_count": 200,
     "metadata": {},
     "output_type": "execute_result"
    }
   ],
   "source": [
    "remove_random_reaction(e_coli, e_coli_samples_glc, reactions_list=e_coli_glc_r_ids, n=2)\n",
    "remove_random_reaction(l_lactis, l_lactis_samples_glc, reactions_list=l_lactis_glc_r_ids, n=2)\n",
    "remove_random_reaction(p_putida, p_putida_samples_glc, reactions_list=p_putida_glc_r_ids, n=2)"
   ]
  },
  {
   "cell_type": "markdown",
   "metadata": {},
   "source": [
    "#### E. coli"
   ]
  },
  {
   "cell_type": "code",
   "execution_count": 201,
   "metadata": {
    "scrolled": true
   },
   "outputs": [
    {
     "name": "stdout",
     "output_type": "stream",
     "text": [
      "iML1515_1\n",
      "0.0\n",
      "iML1515_2\n",
      "0.0\n",
      "iML1515_3\n",
      "0.0\n",
      "iML1515_4\n",
      "0.0\n",
      "iML1515_5\n",
      "0.0\n",
      "iML1515_6\n",
      "0.0\n",
      "iML1515_7\n",
      "0.8020515134629888\n",
      "iML1515_8\n",
      "0.0\n",
      "iML1515_9\n",
      "0.0\n",
      "iML1515_10\n",
      "0.0\n"
     ]
    }
   ],
   "source": [
    "# checking functionality of the models\n",
    "for i in range(len(e_coli_samples_glc)):\n",
    "    print(list(e_coli_samples_glc.keys())[i])\n",
    "    print(list(e_coli_samples_glc.values())[i].optimize().objective_value)"
   ]
  },
  {
   "cell_type": "code",
   "execution_count": 202,
   "metadata": {},
   "outputs": [
    {
     "name": "stdout",
     "output_type": "stream",
     "text": [
      "iML1515_1\n",
      "[<Reaction IGPDH at 0x7f2fcb8a4af0>]\n",
      "iML1515_2\n",
      "iML1515_3\n",
      "iML1515_4\n",
      "[<Reaction IPPMIa at 0x7f2f8b7b3a90>, <Reaction UAGPT3 at 0x7f2f8b5e8d30>]\n",
      "iML1515_5\n",
      "[<Reaction OMCDC at 0x7f2f39e989a0>]\n",
      "iML1515_6\n",
      "iML1515_7\n",
      "[]\n",
      "iML1515_8\n",
      "[<Reaction PRFGS at 0x7f2f1a8d6a90>]\n",
      "iML1515_9\n",
      "[<Reaction A5PISO at 0x7f2f144352b0>, <Reaction HSTPT at 0x7f2f142e9970>]\n",
      "iML1515_10\n",
      "2min 46s ± 0 ns per loop (mean ± std. dev. of 1 run, 1 loop each)\n"
     ]
    }
   ],
   "source": [
    "%%timeit -n1 -r1\n",
    "# COBRA\n",
    "for x in e_coli_samples_glc:\n",
    "    print(x)\n",
    "    with suppress_stdout():\n",
    "        sol = 0\n",
    "        try:\n",
    "            sol = cobra.flux_analysis.gapfill(e_coli_samples_glc[x], e_coli, demand_reactions=False)\n",
    "        except exceptions.Infeasible:\n",
    "            continue\n",
    "        except RuntimeError:\n",
    "            continue\n",
    "    print(sol[0])"
   ]
  },
  {
   "cell_type": "code",
   "execution_count": 203,
   "metadata": {},
   "outputs": [
    {
     "name": "stdout",
     "output_type": "stream",
     "text": [
      "iML1515_1\n",
      "{'iML1515': [('IGPDH', ['b2022'])]}\n",
      "iML1515_2\n",
      "{'iML1515': [('UPPDC1', ['b3997'])]}\n",
      "iML1515_3\n",
      "{'iML1515': [('Transport reaction: MEOHtex', ['b1377', 'b2215', 'b0241', 'b0929']), ('NNDPR', ['b0109'])]}\n",
      "iML1515_4\n",
      "{'iML1515': [('IPPMIa', ['b0071', 'b0072']), ('UAGPT3', ['b0090'])]}\n",
      "iML1515_5\n",
      "{'iML1515': [('OMCDC', ['s0001'])]}\n",
      "iML1515_6\n",
      "{'iML1515': [('EX_ni2_e', 'Exchange reaction'), ('UAGDP', ['b3730'])]}\n",
      "iML1515_7\n",
      "{'iML1515': []}\n",
      "iML1515_8\n",
      "{'iML1515': [('PRFGS', ['b2557'])]}\n",
      "iML1515_9\n",
      "{'iML1515': [('A5PISO', ['b3197', 'b2708']), ('HSTPT', ['b2021'])]}\n",
      "iML1515_10\n",
      "{'iML1515': [('Transport reaction: CLtex', ['b1377', 'b2215', 'b0241', 'b0929'])]}\n",
      "3min 36s ± 0 ns per loop (mean ± std. dev. of 1 run, 1 loop each)\n"
     ]
    }
   ],
   "source": [
    "%%timeit -n1 -r1\n",
    "# GALLANT\n",
    "for x in e_coli_samples_glc:\n",
    "    print(x)\n",
    "    with suppress_stdout():\n",
    "        sol = homology_gapfilling(e_coli_samples_glc[x], [e_coli], integer_threshold=1e-9,\n",
    "                                  force_exchange=True, force_transport=True)\n",
    "    print(sol[1])"
   ]
  },
  {
   "cell_type": "markdown",
   "metadata": {},
   "source": [
    "#### L. lactis"
   ]
  },
  {
   "cell_type": "code",
   "execution_count": 204,
   "metadata": {},
   "outputs": [
    {
     "name": "stdout",
     "output_type": "stream",
     "text": [
      "iNF517_1\n",
      "None\n",
      "iNF517_2\n",
      "0.0\n",
      "iNF517_3\n",
      "0.0\n",
      "iNF517_4\n",
      "0.0\n",
      "iNF517_5\n",
      "None\n",
      "iNF517_6\n",
      "0.0\n",
      "iNF517_7\n",
      "0.0\n",
      "iNF517_8\n",
      "0.0\n",
      "iNF517_9\n",
      "0.0\n",
      "iNF517_10\n",
      "None\n"
     ]
    }
   ],
   "source": [
    "for i in range(len(l_lactis_samples_glc)):\n",
    "    print(list(l_lactis_samples_glc.keys())[i])\n",
    "    print(list(l_lactis_samples_glc.values())[i].optimize().objective_value)"
   ]
  },
  {
   "cell_type": "code",
   "execution_count": 205,
   "metadata": {},
   "outputs": [
    {
     "name": "stdout",
     "output_type": "stream",
     "text": [
      "iNF517_1\n",
      "[<Reaction ETOHt at 0x7f2ef4a95ac0>]\n",
      "iNF517_2\n",
      "iNF517_3\n",
      "[<Reaction GLUR at 0x7f2f98f1f790>, <Reaction EX_thr__L_e at 0x7f2fbf3e3b50>]\n",
      "iNF517_4\n",
      "[<Reaction FABM2 at 0x7f2f449240d0>]\n",
      "iNF517_5\n",
      "[<Reaction ILEt2r_copy2 at 0x7f2fd3dde940>]\n",
      "iNF517_6\n",
      "[<Reaction DEMAT4 at 0x7f2f1cb69d60>]\n",
      "iNF517_7\n",
      "[<Reaction UAGDP at 0x7f2f22d3d4c0>]\n",
      "iNF517_8\n",
      "[<Reaction EX_ser__L_e at 0x7f2f2c7c90d0>, <Reaction UAGCVT at 0x7f2f2295dd30>]\n",
      "iNF517_9\n",
      "[<Reaction PSCVT at 0x7f2fa14fb910>]\n",
      "iNF517_10\n",
      "[<Reaction UAGPT1 at 0x7f2f0ce54d00>]\n",
      "47.1 s ± 0 ns per loop (mean ± std. dev. of 1 run, 1 loop each)\n"
     ]
    }
   ],
   "source": [
    "%%timeit -n1 -r1\n",
    "# COBRA\n",
    "for x in l_lactis_samples_glc:\n",
    "    print(x)\n",
    "    sol = 0\n",
    "    with suppress_stdout():\n",
    "        try:\n",
    "            sol = cobra.flux_analysis.gapfill(l_lactis_samples_glc[x], l_lactis, demand_reactions=False)\n",
    "        except exceptions.Infeasible:\n",
    "            continue\n",
    "        except RuntimeError:\n",
    "            continue\n",
    "    print(sol[0])"
   ]
  },
  {
   "cell_type": "code",
   "execution_count": 206,
   "metadata": {},
   "outputs": [
    {
     "name": "stdout",
     "output_type": "stream",
     "text": [
      "iNF517_1\n",
      "{'iNF517': [('Transport reaction: ETOHt', []), ('Transport reaction: 4ABZt', [])]}\n",
      "iNF517_2\n",
      "{'iNF517': [('PGGT2', ['LLMG_RS01845', 'LLMG_RS08445', 'LLMG_RS11990', 'LLMG_RS02600']), ('FABM1', [])]}\n",
      "iNF517_3\n",
      "{'iNF517': [('EX_thr__L_e', 'Exchange reaction'), ('GLUR', ['LLMG_RS06010'])]}\n",
      "iNF517_4\n",
      "{'iNF517': [('EX_h2o_e', 'Exchange reaction'), ('FABM2', [])]}\n",
      "iNF517_5\n",
      "{'iNF517': [('Transport reaction: ARGORNt3', ['LLMG_RS11585', 'LLMG_RS11565']), ('Transport reaction: ILEt2r_copy2', ['LLMG_RS03390'])]}\n",
      "iNF517_6\n",
      "{'iNF517': [('DEMAT4', ['LLMG_RS02820'])]}\n",
      "iNF517_7\n",
      "{'iNF517': [('UAGDP', ['LLMG_RS10360'])]}\n",
      "iNF517_8\n",
      "{'iNF517': [('EX_ser__L_e', 'Exchange reaction'), ('UAGCVT', ['LLMG_RS02630', 'LLMG_RS01685'])]}\n",
      "iNF517_9\n",
      "{'iNF517': [('PSCVT', ['LLMG_RS09640'])]}\n",
      "iNF517_10\n",
      "{'iNF517': [('UAGPT1', ['LLMG_RS04660'])]}\n",
      "1min 2s ± 0 ns per loop (mean ± std. dev. of 1 run, 1 loop each)\n"
     ]
    }
   ],
   "source": [
    "%%timeit -n1 -r1\n",
    "# GALLANT\n",
    "for x in l_lactis_samples_glc:\n",
    "    print(x)\n",
    "    with suppress_stdout():\n",
    "        sol = homology_gapfilling(l_lactis_samples_glc[x], [l_lactis], integer_threshold=1e-9,\n",
    "                                  force_exchange=True, force_transport=True)\n",
    "    print(sol[1])"
   ]
  },
  {
   "cell_type": "markdown",
   "metadata": {},
   "source": [
    "#### P. putida"
   ]
  },
  {
   "cell_type": "code",
   "execution_count": 207,
   "metadata": {},
   "outputs": [
    {
     "name": "stdout",
     "output_type": "stream",
     "text": [
      "iJN1463_1\n",
      "0.0\n",
      "iJN1463_2\n",
      "0.0\n",
      "iJN1463_3\n",
      "0.0\n",
      "iJN1463_4\n",
      "0.0\n",
      "iJN1463_5\n",
      "0.0\n",
      "iJN1463_6\n",
      "0.0\n",
      "iJN1463_7\n",
      "0.0\n",
      "iJN1463_8\n",
      "0.5860448916096798\n",
      "iJN1463_9\n",
      "0.0\n",
      "iJN1463_10\n",
      "0.0\n"
     ]
    }
   ],
   "source": [
    "for i in range(len(p_putida_samples_glc)):\n",
    "    print(list(p_putida_samples_glc.keys())[i])\n",
    "    print(list(p_putida_samples_glc.values())[i].optimize().objective_value)"
   ]
  },
  {
   "cell_type": "code",
   "execution_count": 208,
   "metadata": {},
   "outputs": [
    {
     "name": "stdout",
     "output_type": "stream",
     "text": [
      "iJN1463_1\n",
      "iJN1463_2\n",
      "iJN1463_3\n",
      "iJN1463_4\n",
      "iJN1463_5\n",
      "iJN1463_6\n",
      "iJN1463_7\n",
      "iJN1463_8\n",
      "[]\n",
      "iJN1463_9\n",
      "iJN1463_10\n",
      "3min 4s ± 0 ns per loop (mean ± std. dev. of 1 run, 1 loop each)\n"
     ]
    }
   ],
   "source": [
    "%%timeit -n1 -r1\n",
    "# COBRA\n",
    "for x in p_putida_samples_glc:\n",
    "    print(x)\n",
    "    sol = 0\n",
    "    with suppress_stdout():\n",
    "        try:\n",
    "            sol = cobra.flux_analysis.gapfill(p_putida_samples_glc[x], p_putida, demand_reactions=False)\n",
    "        except exceptions.Infeasible:\n",
    "            continue\n",
    "        except RuntimeError:\n",
    "            continue\n",
    "    print(sol[0])"
   ]
  },
  {
   "cell_type": "code",
   "execution_count": 209,
   "metadata": {},
   "outputs": [
    {
     "name": "stdout",
     "output_type": "stream",
     "text": [
      "iJN1463_1\n",
      "{'iJN1463': [('DDPA', ['PP_3080', 'PP_1866', 'PP_2324'])]}\n",
      "iJN1463_2\n",
      "{}\n",
      "iJN1463_3\n",
      "{}\n",
      "iJN1463_4\n",
      "{'iJN1463': [('DHDPS', ['PP_1237'])]}\n",
      "iJN1463_5\n",
      "{'iJN1463': [('EX_so4_e', 'Exchange reaction'), ('GLUPRT', ['PP_2000'])]}\n",
      "iJN1463_6\n",
      "{}\n",
      "iJN1463_7\n",
      "{'iJN1463': [('UAMAS', ['PP_0547', 'PP_1338'])]}\n",
      "iJN1463_8\n",
      "{'iJN1463': []}\n",
      "iJN1463_9\n",
      "{}\n",
      "iJN1463_10\n",
      "{'iJN1463': [('3HAD80', ['PP_1602', 'PP_4174'])]}\n",
      "3min 30s ± 0 ns per loop (mean ± std. dev. of 1 run, 1 loop each)\n"
     ]
    }
   ],
   "source": [
    "%%timeit -n1 -r1\n",
    "# GALLANT\n",
    "for x in p_putida_samples_glc:\n",
    "    print(x)\n",
    "    with suppress_stdout():\n",
    "        sol = homology_gapfilling(p_putida_samples_glc[x], [p_putida], integer_threshold=1e-9,\n",
    "                                  force_exchange=True, force_transport=True)\n",
    "    print(sol[1])"
   ]
  },
  {
   "cell_type": "markdown",
   "metadata": {},
   "source": [
    "### Test 2b: removal of 2 reactions (ribose)"
   ]
  },
  {
   "cell_type": "code",
   "execution_count": 210,
   "metadata": {},
   "outputs": [],
   "source": [
    "e_coli_samples_rib = make_model_copies(e_coli_rib)\n",
    "l_lactis_samples_rib = make_model_copies(l_lactis_rib)\n",
    "p_putida_samples_rib = make_model_copies(p_putida_rib)"
   ]
  },
  {
   "cell_type": "code",
   "execution_count": 211,
   "metadata": {},
   "outputs": [
    {
     "name": "stdout",
     "output_type": "stream",
     "text": [
      "['ALAR', 'DHDPRy', 'EX_cu2_e', 'VPAMTr', 'EX_rib__D_e', 'MTHFD', 'COBALT2tpp', 'UPPDC1', 'GLU5K', 'UPP3S', 'FADRx', 'METAT', 'AIRC3', 'MDH', 'ASAD', 'KARA1', 'DHORTS', 'EX_h_e', 'PSERT', 'AICART']\n",
      "['HPPK', 'DHFR', 'DHNPA_1', 'GHMT2r', 'TYRTA_copy2', 'UGLDDS1', 'LPGS_LLA', 'GUAPRT', 'PRPPS', 'DHAD1', 'PHEt2r', 'BIOMASS_LLA', 'PRAIi', 'DHQS', 'UDCPDP', 'FOLD3', 'EX_ile__L_e', 'CYTK2', 'NDPK7', 'EX_nh4_e']\n",
      "['I2FE2ST', 'LPSALAT', 'PG181abcpp', 'FEROpp', 'MECDPDH5', '3HAD161', 'EGMEACPR', 'PSD140', 'INDOLEtex', 'LPSGTR2_kt', 'DXPS', 'PIt2rpp', 'AGPR', 'KAT26', 'RPE', 'FMNRx2_copy1', 'FRDO6r', 'AMAOTr', 'DABAAT2', 'RZ5PP']\n"
     ]
    },
    {
     "data": {
      "text/plain": [
       "{'iJN1463_1': <Model iJN1463 at 0x7f2f75cbe610>,\n",
       " 'iJN1463_2': <Model iJN1463 at 0x7f2fd79887f0>,\n",
       " 'iJN1463_3': <Model iJN1463 at 0x7f3034a1cf70>,\n",
       " 'iJN1463_4': <Model iJN1463 at 0x7f2ff6825c70>,\n",
       " 'iJN1463_5': <Model iJN1463 at 0x7f2fe77dcee0>,\n",
       " 'iJN1463_6': <Model iJN1463 at 0x7f3036e75220>,\n",
       " 'iJN1463_7': <Model iJN1463 at 0x7f2f687bd040>,\n",
       " 'iJN1463_8': <Model iJN1463 at 0x7f2ed68ee040>,\n",
       " 'iJN1463_9': <Model iJN1463 at 0x7f3101c7cf40>,\n",
       " 'iJN1463_10': <Model iJN1463 at 0x7f2f1f5dd2b0>}"
      ]
     },
     "execution_count": 211,
     "metadata": {},
     "output_type": "execute_result"
    }
   ],
   "source": [
    "remove_random_reaction(e_coli_rib, e_coli_samples_rib, reactions_list=e_coli_rib_r_ids, n=2)\n",
    "remove_random_reaction(l_lactis_rib, l_lactis_samples_rib, reactions_list=l_lactis_rib_r_ids, n=2)\n",
    "remove_random_reaction(p_putida_rib, p_putida_samples_rib, reactions_list=p_putida_rib_r_ids, n=2)"
   ]
  },
  {
   "cell_type": "markdown",
   "metadata": {},
   "source": [
    "#### E. coli"
   ]
  },
  {
   "cell_type": "code",
   "execution_count": 212,
   "metadata": {},
   "outputs": [
    {
     "name": "stdout",
     "output_type": "stream",
     "text": [
      "iML1515_1\n",
      "0.0\n",
      "iML1515_2\n",
      "0.0\n",
      "iML1515_3\n",
      "None\n",
      "iML1515_4\n",
      "0.0\n",
      "iML1515_5\n",
      "0.0\n",
      "iML1515_6\n",
      "0.0\n",
      "iML1515_7\n",
      "0.0\n",
      "iML1515_8\n",
      "0.0\n",
      "iML1515_9\n",
      "0.0\n",
      "iML1515_10\n",
      "0.0\n"
     ]
    }
   ],
   "source": [
    "# checking functionality of the models\n",
    "for i in range(len(e_coli_samples_rib)):\n",
    "    print(list(e_coli_samples_rib.keys())[i])\n",
    "    print(list(e_coli_samples_rib.values())[i].optimize().objective_value)"
   ]
  },
  {
   "cell_type": "code",
   "execution_count": 213,
   "metadata": {},
   "outputs": [
    {
     "name": "stdout",
     "output_type": "stream",
     "text": [
      "iML1515_1\n",
      "[<Reaction ALAR at 0x7f2f29a035b0>, <Reaction DHDPRy at 0x7f2ecc2c40a0>]\n",
      "iML1515_2\n",
      "iML1515_3\n",
      "[<Reaction EX_rib__D_e at 0x7f2f1f221220>]\n",
      "iML1515_4\n",
      "iML1515_5\n",
      "iML1515_6\n",
      "iML1515_7\n",
      "[<Reaction AIRC3 at 0x7f2eebf33f70>]\n",
      "iML1515_8\n",
      "[<Reaction KARA1 at 0x7f2ed1028880>, <Reaction ASAD at 0x7f2ed1005760>]\n",
      "iML1515_9\n",
      "[<Reaction DHORTS at 0x7f2ec3067970>]\n",
      "iML1515_10\n",
      "[<Reaction AICART at 0x7f2ebca2c8e0>]\n",
      "2min 41s ± 0 ns per loop (mean ± std. dev. of 1 run, 1 loop each)\n"
     ]
    }
   ],
   "source": [
    "%%timeit -n1 -r1\n",
    "# COBRA\n",
    "for x in e_coli_samples_rib:\n",
    "    print(x)\n",
    "    with suppress_stdout():\n",
    "        sol = 0\n",
    "        try:\n",
    "            sol = cobra.flux_analysis.gapfill(e_coli_samples_rib[x], e_coli_rib, demand_reactions=False)\n",
    "        except exceptions.Infeasible:\n",
    "            continue\n",
    "        except RuntimeError:\n",
    "            continue\n",
    "    print(sol[0])"
   ]
  },
  {
   "cell_type": "code",
   "execution_count": 214,
   "metadata": {},
   "outputs": [
    {
     "name": "stdout",
     "output_type": "stream",
     "text": [
      "iML1515_1\n",
      "{'iML1515': [('ALAR', ['b4053', 'b1190']), ('DHDPRy', ['b0031'])]}\n",
      "iML1515_2\n",
      "{'iML1515': [('EX_cu2_e', 'Exchange reaction')]}\n",
      "iML1515_3\n",
      "{'iML1515': [('EX_rib__D_e', 'Exchange reaction')]}\n",
      "iML1515_4\n",
      "{'iML1515': [('Transport reaction: COBALT2tpp', ['b3040', 'b3816']), ('UPPDC1', ['b3997'])]}\n",
      "iML1515_5\n",
      "{'iML1515': [('UPP3S', ['b3804']), ('GLU5K', ['b0242'])]}\n",
      "iML1515_6\n",
      "{'iML1515': [('METAT', ['b2942'])]}\n",
      "iML1515_7\n",
      "{'iML1515': [('AIRC3', ['b0523'])]}\n",
      "iML1515_8\n",
      "{'iML1515': [('KARA1', ['b3774']), ('ASAD', ['b3433'])]}\n",
      "iML1515_9\n",
      "{'iML1515': [('EX_h_e', 'Exchange reaction'), ('DHORTS', ['b1062'])]}\n",
      "iML1515_10\n",
      "{'iML1515': [('AICART', ['b4006'])]}\n",
      "3min 39s ± 0 ns per loop (mean ± std. dev. of 1 run, 1 loop each)\n"
     ]
    }
   ],
   "source": [
    "%%timeit -n1 -r1\n",
    "# GALLANT\n",
    "for x in e_coli_samples_rib:\n",
    "    print(x)\n",
    "    with suppress_stdout():\n",
    "        sol = homology_gapfilling(e_coli_samples_rib[x], [e_coli_rib], integer_threshold=1e-9,\n",
    "                                  force_exchange=True, force_transport=True)\n",
    "    print(sol[1])"
   ]
  },
  {
   "cell_type": "markdown",
   "metadata": {},
   "source": [
    "#### L. lactis"
   ]
  },
  {
   "cell_type": "code",
   "execution_count": 215,
   "metadata": {},
   "outputs": [
    {
     "name": "stdout",
     "output_type": "stream",
     "text": [
      "iNF517_1\n",
      "0.0\n",
      "iNF517_2\n",
      "0.0\n",
      "iNF517_3\n",
      "0.0\n",
      "iNF517_4\n",
      "0.0\n",
      "iNF517_5\n",
      "0.0\n",
      "iNF517_6\n",
      "0.0\n",
      "iNF517_7\n",
      "0.0\n",
      "iNF517_8\n",
      "0.0\n",
      "iNF517_9\n",
      "0.0\n",
      "iNF517_10\n",
      "0.1606519698143803\n"
     ]
    }
   ],
   "source": [
    "# checking functionality of the models\n",
    "for i in range(len(l_lactis_samples_rib)):\n",
    "    print(list(l_lactis_samples_rib.keys())[i])\n",
    "    print(list(l_lactis_samples_rib.values())[i].optimize().objective_value)"
   ]
  },
  {
   "cell_type": "code",
   "execution_count": 216,
   "metadata": {},
   "outputs": [
    {
     "name": "stdout",
     "output_type": "stream",
     "text": [
      "iNF517_1\n",
      "iNF517_2\n",
      "iNF517_3\n",
      "[<Reaction UGLDDS1 at 0x7f2f19261af0>]\n",
      "iNF517_4\n",
      "iNF517_5\n",
      "[<Reaction PRPPS at 0x7f2edb815880>]\n",
      "iNF517_6\n",
      "iNF517_7\n",
      "[<Reaction DHQS at 0x7f2ea1db1040>, <Reaction PRAIi at 0x7f2ebea9d040>]\n",
      "iNF517_8\n",
      "iNF517_9\n",
      "[<Reaction CYTK2 at 0x7f2ebba65400>, <Reaction EX_ile__L_e at 0x7f2ed9bb4e20>]\n",
      "iNF517_10\n",
      "[]\n",
      "47.4 s ± 0 ns per loop (mean ± std. dev. of 1 run, 1 loop each)\n"
     ]
    }
   ],
   "source": [
    "%%timeit -n1 -r1\n",
    "# COBRA\n",
    "for x in l_lactis_samples_rib:\n",
    "    print(x)\n",
    "    with suppress_stdout():\n",
    "        sol = 0\n",
    "        try:\n",
    "            sol = cobra.flux_analysis.gapfill(l_lactis_samples_rib[x], l_lactis_rib, demand_reactions=False)\n",
    "        except exceptions.Infeasible:\n",
    "            continue\n",
    "        except RuntimeError:\n",
    "            continue\n",
    "    print(sol[0])"
   ]
  },
  {
   "cell_type": "code",
   "execution_count": 217,
   "metadata": {},
   "outputs": [
    {
     "name": "stdout",
     "output_type": "stream",
     "text": [
      "iNF517_1\n",
      "{}\n",
      "iNF517_2\n",
      "{}\n",
      "iNF517_3\n",
      "{'iNF517': [('UGLDDS1', ['LLMG_RS01860'])]}\n",
      "iNF517_4\n",
      "{'iNF517': [('LPGS_LLA', [])]}\n",
      "iNF517_5\n",
      "{'iNF517': [('PRPPS', ['LLMG_RS08760', 'LLMG_RS10225'])]}\n",
      "iNF517_6\n",
      "{}\n",
      "iNF517_7\n",
      "{'iNF517': [('DHQS', ['LLMG_RS09700']), ('PRAIi', ['LLMG_RS05270'])]}\n",
      "iNF517_8\n",
      "{}\n",
      "iNF517_9\n",
      "{'iNF517': [('EX_ile__L_e', 'Exchange reaction'), ('CYTK2', ['LLMG_RS03780'])]}\n",
      "iNF517_10\n",
      "{'iNF517': [('EX_nh4_e', 'Exchange reaction')]}\n",
      "57.5 s ± 0 ns per loop (mean ± std. dev. of 1 run, 1 loop each)\n"
     ]
    }
   ],
   "source": [
    "%%timeit -n1 -r1\n",
    "# GALLANT\n",
    "for x in l_lactis_samples_rib:\n",
    "    print(x)\n",
    "    with suppress_stdout():\n",
    "        sol = homology_gapfilling(l_lactis_samples_rib[x], [l_lactis_rib], integer_threshold=1e-9,\n",
    "                                  force_exchange=True, force_transport=True)\n",
    "    print(sol[1])"
   ]
  },
  {
   "cell_type": "markdown",
   "metadata": {},
   "source": [
    "#### P.putida"
   ]
  },
  {
   "cell_type": "code",
   "execution_count": 218,
   "metadata": {},
   "outputs": [
    {
     "name": "stdout",
     "output_type": "stream",
     "text": [
      "iJN1463_1\n",
      "0.0\n",
      "iJN1463_2\n",
      "0.0\n",
      "iJN1463_3\n",
      "0.0\n",
      "iJN1463_4\n",
      "0.0\n",
      "iJN1463_5\n",
      "0.0\n",
      "iJN1463_6\n",
      "0.0\n",
      "iJN1463_7\n",
      "0.0\n",
      "iJN1463_8\n",
      "0.5289571570684432\n",
      "iJN1463_9\n",
      "0.0\n",
      "iJN1463_10\n",
      "0.0\n"
     ]
    }
   ],
   "source": [
    "# checking functionality of the models\n",
    "for i in range(len(p_putida_samples_rib)):\n",
    "    print(list(p_putida_samples_rib.keys())[i])\n",
    "    print(list(p_putida_samples_rib.values())[i].optimize().objective_value)"
   ]
  },
  {
   "cell_type": "code",
   "execution_count": 219,
   "metadata": {},
   "outputs": [
    {
     "name": "stdout",
     "output_type": "stream",
     "text": [
      "iJN1463_1\n",
      "iJN1463_2\n",
      "iJN1463_3\n",
      "iJN1463_4\n",
      "iJN1463_5\n",
      "iJN1463_6\n",
      "iJN1463_7\n",
      "iJN1463_8\n",
      "[]\n",
      "iJN1463_9\n",
      "iJN1463_10\n",
      "2min 59s ± 0 ns per loop (mean ± std. dev. of 1 run, 1 loop each)\n"
     ]
    }
   ],
   "source": [
    "%%timeit -n1 -r1\n",
    "# COBRA\n",
    "for x in p_putida_samples_rib:\n",
    "    print(x)\n",
    "    with suppress_stdout():\n",
    "        sol = 0\n",
    "        try:\n",
    "            sol = cobra.flux_analysis.gapfill(p_putida_samples_rib[x], p_putida_rib, demand_reactions=False)\n",
    "        except exceptions.Infeasible:\n",
    "            continue\n",
    "        except RuntimeError:\n",
    "            continue\n",
    "    print(sol[0])"
   ]
  },
  {
   "cell_type": "code",
   "execution_count": 220,
   "metadata": {},
   "outputs": [
    {
     "name": "stdout",
     "output_type": "stream",
     "text": [
      "iJN1463_1\n",
      "{}\n",
      "iJN1463_2\n",
      "{}\n",
      "iJN1463_3\n",
      "{}\n",
      "iJN1463_4\n",
      "{}\n",
      "iJN1463_5\n",
      "{}\n",
      "iJN1463_6\n",
      "{}\n",
      "iJN1463_7\n",
      "{'iJN1463': [('AGPR', ['PP_0432', 'PP_3633'])]}\n",
      "iJN1463_8\n",
      "{'iJN1463': []}\n",
      "iJN1463_9\n",
      "{}\n",
      "iJN1463_10\n",
      "{}\n",
      "3min 8s ± 0 ns per loop (mean ± std. dev. of 1 run, 1 loop each)\n"
     ]
    }
   ],
   "source": [
    "%%timeit -n1 -r1\n",
    "# GALLANT\n",
    "for x in p_putida_samples_rib:\n",
    "    print(x)\n",
    "    with suppress_stdout():\n",
    "        sol = homology_gapfilling(p_putida_samples_rib[x], [p_putida_rib], integer_threshold=1e-9,\n",
    "                                  force_exchange=True, force_transport=True)\n",
    "    print(sol[1])"
   ]
  },
  {
   "cell_type": "markdown",
   "metadata": {},
   "source": [
    "### Test 3a: removal of 5 reactions (glucose)"
   ]
  },
  {
   "cell_type": "code",
   "execution_count": 221,
   "metadata": {},
   "outputs": [],
   "source": [
    "e_coli_samples_glc = make_model_copies(e_coli)\n",
    "l_lactis_samples_glc = make_model_copies(l_lactis)\n",
    "p_putida_samples_glc = make_model_copies(p_putida)"
   ]
  },
  {
   "cell_type": "code",
   "execution_count": 222,
   "metadata": {},
   "outputs": [
    {
     "name": "stdout",
     "output_type": "stream",
     "text": [
      "['ADCL', 'IGPS', 'ASNS2', 'Kt2pp', 'DNTPPA', 'HACD5', 'ACOAD3f', 'AHCYSNS', 'PGK', 'NADS1', 'CU2tex', 'ACALD', 'DAPE', 'EX_meoh_e', 'UAGPT3', 'COBALT2tpp', 'SHK3Dr', 'MDH', 'MOBDtex', 'DHORTS', 'SULR', 'DASYN161', 'MG2tex', 'AI2K', 'EX_so4_e', 'OPMEACPD', 'CYTK1', 'CPPPGO', 'THRS', 'CLt3_2pp', 'MECDPDH5', 'IMPC', 'USHD', 'I2FE2ST', 'PPM', 'EX_mobd_e', 'DNMPPA', 'ECOAH1', 'GAPD', 'MEOHtex', 'OPMEACPR', 'HCO3E', 'AIRC2', 'PGM', 'TKT1', 'ECOAH5', 'ANS', 'MCTP1App', 'DHFR', 'U23GAAT']\n",
      "['EX_thr__L_e', 'HDDR5', 'PROt3', 'ADEt2', 'HDER4', 'ACTD', 'HDDHL5', 'ALATA_L', 'HISt2r', 'KARA2', 'DDMAT5', 'DPMVD', 'UAGCVT', 'MCMAT2', '2MBALDt', 'EX_cys__L_e', 'TYRTA_copy1', 'DALTAL_LLA', 'CTPS1', 'HOCR3', 'NDPK1', 'UGLDDS1', 'HHYHL2', 'ABUTt2r', 'PGMT', 'HBUHL1', 'ACACT1r', 'aratry2', 'ILEt2r_copy2', 'EX_met__L_e', 'araphe2', 'NADS1', 'FORt2', 'PFL', 'UAMAGS', 'THRA', 'EX_pro__L_e', 'G6PDH2r', 'GLUDC', 'IGPS', 'EX_ac_e', 'GUAPRT', 'RNAS_LLA', 'unkFol', 'ASNTRS_1', 'TRPS1', 'HTDHL6', 'FBA', 'GLNTRS2', 'HPPK']\n",
      "['H2CO3D2', 'IPMD', 'BDH', 'HCO3E', '3OAS181', 'ADCPS1', 'NAt3pp_copy1', 'APPLDHr', 'DM_tripeptide_c', 'DASYN161', 'HEPCT', 'ADK1', 'DLYSOXGAT', 'PMDPHT', 'DHFR', 'RNDR1', 'CLPNS140pp', '3OAR161', 'DMQMT', '3OAR121', 'PC17M', 'OHPHM', 'PG181abcpp', 'DPR', '3HAD140', '3HAACOAT140', '3PQQS', 'OMBZLM', 'UACGAMDH2', 'OXCOAHDH', 'PERD', 'ADOCBLS', 'ARGSL', 'GLUTRS', 'PGK', 'FE3abcpp', 'OPHBDC', 'PSD180', 'PQQAC', 'GARFT', 'DASYN181', 'EX_cu2_e', 'PGPP140', 'EX_ca2_e', 'PSCVT_copy1', 'I2FE2ST', 'CDPMEK', 'PPND', 'THRA', 'AGPAT161']\n"
     ]
    },
    {
     "data": {
      "text/plain": [
       "{'iJN1463_1': <Model iJN1463 at 0x7f2e803554c0>,\n",
       " 'iJN1463_2': <Model iJN1463 at 0x7f2e920b5a60>,\n",
       " 'iJN1463_3': <Model iJN1463 at 0x7f2eb5832a30>,\n",
       " 'iJN1463_4': <Model iJN1463 at 0x7f2e9daae310>,\n",
       " 'iJN1463_5': <Model iJN1463 at 0x7f2e95244220>,\n",
       " 'iJN1463_6': <Model iJN1463 at 0x7f2ef0804310>,\n",
       " 'iJN1463_7': <Model iJN1463 at 0x7f2ea9eeaf10>,\n",
       " 'iJN1463_8': <Model iJN1463 at 0x7f2ea65f27c0>,\n",
       " 'iJN1463_9': <Model iJN1463 at 0x7f2ebf1d3e20>,\n",
       " 'iJN1463_10': <Model iJN1463 at 0x7f2e94d3f700>}"
      ]
     },
     "execution_count": 222,
     "metadata": {},
     "output_type": "execute_result"
    }
   ],
   "source": [
    "remove_random_reaction(e_coli, e_coli_samples_glc, reactions_list=e_coli_glc_r_ids, n=5)\n",
    "remove_random_reaction(l_lactis, l_lactis_samples_glc, reactions_list=l_lactis_glc_r_ids, n=5)\n",
    "remove_random_reaction(p_putida, p_putida_samples_glc, reactions_list=p_putida_glc_r_ids, n=5)"
   ]
  },
  {
   "cell_type": "markdown",
   "metadata": {},
   "source": [
    "#### E. coli"
   ]
  },
  {
   "cell_type": "code",
   "execution_count": 223,
   "metadata": {},
   "outputs": [
    {
     "name": "stdout",
     "output_type": "stream",
     "text": [
      "iML1515_1\n",
      "0.0\n",
      "iML1515_2\n",
      "3.1544694820851962e-12\n",
      "iML1515_3\n",
      "0.0\n",
      "iML1515_4\n",
      "0.0\n",
      "iML1515_5\n",
      "0.0\n",
      "iML1515_6\n",
      "0.0\n",
      "iML1515_7\n",
      "0.0\n",
      "iML1515_8\n",
      "0.0\n",
      "iML1515_9\n",
      "0.0\n",
      "iML1515_10\n",
      "0.0\n"
     ]
    }
   ],
   "source": [
    "for i in range(len(e_coli_samples_glc)):\n",
    "    print(list(e_coli_samples_glc.keys())[i])\n",
    "    print(list(e_coli_samples_glc.values())[i].optimize().objective_value)"
   ]
  },
  {
   "cell_type": "code",
   "execution_count": 224,
   "metadata": {},
   "outputs": [
    {
     "name": "stdout",
     "output_type": "stream",
     "text": [
      "iML1515_1\n",
      "iML1515_2\n",
      "iML1515_3\n",
      "iML1515_4\n",
      "iML1515_5\n",
      "iML1515_6\n",
      "iML1515_7\n",
      "iML1515_8\n",
      "iML1515_9\n",
      "iML1515_10\n",
      "[<Reaction ANS at 0x7f2e6b35cdf0>, <Reaction U23GAAT at 0x7f2e6b2e0c70>, <Reaction DHFR at 0x7f2e6b1ab700>, <Reaction MCTP1App at 0x7f2e6b1328e0>]\n",
      "2min 48s ± 0 ns per loop (mean ± std. dev. of 1 run, 1 loop each)\n"
     ]
    }
   ],
   "source": [
    "%%timeit -n1 -r1\n",
    "# COBRA\n",
    "for x in e_coli_samples_glc:\n",
    "    print(x)\n",
    "    with suppress_stdout():\n",
    "        sol = 0\n",
    "        try:\n",
    "            sol = cobra.flux_analysis.gapfill(e_coli_samples_glc[x], e_coli, demand_reactions=False)\n",
    "        except exceptions.Infeasible:\n",
    "            continue\n",
    "        except RuntimeError:\n",
    "            continue\n",
    "    print(sol[0])"
   ]
  },
  {
   "cell_type": "code",
   "execution_count": null,
   "metadata": {},
   "outputs": [],
   "source": [
    "%%timeit -n1 -r1\n",
    "# GALLANT\n",
    "for x in e_coli_samples_glc:\n",
    "    print(x)\n",
    "    with suppress_stdout():\n",
    "        sol = homology_gapfilling(e_coli_samples_glc[x], [e_coli], integer_threshold=1e-9,\n",
    "                                  force_exchange=True, force_transport=True)\n",
    "    print(sol[1])"
   ]
  },
  {
   "cell_type": "markdown",
   "metadata": {},
   "source": [
    "#### L. lactis"
   ]
  },
  {
   "cell_type": "code",
   "execution_count": 226,
   "metadata": {},
   "outputs": [
    {
     "name": "stdout",
     "output_type": "stream",
     "text": [
      "iNF517_1\n",
      "None\n",
      "iNF517_2\n",
      "0.0\n",
      "iNF517_3\n",
      "0.0\n",
      "iNF517_4\n",
      "0.0\n",
      "iNF517_5\n",
      "0.0\n",
      "iNF517_6\n",
      "None\n",
      "iNF517_7\n",
      "None\n",
      "iNF517_8\n",
      "0.0\n",
      "iNF517_9\n",
      "0.0\n",
      "iNF517_10\n",
      "0.0\n"
     ]
    }
   ],
   "source": [
    "for i in range(len(l_lactis_samples_glc)):\n",
    "    print(list(l_lactis_samples_glc.keys())[i])\n",
    "    print(list(l_lactis_samples_glc.values())[i].optimize().objective_value)"
   ]
  },
  {
   "cell_type": "code",
   "execution_count": 227,
   "metadata": {},
   "outputs": [
    {
     "name": "stdout",
     "output_type": "stream",
     "text": [
      "iNF517_1\n",
      "[<Reaction HDDR5 at 0x7f2e534389a0>, <Reaction HDER4 at 0x7f2e53438be0>, <Reaction PROt3 at 0x7f2e53519430>, <Reaction EX_thr__L_e at 0x7f2e53519d00>]\n",
      "iNF517_2\n",
      "[<Reaction HDDHL5 at 0x7f2ecba72e20>]\n",
      "iNF517_3\n",
      "iNF517_4\n",
      "iNF517_5\n",
      "[<Reaction NDPK1 at 0x7f2e7516ed60>, <Reaction PGMT at 0x7f2e7516e250>, <Reaction UGLDDS1 at 0x7f2e7a57f3a0>, <Reaction HHYHL2 at 0x7f2e7a57f880>]\n",
      "iNF517_6\n",
      "iNF517_7\n",
      "iNF517_8\n",
      "[<Reaction IGPS at 0x7f2eadecea30>, <Reaction EX_pro__L_e at 0x7f2fb8ca07f0>]\n",
      "iNF517_9\n",
      "iNF517_10\n",
      "46.2 s ± 0 ns per loop (mean ± std. dev. of 1 run, 1 loop each)\n"
     ]
    }
   ],
   "source": [
    "%%timeit -n1 -r1\n",
    "# COBRA\n",
    "for x in l_lactis_samples_glc:\n",
    "    print(x)\n",
    "    sol = 0\n",
    "    with suppress_stdout():\n",
    "        try:\n",
    "            sol = cobra.flux_analysis.gapfill(l_lactis_samples_glc[x], l_lactis, demand_reactions=False)\n",
    "        except exceptions.Infeasible:\n",
    "            continue\n",
    "        except RuntimeError:\n",
    "            continue\n",
    "    print(sol[0])"
   ]
  },
  {
   "cell_type": "code",
   "execution_count": 228,
   "metadata": {},
   "outputs": [
    {
     "name": "stdout",
     "output_type": "stream",
     "text": [
      "iNF517_1\n",
      "{'iNF517': [('EX_thr__L_e', 'Exchange reaction'), ('Transport reaction: ADEt2', []), ('Transport reaction: PROt3', []), ('HDDR5', ['LLMG_RS08950']), ('HDER4', ['LLMG_RS08950'])]}\n",
      "iNF517_2\n",
      "{'iNF517': [('Transport reaction: HISt2r', []), ('HDDHL5', ['LLMG_RS08935', 'LLMG_RS02815'])]}\n",
      "iNF517_3\n",
      "{'iNF517': [('Transport reaction: 2MBALDt', []), ('DDMAT5', ['LLMG_RS02820']), ('DPMVD', ['LLMG_RS02175']), ('MCMAT2', ['LLMG_RS08945']), ('UAGCVT', ['LLMG_RS02630', 'LLMG_RS01685'])]}\n",
      "iNF517_4\n",
      "{'iNF517': [('EX_cys__L_e', 'Exchange reaction'), ('DALTAL_LLA', ['LLMG_RS06175', 'LLMG_RS06165', 'LLMG_RS06170', 'LLMG_RS06160']), ('HOCR3', ['LLMG_RS08950'])]}\n",
      "iNF517_5\n",
      "{'iNF517': [('Transport reaction: ABUTt2r', []), ('NDPK1', ['LLMG_RS05685']), ('PGMT', ['LLMG_RS02290']), ('UGLDDS1', ['LLMG_RS01860']), ('HHYHL2', ['LLMG_RS08935', 'LLMG_RS02815'])]}\n",
      "iNF517_6\n",
      "{'iNF517': [('EX_met__L_e', 'Exchange reaction'), ('Transport reaction: ILEt2r_copy2', ['LLMG_RS03390']), ('ACACT1r', ['LLMG_RS04745']), ('HBUHL1', ['LLMG_RS08935', 'LLMG_RS02815'])]}\n",
      "iNF517_7\n",
      "{'iNF517': [('Transport reaction: FORt2', []), ('NADS1', ['LLMG_RS07415']), ('PFL', ['LLMG_RS10005', 'LLMG_RS03285']), ('UAMAGS', ['LLMG_RS04655'])]}\n",
      "iNF517_8\n",
      "{'iNF517': [('EX_pro__L_e', 'Exchange reaction'), ('IGPS', ['LLMG_RS05265'])]}\n",
      "iNF517_9\n",
      "{}\n",
      "iNF517_10\n",
      "{}\n",
      "58.9 s ± 0 ns per loop (mean ± std. dev. of 1 run, 1 loop each)\n"
     ]
    }
   ],
   "source": [
    "%%timeit -n1 -r1\n",
    "# GALLANT\n",
    "for x in l_lactis_samples_glc:\n",
    "    print(x)\n",
    "    with suppress_stdout():\n",
    "        sol = homology_gapfilling(l_lactis_samples_glc[x], [l_lactis], integer_threshold=1e-9,\n",
    "                                  force_exchange=True, force_transport=True)\n",
    "    print(sol[1])"
   ]
  },
  {
   "cell_type": "markdown",
   "metadata": {},
   "source": [
    "#### P. putida"
   ]
  },
  {
   "cell_type": "code",
   "execution_count": 229,
   "metadata": {},
   "outputs": [
    {
     "name": "stdout",
     "output_type": "stream",
     "text": [
      "iJN1463_1\n",
      "0.0\n",
      "iJN1463_2\n",
      "0.0\n",
      "iJN1463_3\n",
      "0.0\n",
      "iJN1463_4\n",
      "0.0\n",
      "iJN1463_5\n",
      "0.0\n",
      "iJN1463_6\n",
      "0.0\n",
      "iJN1463_7\n",
      "0.0\n",
      "iJN1463_8\n",
      "0.0\n",
      "iJN1463_9\n",
      "0.0\n",
      "iJN1463_10\n",
      "0.0\n"
     ]
    }
   ],
   "source": [
    "for i in range(len(p_putida_samples_glc)):\n",
    "    print(list(p_putida_samples_glc.keys())[i])\n",
    "    print(list(p_putida_samples_glc.values())[i].optimize().objective_value)"
   ]
  },
  {
   "cell_type": "code",
   "execution_count": 230,
   "metadata": {},
   "outputs": [
    {
     "name": "stdout",
     "output_type": "stream",
     "text": [
      "iJN1463_1\n",
      "iJN1463_2\n",
      "iJN1463_3\n",
      "iJN1463_4\n",
      "iJN1463_5\n",
      "iJN1463_6\n",
      "iJN1463_7\n",
      "iJN1463_8\n",
      "iJN1463_9\n",
      "iJN1463_10\n",
      "2min 58s ± 0 ns per loop (mean ± std. dev. of 1 run, 1 loop each)\n"
     ]
    }
   ],
   "source": [
    "%%timeit -n1 -r1\n",
    "# COBRA\n",
    "for x in p_putida_samples_glc:\n",
    "    print(x)\n",
    "    sol = 0\n",
    "    with suppress_stdout():\n",
    "        try:\n",
    "            sol = cobra.flux_analysis.gapfill(p_putida_samples_glc[x], p_putida, demand_reactions=False)\n",
    "        except exceptions.Infeasible:\n",
    "            continue\n",
    "        except RuntimeError:\n",
    "            continue\n",
    "    print(sol[0])"
   ]
  },
  {
   "cell_type": "code",
   "execution_count": 231,
   "metadata": {},
   "outputs": [
    {
     "name": "stdout",
     "output_type": "stream",
     "text": [
      "iJN1463_1\n",
      "{'iJN1463': [('IPMD', ['PP_1988']), ('3OAS181', ['PP_4175'])]}\n",
      "iJN1463_2\n",
      "{}\n",
      "iJN1463_3\n",
      "{}\n",
      "iJN1463_4\n",
      "{}\n",
      "iJN1463_5\n",
      "{}\n",
      "iJN1463_6\n",
      "{}\n",
      "iJN1463_7\n",
      "{}\n",
      "iJN1463_8\n",
      "{}\n",
      "iJN1463_9\n",
      "{}\n",
      "iJN1463_10\n",
      "{}\n",
      "3min 6s ± 0 ns per loop (mean ± std. dev. of 1 run, 1 loop each)\n"
     ]
    }
   ],
   "source": [
    "%%timeit -n1 -r1\n",
    "# GALLANT\n",
    "for x in p_putida_samples_glc:\n",
    "    print(x)\n",
    "    with suppress_stdout():\n",
    "        sol = homology_gapfilling(p_putida_samples_glc[x], [p_putida], integer_threshold=1e-9,\n",
    "                                  force_exchange=True, force_transport=True)\n",
    "    print(sol[1])"
   ]
  },
  {
   "cell_type": "markdown",
   "metadata": {},
   "source": [
    "### Test 3b: removal of 5 reactions (ribose)"
   ]
  },
  {
   "cell_type": "code",
   "execution_count": 232,
   "metadata": {},
   "outputs": [],
   "source": [
    "e_coli_samples_rib = make_model_copies(e_coli_rib)\n",
    "l_lactis_samples_rib = make_model_copies(l_lactis_rib)\n",
    "p_putida_samples_rib = make_model_copies(p_putida_rib)"
   ]
  },
  {
   "cell_type": "code",
   "execution_count": 233,
   "metadata": {},
   "outputs": [
    {
     "name": "stdout",
     "output_type": "stream",
     "text": [
      "['PSD160', 'COBALT2tex', 'MPTG', 'PNTK', 'ADSS', 'MOAT2', 'OPMEACPD', 'OPHBDC', 'DALAt2pp', 'DGK1', 'U23GAAT', 'SHCHD2', 'RPE', 'ACOAD2f', 'Zn2tex', 'DHAD1', 'VALTA', 'ECOAH2', 'GLNS', 'DHFR', 'FUM', 'COBALT2tpp', 'UAMAS', 'MG2tex', 'SO4t2pp', 'I2FE2SS2', 'ASNS2', 'TMPK', 'HSST', 'NNATr', 'PMEACPE', 'DPCOAK', 'FESR', 'GF6PTA', 'RBFSa', 'GMPS', 'LEUTAi', 'IGPS', 'MALCOAMT', 'OHPBAT', 'ICYSDS', 'ATPM', 'MNtex', 'G1SAT', 'F6PA', 'SUCCt1pp', 'CHRPL', 'ACOAD5f', 'ACLS', 'ASAD']\n",
      "['TRPTRS_1', 'NAPRT', 'EX_h2s_e', 'LYSt2r', 'INSt2', 'TDPGDH_1', 'UAGCVT', 'CYTK2', 'EX_ile__L_e', 'DRPA', 'GALUi', 'RPE', 'L_LACt2r', 'GUAt2r', 'PGPP_LLA', 'DEMAT4', 'RHCYS', 'ASNTRS_1', 'ASPK', 'METt2r', 'CYTK1', 'GLUTRS_2', 'unkFol', 'EX_glu__L_e', 'ENO', 'ABUTt2r', 'EX_leu__L_e', 'ARGORNt3', 'DIACTt', 'VALTRS_1', 'GAPD', 'HOCR3', 'ALCD2x', '2MBALDt', 'aratry1', 'LEUTRS_1', 'PGGT2', 'TDMAT6', 'GRTT', 'aratyr3', 'EX_arg__L_e', 'LPGS_LLA', 'GK1', 'GLYTRS_1', 'MCMAT3', 'NH3c', 'IGPS', 'BTMAT1', 'araphe1', 'EX_gcald_e']\n",
      "['UDPG4E', 'AKGDb_copy1', 'CYRDAAT', 'UAGDP', 'MOCOS', 'GAPD', 'KDOPP', 'GLYCTO1', 'LLEUDr', 'CLPNS180pp', '3OAR60', 'GTPCII2', 'EX_ni2_e', 'PGPP181', 'ATHRDHr', 'OPHHX', 'AGPAT181', 'IPMD', 'CLt3_2pp', 'HSERTA', 'AHSERL2', 'PMDPHT', 'DB4PS', 'ADCYRS', 'PGSA181', 'THZPSN', 'ASPTA', 'SDPDS', 'DPCOAK', 'G3PD2', 'ADCL', 'PPK', 'IPPMIb', 'PPND', '3OAR161', '3OAS121', 'GLUDxi', 'CU2tpp', 'UAGCVT', 'DHORTS', 'APPLDHr', 'HEMEOS', 'R05217_nad', 'VALDHr', 'G1SAT', 'OPMEACPS', 'HEPK1_kt', 'GLUDy', 'OMPDC', 'TKT1']\n"
     ]
    },
    {
     "data": {
      "text/plain": [
       "{'iJN1463_1': <Model iJN1463 at 0x7f304677f520>,\n",
       " 'iJN1463_2': <Model iJN1463 at 0x7f3056cd04f0>,\n",
       " 'iJN1463_3': <Model iJN1463 at 0x7f2fcf549d90>,\n",
       " 'iJN1463_4': <Model iJN1463 at 0x7f2feaa07760>,\n",
       " 'iJN1463_5': <Model iJN1463 at 0x7f2fecb5a280>,\n",
       " 'iJN1463_6': <Model iJN1463 at 0x7f300f760130>,\n",
       " 'iJN1463_7': <Model iJN1463 at 0x7f30212913a0>,\n",
       " 'iJN1463_8': <Model iJN1463 at 0x7f30209d8280>,\n",
       " 'iJN1463_9': <Model iJN1463 at 0x7f30178ae190>,\n",
       " 'iJN1463_10': <Model iJN1463 at 0x7f2f33f90940>}"
      ]
     },
     "execution_count": 233,
     "metadata": {},
     "output_type": "execute_result"
    }
   ],
   "source": [
    "remove_random_reaction(e_coli_rib, e_coli_samples_rib, reactions_list=e_coli_rib_r_ids, n=5)\n",
    "remove_random_reaction(l_lactis_rib, l_lactis_samples_rib, reactions_list=l_lactis_rib_r_ids, n=5)\n",
    "remove_random_reaction(p_putida_rib, p_putida_samples_rib, reactions_list=p_putida_rib_r_ids, n=5)"
   ]
  },
  {
   "cell_type": "markdown",
   "metadata": {},
   "source": [
    "#### E. coli"
   ]
  },
  {
   "cell_type": "code",
   "execution_count": 234,
   "metadata": {},
   "outputs": [
    {
     "name": "stdout",
     "output_type": "stream",
     "text": [
      "iML1515_1\n",
      "0.0\n",
      "iML1515_2\n",
      "0.0\n",
      "iML1515_3\n",
      "0.0\n",
      "iML1515_4\n",
      "0.0\n",
      "iML1515_5\n",
      "0.0\n",
      "iML1515_6\n",
      "0.0\n",
      "iML1515_7\n",
      "0.0\n",
      "iML1515_8\n",
      "0.0\n",
      "iML1515_9\n",
      "0.0\n",
      "iML1515_10\n",
      "0.0\n"
     ]
    }
   ],
   "source": [
    "for i in range(len(e_coli_samples_rib)):\n",
    "    print(list(e_coli_samples_rib.keys())[i])\n",
    "    print(list(e_coli_samples_rib.values())[i].optimize().objective_value)"
   ]
  },
  {
   "cell_type": "code",
   "execution_count": 235,
   "metadata": {},
   "outputs": [
    {
     "name": "stdout",
     "output_type": "stream",
     "text": [
      "iML1515_1\n",
      "iML1515_2\n",
      "iML1515_3\n",
      "iML1515_4\n",
      "[<Reaction DHAD1 at 0x7f2f2f214880>, <Reaction DHFR at 0x7f2fc5c04c70>, <Reaction GLNS at 0x7f30591de910>]\n",
      "iML1515_5\n",
      "iML1515_6\n",
      "iML1515_7\n",
      "iML1515_8\n",
      "iML1515_9\n",
      "iML1515_10\n",
      "2min 44s ± 0 ns per loop (mean ± std. dev. of 1 run, 1 loop each)\n"
     ]
    }
   ],
   "source": [
    "%%timeit -n1 -r1\n",
    "# COBRA\n",
    "for x in e_coli_samples_rib:\n",
    "    print(x)\n",
    "    with suppress_stdout():\n",
    "        sol = 0\n",
    "        try:\n",
    "            sol = cobra.flux_analysis.gapfill(e_coli_samples_rib[x], e_coli_rib, demand_reactions=False)\n",
    "        except exceptions.Infeasible:\n",
    "            continue\n",
    "        except RuntimeError:\n",
    "            continue\n",
    "    print(sol[0])"
   ]
  },
  {
   "cell_type": "code",
   "execution_count": 236,
   "metadata": {},
   "outputs": [
    {
     "name": "stdout",
     "output_type": "stream",
     "text": [
      "iML1515_1\n",
      "{'iML1515': [('Transport reaction: COBALT2tex', ['b2215', 'b0929', 'b0241', 'b1377']), ('PNTK', ['b3974']), ('ADSS', ['b4177']), ('MPTG', ['b0149', 'b0089', 'b3396', 'b2519', 'b1069', 'b3208']), ('PSD160', ['b4160'])]}\n",
      "iML1515_2\n",
      "{}\n",
      "iML1515_3\n",
      "{'iML1515': [('Transport reaction: Zn2tex', ['b2215', 'b0929', 'b0241', 'b1377']), ('SHCHD2', ['b3368']), ('U23GAAT', ['b0179'])]}\n",
      "iML1515_4\n",
      "{'iML1515': [('DHAD1', ['b3771']), ('DHFR', ['b1606', 'b0048']), ('GLNS', ['b3870'])]}\n",
      "iML1515_5\n",
      "{'iML1515': [('Transport reaction: MG2tex', ['b2215', 'b0929', 'b0241', 'b1377']), ('Transport reaction: SO4t2pp', ['b2413']), ('Transport reaction: COBALT2tpp', ['b3040', 'b3816']), ('UAMAS', ['b0091'])]}\n",
      "iML1515_6\n",
      "{'iML1515': [('HSST', ['b4013']), ('TMPK', ['b0417']), ('NNATr', ['b0639'])]}\n",
      "iML1515_7\n",
      "{}\n",
      "iML1515_8\n",
      "{}\n",
      "iML1515_9\n",
      "{'iML1515': [('Transport reaction: MNtex', ['b2215', 'b0929', 'b0241', 'b1377']), ('G1SAT', ['b0154']), ('ATPM', []), ('ICYSDS', ['b2530'])]}\n",
      "iML1515_10\n",
      "{'iML1515': [('Transport reaction: SUCCt1pp', ['b1206']), ('ACLS', ['b0078', 'b0077', 'b3670', 'b3671']), ('ASAD', ['b3433']), ('CHRPL', ['b1096', 'b4039'])]}\n",
      "3min 27s ± 0 ns per loop (mean ± std. dev. of 1 run, 1 loop each)\n"
     ]
    }
   ],
   "source": [
    "%%timeit -n1 -r1\n",
    "# GALLANT\n",
    "for x in e_coli_samples_rib:\n",
    "    print(x)\n",
    "    with suppress_stdout():\n",
    "        sol = homology_gapfilling(e_coli_samples_rib[x], [e_coli_rib], integer_threshold=1e-9,\n",
    "                                  force_exchange=True, force_transport=True)\n",
    "    print(sol[1])"
   ]
  },
  {
   "cell_type": "markdown",
   "metadata": {},
   "source": [
    "#### L. lactis"
   ]
  },
  {
   "cell_type": "code",
   "execution_count": 237,
   "metadata": {},
   "outputs": [
    {
     "name": "stdout",
     "output_type": "stream",
     "text": [
      "iNF517_1\n",
      "0.0\n",
      "iNF517_2\n",
      "0.0\n",
      "iNF517_3\n",
      "None\n",
      "iNF517_4\n",
      "0.0\n",
      "iNF517_5\n",
      "0.0\n",
      "iNF517_6\n",
      "0.0\n",
      "iNF517_7\n",
      "None\n",
      "iNF517_8\n",
      "0.0\n",
      "iNF517_9\n",
      "0.0\n",
      "iNF517_10\n",
      "None\n"
     ]
    }
   ],
   "source": [
    "for i in range(len(l_lactis_samples_rib)):\n",
    "    print(list(l_lactis_samples_rib.keys())[i])\n",
    "    print(list(l_lactis_samples_rib.values())[i].optimize().objective_value)"
   ]
  },
  {
   "cell_type": "code",
   "execution_count": 238,
   "metadata": {},
   "outputs": [
    {
     "name": "stdout",
     "output_type": "stream",
     "text": [
      "iNF517_1\n",
      "iNF517_2\n",
      "iNF517_3\n",
      "[<Reaction GALUi at 0x7f2e81ce9a90>, <Reaction L_LACt2r at 0x7f2e50637130>, <Reaction PGPP_LLA at 0x7f2e50637760>, <Reaction RPE at 0x7f2fc0e8df70>]\n",
      "iNF517_4\n",
      "iNF517_5\n",
      "iNF517_6\n",
      "[<Reaction EX_leu__L_e at 0x7f2feb7d04f0>, <Reaction VALTRS_1 at 0x7f2f2b27ad90>]\n",
      "iNF517_7\n",
      "[<Reaction GAPD at 0x7f2f6c568e50>, <Reaction HOCR3 at 0x7f2f6af794f0>, <Reaction ALCD2x at 0x7f2e6a2f14c0>]\n",
      "iNF517_8\n",
      "[<Reaction GRTT at 0x7f2e40441580>, <Reaction LEUTRS_1 at 0x7f2e40f387c0>, <Reaction PGGT2 at 0x7f2e41af3700>, <Reaction TDMAT6 at 0x7f2e40cf8b20>]\n",
      "iNF517_9\n",
      "iNF517_10\n",
      "46.5 s ± 0 ns per loop (mean ± std. dev. of 1 run, 1 loop each)\n"
     ]
    }
   ],
   "source": [
    "%%timeit -n1 -r1\n",
    "# COBRA\n",
    "for x in l_lactis_samples_rib:\n",
    "    print(x)\n",
    "    with suppress_stdout():\n",
    "        sol = 0\n",
    "        try:\n",
    "            sol = cobra.flux_analysis.gapfill(l_lactis_samples_rib[x], l_lactis_rib, demand_reactions=False)\n",
    "        except exceptions.Infeasible:\n",
    "            continue\n",
    "        except RuntimeError:\n",
    "            continue\n",
    "    print(sol[0])"
   ]
  },
  {
   "cell_type": "code",
   "execution_count": 239,
   "metadata": {},
   "outputs": [
    {
     "name": "stdout",
     "output_type": "stream",
     "text": [
      "iNF517_1\n",
      "{'iNF517': [('EX_h2s_e', 'Exchange reaction'), ('Transport reaction: INSt2', []), ('Transport reaction: LYSt2r', ['LLMG_RS01980', 'LLMG_RS12445']), ('NAPRT', ['LLMG_RS07425']), ('TRPTRS_1', ['LLMG_RS00430'])]}\n",
      "iNF517_2\n",
      "{'iNF517': [('EX_ile__L_e', 'Exchange reaction'), ('CYTK2', ['LLMG_RS03780']), ('DRPA', ['LLMG_RS05390']), ('TDPGDH_1', ['LLMG_RS01105']), ('UAGCVT', ['LLMG_RS02630', 'LLMG_RS01685'])]}\n",
      "iNF517_3\n",
      "{'iNF517': [('Transport reaction: GUAt2r', ['LLMG_RS09575']), ('Transport reaction: L_LACt2r', []), ('GALUi', ['LLMG_RS05650']), ('PGPP_LLA', []), ('RPE', ['LLMG_RS04875', 'LLMG_RS11000'])]}\n",
      "iNF517_4\n",
      "{'iNF517': [('Transport reaction: METt2r', []), ('ASNTRS_1', ['LLMG_RS10095']), ('DEMAT4', ['LLMG_RS02820']), ('RHCYS', [])]}\n",
      "iNF517_5\n",
      "{}\n",
      "iNF517_6\n",
      "{'iNF517': [('EX_leu__L_e', 'Exchange reaction'), ('Transport reaction: DIACTt', []), ('Transport reaction: ARGORNt3', ['LLMG_RS11585', 'LLMG_RS11565']), ('Transport reaction: ABUTt2r', []), ('VALTRS_1', ['LLMG_RS12325'])]}\n",
      "iNF517_7\n",
      "{'iNF517': [('Transport reaction: 2MBALDt', []), ('GAPD', ['LLMG_RS02785', 'LLMG_RS12755']), ('HOCR3', ['LLMG_RS08950']), ('ALCD2x', ['LLMG_RS04865', 'LLMG_RS12215'])]}\n",
      "iNF517_8\n",
      "{'iNF517': [('GRTT', ['LLMG_RS08500']), ('LEUTRS_1', ['LLMG_RS08750']), ('PGGT2', ['LLMG_RS08445', 'LLMG_RS01845', 'LLMG_RS11990', 'LLMG_RS02600']), ('TDMAT6', ['LLMG_RS02820'])]}\n",
      "iNF517_9\n",
      "{'iNF517': [('EX_arg__L_e', 'Exchange reaction'), ('GLYTRS_1', ['LLMG_RS07455', 'LLMG_RS07450']), ('LPGS_LLA', []), ('MCMAT3', ['LLMG_RS08945'])]}\n",
      "iNF517_10\n",
      "{'iNF517': [('EX_gcald_e', 'Exchange reaction'), ('BTMAT1', ['LLMG_RS02820']), ('IGPS', ['LLMG_RS05265'])]}\n",
      "1min 1s ± 0 ns per loop (mean ± std. dev. of 1 run, 1 loop each)\n"
     ]
    }
   ],
   "source": [
    "%%timeit -n1 -r1\n",
    "# GALLANT\n",
    "for x in l_lactis_samples_rib:\n",
    "    print(x)\n",
    "    with suppress_stdout():\n",
    "        sol = homology_gapfilling(l_lactis_samples_rib[x], [l_lactis_rib], integer_threshold=1e-9,\n",
    "                                  force_exchange=True, force_transport=True)\n",
    "    print(sol[1])"
   ]
  },
  {
   "cell_type": "markdown",
   "metadata": {},
   "source": [
    "#### P. putida"
   ]
  },
  {
   "cell_type": "code",
   "execution_count": 240,
   "metadata": {},
   "outputs": [
    {
     "name": "stdout",
     "output_type": "stream",
     "text": [
      "iJN1463_1\n",
      "0.0\n",
      "iJN1463_2\n",
      "0.0\n",
      "iJN1463_3\n",
      "0.0\n",
      "iJN1463_4\n",
      "0.0\n",
      "iJN1463_5\n",
      "0.0\n",
      "iJN1463_6\n",
      "0.0\n",
      "iJN1463_7\n",
      "0.0\n",
      "iJN1463_8\n",
      "0.0\n",
      "iJN1463_9\n",
      "0.0\n",
      "iJN1463_10\n",
      "0.0\n"
     ]
    }
   ],
   "source": [
    "# checking functionality of the models\n",
    "for i in range(len(p_putida_samples_rib)):\n",
    "    print(list(p_putida_samples_rib.keys())[i])\n",
    "    print(list(p_putida_samples_rib.values())[i].optimize().objective_value)"
   ]
  },
  {
   "cell_type": "code",
   "execution_count": 241,
   "metadata": {},
   "outputs": [
    {
     "name": "stdout",
     "output_type": "stream",
     "text": [
      "iJN1463_1\n",
      "iJN1463_2\n",
      "iJN1463_3\n",
      "iJN1463_4\n",
      "iJN1463_5\n",
      "iJN1463_6\n",
      "iJN1463_7\n",
      "iJN1463_8\n",
      "iJN1463_9\n",
      "iJN1463_10\n",
      "3min ± 0 ns per loop (mean ± std. dev. of 1 run, 1 loop each)\n"
     ]
    }
   ],
   "source": [
    "%%timeit -n1 -r1\n",
    "# COBRA\n",
    "for x in p_putida_samples_rib:\n",
    "    print(x)\n",
    "    with suppress_stdout():\n",
    "        sol = 0\n",
    "        try:\n",
    "            sol = cobra.flux_analysis.gapfill(p_putida_samples_rib[x], p_putida_rib, demand_reactions=False)\n",
    "        except exceptions.Infeasible:\n",
    "            continue\n",
    "        except RuntimeError:\n",
    "            continue\n",
    "    print(sol[0])"
   ]
  },
  {
   "cell_type": "code",
   "execution_count": 242,
   "metadata": {},
   "outputs": [
    {
     "name": "stdout",
     "output_type": "stream",
     "text": [
      "iJN1463_1\n",
      "{}\n",
      "iJN1463_2\n",
      "{}\n",
      "iJN1463_3\n",
      "{}\n",
      "iJN1463_4\n",
      "{}\n",
      "iJN1463_5\n",
      "{}\n",
      "iJN1463_6\n",
      "{}\n",
      "iJN1463_7\n",
      "{}\n",
      "iJN1463_8\n",
      "{'iJN1463': [('Transport reaction: CU2tpp', []), ('DHORTS', ['PP_1086']), ('UAGCVT', ['PP_0964'])]}\n",
      "iJN1463_9\n",
      "{}\n",
      "iJN1463_10\n",
      "{}\n",
      "3min 8s ± 0 ns per loop (mean ± std. dev. of 1 run, 1 loop each)\n"
     ]
    }
   ],
   "source": [
    "%%timeit -n1 -r1\n",
    "# GALLANT\n",
    "for x in p_putida_samples_rib:\n",
    "    print(x)\n",
    "    with suppress_stdout():\n",
    "        sol = homology_gapfilling(p_putida_samples_rib[x], [p_putida_rib], integer_threshold=1e-9,\n",
    "                                  force_exchange=True, force_transport=True)\n",
    "    print(sol[1])"
   ]
  },
  {
   "cell_type": "markdown",
   "metadata": {},
   "source": [
    "### Test 4a: removal of 10 reactions (glucose)"
   ]
  },
  {
   "cell_type": "code",
   "execution_count": 243,
   "metadata": {},
   "outputs": [],
   "source": [
    "e_coli_samples_glc = make_model_copies(e_coli)\n",
    "l_lactis_samples_glc = make_model_copies(l_lactis)\n",
    "p_putida_samples_glc = make_model_copies(p_putida)"
   ]
  },
  {
   "cell_type": "code",
   "execution_count": 244,
   "metadata": {},
   "outputs": [
    {
     "name": "stdout",
     "output_type": "stream",
     "text": [
      "['OMPDC', 'MECDPDH5', 'PUNP1', 'HSST', 'NDPK8', 'UMPK', 'RPE', 'PSSA161', 'ACOAD3f', 'DAPDC', 'CTECOAI7', 'PE160abcpp', 'ANS', 'ACACT1r', 'HISTP', 'OHPBAT', '3OAR140', 'HACD6', 'GLUDy', 'EX_h_e', 'DXPRIi', 'ATPM', 'EX_pi_e', 'BIOMASS_Ec_iML1515_core_75p37M', 'SO4t2pp', 'IMPC', 'CDPMEK', 'PSSA160', 'AIRC3', 'ACACT5r', 'IPDDI', 'ACACT7r', 'EX_cl_e', 'GLYCL', 'K2L4Aabctex', 'ASPTA', 'ECOAH5', 'ASPCT', 'LPADSS', 'K2L4Aabcpp', 'PSD161', 'PRAIi', 'NH4tpp', 'ICYSDS', 'ECOAH7', 'CU2tex', 'I4FE4ST', 'PTAr', 'GHMT2r', 'PPND', 'FACOAE161', 'GLCptspp', 'EX_cobalt2_e', 'HACD4', 'ADK3', 'NDPK1', 'ADSS', 'MG2tex', 'MEOHtrpp', 'EX_mn2_e', 'EX_cu2_e', 'DHFS', 'IMPD', 'PDX5PS', 'ASNS2', 'DMATT', 'PAI2T', 'ASPK', 'ASAD', 'MOAT2', 'DGK1', 'SUCOAS', 'MALCOAMT', 'NH4tex', 'GMPS', 'AACPS7', 'APRAUR', 'NNDPR', 'NNATr', 'IPMD', 'DHAD1', 'SO4tex', 'EX_mobd_e', 'KARA1', 'SPODM', 'G5SADs', 'ACOAD4f', 'A5PISO', 'BPNT', 'E4PD', 'Kt2pp', 'I2FE2SS2', 'DHDPRy', 'G6PDH2r', 'ADNK1', 'ECOAH2', 'PRAIS', 'I2FE2ST', 'PPCDC', '5DOAN']\n",
      "['UDCPDP', 'TDPDRE', 'L_LACt2r', 'PPNCL', 'TRDR', 'PGPP_LLA', '3MOPDC', 'NADS1', 'UAMAGS', 'CLPNS_LLA', 'DPCOAK', 'EX_arg__L_e', 'EX_for_e', 'DPMVD', 'DDMAT5', 'ORNCD_1', 'CFAS180', 'UAAGLS1_1', 'DMATT', 'ARGDI_1', 'araphe2', 'RPE', 'BTMAT1', 'SERD_L', 'EX_lac__L_e', 'EX_orn__L_e', 'FABM2', 'PROTS_LLA_v3', 'CYSt2r', 'MTHFC', 'PMEVK', 'HDEHL4', 'PHETA1_copy1', 'RBK', 'PTAr', 'EX_gua_e', 'GUAt2r', 'ALATRS_1', 'THMabc', 'ETOHt', 'GLNTRS2', 'GLUR', 'MCMAT7', 'LEUTRS_1', 'PGSA_LLA', 'SERt2r', 'HCO3E', 'ACACT1r', 'GLYK', 'GLYTRS_1', 'TPI', 'TKT2', 'PGK', 'PIabc', 'HISTRS_1', 'HBUHL1', 'THMDt2', 'ARGTRS_1', 'PRAIi', 'H2Ot', 'ARGt2r', 'EX_met__L_e', 'NNATr', 'UDCPDPS', 'FBA', 'ADK1', 'ACHBS', 'AHSERL2', 'ASPt2r', 'FOLD3', 'TDMAT6', 'PHEt2r', 'LEUTA', 'VALTA', 'ACKr', 'AHCYSNS', 'EX_pnto__R_e', 'THRA', 'GLUABUTt7', 'EX_nac_e', 'NDPK8', 'aratyr1', 'TMDPK', 'SHK3Dr', 'HDDR5', 'DHFS', 'TDPDRR_1', 'EX_gcald_e', 'UAMAS', 'DAGK_LLA', 'ALAt2r_copy1', 'PYNP2r', 'NAPRT', 'EX_succ_e', 'GTPCI', 'PPM', 'HISt2r', 'PFK', 'ANS', 'ADEt2']\n",
      "['3HAD80', 'BDH', 'PPND', 'ORNDC', 'CAt6pp', 'CLtex', 'DASYN160', 'AOXSr2', 'ACACT1r', 'ACOATA', 'CFAS160G', 'EX_o2_e', 'GMHEPK', 'GLU5K', 'EX_mn2_e', 'UDCPDP', 'EX_so4_e', 'EAR140y', 'COBALT2tpp', 'LIPOCT', 'FBACS', 'RNDR4', 'AGPAT140', 'UDCPDPpp', 'DHAD2', 'PSD140', 'DHQS', 'OCBT', 'AGPAT160', '1PQQS', 'DHPPDA2', '3OAR120', 'TRDR', 'AIRC3', 'CU2tex', 'ILEDHr_1', 'COLIPAabcpp_kt', 'ALAALAr', 'H2CO3D', '3HAD160', 'TALA', 'PGSA160', 'HEPT2_kt', 'DALAt2pp', 'ALATRS', 'PDX5PS', '3OAR180', 'HPYRI', 'EX_h2o_e', 'PGPP181', 'ASNS1', 'EAR141y', 'DM_doxopa_c', 'BLUB', 'UAMAGS', 'APPLDHr', 'NDPK4', 'PYNP2r', 'DNTPPA', 'EX_glc__D_e', 'HCO3E', 'TYRTA', 'RPE', 'HISTD', 'PSP_L', 'ADSS', 'EX_cl_e', 'PGM', 'ASPK', 'PC6YM', '3OAR80', 'PYOVD2tex', 'PPPGO', 'LPADSS2_1', 'OXCOAHDH', 'TMDS', 'MOHMT', 'ACONTa', 'ADPT', 'LLEUDr', 'ACONTb', 'DHDPS', 'UAAGDS', 'RECOAH6', 'MPTS', 'FMNAT', 'ATPM', 'SULR', 'PC11M', 'DPCOAK', 'OPMEACPD', 'IPPS', 'GND', 'PSSA180', 'BMOGDS1', 'H2Otex', 'ADCPS1', 'PMPK', 'NDPK6', 'ATHRDHr']\n"
     ]
    },
    {
     "data": {
      "text/plain": [
       "{'iJN1463_1': <Model iJN1463 at 0x7f2eb7abf760>,\n",
       " 'iJN1463_2': <Model iJN1463 at 0x7f2edd5147f0>,\n",
       " 'iJN1463_3': <Model iJN1463 at 0x7f2f04c0e6a0>,\n",
       " 'iJN1463_4': <Model iJN1463 at 0x7f2ef85fe8b0>,\n",
       " 'iJN1463_5': <Model iJN1463 at 0x7f2ef85fe280>,\n",
       " 'iJN1463_6': <Model iJN1463 at 0x7f2f4ca631c0>,\n",
       " 'iJN1463_7': <Model iJN1463 at 0x7f2ecc466a30>,\n",
       " 'iJN1463_8': <Model iJN1463 at 0x7f30131e9160>,\n",
       " 'iJN1463_9': <Model iJN1463 at 0x7f300fef5220>,\n",
       " 'iJN1463_10': <Model iJN1463 at 0x7f2e55142580>}"
      ]
     },
     "execution_count": 244,
     "metadata": {},
     "output_type": "execute_result"
    }
   ],
   "source": [
    "remove_random_reaction(e_coli, e_coli_samples_glc, reactions_list=e_coli_glc_r_ids, n=10)\n",
    "remove_random_reaction(l_lactis, l_lactis_samples_glc, reactions_list=l_lactis_glc_r_ids, n=10)\n",
    "remove_random_reaction(p_putida, p_putida_samples_glc, reactions_list=p_putida_glc_r_ids, n=10)"
   ]
  },
  {
   "cell_type": "markdown",
   "metadata": {},
   "source": [
    "#### E. coli"
   ]
  },
  {
   "cell_type": "code",
   "execution_count": 245,
   "metadata": {},
   "outputs": [
    {
     "name": "stdout",
     "output_type": "stream",
     "text": [
      "iML1515_1\n",
      "0.0\n",
      "iML1515_2\n",
      "0.0\n",
      "iML1515_3\n",
      "0.0\n",
      "iML1515_4\n",
      "0.0\n",
      "iML1515_5\n",
      "0.0\n",
      "iML1515_6\n",
      "0.0\n",
      "iML1515_7\n",
      "0.0\n",
      "iML1515_8\n",
      "0.0\n",
      "iML1515_9\n",
      "0.0\n",
      "iML1515_10\n",
      "0.0\n"
     ]
    }
   ],
   "source": [
    "for i in range(len(e_coli_samples_glc)):\n",
    "    print(list(e_coli_samples_glc.keys())[i])\n",
    "    print(list(e_coli_samples_glc.values())[i].optimize().objective_value)"
   ]
  },
  {
   "cell_type": "code",
   "execution_count": 246,
   "metadata": {},
   "outputs": [
    {
     "name": "stdout",
     "output_type": "stream",
     "text": [
      "iML1515_1\n",
      "iML1515_2\n",
      "[<Reaction ANS at 0x7f306ace8b50>, <Reaction HISTP at 0x7f2e565d3400>, <Reaction 3OAR140 at 0x7f2e431cf340>, <Reaction PE160abcpp at 0x7f2e431ba5e0>]\n",
      "iML1515_3\n",
      "iML1515_4\n",
      "iML1515_5\n",
      "iML1515_6\n",
      "iML1515_7\n",
      "iML1515_8\n",
      "iML1515_9\n",
      "iML1515_10\n",
      "2min 44s ± 0 ns per loop (mean ± std. dev. of 1 run, 1 loop each)\n"
     ]
    }
   ],
   "source": [
    "%%timeit -n1 -r1\n",
    "# COBRA\n",
    "for x in e_coli_samples_glc:\n",
    "    print(x)\n",
    "    with suppress_stdout():\n",
    "        sol = 0\n",
    "        try:\n",
    "            sol = cobra.flux_analysis.gapfill(e_coli_samples_glc[x], e_coli, demand_reactions=False)\n",
    "        except exceptions.Infeasible:\n",
    "            continue\n",
    "        except RuntimeError:\n",
    "            continue\n",
    "    print(sol[0])"
   ]
  },
  {
   "cell_type": "code",
   "execution_count": 247,
   "metadata": {},
   "outputs": [
    {
     "name": "stdout",
     "output_type": "stream",
     "text": [
      "iML1515_1\n",
      "{'iML1515': [('OMPDC', ['b1281']), ('UMPK', ['b0171', 'b0910']), ('HSST', ['b4013']), ('DAPDC', ['b2838']), ('PSSA161', ['b2585']), ('MECDPDH5', ['b2515', 'b0684', 'b2895'])]}\n",
      "iML1515_2\n",
      "{'iML1515': [('EX_h_e', 'Exchange reaction'), ('ANS', ['b1264', 'b1263']), ('HISTP', ['b2022']), ('3OAR140', ['b1093']), ('PE160abcpp', ['b0914'])]}\n",
      "iML1515_3\n",
      "{}\n",
      "iML1515_4\n",
      "{'iML1515': [('EX_cl_e', 'Exchange reaction'), ('ASPTA', ['b0928', 'b4054']), ('LPADSS', ['b0182']), ('ASPCT', ['b4244', 'b4245']), ('K2L4Aabcpp', ['b0914']), ('K2L4Aabctex', ['b3201', 'b3199', 'b0054', 'b0641', 'b4261', 'b3200', 'b4262'])]}\n",
      "iML1515_5\n",
      "{'iML1515': [('Transport reaction: NH4tpp', ['s0001', 'b0451']), ('Transport reaction: CU2tex', ['b1377', 'b2215', 'b0241', 'b0929']), ('PPND', ['b2600']), ('PRAIi', ['b1262']), ('PSD161', ['b4160']), ('ICYSDS', ['b2530'])]}\n",
      "iML1515_6\n",
      "{'iML1515': [('EX_mn2_e', 'Exchange reaction'), ('EX_cobalt2_e', 'Exchange reaction'), ('Transport reaction: MG2tex', ['b1377', 'b2215', 'b0241', 'b0929']), ('Transport reaction: MEOHtrpp', ['s0001']), ('ADSS', ['b4177'])]}\n",
      "iML1515_7\n",
      "{'iML1515': [('EX_cu2_e', 'Exchange reaction'), ('DMATT', ['b0421']), ('ASPK', ['b4024', 'b3940', 'b0002']), ('ASAD', ['b3433']), ('PDX5PS', ['b2564', 'b0052']), ('MOAT2', ['b3633']), ('DHFS', ['b2315'])]}\n",
      "iML1515_8\n",
      "{}\n",
      "iML1515_9\n",
      "{'iML1515': [('EX_mobd_e', 'Exchange reaction'), ('Transport reaction: SO4tex', ['b1377', 'b2215', 'b0241', 'b0929']), ('A5PISO', ['b3197', 'b2708']), ('DHAD1', ['b3771']), ('KARA1', ['b3774']), ('G5SADs', ['s0001']), ('BPNT', ['b4214'])]}\n",
      "iML1515_10\n",
      "{'iML1515': [('Transport reaction: Kt2pp', ['b1250', 'b3747', 'b1363', 'b3849', 'b1291', 'b3290']), ('PPCDC', ['b3639']), ('DHDPRy', ['b0031']), ('PRAIS', ['b2499']), ('5DOAN', ['b0159'])]}\n",
      "3min 33s ± 0 ns per loop (mean ± std. dev. of 1 run, 1 loop each)\n"
     ]
    }
   ],
   "source": [
    "%%timeit -n1 -r1\n",
    "# GALLANT\n",
    "for x in e_coli_samples_glc:\n",
    "    print(x)\n",
    "    with suppress_stdout():\n",
    "        sol = homology_gapfilling(e_coli_samples_glc[x], [e_coli], integer_threshold=1e-9,\n",
    "                                  force_exchange=True, force_transport=True)\n",
    "    print(sol[1])"
   ]
  },
  {
   "cell_type": "markdown",
   "metadata": {},
   "source": [
    "#### L. lactis"
   ]
  },
  {
   "cell_type": "code",
   "execution_count": 248,
   "metadata": {},
   "outputs": [
    {
     "name": "stdout",
     "output_type": "stream",
     "text": [
      "iNF517_1\n",
      "None\n",
      "iNF517_2\n",
      "0.0\n",
      "iNF517_3\n",
      "0.0\n",
      "iNF517_4\n",
      "None\n",
      "iNF517_5\n",
      "None\n",
      "iNF517_6\n",
      "None\n",
      "iNF517_7\n",
      "0.0\n",
      "iNF517_8\n",
      "None\n",
      "iNF517_9\n",
      "0.0\n",
      "iNF517_10\n",
      "0.0\n"
     ]
    }
   ],
   "source": [
    "for i in range(len(l_lactis_samples_glc)):\n",
    "    print(list(l_lactis_samples_glc.keys())[i])\n",
    "    print(list(l_lactis_samples_glc.values())[i].optimize().objective_value)"
   ]
  },
  {
   "cell_type": "code",
   "execution_count": 249,
   "metadata": {},
   "outputs": [
    {
     "name": "stdout",
     "output_type": "stream",
     "text": [
      "iNF517_1\n",
      "iNF517_2\n",
      "iNF517_3\n",
      "[<Reaction CYSt2r at 0x7f30594da7c0>, <Reaction BTMAT1 at 0x7f2febc53f40>, <Reaction EX_lac__L_e at 0x7f2f68318460>, <Reaction PROTS_LLA_v3 at 0x7f2f5e98dc70>, <Reaction RPE at 0x7f3059d35880>, <Reaction FABM2 at 0x7f3059d35a90>]\n",
      "iNF517_4\n",
      "iNF517_5\n",
      "iNF517_6\n",
      "[<Reaction ARGTRS_1 at 0x7f2eac3519a0>, <Reaction HISTRS_1 at 0x7f2ed6f3d9a0>, <Reaction PGK at 0x7f2ef8115580>, <Reaction PIabc at 0x7f2ef8115d30>, <Reaction PRAIi at 0x7f2eaea1b220>, <Reaction TKT2 at 0x7f2ea1c81940>, <Reaction TPI at 0x7f2f178e1820>, <Reaction HBUHL1 at 0x7f2efcc11d30>]\n",
      "iNF517_7\n",
      "iNF517_8\n",
      "iNF517_9\n",
      "iNF517_10\n",
      "46.2 s ± 0 ns per loop (mean ± std. dev. of 1 run, 1 loop each)\n"
     ]
    }
   ],
   "source": [
    "%%timeit -n1 -r1\n",
    "# COBRA\n",
    "for x in l_lactis_samples_glc:\n",
    "    print(x)\n",
    "    sol = 0\n",
    "    with suppress_stdout():\n",
    "        try:\n",
    "            sol = cobra.flux_analysis.gapfill(l_lactis_samples_glc[x], l_lactis, demand_reactions=False)\n",
    "        except exceptions.Infeasible:\n",
    "            continue\n",
    "        except RuntimeError:\n",
    "            continue\n",
    "    print(sol[0])"
   ]
  },
  {
   "cell_type": "code",
   "execution_count": 250,
   "metadata": {},
   "outputs": [
    {
     "name": "stdout",
     "output_type": "stream",
     "text": [
      "iNF517_1\n",
      "{}\n",
      "iNF517_2\n",
      "{'iNF517': [('EX_arg__L_e', 'Exchange reaction'), ('EX_for_e', 'Exchange reaction'), ('CFAS180', ['LLMG_RS10800']), ('DDMAT5', ['LLMG_RS02820']), ('DMATT', ['LLMG_RS08500']), ('DPCOAK', ['LLMG_RS03290']), ('DPMVD', ['LLMG_RS02175']), ('UAAGLS1_1', ['LLMG_RS09965', 'LLMG_RS07395'])]}\n",
      "iNF517_3\n",
      "{'iNF517': [('EX_lac__L_e', 'Exchange reaction'), ('EX_orn__L_e', 'Exchange reaction'), ('Transport reaction: CYSt2r', []), ('BTMAT1', ['LLMG_RS02820']), ('PROTS_LLA_v3', []), ('RPE', ['LLMG_RS04875', 'LLMG_RS11000']), ('FABM2', [])]}\n",
      "iNF517_4\n",
      "{}\n",
      "iNF517_5\n",
      "{'iNF517': [('Transport reaction: SERt2r', []), ('ACACT1r', ['LLMG_RS04745']), ('HCO3E', []), ('GLNTRS2', ['LLMG_RS00935', 'LLMG_RS00930', 'LLMG_RS00940']), ('GLUR', ['LLMG_RS06010']), ('GLYK', ['LLMG_RS05580', 'LLMG_RS05335']), ('GLYTRS_1', ['LLMG_RS07450', 'LLMG_RS07455']), ('LEUTRS_1', ['LLMG_RS08750']), ('PGSA_LLA', ['LLMG_RS11155']), ('MCMAT7', ['LLMG_RS08945'])]}\n",
      "iNF517_6\n",
      "{'iNF517': [('Transport reaction: H2Ot', []), ('Transport reaction: THMDt2', []), ('ARGTRS_1', ['LLMG_RS11600']), ('HISTRS_1', ['LLMG_RS11125', 'LLMG_RS06580']), ('PGK', ['LLMG_RS01325']), ('PIabc', ['LLMG_RS09495', 'LLMG_RS09505', 'LLMG_RS09500', 'LLMG_RS09510', 'LLMG_RS09490', 'LLMG_RS09515']), ('PRAIi', ['LLMG_RS05270']), ('TKT2', ['LLMG_RS04440']), ('TPI', ['LLMG_RS07185']), ('HBUHL1', ['LLMG_RS08935', 'LLMG_RS02815'])]}\n",
      "iNF517_7\n",
      "{}\n",
      "iNF517_8\n",
      "{'iNF517': [('EX_nac_e', 'Exchange reaction'), ('EX_pnto__R_e', 'Exchange reaction'), ('Transport reaction: GLUABUTt7', ['LLMG_RS05965']), ('Transport reaction: PHEt2r', []), ('AHCYSNS', ['LLMG_RS10345']), ('TDMAT6', ['LLMG_RS02820'])]}\n",
      "iNF517_9\n",
      "{}\n",
      "iNF517_10\n",
      "{}\n",
      "57.3 s ± 0 ns per loop (mean ± std. dev. of 1 run, 1 loop each)\n"
     ]
    }
   ],
   "source": [
    "%%timeit -n1 -r1\n",
    "# GALLANT\n",
    "for x in l_lactis_samples_glc:\n",
    "    print(x)\n",
    "    with suppress_stdout():\n",
    "        sol = homology_gapfilling(l_lactis_samples_glc[x], [l_lactis], integer_threshold=1e-9,\n",
    "                                  force_exchange=True, force_transport=True)\n",
    "    print(sol[1])"
   ]
  },
  {
   "cell_type": "markdown",
   "metadata": {},
   "source": [
    "#### P. putida"
   ]
  },
  {
   "cell_type": "code",
   "execution_count": 251,
   "metadata": {},
   "outputs": [
    {
     "name": "stdout",
     "output_type": "stream",
     "text": [
      "iJN1463_1\n",
      "0.0\n",
      "iJN1463_2\n",
      "None\n",
      "iJN1463_3\n",
      "0.0\n",
      "iJN1463_4\n",
      "0.0\n",
      "iJN1463_5\n",
      "0.0\n",
      "iJN1463_6\n",
      "None\n",
      "iJN1463_7\n",
      "0.0\n",
      "iJN1463_8\n",
      "0.0\n",
      "iJN1463_9\n",
      "0.0\n",
      "iJN1463_10\n",
      "0.0\n"
     ]
    }
   ],
   "source": [
    "for i in range(len(p_putida_samples_glc)):\n",
    "    print(list(p_putida_samples_glc.keys())[i])\n",
    "    print(list(p_putida_samples_glc.values())[i].optimize().objective_value)"
   ]
  },
  {
   "cell_type": "code",
   "execution_count": 252,
   "metadata": {},
   "outputs": [
    {
     "name": "stdout",
     "output_type": "stream",
     "text": [
      "iJN1463_1\n",
      "iJN1463_2\n",
      "iJN1463_3\n",
      "iJN1463_4\n",
      "iJN1463_5\n",
      "iJN1463_6\n",
      "iJN1463_7\n",
      "iJN1463_8\n",
      "iJN1463_9\n",
      "iJN1463_10\n",
      "3min 3s ± 0 ns per loop (mean ± std. dev. of 1 run, 1 loop each)\n"
     ]
    }
   ],
   "source": [
    "%%timeit -n1 -r1\n",
    "# COBRA\n",
    "for x in p_putida_samples_glc:\n",
    "    print(x)\n",
    "    sol = 0\n",
    "    with suppress_stdout():\n",
    "        try:\n",
    "            sol = cobra.flux_analysis.gapfill(p_putida_samples_glc[x], p_putida, demand_reactions=False)\n",
    "        except exceptions.Infeasible:\n",
    "            continue\n",
    "        except RuntimeError:\n",
    "            continue\n",
    "    print(sol[0])"
   ]
  },
  {
   "cell_type": "code",
   "execution_count": 253,
   "metadata": {},
   "outputs": [
    {
     "name": "stdout",
     "output_type": "stream",
     "text": [
      "iJN1463_1\n",
      "{}\n",
      "iJN1463_2\n",
      "{}\n",
      "iJN1463_3\n",
      "{}\n",
      "iJN1463_4\n",
      "{}\n",
      "iJN1463_5\n",
      "{}\n",
      "iJN1463_6\n",
      "{}\n",
      "iJN1463_7\n",
      "{}\n",
      "iJN1463_8\n",
      "{}\n",
      "iJN1463_9\n",
      "{}\n",
      "iJN1463_10\n",
      "{}\n",
      "3min 4s ± 0 ns per loop (mean ± std. dev. of 1 run, 1 loop each)\n"
     ]
    }
   ],
   "source": [
    "%%timeit -n1 -r1\n",
    "# GALLANT\n",
    "for x in p_putida_samples_glc:\n",
    "    print(x)\n",
    "    with suppress_stdout():\n",
    "        sol = homology_gapfilling(p_putida_samples_glc[x], [p_putida], integer_threshold=1e-9,\n",
    "                                  force_exchange=True, force_transport=True)\n",
    "    print(sol[1])"
   ]
  },
  {
   "cell_type": "markdown",
   "metadata": {},
   "source": [
    "### Test 4b: removal of 10 reactions (ribose)"
   ]
  },
  {
   "cell_type": "code",
   "execution_count": 254,
   "metadata": {},
   "outputs": [],
   "source": [
    "e_coli_samples_rib = make_model_copies(e_coli_rib)\n",
    "l_lactis_samples_rib = make_model_copies(l_lactis_rib)\n",
    "p_putida_samples_rib = make_model_copies(p_putida_rib)"
   ]
  },
  {
   "cell_type": "code",
   "execution_count": 255,
   "metadata": {},
   "outputs": [
    {
     "name": "stdout",
     "output_type": "stream",
     "text": [
      "['MDH', 'ACACT2r', 'G5SD', 'EPMEACPR', 'PUNP2', 'AGPAT161', 'KDOPS', 'MPTG', 'DHFR', 'ECOAH3', 'ENO', 'MTHFC', 'FBA', 'SUCFUMtpp', 'APRAUR', 'GLUPRT', 'MOAT2', 'NDPK4', 'PANTS', 'AMAOTr', 'GLUTRS', 'GAPD', 'TPI', 'FE2tex', 'HSDy', 'LPADSS', 'ACOAD3f', 'DHORTS', 'AACPS7', 'FE2tpp', 'UDCPDP', 'PNTK', 'THDPS', 'O2tpp', 'G6PDH2r', 'PTAr', 'ACOAD6f', 'PPND', 'TKT1', 'RHCCE', 'DALAt2pp', 'I2FE2SS2', 'ILETA', 'NDPK3', 'ADNK1', 'CHRPL', 'ACOAD7f', 'ADK1', 'RBFSb', 'EX_ca2_e', 'MTHFD', 'METAT', 'PSERT', 'NH4tpp', 'PMEACPE', 'NI2tpp', 'GMPS', 'PE160abcpp', 'A5PISO', 'OMCDC', 'ACONTb', 'HCO3E', 'PRMICI', 'MG2tex', 'EX_o2_e', 'FACOAE120', 'RNTR2c2', 'GLUDy', 'P5CR', 'SPODM', 'IMPC', 'ZN2tpp', 'EX_cobalt2_e', '4HTHRK', 'AICART', 'ACOATA', 'DASYN161', 'OMPDC', 'ADCL', 'AGPAT160', 'NNDPR', 'EX_rib__D_e', 'EX_pi_e', 'ASPtpp', 'OHPBAT', 'AMPMS2', 'KDOCT2', 'HACD6', 'PERD', 'CHORM', 'ASPTA', 'OPHBDC', 'IGPS', 'HACD3', 'RNTR1c2', 'IPDDI', 'AHCYSNS', 'ASPK', 'METS', 'FUMt1pp']\n",
      "['ILETRS_1', 'G3PD2', 'EX_gua_e', 'GLUDC', 'SHKK', 'HEMAT2', 'PROTRS_1', 'FOLD3', 'ASNTRS_1', 'PPM', 'HXPRT', 'LYSt2r', 'DTMPK', 'ADSL1r', 'PGGT2', '2MBALDt', 'EX_thm_e', 'TYRTRS_1', 'DMATT', 'TYRTA_copy1', 'EX_ura_e', 'NNATr', 'UGLDDS1', 'NDPK4', 'DAGK_LLA', 'THRD_L', 'L_LACt2r', 'aratyr1', 'PROTS_LLA_v3', 'MCMAT8', 'EX_thr__L_e', 'ASNS1', 'DHNPA_1', 'UDCPDPS', 'EX_ac_e', 'ALATA_L', 'MCMAT2', 'EX_pi_e', 'EX_ser__L_e', 'ARGTRS_1', 'SUCCt2r', 'ENO', 'DCYTD', 'FBP', 'THRTRS_1', 'ETOHt', 'AGAT_LLA', 'ARGt2r', 'KARA2', 'HODR8', 'ADADir', 'PIabc', 'DDPA', 'TRPTRS_1', 'PGAMT', 'GLUTRS_2', 'GLYTRS_1', 'GLUTRS2', 'CBMKr_copy2', 'PGI', 'NACt', 'MACPMT', 'DRPA', 'PMEVK', 'ILEt2r_copy2', 'HMGCOAR', 'HOCHL3', 'NAPRT', 'TMDPK', 'DHFR', 'CLPNS_LLA', 'NDPK1', 'SERt2r', 'ACALD', 'EX_glu__L_e', 'PUNP5', 'ARGORNt3', 'EX_rib__D_e', 'HOCR3', 'EX_lac__L_e', 'DALTAL_LLA', 'BIOMASS_LLA', 'EX_2mbald_e', 'RIBt2', 'PRAIi', 'CYTK2', 'GK2', 'EX_h2o_e', 'LPGS_LLA', 'EX_ade_e', 'PNTK', 'IPDDI', 'FBA', 'G3PD1ir', '3MOPDC', 'EX_leu__L_e', 'G1PACT', 'TYRTA_copy2', 'OCMAT3', 'HHYR2']\n",
      "['ADSL1r', 'UAGAAT2_1', 'GMHEPAT', 'TPI', 'PGAMT', 'SADT', 'EDA', 'Zn2tex', 'ADCPS1', 'PSSA180', 'PG161abcpp', 'FRDO5r', 'FMNAT', 'SULR', 'DHAD2', 'RNDR3', 'SDPTA', 'GTHS', 'PGI', 'PDX5PS', 'G5SD_copy2', 'DLYSPYRAT', 'FLDR2', 'CO2tpp', '3PQQS', 'ACGS', 'USHD1', 'DNMPPA', 'PC6YM', '3HAACOAT140', 'EAR180y', 'IPDDI', 'INDOLEtex', 'ACCOAC', 'TKT1', 'ACHBS', 'PYOVDM1', 'UAMAS', 'PMEACPE', 'DHFR', 'ASP3H', '3HAD100', '3OAS60', 'AGPAT140', 'DHQS', 'GLYCtpp', 'NDPK3', 'DXPS', 'ILEDHr_1', 'TRDR', 'HBZOPT', 'INDOLEtpp', 'DHPPDA2', 'RIBabcpp', 'DDPA', 'HBCE', 'PERD', 'MCOATA', 'CS', 'G3PD2', 'ACALD', 'PIt2rpp', 'EDD', 'MLDCP3App', 'ECOAH1', 'OGMEACPR', 'UPP3S', 'I4FE4SRfdx', 'AKGDb_copy1', 'MOCOS', 'SHKK', 'AGMHE', '3OAR100', 'E4PD', 'GLUPRT', 'CDPMEK', 'G5SADs', 'EAR40y', 'PG181abcpp', 'PYOVDM2', 'COBALT2tex', 'DURAD', 'COCHL', 'ACS', 'EX_fe2_e', 'CAT', '3OAR60', 'MCTP2App', 'GMHEPK', 'ADNK1', '3OAR161', 'EX_co2_e', 'ASPK', 'MCTP1Bpp', 'EAR181y', 'NADS1', 'GMHEPPA', 'EAR160y', 'GLUDy', '3HAD60']\n"
     ]
    },
    {
     "data": {
      "text/plain": [
       "{'iJN1463_1': <Model iJN1463 at 0x7f2fb5a28c70>,\n",
       " 'iJN1463_2': <Model iJN1463 at 0x7f2fb0c5ee80>,\n",
       " 'iJN1463_3': <Model iJN1463 at 0x7f2f6c62b820>,\n",
       " 'iJN1463_4': <Model iJN1463 at 0x7f300bd858e0>,\n",
       " 'iJN1463_5': <Model iJN1463 at 0x7f2ed38ff700>,\n",
       " 'iJN1463_6': <Model iJN1463 at 0x7f2e7a30d970>,\n",
       " 'iJN1463_7': <Model iJN1463 at 0x7f2f02211760>,\n",
       " 'iJN1463_8': <Model iJN1463 at 0x7f2f88892550>,\n",
       " 'iJN1463_9': <Model iJN1463 at 0x7f300a76c3a0>,\n",
       " 'iJN1463_10': <Model iJN1463 at 0x7f2fdc23ad60>}"
      ]
     },
     "execution_count": 255,
     "metadata": {},
     "output_type": "execute_result"
    }
   ],
   "source": [
    "remove_random_reaction(e_coli_rib, e_coli_samples_rib, reactions_list=e_coli_rib_r_ids, n=10)\n",
    "remove_random_reaction(l_lactis_rib, l_lactis_samples_rib, reactions_list=l_lactis_rib_r_ids, n=10)\n",
    "remove_random_reaction(p_putida_rib, p_putida_samples_rib, reactions_list=p_putida_rib_r_ids, n=10)"
   ]
  },
  {
   "cell_type": "markdown",
   "metadata": {},
   "source": [
    "#### E. coli"
   ]
  },
  {
   "cell_type": "code",
   "execution_count": 256,
   "metadata": {},
   "outputs": [
    {
     "name": "stdout",
     "output_type": "stream",
     "text": [
      "iML1515_1\n",
      "0.0\n",
      "iML1515_2\n",
      "0.0\n",
      "iML1515_3\n",
      "0.0\n",
      "iML1515_4\n",
      "None\n",
      "iML1515_5\n",
      "0.0\n",
      "iML1515_6\n",
      "0.0\n",
      "iML1515_7\n",
      "0.0\n",
      "iML1515_8\n",
      "0.0\n",
      "iML1515_9\n",
      "None\n",
      "iML1515_10\n",
      "0.0\n"
     ]
    }
   ],
   "source": [
    "for i in range(len(e_coli_samples_rib)):\n",
    "    print(list(e_coli_samples_rib.keys())[i])\n",
    "    print(list(e_coli_samples_rib.values())[i].optimize().objective_value)"
   ]
  },
  {
   "cell_type": "code",
   "execution_count": 257,
   "metadata": {},
   "outputs": [
    {
     "name": "stdout",
     "output_type": "stream",
     "text": [
      "iML1515_1\n",
      "iML1515_2\n",
      "iML1515_3\n",
      "iML1515_4\n",
      "iML1515_5\n",
      "iML1515_6\n",
      "iML1515_7\n",
      "iML1515_8\n",
      "iML1515_9\n",
      "iML1515_10\n",
      "2min 42s ± 0 ns per loop (mean ± std. dev. of 1 run, 1 loop each)\n"
     ]
    }
   ],
   "source": [
    "%%timeit -n1 -r1\n",
    "# COBRA\n",
    "for x in e_coli_samples_rib:\n",
    "    print(x)\n",
    "    with suppress_stdout():\n",
    "        sol = 0\n",
    "        try:\n",
    "            sol = cobra.flux_analysis.gapfill(e_coli_samples_rib[x], e_coli_rib, demand_reactions=False)\n",
    "        except exceptions.Infeasible:\n",
    "            continue\n",
    "        except RuntimeError:\n",
    "            continue\n",
    "    print(sol[0])"
   ]
  },
  {
   "cell_type": "code",
   "execution_count": 258,
   "metadata": {},
   "outputs": [
    {
     "name": "stdout",
     "output_type": "stream",
     "text": [
      "iML1515_1\n",
      "{}\n",
      "iML1515_2\n",
      "{}\n",
      "iML1515_3\n",
      "{'iML1515': [('Transport reaction: FE2tex', ['b2215', 'b0929', 'b0241', 'b1377']), ('Transport reaction: FE2tpp', ['b3040']), ('DHORTS', ['b1062']), ('LPADSS', ['b0182']), ('GLUTRS', ['b2400']), ('HSDy', ['b3940', 'b0002'])]}\n",
      "iML1515_4\n",
      "{'iML1515': [('Transport reaction: O2tpp', ['s0001']), ('PNTK', ['b3974']), ('RHCCE', ['b2687']), ('PPND', ['b2600']), ('UDCPDP', ['b0841', 'b3057', 'b1278']), ('THDPS', ['b0166'])]}\n",
      "iML1515_5\n",
      "{'iML1515': [('EX_ca2_e', 'Exchange reaction'), ('Transport reaction: DALAt2pp', ['b4208']), ('RBFSb', ['b1662']), ('ILETA', ['b3770']), ('CHRPL', ['b1096', 'b4039'])]}\n",
      "iML1515_6\n",
      "{}\n",
      "iML1515_7\n",
      "{'iML1515': [('EX_o2_e', 'Exchange reaction'), ('Transport reaction: MG2tex', ['b2215', 'b0929', 'b0241', 'b1377']), ('HCO3E', ['b0126', 'b0339']), ('P5CR', ['b0386']), ('PRMICI', ['b2024']), ('ACONTb', ['b0118', 'b1276'])]}\n",
      "iML1515_8\n",
      "{'iML1515': [('EX_cobalt2_e', 'Exchange reaction'), ('Transport reaction: ZN2tpp', ['b3040']), ('OMPDC', ['b1281']), ('IMPC', ['b4006']), ('ADCL', ['b1096', 'b4039']), ('DASYN161', ['b0175']), ('AICART', ['b4006']), ('AGPAT160', ['b3018'])]}\n",
      "iML1515_9\n",
      "{'iML1515': [('EX_pi_e', 'Exchange reaction'), ('EX_rib__D_e', 'Exchange reaction'), ('Transport reaction: ASPtpp', ['b1206']), ('CHORM', ['b2599', 'b2600']), ('KDOCT2', ['b0918']), ('NNDPR', ['b0109']), ('AMPMS2', ['b3994'])]}\n",
      "iML1515_10\n",
      "{'iML1515': [('Transport reaction: FUMt1pp', ['b1206']), ('ASPTA', ['b0928', 'b4054']), ('IGPS', ['b1262']), ('OPHBDC', ['b3843']), ('ASPK', ['b3940', 'b0002', 'b4024']), ('AHCYSNS', ['b0159']), ('METS', ['b3829', 'b4019'])]}\n",
      "3min 25s ± 0 ns per loop (mean ± std. dev. of 1 run, 1 loop each)\n"
     ]
    }
   ],
   "source": [
    "%%timeit -n1 -r1\n",
    "# GALLANT\n",
    "for x in e_coli_samples_rib:\n",
    "    print(x)\n",
    "    with suppress_stdout():\n",
    "        sol = homology_gapfilling(e_coli_samples_rib[x], [e_coli_rib], integer_threshold=1e-9,\n",
    "                                  force_exchange=True, force_transport=True)\n",
    "    print(sol[1])"
   ]
  },
  {
   "cell_type": "markdown",
   "metadata": {},
   "source": [
    "#### L. lactis"
   ]
  },
  {
   "cell_type": "code",
   "execution_count": 259,
   "metadata": {},
   "outputs": [
    {
     "name": "stdout",
     "output_type": "stream",
     "text": [
      "iNF517_1\n",
      "0.0\n",
      "iNF517_2\n",
      "0.0\n",
      "iNF517_3\n",
      "None\n",
      "iNF517_4\n",
      "0.0\n",
      "iNF517_5\n",
      "None\n",
      "iNF517_6\n",
      "None\n",
      "iNF517_7\n",
      "None\n",
      "iNF517_8\n",
      "None\n",
      "iNF517_9\n",
      "0.0\n",
      "iNF517_10\n",
      "0.0\n"
     ]
    }
   ],
   "source": [
    "for i in range(len(l_lactis_samples_rib)):\n",
    "    print(list(l_lactis_samples_rib.keys())[i])\n",
    "    print(list(l_lactis_samples_rib.values())[i].optimize().objective_value)"
   ]
  },
  {
   "cell_type": "code",
   "execution_count": 260,
   "metadata": {},
   "outputs": [
    {
     "name": "stdout",
     "output_type": "stream",
     "text": [
      "iNF517_1\n",
      "iNF517_2\n",
      "iNF517_3\n",
      "iNF517_4\n",
      "iNF517_5\n",
      "[<Reaction AGAT_LLA at 0x7f2f9e846490>, <Reaction ETOHt at 0x7f2e6cebdfa0>, <Reaction DCYTD at 0x7f2ed6feda90>, <Reaction ENO at 0x7f2e905003d0>, <Reaction HODR8 at 0x7f2e88539fd0>, <Reaction FBP at 0x7f2e291d5f40>, <Reaction THRTRS_1 at 0x7f2f4fb08d30>]\n",
      "iNF517_6\n",
      "[<Reaction ADADir at 0x7f2e81ba9040>, <Reaction DDPA at 0x7f2e7877c790>, <Reaction GLUTRS_2 at 0x7f2eadcfd100>, <Reaction GLUTRS2 at 0x7f2eadcfd4c0>, <Reaction GLYTRS_1 at 0x7f2eadcfd0d0>, <Reaction PGI at 0x7f303cd76f40>, <Reaction PGAMT at 0x7f2ef5385a30>, <Reaction PIabc at 0x7f2ef5385100>, <Reaction TRPTRS_1 at 0x7f2e8de784f0>]\n",
      "iNF517_7\n",
      "iNF517_8\n",
      "iNF517_9\n",
      "iNF517_10\n",
      "48 s ± 0 ns per loop (mean ± std. dev. of 1 run, 1 loop each)\n"
     ]
    }
   ],
   "source": [
    "%%timeit -n1 -r1\n",
    "# COBRA\n",
    "for x in l_lactis_samples_rib:\n",
    "    print(x)\n",
    "    with suppress_stdout():\n",
    "        sol = 0\n",
    "        try:\n",
    "            sol = cobra.flux_analysis.gapfill(l_lactis_samples_rib[x], l_lactis_rib, demand_reactions=False)\n",
    "        except exceptions.Infeasible:\n",
    "            continue\n",
    "        except RuntimeError:\n",
    "            continue\n",
    "    print(sol[0])"
   ]
  },
  {
   "cell_type": "code",
   "execution_count": 261,
   "metadata": {},
   "outputs": [
    {
     "name": "stdout",
     "output_type": "stream",
     "text": [
      "iNF517_1\n",
      "{}\n",
      "iNF517_2\n",
      "{}\n",
      "iNF517_3\n",
      "{'iNF517': [('EX_ura_e', 'Exchange reaction'), ('Transport reaction: L_LACt2r', []), ('DAGK_LLA', ['LLMG_RS07495']), ('NDPK4', []), ('PROTS_LLA_v3', []), ('NNATr', ['LLMG_RS01240', 'LLMG_RS07435']), ('UGLDDS1', ['LLMG_RS01860']), ('MCMAT8', ['LLMG_RS08945'])]}\n",
      "iNF517_4\n",
      "{}\n",
      "iNF517_5\n",
      "{'iNF517': [('Transport reaction: ARGt2r', []), ('Transport reaction: ETOHt', []), ('Transport reaction: SUCCt2r', []), ('AGAT_LLA', ['LLMG_RS00635']), ('DCYTD', ['LLMG_RS05395']), ('ENO', ['LLMG_RS03215']), ('HODR8', ['LLMG_RS08950']), ('FBP', ['LLMG_RS01385']), ('THRTRS_1', ['LLMG_RS10900'])]}\n",
      "iNF517_6\n",
      "{'iNF517': [('ADADir', ['LLMG_RS03940']), ('DDPA', ['LLMG_RS00665', 'LLMG_RS06200']), ('GLUTRS_2', ['LLMG_RS11690']), ('GLUTRS2', ['LLMG_RS11690']), ('GLYTRS_1', ['LLMG_RS07450', 'LLMG_RS07455']), ('PGI', ['LLMG_RS12290']), ('PGAMT', ['LLMG_RS02290']), ('PIabc', ['LLMG_RS09515', 'LLMG_RS09500', 'LLMG_RS09495', 'LLMG_RS09505', 'LLMG_RS09510', 'LLMG_RS09490']), ('TRPTRS_1', ['LLMG_RS00430'])]}\n",
      "iNF517_7\n",
      "{}\n",
      "iNF517_8\n",
      "{'iNF517': [('EX_glu__L_e', 'Exchange reaction'), ('EX_lac__L_e', 'Exchange reaction'), ('EX_rib__D_e', 'Exchange reaction'), ('Transport reaction: ARGORNt3', ['LLMG_RS11585', 'LLMG_RS11565']), ('Transport reaction: SERt2r', []), ('CLPNS_LLA', ['LLMG_RS07830']), ('HOCR3', ['LLMG_RS08950']), ('NDPK1', ['LLMG_RS05685'])]}\n",
      "iNF517_9\n",
      "{}\n",
      "iNF517_10\n",
      "{}\n",
      "55 s ± 0 ns per loop (mean ± std. dev. of 1 run, 1 loop each)\n"
     ]
    }
   ],
   "source": [
    "%%timeit -n1 -r1\n",
    "# GALLANT\n",
    "for x in l_lactis_samples_rib:\n",
    "    print(x)\n",
    "    with suppress_stdout():\n",
    "        sol = homology_gapfilling(l_lactis_samples_rib[x], [l_lactis_rib], integer_threshold=1e-9,\n",
    "                                  force_exchange=True, force_transport=True)\n",
    "    print(sol[1])"
   ]
  },
  {
   "cell_type": "markdown",
   "metadata": {},
   "source": [
    "#### P. putida"
   ]
  },
  {
   "cell_type": "code",
   "execution_count": 262,
   "metadata": {},
   "outputs": [
    {
     "name": "stdout",
     "output_type": "stream",
     "text": [
      "iJN1463_1\n",
      "0.0\n",
      "iJN1463_2\n",
      "0.0\n",
      "iJN1463_3\n",
      "0.0\n",
      "iJN1463_4\n",
      "0.0\n",
      "iJN1463_5\n",
      "0.0\n",
      "iJN1463_6\n",
      "None\n",
      "iJN1463_7\n",
      "0.0\n",
      "iJN1463_8\n",
      "0.0\n",
      "iJN1463_9\n",
      "0.0\n",
      "iJN1463_10\n",
      "0.0\n"
     ]
    }
   ],
   "source": [
    "# checking functionality of the models\n",
    "for i in range(len(p_putida_samples_rib)):\n",
    "    print(list(p_putida_samples_rib.keys())[i])\n",
    "    print(list(p_putida_samples_rib.values())[i].optimize().objective_value)"
   ]
  },
  {
   "cell_type": "code",
   "execution_count": 263,
   "metadata": {},
   "outputs": [
    {
     "name": "stdout",
     "output_type": "stream",
     "text": [
      "iJN1463_1\n",
      "iJN1463_2\n",
      "iJN1463_3\n",
      "iJN1463_4\n",
      "iJN1463_5\n",
      "iJN1463_6\n",
      "iJN1463_7\n",
      "iJN1463_8\n",
      "iJN1463_9\n",
      "iJN1463_10\n",
      "2min 58s ± 0 ns per loop (mean ± std. dev. of 1 run, 1 loop each)\n"
     ]
    }
   ],
   "source": [
    "%%timeit -n1 -r1\n",
    "# COBRA\n",
    "for x in p_putida_samples_rib:\n",
    "    print(x)\n",
    "    with suppress_stdout():\n",
    "        sol = 0\n",
    "        try:\n",
    "            sol = cobra.flux_analysis.gapfill(p_putida_samples_rib[x], p_putida_rib, demand_reactions=False)\n",
    "        except exceptions.Infeasible:\n",
    "            continue\n",
    "        except RuntimeError:\n",
    "            continue\n",
    "    print(sol[0])"
   ]
  },
  {
   "cell_type": "code",
   "execution_count": 265,
   "metadata": {},
   "outputs": [
    {
     "name": "stdout",
     "output_type": "stream",
     "text": [
      "iJN1463_1\n",
      "{}\n",
      "iJN1463_2\n",
      "{}\n",
      "iJN1463_3\n",
      "{}\n",
      "iJN1463_4\n",
      "{}\n",
      "iJN1463_5\n",
      "{}\n",
      "iJN1463_6\n",
      "{}\n",
      "iJN1463_7\n",
      "{}\n",
      "iJN1463_8\n",
      "{}\n",
      "iJN1463_9\n",
      "{}\n",
      "iJN1463_10\n",
      "{}\n",
      "3min ± 0 ns per loop (mean ± std. dev. of 1 run, 1 loop each)\n"
     ]
    }
   ],
   "source": [
    "%%timeit -n1 -r1\n",
    "# GALLANT\n",
    "for x in p_putida_samples_rib:\n",
    "    print(x)\n",
    "    with suppress_stdout():\n",
    "        sol = homology_gapfilling(p_putida_samples_rib[x], [p_putida_rib], integer_threshold=1e-9,\n",
    "                                  force_exchange=True, force_transport=True)\n",
    "    print(sol[1])"
   ]
  }
 ],
 "metadata": {
  "kernelspec": {
   "display_name": "Python 3",
   "language": "python",
   "name": "python3"
  },
  "language_info": {
   "codemirror_mode": {
    "name": "ipython",
    "version": 3
   },
   "file_extension": ".py",
   "mimetype": "text/x-python",
   "name": "python",
   "nbconvert_exporter": "python",
   "pygments_lexer": "ipython3",
   "version": "3.8.5"
  }
 },
 "nbformat": 4,
 "nbformat_minor": 4
}
