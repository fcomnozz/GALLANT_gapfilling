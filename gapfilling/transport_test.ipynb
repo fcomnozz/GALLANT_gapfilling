{
 "cells": [
  {
   "cell_type": "code",
   "execution_count": 1,
   "metadata": {},
   "outputs": [],
   "source": [
    "import cobra\n",
    "import re\n",
    "import gurobipy\n",
    "from cobra.flux_analysis.gapfilling import GapFiller\n",
    "from Gapfilling import *\n",
    "import os\n",
    "from cobra.io import read_sbml_model\n",
    "import pandas as pd\n",
    "import matplotlib as plt\n",
    "from cobra import exceptions"
   ]
  },
  {
   "cell_type": "code",
   "execution_count": 2,
   "metadata": {
    "scrolled": true
   },
   "outputs": [
    {
     "name": "stdout",
     "output_type": "stream",
     "text": [
      "Using license file /home/fco/gurobi.lic\n",
      "Academic license - for non-commercial use only - expires 2021-06-01\n"
     ]
    }
   ],
   "source": [
    "x = read_sbml_model(\"BiGG_files/e_coli_core.xml\")"
   ]
  },
  {
   "cell_type": "code",
   "execution_count": 3,
   "metadata": {},
   "outputs": [],
   "source": [
    "r1 = x.reactions.PFK\n",
    "r2 = x.reactions.ATPS4r\n",
    "r3 = x.reactions.CO2t\n",
    "r4 = x.reactions.EX_h_e\n",
    "r5 = x.reactions.SUCCt2_2"
   ]
  },
  {
   "cell_type": "markdown",
   "metadata": {},
   "source": [
    "1. the splitted lists must have the same length\n",
    "2. the metabolites in each one must be the same (besides compartments)"
   ]
  },
  {
   "cell_type": "code",
   "execution_count": 4,
   "metadata": {},
   "outputs": [],
   "source": [
    "def is_transport(reaction, compartments_list, all_compounds = False, ignore_H = False):\n",
    "    \"\"\"\n",
    "    Takes a cobra model reaction as input and determines if it is a transport reaction.\n",
    "    all_compounds = True -> both sides of the reaction must be the same (besides compartment)\n",
    "    all_compounds = False -> at least one compound must be in both sides\n",
    "    ignore_H = True -> \n",
    "    \"\"\"\n",
    "    # left part of the reaction\n",
    "    r = list(str(x) for x in reaction.reactants)\n",
    "    # right part\n",
    "    p = list(str(x) for x in reaction.products)\n",
    "    #if len(r) != len(p):\n",
    "    #    return False\n",
    "    c = compartments_list\n",
    "    # removing terminations\n",
    "    R = []\n",
    "    for i in r:\n",
    "        for e in c:\n",
    "            i = i.replace(e, \"\") \n",
    "        R.append(i)\n",
    "    P = []\n",
    "    for i in p:\n",
    "        for e in c:\n",
    "            i = i.replace(e, \"\")\n",
    "        P.append(i)\n",
    "    # we sort the lists to avoid missing transport reactions where the sequence of the compounds is not maintained\n",
    "    R = sorted(R)\n",
    "    P = sorted(P)\n",
    "    if all_compounds == False:\n",
    "        if ignore_H == True:\n",
    "            if \"h\" in R:\n",
    "                R.remove(\"h\")\n",
    "            if \"h\" in P:\n",
    "                P.remove(\"h\")\n",
    "        for i in R:\n",
    "            if i in P:\n",
    "                return True\n",
    "            else:\n",
    "                return False\n",
    "    else:\n",
    "        if R == P:\n",
    "            return True\n",
    "        else:\n",
    "            return False"
   ]
  },
  {
   "cell_type": "markdown",
   "metadata": {},
   "source": [
    "Some points to take into account:\n",
    " - this function doesn't assure that reagents and products are into different compartments; it just detects if the compounds are the same\n",
    " - transport reactions that involve unilateral metabolites aren't added\n",
    " - exchange reactions aren't added (there's another function for that purpose)\n",
    " - this function doesn't consider the stoichiometric coefficients "
   ]
  },
  {
   "cell_type": "code",
   "execution_count": 5,
   "metadata": {
    "scrolled": false
   },
   "outputs": [
    {
     "name": "stdout",
     "output_type": "stream",
     "text": [
      "PFK: atp_c + f6p_c --> adp_c + fdp_c + h_c False\n",
      "PFL: coa_c + pyr_c --> accoa_c + for_c False\n",
      "PGI: g6p_c <=> f6p_c False\n",
      "PGK: 3pg_c + atp_c <=> 13dpg_c + adp_c False\n",
      "PGL: 6pgl_c + h2o_c --> 6pgc_c + h_c False\n",
      "ACALD: acald_c + coa_c + nad_c <=> accoa_c + h_c + nadh_c False\n",
      "AKGt2r: akg_e + h_e <=> akg_c + h_c True\n",
      "PGM: 2pg_c <=> 3pg_c False\n",
      "PIt2r: h_e + pi_e <=> h_c + pi_c True\n",
      "ALCD2x: etoh_c + nad_c <=> acald_c + h_c + nadh_c False\n",
      "ACALDt: acald_e <=> acald_c True\n",
      "ACKr: ac_c + atp_c <=> actp_c + adp_c False\n",
      "PPC: co2_c + h2o_c + pep_c --> h_c + oaa_c + pi_c False\n",
      "ACONTa: cit_c <=> acon_C_c + h2o_c False\n",
      "ACONTb: acon_C_c + h2o_c <=> icit_c False\n",
      "ATPM: atp_c + h2o_c --> adp_c + h_c + pi_c False\n",
      "PPCK: atp_c + oaa_c --> adp_c + co2_c + pep_c False\n",
      "ACt2r: ac_e + h_e <=> ac_c + h_c True\n",
      "PPS: atp_c + h2o_c + pyr_c --> amp_c + 2.0 h_c + pep_c + pi_c False\n",
      "ADK1: amp_c + atp_c <=> 2.0 adp_c False\n",
      "AKGDH: akg_c + coa_c + nad_c --> co2_c + nadh_c + succoa_c False\n",
      "ATPS4r: adp_c + 4.0 h_e + pi_c <=> atp_c + h2o_c + 3.0 h_c False\n",
      "PTAr: accoa_c + pi_c <=> actp_c + coa_c False\n",
      "PYK: adp_c + h_c + pep_c --> atp_c + pyr_c False\n",
      "BIOMASS_Ecoli_core_w_GAM: 1.496 3pg_c + 3.7478 accoa_c + 59.81 atp_c + 0.361 e4p_c + 0.0709 f6p_c + 0.129 g3p_c + 0.205 g6p_c + 0.2557 gln__L_c + 4.9414 glu__L_c + 59.81 h2o_c + 3.547 nad_c + 13.0279 nadph_c + 1.7867 oaa_c + 0.5191 pep_c + 2.8328 pyr_c + 0.8977 r5p_c --> 59.81 adp_c + 4.1182 akg_c + 3.7478 coa_c + 59.81 h_c + 3.547 nadh_c + 13.0279 nadp_c + 59.81 pi_c False\n",
      "PYRt2: h_e + pyr_e <=> h_c + pyr_c True\n",
      "CO2t: co2_e <=> co2_c True\n",
      "RPE: ru5p__D_c <=> xu5p__D_c False\n",
      "CS: accoa_c + h2o_c + oaa_c --> cit_c + coa_c + h_c False\n",
      "RPI: r5p_c <=> ru5p__D_c False\n",
      "SUCCt2_2: 2.0 h_e + succ_e --> 2.0 h_c + succ_c True\n",
      "CYTBD: 2.0 h_c + 0.5 o2_c + q8h2_c --> h2o_c + 2.0 h_e + q8_c False\n",
      "D_LACt2: h_e + lac__D_e <=> h_c + lac__D_c True\n",
      "ENO: 2pg_c <=> h2o_c + pep_c False\n",
      "SUCCt3: h_e + succ_c --> h_c + succ_e True\n",
      "ETOHt2r: etoh_e + h_e <=> etoh_c + h_c True\n",
      "SUCDi: q8_c + succ_c --> fum_c + q8h2_c False\n",
      "SUCOAS: atp_c + coa_c + succ_c <=> adp_c + pi_c + succoa_c False\n",
      "TALA: g3p_c + s7p_c <=> e4p_c + f6p_c False\n",
      "THD2: 2.0 h_e + nadh_c + nadp_c --> 2.0 h_c + nad_c + nadph_c False\n",
      "TKT1: r5p_c + xu5p__D_c <=> g3p_c + s7p_c False\n",
      "TKT2: e4p_c + xu5p__D_c <=> f6p_c + g3p_c False\n",
      "TPI: dhap_c <=> g3p_c False\n",
      "EX_ac_e: ac_e -->  False\n",
      "EX_acald_e: acald_e -->  False\n",
      "EX_akg_e: akg_e -->  False\n",
      "EX_co2_e: co2_e <=>  False\n",
      "EX_etoh_e: etoh_e -->  False\n",
      "EX_for_e: for_e -->  False\n",
      "EX_fru_e: fru_e -->  False\n",
      "EX_fum_e: fum_e -->  False\n",
      "EX_glc__D_e: glc__D_e <=>  False\n",
      "EX_gln__L_e: gln__L_e -->  False\n",
      "EX_glu__L_e: glu__L_e -->  False\n",
      "EX_h_e: h_e <=>  False\n",
      "EX_h2o_e: h2o_e <=>  False\n",
      "EX_lac__D_e: lac__D_e -->  False\n",
      "EX_mal__L_e: mal__L_e -->  False\n",
      "EX_nh4_e: nh4_e <=>  False\n",
      "EX_o2_e: o2_e <=>  False\n",
      "EX_pi_e: pi_e <=>  False\n",
      "EX_pyr_e: pyr_e -->  False\n",
      "EX_succ_e: succ_e -->  False\n",
      "FBA: fdp_c <=> dhap_c + g3p_c False\n",
      "FBP: fdp_c + h2o_c --> f6p_c + pi_c False\n",
      "FORt2: for_e + h_e --> for_c + h_c True\n",
      "FORt: for_e <-- for_c True\n",
      "FRD7: fum_c + q8h2_c --> q8_c + succ_c False\n",
      "FRUpts2: fru_e + pep_c --> f6p_c + pyr_c False\n",
      "FUM: fum_c + h2o_c <=> mal__L_c False\n",
      "FUMt2_2: fum_e + 2.0 h_e --> fum_c + 2.0 h_c True\n",
      "G6PDH2r: g6p_c + nadp_c <=> 6pgl_c + h_c + nadph_c False\n",
      "GAPD: g3p_c + nad_c + pi_c <=> 13dpg_c + h_c + nadh_c False\n",
      "GLCpts: glc__D_e + pep_c --> g6p_c + pyr_c False\n",
      "GLNS: atp_c + glu__L_c + nh4_c --> adp_c + gln__L_c + h_c + pi_c False\n",
      "GLNabc: atp_c + gln__L_e + h2o_c --> adp_c + gln__L_c + h_c + pi_c False\n",
      "GLUDy: glu__L_c + h2o_c + nadp_c <=> akg_c + h_c + nadph_c + nh4_c False\n",
      "GLUN: gln__L_c + h2o_c --> glu__L_c + nh4_c False\n",
      "GLUSy: akg_c + gln__L_c + h_c + nadph_c --> 2.0 glu__L_c + nadp_c False\n",
      "GLUt2r: glu__L_e + h_e <=> glu__L_c + h_c True\n",
      "GND: 6pgc_c + nadp_c --> co2_c + nadph_c + ru5p__D_c False\n",
      "H2Ot: h2o_e <=> h2o_c True\n",
      "ICDHyr: icit_c + nadp_c <=> akg_c + co2_c + nadph_c False\n",
      "ICL: icit_c --> glx_c + succ_c False\n",
      "LDH_D: lac__D_c + nad_c <=> h_c + nadh_c + pyr_c False\n",
      "MALS: accoa_c + glx_c + h2o_c --> coa_c + h_c + mal__L_c False\n",
      "MALt2_2: 2.0 h_e + mal__L_e --> 2.0 h_c + mal__L_c True\n",
      "MDH: mal__L_c + nad_c <=> h_c + nadh_c + oaa_c False\n",
      "ME1: mal__L_c + nad_c --> co2_c + nadh_c + pyr_c False\n",
      "ME2: mal__L_c + nadp_c --> co2_c + nadph_c + pyr_c False\n",
      "NADH16: 4.0 h_c + nadh_c + q8_c --> 3.0 h_e + nad_c + q8h2_c False\n",
      "NADTRHD: nad_c + nadph_c --> nadh_c + nadp_c False\n",
      "NH4t: nh4_e <=> nh4_c True\n",
      "O2t: o2_e <=> o2_c True\n",
      "PDH: coa_c + nad_c + pyr_c --> accoa_c + co2_c + nadh_c False\n"
     ]
    }
   ],
   "source": [
    "# All compounds\n",
    "for reaction in x.reactions:\n",
    "    print(reaction, is_transport(reaction, [\"_c\", \"_e\", \"_p\"], all_compounds = True))"
   ]
  },
  {
   "cell_type": "markdown",
   "metadata": {},
   "source": [
    "FN:\n",
    "- GLNabc"
   ]
  },
  {
   "cell_type": "code",
   "execution_count": 6,
   "metadata": {},
   "outputs": [
    {
     "name": "stdout",
     "output_type": "stream",
     "text": [
      "PFK: atp_c + f6p_c --> adp_c + fdp_c + h_c False\n",
      "PFL: coa_c + pyr_c --> accoa_c + for_c False\n",
      "PGI: g6p_c <=> f6p_c False\n",
      "PGK: 3pg_c + atp_c <=> 13dpg_c + adp_c False\n",
      "PGL: 6pgl_c + h2o_c --> 6pgc_c + h_c False\n",
      "ACALD: acald_c + coa_c + nad_c <=> accoa_c + h_c + nadh_c False\n",
      "AKGt2r: akg_e + h_e <=> akg_c + h_c True\n",
      "PGM: 2pg_c <=> 3pg_c False\n",
      "PIt2r: h_e + pi_e <=> h_c + pi_c True\n",
      "ALCD2x: etoh_c + nad_c <=> acald_c + h_c + nadh_c False\n",
      "ACALDt: acald_e <=> acald_c True\n",
      "ACKr: ac_c + atp_c <=> actp_c + adp_c False\n",
      "PPC: co2_c + h2o_c + pep_c --> h_c + oaa_c + pi_c False\n",
      "ACONTa: cit_c <=> acon_C_c + h2o_c False\n",
      "ACONTb: acon_C_c + h2o_c <=> icit_c False\n",
      "ATPM: atp_c + h2o_c --> adp_c + h_c + pi_c False\n",
      "PPCK: atp_c + oaa_c --> adp_c + co2_c + pep_c False\n",
      "ACt2r: ac_e + h_e <=> ac_c + h_c True\n",
      "PPS: atp_c + h2o_c + pyr_c --> amp_c + 2.0 h_c + pep_c + pi_c False\n",
      "ADK1: amp_c + atp_c <=> 2.0 adp_c False\n",
      "AKGDH: akg_c + coa_c + nad_c --> co2_c + nadh_c + succoa_c False\n",
      "ATPS4r: adp_c + 4.0 h_e + pi_c <=> atp_c + h2o_c + 3.0 h_c False\n",
      "PTAr: accoa_c + pi_c <=> actp_c + coa_c False\n",
      "PYK: adp_c + h_c + pep_c --> atp_c + pyr_c False\n",
      "BIOMASS_Ecoli_core_w_GAM: 1.496 3pg_c + 3.7478 accoa_c + 59.81 atp_c + 0.361 e4p_c + 0.0709 f6p_c + 0.129 g3p_c + 0.205 g6p_c + 0.2557 gln__L_c + 4.9414 glu__L_c + 59.81 h2o_c + 3.547 nad_c + 13.0279 nadph_c + 1.7867 oaa_c + 0.5191 pep_c + 2.8328 pyr_c + 0.8977 r5p_c --> 59.81 adp_c + 4.1182 akg_c + 3.7478 coa_c + 59.81 h_c + 3.547 nadh_c + 13.0279 nadp_c + 59.81 pi_c False\n",
      "PYRt2: h_e + pyr_e <=> h_c + pyr_c True\n",
      "CO2t: co2_e <=> co2_c True\n",
      "RPE: ru5p__D_c <=> xu5p__D_c False\n",
      "CS: accoa_c + h2o_c + oaa_c --> cit_c + coa_c + h_c False\n",
      "RPI: r5p_c <=> ru5p__D_c False\n",
      "SUCCt2_2: 2.0 h_e + succ_e --> 2.0 h_c + succ_c True\n",
      "CYTBD: 2.0 h_c + 0.5 o2_c + q8h2_c --> h2o_c + 2.0 h_e + q8_c True\n",
      "D_LACt2: h_e + lac__D_e <=> h_c + lac__D_c True\n",
      "ENO: 2pg_c <=> h2o_c + pep_c False\n",
      "SUCCt3: h_e + succ_c --> h_c + succ_e True\n",
      "ETOHt2r: etoh_e + h_e <=> etoh_c + h_c True\n",
      "SUCDi: q8_c + succ_c --> fum_c + q8h2_c False\n",
      "SUCOAS: atp_c + coa_c + succ_c <=> adp_c + pi_c + succoa_c False\n",
      "TALA: g3p_c + s7p_c <=> e4p_c + f6p_c False\n",
      "THD2: 2.0 h_e + nadh_c + nadp_c --> 2.0 h_c + nad_c + nadph_c True\n",
      "TKT1: r5p_c + xu5p__D_c <=> g3p_c + s7p_c False\n",
      "TKT2: e4p_c + xu5p__D_c <=> f6p_c + g3p_c False\n",
      "TPI: dhap_c <=> g3p_c False\n",
      "EX_ac_e: ac_e -->  False\n",
      "EX_acald_e: acald_e -->  False\n",
      "EX_akg_e: akg_e -->  False\n",
      "EX_co2_e: co2_e <=>  False\n",
      "EX_etoh_e: etoh_e -->  False\n",
      "EX_for_e: for_e -->  False\n",
      "EX_fru_e: fru_e -->  False\n",
      "EX_fum_e: fum_e -->  False\n",
      "EX_glc__D_e: glc__D_e <=>  False\n",
      "EX_gln__L_e: gln__L_e -->  False\n",
      "EX_glu__L_e: glu__L_e -->  False\n",
      "EX_h_e: h_e <=>  False\n",
      "EX_h2o_e: h2o_e <=>  False\n",
      "EX_lac__D_e: lac__D_e -->  False\n",
      "EX_mal__L_e: mal__L_e -->  False\n",
      "EX_nh4_e: nh4_e <=>  False\n",
      "EX_o2_e: o2_e <=>  False\n",
      "EX_pi_e: pi_e <=>  False\n",
      "EX_pyr_e: pyr_e -->  False\n",
      "EX_succ_e: succ_e -->  False\n",
      "FBA: fdp_c <=> dhap_c + g3p_c False\n",
      "FBP: fdp_c + h2o_c --> f6p_c + pi_c False\n",
      "FORt2: for_e + h_e --> for_c + h_c True\n",
      "FORt: for_e <-- for_c True\n",
      "FRD7: fum_c + q8h2_c --> q8_c + succ_c False\n",
      "FRUpts2: fru_e + pep_c --> f6p_c + pyr_c False\n",
      "FUM: fum_c + h2o_c <=> mal__L_c False\n",
      "FUMt2_2: fum_e + 2.0 h_e --> fum_c + 2.0 h_c True\n",
      "G6PDH2r: g6p_c + nadp_c <=> 6pgl_c + h_c + nadph_c False\n",
      "GAPD: g3p_c + nad_c + pi_c <=> 13dpg_c + h_c + nadh_c False\n",
      "GLCpts: glc__D_e + pep_c --> g6p_c + pyr_c False\n",
      "GLNS: atp_c + glu__L_c + nh4_c --> adp_c + gln__L_c + h_c + pi_c False\n",
      "GLNabc: atp_c + gln__L_e + h2o_c --> adp_c + gln__L_c + h_c + pi_c False\n",
      "GLUDy: glu__L_c + h2o_c + nadp_c <=> akg_c + h_c + nadph_c + nh4_c False\n",
      "GLUN: gln__L_c + h2o_c --> glu__L_c + nh4_c False\n",
      "GLUSy: akg_c + gln__L_c + h_c + nadph_c --> 2.0 glu__L_c + nadp_c False\n",
      "GLUt2r: glu__L_e + h_e <=> glu__L_c + h_c True\n",
      "GND: 6pgc_c + nadp_c --> co2_c + nadph_c + ru5p__D_c False\n",
      "H2Ot: h2o_e <=> h2o_c True\n",
      "ICDHyr: icit_c + nadp_c <=> akg_c + co2_c + nadph_c False\n",
      "ICL: icit_c --> glx_c + succ_c False\n",
      "LDH_D: lac__D_c + nad_c <=> h_c + nadh_c + pyr_c False\n",
      "MALS: accoa_c + glx_c + h2o_c --> coa_c + h_c + mal__L_c False\n",
      "MALt2_2: 2.0 h_e + mal__L_e --> 2.0 h_c + mal__L_c True\n",
      "MDH: mal__L_c + nad_c <=> h_c + nadh_c + oaa_c False\n",
      "ME1: mal__L_c + nad_c --> co2_c + nadh_c + pyr_c False\n",
      "ME2: mal__L_c + nadp_c --> co2_c + nadph_c + pyr_c False\n",
      "NADH16: 4.0 h_c + nadh_c + q8_c --> 3.0 h_e + nad_c + q8h2_c True\n",
      "NADTRHD: nad_c + nadph_c --> nadh_c + nadp_c False\n",
      "NH4t: nh4_e <=> nh4_c True\n",
      "O2t: o2_e <=> o2_c True\n",
      "PDH: coa_c + nad_c + pyr_c --> accoa_c + co2_c + nadh_c False\n"
     ]
    }
   ],
   "source": [
    "# At least one compound\n",
    "for reaction in x.reactions:\n",
    "    print(reaction, is_transport(reaction, [\"_c\", \"_e\", \"_p\"], all_compounds = False))"
   ]
  },
  {
   "cell_type": "markdown",
   "metadata": {},
   "source": [
    "FP:\n",
    "- CYTBD\n",
    "- NADH16\n",
    "\n",
    "FN:\n",
    "- GLNabc\n",
    "\n"
   ]
  },
  {
   "cell_type": "code",
   "execution_count": 7,
   "metadata": {},
   "outputs": [
    {
     "name": "stdout",
     "output_type": "stream",
     "text": [
      "PFK: atp_c + f6p_c --> adp_c + fdp_c + h_c False\n",
      "PFL: coa_c + pyr_c --> accoa_c + for_c False\n",
      "PGI: g6p_c <=> f6p_c False\n",
      "PGK: 3pg_c + atp_c <=> 13dpg_c + adp_c False\n",
      "PGL: 6pgl_c + h2o_c --> 6pgc_c + h_c False\n",
      "ACALD: acald_c + coa_c + nad_c <=> accoa_c + h_c + nadh_c False\n",
      "AKGt2r: akg_e + h_e <=> akg_c + h_c True\n",
      "PGM: 2pg_c <=> 3pg_c False\n",
      "PIt2r: h_e + pi_e <=> h_c + pi_c True\n",
      "ALCD2x: etoh_c + nad_c <=> acald_c + h_c + nadh_c False\n",
      "ACALDt: acald_e <=> acald_c True\n",
      "ACKr: ac_c + atp_c <=> actp_c + adp_c False\n",
      "PPC: co2_c + h2o_c + pep_c --> h_c + oaa_c + pi_c False\n",
      "ACONTa: cit_c <=> acon_C_c + h2o_c False\n",
      "ACONTb: acon_C_c + h2o_c <=> icit_c False\n",
      "ATPM: atp_c + h2o_c --> adp_c + h_c + pi_c False\n",
      "PPCK: atp_c + oaa_c --> adp_c + co2_c + pep_c False\n",
      "ACt2r: ac_e + h_e <=> ac_c + h_c True\n",
      "PPS: atp_c + h2o_c + pyr_c --> amp_c + 2.0 h_c + pep_c + pi_c False\n",
      "ADK1: amp_c + atp_c <=> 2.0 adp_c False\n",
      "AKGDH: akg_c + coa_c + nad_c --> co2_c + nadh_c + succoa_c False\n",
      "ATPS4r: adp_c + 4.0 h_e + pi_c <=> atp_c + h2o_c + 3.0 h_c False\n",
      "PTAr: accoa_c + pi_c <=> actp_c + coa_c False\n",
      "PYK: adp_c + h_c + pep_c --> atp_c + pyr_c False\n",
      "BIOMASS_Ecoli_core_w_GAM: 1.496 3pg_c + 3.7478 accoa_c + 59.81 atp_c + 0.361 e4p_c + 0.0709 f6p_c + 0.129 g3p_c + 0.205 g6p_c + 0.2557 gln__L_c + 4.9414 glu__L_c + 59.81 h2o_c + 3.547 nad_c + 13.0279 nadph_c + 1.7867 oaa_c + 0.5191 pep_c + 2.8328 pyr_c + 0.8977 r5p_c --> 59.81 adp_c + 4.1182 akg_c + 3.7478 coa_c + 59.81 h_c + 3.547 nadh_c + 13.0279 nadp_c + 59.81 pi_c False\n",
      "PYRt2: h_e + pyr_e <=> h_c + pyr_c True\n",
      "CO2t: co2_e <=> co2_c True\n",
      "RPE: ru5p__D_c <=> xu5p__D_c False\n",
      "CS: accoa_c + h2o_c + oaa_c --> cit_c + coa_c + h_c False\n",
      "RPI: r5p_c <=> ru5p__D_c False\n",
      "SUCCt2_2: 2.0 h_e + succ_e --> 2.0 h_c + succ_c True\n",
      "CYTBD: 2.0 h_c + 0.5 o2_c + q8h2_c --> h2o_c + 2.0 h_e + q8_c False\n",
      "D_LACt2: h_e + lac__D_e <=> h_c + lac__D_c True\n",
      "ENO: 2pg_c <=> h2o_c + pep_c False\n",
      "SUCCt3: h_e + succ_c --> h_c + succ_e True\n",
      "ETOHt2r: etoh_e + h_e <=> etoh_c + h_c True\n",
      "SUCDi: q8_c + succ_c --> fum_c + q8h2_c False\n",
      "SUCOAS: atp_c + coa_c + succ_c <=> adp_c + pi_c + succoa_c False\n",
      "TALA: g3p_c + s7p_c <=> e4p_c + f6p_c False\n",
      "THD2: 2.0 h_e + nadh_c + nadp_c --> 2.0 h_c + nad_c + nadph_c False\n",
      "TKT1: r5p_c + xu5p__D_c <=> g3p_c + s7p_c False\n",
      "TKT2: e4p_c + xu5p__D_c <=> f6p_c + g3p_c False\n",
      "TPI: dhap_c <=> g3p_c False\n",
      "EX_ac_e: ac_e -->  False\n",
      "EX_acald_e: acald_e -->  False\n",
      "EX_akg_e: akg_e -->  False\n",
      "EX_co2_e: co2_e <=>  False\n",
      "EX_etoh_e: etoh_e -->  False\n",
      "EX_for_e: for_e -->  False\n",
      "EX_fru_e: fru_e -->  False\n",
      "EX_fum_e: fum_e -->  False\n",
      "EX_glc__D_e: glc__D_e <=>  False\n",
      "EX_gln__L_e: gln__L_e -->  False\n",
      "EX_glu__L_e: glu__L_e -->  False\n",
      "EX_h_e: h_e <=>  None\n",
      "EX_h2o_e: h2o_e <=>  False\n",
      "EX_lac__D_e: lac__D_e -->  False\n",
      "EX_mal__L_e: mal__L_e -->  False\n",
      "EX_nh4_e: nh4_e <=>  False\n",
      "EX_o2_e: o2_e <=>  False\n",
      "EX_pi_e: pi_e <=>  False\n",
      "EX_pyr_e: pyr_e -->  False\n",
      "EX_succ_e: succ_e -->  False\n",
      "FBA: fdp_c <=> dhap_c + g3p_c False\n",
      "FBP: fdp_c + h2o_c --> f6p_c + pi_c False\n",
      "FORt2: for_e + h_e --> for_c + h_c True\n",
      "FORt: for_e <-- for_c True\n",
      "FRD7: fum_c + q8h2_c --> q8_c + succ_c False\n",
      "FRUpts2: fru_e + pep_c --> f6p_c + pyr_c False\n",
      "FUM: fum_c + h2o_c <=> mal__L_c False\n",
      "FUMt2_2: fum_e + 2.0 h_e --> fum_c + 2.0 h_c True\n",
      "G6PDH2r: g6p_c + nadp_c <=> 6pgl_c + h_c + nadph_c False\n",
      "GAPD: g3p_c + nad_c + pi_c <=> 13dpg_c + h_c + nadh_c False\n",
      "GLCpts: glc__D_e + pep_c --> g6p_c + pyr_c False\n",
      "GLNS: atp_c + glu__L_c + nh4_c --> adp_c + gln__L_c + h_c + pi_c False\n",
      "GLNabc: atp_c + gln__L_e + h2o_c --> adp_c + gln__L_c + h_c + pi_c False\n",
      "GLUDy: glu__L_c + h2o_c + nadp_c <=> akg_c + h_c + nadph_c + nh4_c False\n",
      "GLUN: gln__L_c + h2o_c --> glu__L_c + nh4_c False\n",
      "GLUSy: akg_c + gln__L_c + h_c + nadph_c --> 2.0 glu__L_c + nadp_c False\n",
      "GLUt2r: glu__L_e + h_e <=> glu__L_c + h_c True\n",
      "GND: 6pgc_c + nadp_c --> co2_c + nadph_c + ru5p__D_c False\n",
      "H2Ot: h2o_e <=> h2o_c True\n",
      "ICDHyr: icit_c + nadp_c <=> akg_c + co2_c + nadph_c False\n",
      "ICL: icit_c --> glx_c + succ_c False\n",
      "LDH_D: lac__D_c + nad_c <=> h_c + nadh_c + pyr_c False\n",
      "MALS: accoa_c + glx_c + h2o_c --> coa_c + h_c + mal__L_c False\n",
      "MALt2_2: 2.0 h_e + mal__L_e --> 2.0 h_c + mal__L_c True\n",
      "MDH: mal__L_c + nad_c <=> h_c + nadh_c + oaa_c False\n",
      "ME1: mal__L_c + nad_c --> co2_c + nadh_c + pyr_c False\n",
      "ME2: mal__L_c + nadp_c --> co2_c + nadph_c + pyr_c False\n",
      "NADH16: 4.0 h_c + nadh_c + q8_c --> 3.0 h_e + nad_c + q8h2_c False\n",
      "NADTRHD: nad_c + nadph_c --> nadh_c + nadp_c False\n",
      "NH4t: nh4_e <=> nh4_c True\n",
      "O2t: o2_e <=> o2_c True\n",
      "PDH: coa_c + nad_c + pyr_c --> accoa_c + co2_c + nadh_c False\n"
     ]
    }
   ],
   "source": [
    "# At least one compound; ignoring protons\n",
    "for reaction in x.reactions:\n",
    "    print(reaction, is_transport(reaction, [\"_c\", \"_e\", \"_p\"], all_compounds = False, ignore_H = True))"
   ]
  },
  {
   "cell_type": "markdown",
   "metadata": {},
   "source": [
    "FN:\n",
    "- GLNabc"
   ]
  },
  {
   "cell_type": "code",
   "execution_count": 8,
   "metadata": {},
   "outputs": [
    {
     "data": {
      "text/html": [
       "\n",
       "        <table>\n",
       "            <tr>\n",
       "                <td><strong>Reaction identifier</strong></td><td>CYTBD</td>\n",
       "            </tr><tr>\n",
       "                <td><strong>Name</strong></td><td>Cytochrome oxidase bd (ubiquinol-8: 2 protons)</td>\n",
       "            </tr><tr>\n",
       "                <td><strong>Memory address</strong></td>\n",
       "                <td>0x07f0a8ccd38b0</td>\n",
       "            </tr><tr>\n",
       "                <td><strong>Stoichiometry</strong></td>\n",
       "                <td>\n",
       "                    <p style='text-align:right'>2.0 h_c + 0.5 o2_c + q8h2_c --> h2o_c + 2.0 h_e + q8_c</p>\n",
       "                    <p style='text-align:right'>2.0 H+ + 0.5 O2 O2 + Ubiquinol-8 --> H2O H2O + 2.0 H+ + Ubiquinone-8</p>\n",
       "                </td>\n",
       "            </tr><tr>\n",
       "                <td><strong>GPR</strong></td><td>( b0978 and b0979 ) or ( b0733 and b0734 )</td>\n",
       "            </tr><tr>\n",
       "                <td><strong>Lower bound</strong></td><td>0.0</td>\n",
       "            </tr><tr>\n",
       "                <td><strong>Upper bound</strong></td><td>1000.0</td>\n",
       "            </tr>\n",
       "        </table>\n",
       "        "
      ],
      "text/plain": [
       "<Reaction CYTBD at 0x7f0a8ccd38b0>"
      ]
     },
     "execution_count": 8,
     "metadata": {},
     "output_type": "execute_result"
    }
   ],
   "source": [
    "x.reactions.CYTBD"
   ]
  },
  {
   "cell_type": "code",
   "execution_count": 9,
   "metadata": {},
   "outputs": [
    {
     "data": {
      "text/html": [
       "\n",
       "        <table>\n",
       "            <tr>\n",
       "                <td><strong>Reaction identifier</strong></td><td>NADH16</td>\n",
       "            </tr><tr>\n",
       "                <td><strong>Name</strong></td><td>NADH dehydrogenase (ubiquinone-8 & 3 protons)</td>\n",
       "            </tr><tr>\n",
       "                <td><strong>Memory address</strong></td>\n",
       "                <td>0x07f0a8cbebbb0</td>\n",
       "            </tr><tr>\n",
       "                <td><strong>Stoichiometry</strong></td>\n",
       "                <td>\n",
       "                    <p style='text-align:right'>4.0 h_c + nadh_c + q8_c --> 3.0 h_e + nad_c + q8h2_c</p>\n",
       "                    <p style='text-align:right'>4.0 H+ + Nicotinamide adenine dinucleotide - reduced + Ubiquinone-8 --> 3.0 H+ + Nicotinamide adenine dinucleotide + Ubiquinol-8</p>\n",
       "                </td>\n",
       "            </tr><tr>\n",
       "                <td><strong>GPR</strong></td><td>b2276 and b2277 and b2278 and b2279 and b2280 and b2281 and b2282 and b2283 and b2284 and b2285 a...</td>\n",
       "            </tr><tr>\n",
       "                <td><strong>Lower bound</strong></td><td>0.0</td>\n",
       "            </tr><tr>\n",
       "                <td><strong>Upper bound</strong></td><td>1000.0</td>\n",
       "            </tr>\n",
       "        </table>\n",
       "        "
      ],
      "text/plain": [
       "<Reaction NADH16 at 0x7f0a8cbebbb0>"
      ]
     },
     "execution_count": 9,
     "metadata": {},
     "output_type": "execute_result"
    }
   ],
   "source": [
    "x.reactions.NADH16"
   ]
  },
  {
   "cell_type": "code",
   "execution_count": 10,
   "metadata": {
    "scrolled": false
   },
   "outputs": [
    {
     "name": "stdout",
     "output_type": "stream",
     "text": [
      "PFK: atp_c + f6p_c --> adp_c + fdp_c + h_c\n"
     ]
    },
    {
     "data": {
      "text/plain": [
       "False"
      ]
     },
     "execution_count": 10,
     "metadata": {},
     "output_type": "execute_result"
    }
   ],
   "source": [
    "print(r1)\n",
    "is_transport(r1, ['_e', '_c'])"
   ]
  },
  {
   "cell_type": "code",
   "execution_count": 11,
   "metadata": {
    "scrolled": true
   },
   "outputs": [
    {
     "name": "stdout",
     "output_type": "stream",
     "text": [
      "ATPS4r: adp_c + 4.0 h_e + pi_c <=> atp_c + h2o_c + 3.0 h_c\n"
     ]
    },
    {
     "data": {
      "text/plain": [
       "False"
      ]
     },
     "execution_count": 11,
     "metadata": {},
     "output_type": "execute_result"
    }
   ],
   "source": [
    "print(r2)\n",
    "is_transport(r2, ['_e', '_c'])"
   ]
  },
  {
   "cell_type": "code",
   "execution_count": 12,
   "metadata": {},
   "outputs": [
    {
     "name": "stdout",
     "output_type": "stream",
     "text": [
      "CO2t: co2_e <=> co2_c\n"
     ]
    },
    {
     "data": {
      "text/plain": [
       "True"
      ]
     },
     "execution_count": 12,
     "metadata": {},
     "output_type": "execute_result"
    }
   ],
   "source": [
    "print(r3)\n",
    "is_transport(r3, ['_e', '_c'])"
   ]
  },
  {
   "cell_type": "code",
   "execution_count": 13,
   "metadata": {
    "scrolled": true
   },
   "outputs": [
    {
     "name": "stdout",
     "output_type": "stream",
     "text": [
      "EX_h_e: h_e <=> \n"
     ]
    },
    {
     "data": {
      "text/plain": [
       "False"
      ]
     },
     "execution_count": 13,
     "metadata": {},
     "output_type": "execute_result"
    }
   ],
   "source": [
    "print(r4)\n",
    "is_transport(r4, ['_e', '_c'])"
   ]
  },
  {
   "cell_type": "code",
   "execution_count": 14,
   "metadata": {
    "scrolled": true
   },
   "outputs": [
    {
     "name": "stdout",
     "output_type": "stream",
     "text": [
      "SUCCt2_2: 2.0 h_e + succ_e --> 2.0 h_c + succ_c\n"
     ]
    },
    {
     "data": {
      "text/plain": [
       "True"
      ]
     },
     "execution_count": 14,
     "metadata": {},
     "output_type": "execute_result"
    }
   ],
   "source": [
    "print(r5)\n",
    "is_transport(r5, ['_e', '_c'])"
   ]
  },
  {
   "cell_type": "code",
   "execution_count": 15,
   "metadata": {},
   "outputs": [],
   "source": [
    "def add_transport(model, template):\n",
    "    \"\"\"\n",
    "    Adds transport reactions from a template which metabolites are present in the model.\n",
    "    \"\"\"\n",
    "    # PREPARATION\n",
    "    # template compartments\n",
    "    t_compartments = list(template.compartments.keys())\n",
    "    t_Compartments = []\n",
    "    for i in t_compartments:\n",
    "        t_Compartments.append(\"_\" + str(i))\n",
    "    # getting compartments and metabolites from query model for further use\n",
    "    m_compartments = list(model.compartments.keys())\n",
    "    m_Compartments = []\n",
    "    for i in m_compartments:\n",
    "        m_Compartments.append(\"_\" + str(i))\n",
    "    m_metabolites = list(str(x) for x in model.metabolites)\n",
    "    # removing suffixes from metabolites\n",
    "    m_Metabolites = []\n",
    "    for i in m_metabolites:\n",
    "        for e in m_Compartments:\n",
    "            i = i.replace(e, \"\")\n",
    "        m_Metabolites.append(i)\n",
    "    # sorting and removing duplicates\n",
    "    m_Metabolites = list(dict.fromkeys(m_Metabolites))\n",
    "    # REACTION ADDING\n",
    "    for reaction in template.reactions:\n",
    "        if is_transport(reaction, t_Compartments, all_compounds=False, ignore_H=True) and reaction not in model.reactions:\n",
    "            # we will only use reactants as they'll be the same as products (apart from location)\n",
    "            m = list(str(x) for x in reaction.reactants)\n",
    "            M = []\n",
    "            for i in m:\n",
    "                for e in t_Compartments:\n",
    "                    i = i.replace(e, \"\")\n",
    "                M.append(i)\n",
    "            if all(x in m_Metabolites for x in M):  \n",
    "                model.add_reaction(reaction.copy())\n",
    "    return model     "
   ]
  },
  {
   "cell_type": "code",
   "execution_count": 16,
   "metadata": {},
   "outputs": [],
   "source": [
    "y = read_sbml_model(\"BiGG_files/iJN1463.xml\")"
   ]
  },
  {
   "cell_type": "code",
   "execution_count": 17,
   "metadata": {
    "scrolled": true
   },
   "outputs": [
    {
     "data": {
      "text/html": [
       "\n",
       "        <table>\n",
       "            <tr>\n",
       "                <td><strong>Name</strong></td>\n",
       "                <td>e_coli_core</td>\n",
       "            </tr><tr>\n",
       "                <td><strong>Memory address</strong></td>\n",
       "                <td>0x07f0aa4b6c1f0</td>\n",
       "            </tr><tr>\n",
       "                <td><strong>Number of metabolites</strong></td>\n",
       "                <td>72</td>\n",
       "            </tr><tr>\n",
       "                <td><strong>Number of reactions</strong></td>\n",
       "                <td>95</td>\n",
       "            </tr><tr>\n",
       "                <td><strong>Number of groups</strong></td>\n",
       "                <td>0</td>\n",
       "            </tr><tr>\n",
       "                <td><strong>Objective expression</strong></td>\n",
       "                <td>1.0*BIOMASS_Ecoli_core_w_GAM - 1.0*BIOMASS_Ecoli_core_w_GAM_reverse_712e5</td>\n",
       "            </tr><tr>\n",
       "                <td><strong>Compartments</strong></td>\n",
       "                <td>extracellular space, cytosol</td>\n",
       "            </tr>\n",
       "          </table>"
      ],
      "text/plain": [
       "<Model e_coli_core at 0x7f0aa4b6c1f0>"
      ]
     },
     "execution_count": 17,
     "metadata": {},
     "output_type": "execute_result"
    }
   ],
   "source": [
    "x"
   ]
  },
  {
   "cell_type": "code",
   "execution_count": 18,
   "metadata": {
    "scrolled": true
   },
   "outputs": [
    {
     "data": {
      "text/html": [
       "\n",
       "        <table>\n",
       "            <tr>\n",
       "                <td><strong>Name</strong></td>\n",
       "                <td>iJN1463</td>\n",
       "            </tr><tr>\n",
       "                <td><strong>Memory address</strong></td>\n",
       "                <td>0x07f0a8cc888b0</td>\n",
       "            </tr><tr>\n",
       "                <td><strong>Number of metabolites</strong></td>\n",
       "                <td>2153</td>\n",
       "            </tr><tr>\n",
       "                <td><strong>Number of reactions</strong></td>\n",
       "                <td>2927</td>\n",
       "            </tr><tr>\n",
       "                <td><strong>Number of groups</strong></td>\n",
       "                <td>0</td>\n",
       "            </tr><tr>\n",
       "                <td><strong>Objective expression</strong></td>\n",
       "                <td>1.0*BIOMASS_KT2440_WT3 - 1.0*BIOMASS_KT2440_WT3_reverse_d86d5</td>\n",
       "            </tr><tr>\n",
       "                <td><strong>Compartments</strong></td>\n",
       "                <td>cytosol, extracellular space, periplasm</td>\n",
       "            </tr>\n",
       "          </table>"
      ],
      "text/plain": [
       "<Model iJN1463 at 0x7f0a8cc888b0>"
      ]
     },
     "execution_count": 18,
     "metadata": {},
     "output_type": "execute_result"
    }
   ],
   "source": [
    "y"
   ]
  },
  {
   "cell_type": "code",
   "execution_count": 19,
   "metadata": {},
   "outputs": [],
   "source": [
    "model = add_transport(x, y)"
   ]
  },
  {
   "cell_type": "code",
   "execution_count": 20,
   "metadata": {
    "scrolled": true
   },
   "outputs": [
    {
     "data": {
      "text/html": [
       "\n",
       "        <table>\n",
       "            <tr>\n",
       "                <td><strong>Name</strong></td>\n",
       "                <td>e_coli_core</td>\n",
       "            </tr><tr>\n",
       "                <td><strong>Memory address</strong></td>\n",
       "                <td>0x07f0aa4b6c1f0</td>\n",
       "            </tr><tr>\n",
       "                <td><strong>Number of metabolites</strong></td>\n",
       "                <td>100</td>\n",
       "            </tr><tr>\n",
       "                <td><strong>Number of reactions</strong></td>\n",
       "                <td>139</td>\n",
       "            </tr><tr>\n",
       "                <td><strong>Number of groups</strong></td>\n",
       "                <td>0</td>\n",
       "            </tr><tr>\n",
       "                <td><strong>Objective expression</strong></td>\n",
       "                <td>1.0*BIOMASS_Ecoli_core_w_GAM - 1.0*BIOMASS_Ecoli_core_w_GAM_reverse_712e5</td>\n",
       "            </tr><tr>\n",
       "                <td><strong>Compartments</strong></td>\n",
       "                <td>extracellular space, cytosol, p</td>\n",
       "            </tr>\n",
       "          </table>"
      ],
      "text/plain": [
       "<Model e_coli_core at 0x7f0aa4b6c1f0>"
      ]
     },
     "execution_count": 20,
     "metadata": {},
     "output_type": "execute_result"
    }
   ],
   "source": [
    "model"
   ]
  },
  {
   "cell_type": "code",
   "execution_count": 21,
   "metadata": {},
   "outputs": [],
   "source": [
    "# TESTING\n",
    "x = read_sbml_model(\"BiGG_files/e_coli_core.xml\")\n",
    "y = read_sbml_model(\"BiGG_files/iEC1344_C.xml\")"
   ]
  },
  {
   "cell_type": "code",
   "execution_count": 22,
   "metadata": {
    "scrolled": true
   },
   "outputs": [
    {
     "data": {
      "text/html": [
       "\n",
       "        <table>\n",
       "            <tr>\n",
       "                <td><strong>Name</strong></td>\n",
       "                <td>e_coli_core</td>\n",
       "            </tr><tr>\n",
       "                <td><strong>Memory address</strong></td>\n",
       "                <td>0x07f0a6a494070</td>\n",
       "            </tr><tr>\n",
       "                <td><strong>Number of metabolites</strong></td>\n",
       "                <td>72</td>\n",
       "            </tr><tr>\n",
       "                <td><strong>Number of reactions</strong></td>\n",
       "                <td>95</td>\n",
       "            </tr><tr>\n",
       "                <td><strong>Number of groups</strong></td>\n",
       "                <td>0</td>\n",
       "            </tr><tr>\n",
       "                <td><strong>Objective expression</strong></td>\n",
       "                <td>1.0*BIOMASS_Ecoli_core_w_GAM - 1.0*BIOMASS_Ecoli_core_w_GAM_reverse_712e5</td>\n",
       "            </tr><tr>\n",
       "                <td><strong>Compartments</strong></td>\n",
       "                <td>extracellular space, cytosol</td>\n",
       "            </tr>\n",
       "          </table>"
      ],
      "text/plain": [
       "<Model e_coli_core at 0x7f0a6a494070>"
      ]
     },
     "execution_count": 22,
     "metadata": {},
     "output_type": "execute_result"
    }
   ],
   "source": [
    "x"
   ]
  },
  {
   "cell_type": "code",
   "execution_count": 23,
   "metadata": {
    "scrolled": true
   },
   "outputs": [
    {
     "data": {
      "text/plain": [
       "0.8739215069684302"
      ]
     },
     "execution_count": 23,
     "metadata": {},
     "output_type": "execute_result"
    }
   ],
   "source": [
    "x.optimize().objective_value"
   ]
  },
  {
   "cell_type": "code",
   "execution_count": 24,
   "metadata": {
    "scrolled": true
   },
   "outputs": [
    {
     "name": "stdout",
     "output_type": "stream",
     "text": [
      "Read LP format model from file /tmp/tmpwmt2u7zc.lp\n",
      "Reading time = 0.00 seconds\n",
      ": 72 rows, 190 columns, 720 nonzeros\n",
      "Read LP format model from file /tmp/tmp23im9cy8.lp\n",
      "Reading time = 0.00 seconds\n",
      ": 72 rows, 190 columns, 720 nonzeros\n",
      "Read LP format model from file /tmp/tmpc1as3nmw.lp\n",
      "Reading time = 0.01 seconds\n",
      ": 1934 rows, 5452 columns, 21416 nonzeros\n",
      "Read LP format model from file /tmp/tmpjpfymt50.lp\n",
      "Reading time = 0.01 seconds\n",
      ": 1934 rows, 5452 columns, 21416 nonzeros\n"
     ]
    }
   ],
   "source": [
    "x_gp, reactions = homology_gapfilling(x, [y])"
   ]
  },
  {
   "cell_type": "code",
   "execution_count": 25,
   "metadata": {
    "scrolled": false
   },
   "outputs": [
    {
     "data": {
      "text/html": [
       "\n",
       "        <table>\n",
       "            <tr>\n",
       "                <td><strong>Name</strong></td>\n",
       "                <td>e_coli_core</td>\n",
       "            </tr><tr>\n",
       "                <td><strong>Memory address</strong></td>\n",
       "                <td>0x07f0a6a494070</td>\n",
       "            </tr><tr>\n",
       "                <td><strong>Number of metabolites</strong></td>\n",
       "                <td>72</td>\n",
       "            </tr><tr>\n",
       "                <td><strong>Number of reactions</strong></td>\n",
       "                <td>95</td>\n",
       "            </tr><tr>\n",
       "                <td><strong>Number of groups</strong></td>\n",
       "                <td>0</td>\n",
       "            </tr><tr>\n",
       "                <td><strong>Objective expression</strong></td>\n",
       "                <td>1.0*BIOMASS_Ecoli_core_w_GAM - 1.0*BIOMASS_Ecoli_core_w_GAM_reverse_712e5</td>\n",
       "            </tr><tr>\n",
       "                <td><strong>Compartments</strong></td>\n",
       "                <td>extracellular space, cytosol</td>\n",
       "            </tr>\n",
       "          </table>"
      ],
      "text/plain": [
       "<Model e_coli_core at 0x7f0a6a494070>"
      ]
     },
     "execution_count": 25,
     "metadata": {},
     "output_type": "execute_result"
    }
   ],
   "source": [
    "x_gp"
   ]
  },
  {
   "cell_type": "code",
   "execution_count": 26,
   "metadata": {
    "scrolled": false
   },
   "outputs": [
    {
     "data": {
      "text/plain": [
       "0.8739215069684302"
      ]
     },
     "execution_count": 26,
     "metadata": {},
     "output_type": "execute_result"
    }
   ],
   "source": [
    "x_gp.optimize().objective_value"
   ]
  },
  {
   "cell_type": "code",
   "execution_count": 27,
   "metadata": {},
   "outputs": [],
   "source": [
    "x_t = add_transport(x, y)"
   ]
  },
  {
   "cell_type": "code",
   "execution_count": 28,
   "metadata": {},
   "outputs": [
    {
     "data": {
      "text/html": [
       "\n",
       "        <table>\n",
       "            <tr>\n",
       "                <td><strong>Name</strong></td>\n",
       "                <td>e_coli_core</td>\n",
       "            </tr><tr>\n",
       "                <td><strong>Memory address</strong></td>\n",
       "                <td>0x07f0a6a494070</td>\n",
       "            </tr><tr>\n",
       "                <td><strong>Number of metabolites</strong></td>\n",
       "                <td>103</td>\n",
       "            </tr><tr>\n",
       "                <td><strong>Number of reactions</strong></td>\n",
       "                <td>148</td>\n",
       "            </tr><tr>\n",
       "                <td><strong>Number of groups</strong></td>\n",
       "                <td>0</td>\n",
       "            </tr><tr>\n",
       "                <td><strong>Objective expression</strong></td>\n",
       "                <td>1.0*BIOMASS_Ecoli_core_w_GAM - 1.0*BIOMASS_Ecoli_core_w_GAM_reverse_712e5</td>\n",
       "            </tr><tr>\n",
       "                <td><strong>Compartments</strong></td>\n",
       "                <td>extracellular space, cytosol, p</td>\n",
       "            </tr>\n",
       "          </table>"
      ],
      "text/plain": [
       "<Model e_coli_core at 0x7f0a6a494070>"
      ]
     },
     "execution_count": 28,
     "metadata": {},
     "output_type": "execute_result"
    }
   ],
   "source": [
    "x_t"
   ]
  },
  {
   "cell_type": "code",
   "execution_count": 29,
   "metadata": {},
   "outputs": [
    {
     "data": {
      "text/plain": [
       "1.3159193341448168"
      ]
     },
     "execution_count": 29,
     "metadata": {},
     "output_type": "execute_result"
    }
   ],
   "source": [
    "x_t.optimize().objective_value"
   ]
  },
  {
   "cell_type": "code",
   "execution_count": 30,
   "metadata": {
    "scrolled": true
   },
   "outputs": [
    {
     "name": "stdout",
     "output_type": "stream",
     "text": [
      "Read LP format model from file /tmp/tmpaoaz1jpq.lp\n",
      "Reading time = 0.00 seconds\n",
      ": 103 rows, 296 columns, 1016 nonzeros\n",
      "Read LP format model from file /tmp/tmpnbqfeld4.lp\n",
      "Reading time = 0.00 seconds\n",
      ": 103 rows, 296 columns, 1016 nonzeros\n",
      "Read LP format model from file /tmp/tmp3o9gcxis.lp\n",
      "Reading time = 0.01 seconds\n",
      ": 1934 rows, 5452 columns, 21416 nonzeros\n",
      "Read LP format model from file /tmp/tmpa01o9kmb.lp\n",
      "Reading time = 0.01 seconds\n",
      ": 1934 rows, 5452 columns, 21416 nonzeros\n"
     ]
    }
   ],
   "source": [
    "x_t_gp, reactions = homology_gapfilling(x_t, [y])"
   ]
  },
  {
   "cell_type": "code",
   "execution_count": 31,
   "metadata": {
    "scrolled": true
   },
   "outputs": [
    {
     "data": {
      "text/html": [
       "\n",
       "        <table>\n",
       "            <tr>\n",
       "                <td><strong>Name</strong></td>\n",
       "                <td>e_coli_core</td>\n",
       "            </tr><tr>\n",
       "                <td><strong>Memory address</strong></td>\n",
       "                <td>0x07f0a6a494070</td>\n",
       "            </tr><tr>\n",
       "                <td><strong>Number of metabolites</strong></td>\n",
       "                <td>103</td>\n",
       "            </tr><tr>\n",
       "                <td><strong>Number of reactions</strong></td>\n",
       "                <td>148</td>\n",
       "            </tr><tr>\n",
       "                <td><strong>Number of groups</strong></td>\n",
       "                <td>0</td>\n",
       "            </tr><tr>\n",
       "                <td><strong>Objective expression</strong></td>\n",
       "                <td>1.0*BIOMASS_Ecoli_core_w_GAM - 1.0*BIOMASS_Ecoli_core_w_GAM_reverse_712e5</td>\n",
       "            </tr><tr>\n",
       "                <td><strong>Compartments</strong></td>\n",
       "                <td>extracellular space, cytosol, p</td>\n",
       "            </tr>\n",
       "          </table>"
      ],
      "text/plain": [
       "<Model e_coli_core at 0x7f0a6a494070>"
      ]
     },
     "execution_count": 31,
     "metadata": {},
     "output_type": "execute_result"
    }
   ],
   "source": [
    "x_t_gp"
   ]
  },
  {
   "cell_type": "code",
   "execution_count": 56,
   "metadata": {
    "scrolled": true
   },
   "outputs": [
    {
     "data": {
      "text/plain": [
       "1.3159193341448168"
      ]
     },
     "execution_count": 56,
     "metadata": {},
     "output_type": "execute_result"
    }
   ],
   "source": [
    "x_t_gp.optimize().objective_value"
   ]
  }
 ],
 "metadata": {
  "kernelspec": {
   "display_name": "Python 3",
   "language": "python",
   "name": "python3"
  },
  "language_info": {
   "codemirror_mode": {
    "name": "ipython",
    "version": 3
   },
   "file_extension": ".py",
   "mimetype": "text/x-python",
   "name": "python",
   "nbconvert_exporter": "python",
   "pygments_lexer": "ipython3",
   "version": "3.8.5"
  }
 },
 "nbformat": 4,
 "nbformat_minor": 4
}
