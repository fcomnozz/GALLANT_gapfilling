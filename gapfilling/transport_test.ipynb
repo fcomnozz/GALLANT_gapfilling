{
 "cells": [
  {
   "cell_type": "code",
   "execution_count": 1,
   "metadata": {},
   "outputs": [],
   "source": [
    "import cobra\n",
    "import re\n",
    "import gurobipy\n",
    "from cobra.flux_analysis.gapfilling import GapFiller\n",
    "from Gapfilling import *\n",
    "import os\n",
    "from cobra.io import read_sbml_model\n",
    "import pandas as pd\n",
    "import matplotlib as plt\n",
    "from cobra import exceptions"
   ]
  },
  {
   "cell_type": "code",
   "execution_count": 2,
   "metadata": {
    "scrolled": true
   },
   "outputs": [
    {
     "name": "stdout",
     "output_type": "stream",
     "text": [
      "Using license file /home/fco/gurobi.lic\n",
      "Academic license - for non-commercial use only - expires 2021-03-12\n"
     ]
    }
   ],
   "source": [
    "x = read_sbml_model(\"BiGG_files/e_coli_core.xml\")"
   ]
  },
  {
   "cell_type": "code",
   "execution_count": 3,
   "metadata": {},
   "outputs": [
    {
     "name": "stdout",
     "output_type": "stream",
     "text": [
      "PFK: atp_c + f6p_c --> adp_c + fdp_c + h_c\n",
      "PFL: coa_c + pyr_c --> accoa_c + for_c\n",
      "PGI: g6p_c <=> f6p_c\n",
      "PGK: 3pg_c + atp_c <=> 13dpg_c + adp_c\n",
      "PGL: 6pgl_c + h2o_c --> 6pgc_c + h_c\n",
      "ACALD: acald_c + coa_c + nad_c <=> accoa_c + h_c + nadh_c\n",
      "AKGt2r: akg_e + h_e <=> akg_c + h_c\n",
      "PGM: 2pg_c <=> 3pg_c\n",
      "PIt2r: h_e + pi_e <=> h_c + pi_c\n",
      "ALCD2x: etoh_c + nad_c <=> acald_c + h_c + nadh_c\n",
      "ACALDt: acald_e <=> acald_c\n",
      "ACKr: ac_c + atp_c <=> actp_c + adp_c\n",
      "PPC: co2_c + h2o_c + pep_c --> h_c + oaa_c + pi_c\n",
      "ACONTa: cit_c <=> acon_C_c + h2o_c\n",
      "ACONTb: acon_C_c + h2o_c <=> icit_c\n",
      "ATPM: atp_c + h2o_c --> adp_c + h_c + pi_c\n",
      "PPCK: atp_c + oaa_c --> adp_c + co2_c + pep_c\n",
      "ACt2r: ac_e + h_e <=> ac_c + h_c\n",
      "PPS: atp_c + h2o_c + pyr_c --> amp_c + 2.0 h_c + pep_c + pi_c\n",
      "ADK1: amp_c + atp_c <=> 2.0 adp_c\n",
      "AKGDH: akg_c + coa_c + nad_c --> co2_c + nadh_c + succoa_c\n",
      "ATPS4r: adp_c + 4.0 h_e + pi_c <=> atp_c + h2o_c + 3.0 h_c\n",
      "PTAr: accoa_c + pi_c <=> actp_c + coa_c\n",
      "PYK: adp_c + h_c + pep_c --> atp_c + pyr_c\n",
      "BIOMASS_Ecoli_core_w_GAM: 1.496 3pg_c + 3.7478 accoa_c + 59.81 atp_c + 0.361 e4p_c + 0.0709 f6p_c + 0.129 g3p_c + 0.205 g6p_c + 0.2557 gln__L_c + 4.9414 glu__L_c + 59.81 h2o_c + 3.547 nad_c + 13.0279 nadph_c + 1.7867 oaa_c + 0.5191 pep_c + 2.8328 pyr_c + 0.8977 r5p_c --> 59.81 adp_c + 4.1182 akg_c + 3.7478 coa_c + 59.81 h_c + 3.547 nadh_c + 13.0279 nadp_c + 59.81 pi_c\n",
      "PYRt2: h_e + pyr_e <=> h_c + pyr_c\n",
      "CO2t: co2_e <=> co2_c\n",
      "RPE: ru5p__D_c <=> xu5p__D_c\n",
      "CS: accoa_c + h2o_c + oaa_c --> cit_c + coa_c + h_c\n",
      "RPI: r5p_c <=> ru5p__D_c\n",
      "SUCCt2_2: 2.0 h_e + succ_e --> 2.0 h_c + succ_c\n",
      "CYTBD: 2.0 h_c + 0.5 o2_c + q8h2_c --> h2o_c + 2.0 h_e + q8_c\n",
      "D_LACt2: h_e + lac__D_e <=> h_c + lac__D_c\n",
      "ENO: 2pg_c <=> h2o_c + pep_c\n",
      "SUCCt3: h_e + succ_c --> h_c + succ_e\n",
      "ETOHt2r: etoh_e + h_e <=> etoh_c + h_c\n",
      "SUCDi: q8_c + succ_c --> fum_c + q8h2_c\n",
      "SUCOAS: atp_c + coa_c + succ_c <=> adp_c + pi_c + succoa_c\n",
      "TALA: g3p_c + s7p_c <=> e4p_c + f6p_c\n",
      "THD2: 2.0 h_e + nadh_c + nadp_c --> 2.0 h_c + nad_c + nadph_c\n",
      "TKT1: r5p_c + xu5p__D_c <=> g3p_c + s7p_c\n",
      "TKT2: e4p_c + xu5p__D_c <=> f6p_c + g3p_c\n",
      "TPI: dhap_c <=> g3p_c\n",
      "EX_ac_e: ac_e --> \n",
      "EX_acald_e: acald_e --> \n",
      "EX_akg_e: akg_e --> \n",
      "EX_co2_e: co2_e <=> \n",
      "EX_etoh_e: etoh_e --> \n",
      "EX_for_e: for_e --> \n",
      "EX_fru_e: fru_e --> \n",
      "EX_fum_e: fum_e --> \n",
      "EX_glc__D_e: glc__D_e <=> \n",
      "EX_gln__L_e: gln__L_e --> \n",
      "EX_glu__L_e: glu__L_e --> \n",
      "EX_h_e: h_e <=> \n",
      "EX_h2o_e: h2o_e <=> \n",
      "EX_lac__D_e: lac__D_e --> \n",
      "EX_mal__L_e: mal__L_e --> \n",
      "EX_nh4_e: nh4_e <=> \n",
      "EX_o2_e: o2_e <=> \n",
      "EX_pi_e: pi_e <=> \n",
      "EX_pyr_e: pyr_e --> \n",
      "EX_succ_e: succ_e --> \n",
      "FBA: fdp_c <=> dhap_c + g3p_c\n",
      "FBP: fdp_c + h2o_c --> f6p_c + pi_c\n",
      "FORt2: for_e + h_e --> for_c + h_c\n",
      "FORt: for_e <-- for_c\n",
      "FRD7: fum_c + q8h2_c --> q8_c + succ_c\n",
      "FRUpts2: fru_e + pep_c --> f6p_c + pyr_c\n",
      "FUM: fum_c + h2o_c <=> mal__L_c\n",
      "FUMt2_2: fum_e + 2.0 h_e --> fum_c + 2.0 h_c\n",
      "G6PDH2r: g6p_c + nadp_c <=> 6pgl_c + h_c + nadph_c\n",
      "GAPD: g3p_c + nad_c + pi_c <=> 13dpg_c + h_c + nadh_c\n",
      "GLCpts: glc__D_e + pep_c --> g6p_c + pyr_c\n",
      "GLNS: atp_c + glu__L_c + nh4_c --> adp_c + gln__L_c + h_c + pi_c\n",
      "GLNabc: atp_c + gln__L_e + h2o_c --> adp_c + gln__L_c + h_c + pi_c\n",
      "GLUDy: glu__L_c + h2o_c + nadp_c <=> akg_c + h_c + nadph_c + nh4_c\n",
      "GLUN: gln__L_c + h2o_c --> glu__L_c + nh4_c\n",
      "GLUSy: akg_c + gln__L_c + h_c + nadph_c --> 2.0 glu__L_c + nadp_c\n",
      "GLUt2r: glu__L_e + h_e <=> glu__L_c + h_c\n",
      "GND: 6pgc_c + nadp_c --> co2_c + nadph_c + ru5p__D_c\n",
      "H2Ot: h2o_e <=> h2o_c\n",
      "ICDHyr: icit_c + nadp_c <=> akg_c + co2_c + nadph_c\n",
      "ICL: icit_c --> glx_c + succ_c\n",
      "LDH_D: lac__D_c + nad_c <=> h_c + nadh_c + pyr_c\n",
      "MALS: accoa_c + glx_c + h2o_c --> coa_c + h_c + mal__L_c\n",
      "MALt2_2: 2.0 h_e + mal__L_e --> 2.0 h_c + mal__L_c\n",
      "MDH: mal__L_c + nad_c <=> h_c + nadh_c + oaa_c\n",
      "ME1: mal__L_c + nad_c --> co2_c + nadh_c + pyr_c\n",
      "ME2: mal__L_c + nadp_c --> co2_c + nadph_c + pyr_c\n",
      "NADH16: 4.0 h_c + nadh_c + q8_c --> 3.0 h_e + nad_c + q8h2_c\n",
      "NADTRHD: nad_c + nadph_c --> nadh_c + nadp_c\n",
      "NH4t: nh4_e <=> nh4_c\n",
      "O2t: o2_e <=> o2_c\n",
      "PDH: coa_c + nad_c + pyr_c --> accoa_c + co2_c + nadh_c\n"
     ]
    }
   ],
   "source": [
    "for reaction in x.reactions:\n",
    "    print(reaction)"
   ]
  },
  {
   "cell_type": "code",
   "execution_count": 4,
   "metadata": {},
   "outputs": [],
   "source": [
    "r1 = x.reactions.PFK\n",
    "r2 = x.reactions.ATPS4r\n",
    "r3 = x.reactions.CO2t\n",
    "r4 = x.reactions.EX_h_e\n",
    "r5 = x.reactions.SUCCt2_2"
   ]
  },
  {
   "cell_type": "code",
   "execution_count": 5,
   "metadata": {},
   "outputs": [
    {
     "data": {
      "text/plain": [
       "{<Metabolite h_e at 0x7f9ad21a7e20>: -2.0,\n",
       " <Metabolite succ_e at 0x7f9b5a1f41c0>: -1.0,\n",
       " <Metabolite h_c at 0x7f9ad21a7ca0>: 2.0,\n",
       " <Metabolite succ_c at 0x7f9b5a1f4fd0>: 1.0}"
      ]
     },
     "execution_count": 5,
     "metadata": {},
     "output_type": "execute_result"
    }
   ],
   "source": [
    "r5.metabolites"
   ]
  },
  {
   "cell_type": "code",
   "execution_count": 6,
   "metadata": {},
   "outputs": [
    {
     "data": {
      "text/plain": [
       "['h_e', 'succ_e', 'h_c', 'succ_c']"
      ]
     },
     "execution_count": 6,
     "metadata": {},
     "output_type": "execute_result"
    }
   ],
   "source": [
    "l = [str(x) for x in r5.metabolites]\n",
    "l"
   ]
  },
  {
   "cell_type": "code",
   "execution_count": 7,
   "metadata": {},
   "outputs": [
    {
     "data": {
      "text/plain": [
       "4"
      ]
     },
     "execution_count": 7,
     "metadata": {},
     "output_type": "execute_result"
    }
   ],
   "source": [
    "length = len(l)\n",
    "length"
   ]
  },
  {
   "cell_type": "code",
   "execution_count": 8,
   "metadata": {},
   "outputs": [
    {
     "data": {
      "text/plain": [
       "2"
      ]
     },
     "execution_count": 8,
     "metadata": {},
     "output_type": "execute_result"
    }
   ],
   "source": [
    "half = length//2\n",
    "half"
   ]
  },
  {
   "cell_type": "code",
   "execution_count": 9,
   "metadata": {
    "scrolled": true
   },
   "outputs": [
    {
     "name": "stdout",
     "output_type": "stream",
     "text": [
      "['h_e', 'succ_e'] ['h_c', 'succ_c']\n"
     ]
    }
   ],
   "source": [
    "l1 = l[:half]\n",
    "l2 = l[half:]\n",
    "print(l1, l2)"
   ]
  },
  {
   "cell_type": "markdown",
   "metadata": {},
   "source": [
    "1. the splitted lists must have the same length\n",
    "2. the metabolites in each one must be the same (besides compartments)"
   ]
  },
  {
   "cell_type": "code",
   "execution_count": 10,
   "metadata": {},
   "outputs": [
    {
     "data": {
      "text/plain": [
       "{'e': 'extracellular space', 'c': 'cytosol'}"
      ]
     },
     "execution_count": 10,
     "metadata": {},
     "output_type": "execute_result"
    }
   ],
   "source": [
    "x.compartments"
   ]
  },
  {
   "cell_type": "code",
   "execution_count": 11,
   "metadata": {},
   "outputs": [
    {
     "data": {
      "text/plain": [
       "['e', 'c']"
      ]
     },
     "execution_count": 11,
     "metadata": {},
     "output_type": "execute_result"
    }
   ],
   "source": [
    "c = list(x.compartments.keys())\n",
    "c"
   ]
  },
  {
   "cell_type": "code",
   "execution_count": 12,
   "metadata": {},
   "outputs": [],
   "source": [
    "cc = []\n",
    "for element in c:\n",
    "    cc.append(\"_\" + str(element))"
   ]
  },
  {
   "cell_type": "code",
   "execution_count": 13,
   "metadata": {},
   "outputs": [
    {
     "data": {
      "text/plain": [
       "['_e', '_c']"
      ]
     },
     "execution_count": 13,
     "metadata": {},
     "output_type": "execute_result"
    }
   ],
   "source": [
    "cc"
   ]
  },
  {
   "cell_type": "code",
   "execution_count": 14,
   "metadata": {
    "scrolled": true
   },
   "outputs": [
    {
     "data": {
      "text/plain": [
       "'x_e'"
      ]
     },
     "execution_count": 14,
     "metadata": {},
     "output_type": "execute_result"
    }
   ],
   "source": [
    "s = \"x_e\"\n",
    "s.replace(\"ewe\", \"e\")"
   ]
  },
  {
   "cell_type": "code",
   "execution_count": 15,
   "metadata": {},
   "outputs": [
    {
     "name": "stdout",
     "output_type": "stream",
     "text": [
      "x_e\n",
      "_e\n",
      "x\n",
      "_c\n",
      "x\n"
     ]
    }
   ],
   "source": [
    "print(s)\n",
    "for i in cc:\n",
    "    print(i)\n",
    "    s = s.replace(i, \"\")\n",
    "    print(s)"
   ]
  },
  {
   "cell_type": "code",
   "execution_count": 16,
   "metadata": {},
   "outputs": [
    {
     "name": "stdout",
     "output_type": "stream",
     "text": [
      "['h_e', 'succ_e']\n",
      "['h', 'succ']\n"
     ]
    }
   ],
   "source": [
    "print(l1)\n",
    "l11 = []\n",
    "for i in l1:\n",
    "    for c in cc:\n",
    "        i = i.replace(c, \"\")\n",
    "    l11.append(i)\n",
    "print(l11)"
   ]
  },
  {
   "cell_type": "code",
   "execution_count": 17,
   "metadata": {},
   "outputs": [],
   "source": [
    "L1 = [\"b\", \"d\", \"a\", \"5\", \"19\", \"c\"]\n",
    "L1.sort()\n",
    "L2 = [\"a\", \"19\", \"c\", \"d\", \"5\", \"b\"]\n",
    "L2.sort()\n",
    "assert L1 == L2"
   ]
  },
  {
   "cell_type": "code",
   "execution_count": 38,
   "metadata": {},
   "outputs": [
    {
     "ename": "AssertionError",
     "evalue": "",
     "output_type": "error",
     "traceback": [
      "\u001b[0;31m---------------------------------------------------------------------------\u001b[0m",
      "\u001b[0;31mAssertionError\u001b[0m                            Traceback (most recent call last)",
      "\u001b[0;32m<ipython-input-38-a17e070346ad>\u001b[0m in \u001b[0;36m<module>\u001b[0;34m\u001b[0m\n\u001b[1;32m      1\u001b[0m \u001b[0ma\u001b[0m \u001b[0;34m=\u001b[0m \u001b[0;34m[\u001b[0m\u001b[0;34m\"3\"\u001b[0m\u001b[0;34m,\u001b[0m \u001b[0;34m\"a\"\u001b[0m\u001b[0;34m,\u001b[0m \u001b[0;34m\"i\"\u001b[0m\u001b[0;34m]\u001b[0m\u001b[0;34m\u001b[0m\u001b[0;34m\u001b[0m\u001b[0m\n\u001b[1;32m      2\u001b[0m \u001b[0mb\u001b[0m \u001b[0;34m=\u001b[0m \u001b[0;34m[\u001b[0m\u001b[0;34m\"5\"\u001b[0m\u001b[0;34m,\u001b[0m \u001b[0;34m\"k\"\u001b[0m\u001b[0;34m]\u001b[0m\u001b[0;34m\u001b[0m\u001b[0;34m\u001b[0m\u001b[0m\n\u001b[0;32m----> 3\u001b[0;31m \u001b[0;32massert\u001b[0m \u001b[0ma\u001b[0m \u001b[0;34m==\u001b[0m \u001b[0mb\u001b[0m\u001b[0;34m\u001b[0m\u001b[0;34m\u001b[0m\u001b[0m\n\u001b[0m",
      "\u001b[0;31mAssertionError\u001b[0m: "
     ]
    }
   ],
   "source": [
    "a = [\"3\", \"a\", \"i\"]\n",
    "b = [\"5\", \"k\"]\n",
    "assert a == b"
   ]
  },
  {
   "cell_type": "code",
   "execution_count": 72,
   "metadata": {},
   "outputs": [],
   "source": [
    "def is_transport(reaction, compartments_list):\n",
    "    \"\"\"\n",
    "    Takes a cobra model reaction as input and determines if it is a transport reaction.\n",
    "    \"\"\"\n",
    "    l = [str(x) for x in reaction.metabolites]\n",
    "    half = len(l)//2\n",
    "    # left part of the reaction (if transport)\n",
    "    l1 = l[:half]\n",
    "    # right part\n",
    "    l2 = l[half:]\n",
    "    if len(l1) != len(l2):\n",
    "        return False\n",
    "    # compartments\n",
    "    c = []\n",
    "    for comp in compartments_list:\n",
    "        c.append(\"_\" + str(comp))\n",
    "    # removing terminations\n",
    "    L1 = []\n",
    "    for i in l1:\n",
    "        for e in c:\n",
    "            i = i.replace(e, \"\") \n",
    "        L1.append(i)\n",
    "    L2 = []\n",
    "    for i in l2:\n",
    "        for e in c:\n",
    "            i = i.replace(e, \"\")\n",
    "        L2.append(i)\n",
    "    # we sort the lists to avoid missing transport reactions where the sequence of the compounds is not maintained\n",
    "    L1 = sorted(L1)\n",
    "    L2 = sorted(L2)\n",
    "    if L1 == L2:\n",
    "        return True\n",
    "    else:\n",
    "        return False"
   ]
  },
  {
   "cell_type": "markdown",
   "metadata": {},
   "source": [
    "Some points to take into account:\n",
    " - this function doesn't assure that reagents and products are into different compartments; it just detects if the compounds are the same\n",
    " - transport reactions that involve unilateral metabolites aren't added\n",
    " - exchange reactions aren't added (there's another function for that purpose)\n",
    " - this function doesn't consider the stoichiometric coefficients "
   ]
  },
  {
   "cell_type": "code",
   "execution_count": 73,
   "metadata": {
    "scrolled": true
   },
   "outputs": [
    {
     "name": "stdout",
     "output_type": "stream",
     "text": [
      "PFK: atp_c + f6p_c --> adp_c + fdp_c + h_c\n"
     ]
    },
    {
     "data": {
      "text/plain": [
       "False"
      ]
     },
     "execution_count": 73,
     "metadata": {},
     "output_type": "execute_result"
    }
   ],
   "source": [
    "print(r1)\n",
    "is_transport(r1, ['e', 'c'])"
   ]
  },
  {
   "cell_type": "code",
   "execution_count": 74,
   "metadata": {
    "scrolled": true
   },
   "outputs": [
    {
     "name": "stdout",
     "output_type": "stream",
     "text": [
      "ATPS4r: adp_c + 4.0 h_e + pi_c <=> atp_c + h2o_c + 3.0 h_c\n"
     ]
    },
    {
     "data": {
      "text/plain": [
       "False"
      ]
     },
     "execution_count": 74,
     "metadata": {},
     "output_type": "execute_result"
    }
   ],
   "source": [
    "print(r2)\n",
    "is_transport(r2, ['e', 'c'])"
   ]
  },
  {
   "cell_type": "code",
   "execution_count": 75,
   "metadata": {},
   "outputs": [
    {
     "name": "stdout",
     "output_type": "stream",
     "text": [
      "CO2t: co2_e <=> co2_c\n"
     ]
    },
    {
     "data": {
      "text/plain": [
       "True"
      ]
     },
     "execution_count": 75,
     "metadata": {},
     "output_type": "execute_result"
    }
   ],
   "source": [
    "print(r3)\n",
    "is_transport(r3, ['e', 'c'])"
   ]
  },
  {
   "cell_type": "code",
   "execution_count": 76,
   "metadata": {
    "scrolled": true
   },
   "outputs": [
    {
     "name": "stdout",
     "output_type": "stream",
     "text": [
      "EX_h_e: h_e <=> \n"
     ]
    },
    {
     "data": {
      "text/plain": [
       "False"
      ]
     },
     "execution_count": 76,
     "metadata": {},
     "output_type": "execute_result"
    }
   ],
   "source": [
    "print(r4)\n",
    "is_transport(r4, ['e', 'c'])"
   ]
  },
  {
   "cell_type": "code",
   "execution_count": 77,
   "metadata": {
    "scrolled": true
   },
   "outputs": [
    {
     "name": "stdout",
     "output_type": "stream",
     "text": [
      "SUCCt2_2: 2.0 h_e + succ_e --> 2.0 h_c + succ_c\n"
     ]
    },
    {
     "data": {
      "text/plain": [
       "True"
      ]
     },
     "execution_count": 77,
     "metadata": {},
     "output_type": "execute_result"
    }
   ],
   "source": [
    "print(r5)\n",
    "is_transport(r5, ['e', 'c'])"
   ]
  }
 ],
 "metadata": {
  "kernelspec": {
   "display_name": "Python 3",
   "language": "python",
   "name": "python3"
  },
  "language_info": {
   "codemirror_mode": {
    "name": "ipython",
    "version": 3
   },
   "file_extension": ".py",
   "mimetype": "text/x-python",
   "name": "python",
   "nbconvert_exporter": "python",
   "pygments_lexer": "ipython3",
   "version": "3.8.5"
  }
 },
 "nbformat": 4,
 "nbformat_minor": 4
}
