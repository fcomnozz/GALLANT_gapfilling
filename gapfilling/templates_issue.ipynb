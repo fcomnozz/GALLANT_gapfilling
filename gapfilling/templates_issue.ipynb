{
 "cells": [
  {
   "cell_type": "code",
   "execution_count": 1,
   "metadata": {},
   "outputs": [],
   "source": [
    "import re\n",
    "import gurobipy\n",
    "import cobra\n",
    "from cobra.flux_analysis.gapfilling import GapFiller\n",
    "from cobra.io import read_sbml_model, write_sbml_model\n",
    "from cobra import exceptions\n",
    "import sys, os\n",
    "import pickle\n",
    "from Gapfilling import add_exchange_reactions, add_transport, fake_copy, gapfilling, is_transport, load_query_model, load_template_models "
   ]
  },
  {
   "cell_type": "code",
   "execution_count": 44,
   "metadata": {},
   "outputs": [],
   "source": [
    "# Changing \"model\" variable by \"Model\" and \"templates\" by \"Templates\"\n",
    "def homology_gapfilling(model, templates, model_obj = None, template_obj = None, use_all_templates = False,\n",
    "                       integer_threshold = 1e-6, force_exchange = False, force_transport = False, t_all_compounds = False,\n",
    "                       t_ignore_h = False, value_fraction = 0.8):\n",
    "    \"\"\"\n",
    "    Performs gap filling on a model using homology models as templates.\n",
    "    \"\"\"\n",
    "    Model = load_query_model(model, obj = model_obj)\n",
    "    Model.solver = 'gurobi'\n",
    "    Templates = load_template_models(templates, obj = template_obj)\n",
    "    # this dict will store used models, genes and reactions\n",
    "    added_reactions = {}\n",
    "    # initial flux value\n",
    "    value = Model.optimize().objective_value\n",
    "    if value == None:\n",
    "        value = 0.0\n",
    "    if use_all_templates == False:\n",
    "        for template in Templates:\n",
    "            # adding exchange reactions\n",
    "            if force_exchange == True:\n",
    "                add_exchange_reactions(Model, template)\n",
    "            # adding transport reactions\n",
    "            if force_transport == True:\n",
    "                add_transport(Model, template, all_compounds = t_all_compounds, ignore_h = t_ignore_h)\n",
    "            template.solver = 'gurobi'\n",
    "            # reactions \"log\"\n",
    "            log = []\n",
    "            try:\n",
    "                # result variable will store the reactions ids\n",
    "                result = gapfilling(Model, template, integer_threshold = integer_threshold)\n",
    "                for reaction in result[0]:\n",
    "                    if reaction.id.startswith(\"EX_\"):\n",
    "                        log.append((reaction.id, \"Exchange reaction\"))\n",
    "                    else:\n",
    "                        log.append((reaction.id, [str(list(reaction.genes)[i]) \n",
    "                                              for i in range(len(list(reaction.genes)))]))\n",
    "                added_reactions[str(template)] = log\n",
    "                # Adding reactions to the model\n",
    "                [Model.add_reaction(reaction.copy()) for reaction in result[0]]\n",
    "                # Flux will be evaluated here\n",
    "                new_value = Model.optimize().objective_value\n",
    "                if new_value != None and new_value > value:\n",
    "                    value = new_value\n",
    "                elif new_value == None:\n",
    "                    continue\n",
    "                elif new_value != None and new_value == value:\n",
    "                    break\n",
    "                elif new_value < value:\n",
    "                    if new_value >= value * value_fraction:\n",
    "                        for i in range(len(log)):\n",
    "                            Model.reactions.log[i][0].lower_bound = 0.\n",
    "                            Model.reactions.log[i][0].upper_bound = 0.\n",
    "                        new_value = Model.optimize().objective_value\n",
    "                        value = new_value\n",
    "                    else:\n",
    "                        [Model.remove_reactions(Model.reactions.log[i][0]) for i in range(len(log))]\n",
    "                        del added_reactions[str(template)]\n",
    "                        break\n",
    "                write_sbml_model(Model, filename = \"model.tmp\")\n",
    "                Model = read_sbml_model(\"model.tmp\")\n",
    "                os.remove(\"model.tmp\")\n",
    "            except RuntimeError:\n",
    "                print(\"\\n\" + str(template) + \": failed to validate gapfilled model, try lowering the integer_threshold\")\n",
    "            except exceptions.Infeasible:\n",
    "                print(\"\\n\" + str(template) + \": gapfilling optimization failed (infeasible)\")\n",
    "        return Model, added_reactions\n",
    "    else:\n",
    "        for template in Templates:\n",
    "            # adding exchange reactions\n",
    "            if force_exchange == True:\n",
    "                add_exchange_reactions(Model, template)\n",
    "            # adding transport reactions\n",
    "            if force_transport == True:\n",
    "                add_transport(Model, template, all_compounds = t_all_compounds, ignore_h = t_ignore_h)\n",
    "            template.solver = 'gurobi'\n",
    "            log = []\n",
    "            try:\n",
    "                result = gapfilling(Model, template, integer_threshold = integer_threshold)   \n",
    "                for reaction in result[0]:\n",
    "                    if reaction.id.startswith(\"EX_\"):\n",
    "                        log.append((reaction.id, \"Exchange reaction\"))\n",
    "                    else:\n",
    "                        log.append((reaction.id, [str(list(reaction.genes)[i]) \n",
    "                                              for i in range(len(list(reaction.genes)))]))\n",
    "                added_reactions[str(template)] = log\n",
    "                [Model.add_reaction(reaction.copy()) for reaction in result[0]]\n",
    "                write_sbml_model(Model, filename = \"model.tmp\")\n",
    "                Model = read_sbml_model(\"model.tmp\")\n",
    "                os.remove(\"model.tmp\")\n",
    "            except RuntimeError:\n",
    "                print(\"\\n\" + str(template) + \": failed to validate gapfilled model, try lowering the integer_threshold\")\n",
    "            except exceptions.Infeasible:\n",
    "                print(\"\\n\" + str(template) + \": gapfilling optimization failed (infeasible)\") \n",
    "        return Model, added_reactions"
   ]
  },
  {
   "cell_type": "code",
   "execution_count": 45,
   "metadata": {},
   "outputs": [],
   "source": [
    "iEC1344_C = read_sbml_model(\"iEC1344_C.xml\")\n",
    "iEC1364_W = read_sbml_model(\"iEC1364_W.xml\")\n",
    "iJN746 = read_sbml_model(\"iJN746.xml\")"
   ]
  },
  {
   "cell_type": "code",
   "execution_count": 46,
   "metadata": {},
   "outputs": [],
   "source": [
    "T = [iJN746, iEC1344_C]"
   ]
  },
  {
   "cell_type": "code",
   "execution_count": 47,
   "metadata": {},
   "outputs": [],
   "source": [
    "x = load_query_model(iEC1364_W)"
   ]
  },
  {
   "cell_type": "code",
   "execution_count": 48,
   "metadata": {},
   "outputs": [
    {
     "name": "stdout",
     "output_type": "stream",
     "text": [
      "Read LP format model from file /tmp/tmpkzsv2ovg.lp\n",
      "Reading time = 0.01 seconds\n",
      ": 1927 rows, 5528 columns, 21688 nonzeros\n",
      "Read LP format model from file /tmp/tmpaupb0ky5.lp\n",
      "Reading time = 0.01 seconds\n",
      ": 1927 rows, 5528 columns, 21688 nonzeros\n",
      "Read LP format model from file /tmp/tmpwfn0b8ob.lp\n",
      "Reading time = 0.01 seconds\n",
      ": 907 rows, 2108 columns, 8802 nonzeros\n",
      "Read LP format model from file /tmp/tmprjafaqf1.lp\n",
      "Reading time = 0.01 seconds\n",
      ": 907 rows, 2108 columns, 8802 nonzeros\n",
      "Read LP format model from file /tmp/tmpzjvjfb9e.lp\n",
      "Reading time = 0.01 seconds\n",
      ": 1927 rows, 5530 columns, 21806 nonzeros\n",
      "Read LP format model from file /tmp/tmpuntixnjd.lp\n",
      "Reading time = 0.01 seconds\n",
      ": 1927 rows, 5530 columns, 21806 nonzeros\n",
      "Read LP format model from file /tmp/tmp1q10ad59.lp\n",
      "Reading time = 0.01 seconds\n",
      ": 1934 rows, 5452 columns, 21416 nonzeros\n",
      "Read LP format model from file /tmp/tmpo9ywzd1s.lp\n",
      "Reading time = 0.01 seconds\n",
      ": 1934 rows, 5452 columns, 21416 nonzeros\n"
     ]
    }
   ],
   "source": [
    "X, added_reactions = homology_gapfilling(x, T, use_all_templates=True)"
   ]
  },
  {
   "cell_type": "code",
   "execution_count": 49,
   "metadata": {
    "scrolled": true
   },
   "outputs": [
    {
     "data": {
      "text/plain": [
       "{'iJN746': [('BIOMASS_KT_TEMP', [])], 'iEC1344_C': []}"
      ]
     },
     "execution_count": 49,
     "metadata": {},
     "output_type": "execute_result"
    }
   ],
   "source": [
    "added_reactions"
   ]
  },
  {
   "cell_type": "code",
   "execution_count": 43,
   "metadata": {},
   "outputs": [
    {
     "data": {
      "text/plain": [
       "0.1876164009738142"
      ]
     },
     "execution_count": 43,
     "metadata": {},
     "output_type": "execute_result"
    }
   ],
   "source": [
    "X.optimize().objective_value"
   ]
  }
 ],
 "metadata": {
  "kernelspec": {
   "display_name": "Python 3",
   "language": "python",
   "name": "python3"
  },
  "language_info": {
   "codemirror_mode": {
    "name": "ipython",
    "version": 3
   },
   "file_extension": ".py",
   "mimetype": "text/x-python",
   "name": "python",
   "nbconvert_exporter": "python",
   "pygments_lexer": "ipython3",
   "version": "3.8.5"
  }
 },
 "nbformat": 4,
 "nbformat_minor": 4
}
