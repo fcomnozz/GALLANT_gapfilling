{
 "cells": [
  {
   "cell_type": "code",
   "execution_count": null,
   "metadata": {},
   "outputs": [],
   "source": [
    "import re\n",
    "import gurobipy\n",
    "import cobra\n",
    "from cobra.flux_analysis.gapfilling import GapFiller\n",
    "from cobra.io import read_sbml_model, write_sbml_model\n",
    "from cobra import exceptions\n",
    "import sys, os"
   ]
  },
  {
   "cell_type": "code",
   "execution_count": null,
   "metadata": {},
   "outputs": [],
   "source": [
    "def fake_copy(model):\n",
    "    write_sbml_model(model, filename=\"tmp.xml\")\n",
    "    copied_model = read_sbml_model(\"tmp.xml\")\n",
    "    os.remove(\"tmp.xml\")\n",
    "    return copied_model"
   ]
  },
  {
   "cell_type": "code",
   "execution_count": null,
   "metadata": {},
   "outputs": [],
   "source": [
    "# Using fake_copy()\n",
    "# \"model\" variable changed by \"Model\"\n",
    "def load_query_model(model, obj = None):\n",
    "    \"\"\"\n",
    "    Loads a model. Objective can be changed to either \"biomass\" (regex\n",
    "    will be used) or a valid reaction ID.\n",
    "    Print is used temporary. A general log will be generated in the \n",
    "    final version.\n",
    "    \"\"\"\n",
    "    Model = fake_copy(model)\n",
    "    if obj == \"biomass\":\n",
    "        b = re.compile(\"biomass\", re.IGNORECASE)\n",
    "        bc = re.compile(\"(biomass){1}.*(core){1}\", re.IGNORECASE)\n",
    "        reactions = [reaction.id for reaction in Model.reactions]\n",
    "        # searching for a biomass core reaction\n",
    "        core = list(filter(bc.match, reactions))\n",
    "        if core:\n",
    "            Model.objective = core[0]\n",
    "            return Model\n",
    "        # searching for a non core biomass reaction\n",
    "        biomass = list(filter(b.match, reactions))\n",
    "        if biomass:\n",
    "            Model.objective = biomass[0]\n",
    "            return model\n",
    "        print(\"biomass not found in the query model\")\n",
    "        return Model\n",
    "    if obj != \"biomass\" and obj != None:\n",
    "        try:\n",
    "            Model.objective = obj\n",
    "        except ValueError:\n",
    "            print(str(obj) + \" not found in the query model\")\n",
    "            return Model\n",
    "        return Model\n",
    "    if obj == None:\n",
    "        return Model"
   ]
  },
  {
   "cell_type": "code",
   "execution_count": null,
   "metadata": {},
   "outputs": [],
   "source": [
    "# Using fake_copy()\n",
    "def load_template_models(template_list, obj = None):\n",
    "    \"\"\"\n",
    "    Takes a list of template models and changes objective if specified.\n",
    "    Objective can be either \"biomass\" or a specific reaction ID.\n",
    "    \"\"\"\n",
    "    templates = []\n",
    "    for t in template_list:\n",
    "        templates.append(fake_copy(t))\n",
    "    failures = []\n",
    "    if obj == None:\n",
    "        return templates\n",
    "    if obj == \"biomass\":\n",
    "        b = re.compile(\"biomass\", re.IGNORECASE)\n",
    "        bc = re.compile(\"(biomass){1}.*(core){1}\", re.IGNORECASE) \n",
    "        for template in templates:\n",
    "            reactions = [reaction.id for reaction in template.reactions]\n",
    "            # Searching for a biomass_core reaction\n",
    "            core = list(filter(bc.match, reactions))\n",
    "            if core:\n",
    "                template.objective = core[0]\n",
    "                continue\n",
    "            # Searching for a non core biomass reaction\n",
    "            biomass = list(filter(b.match, reactions))\n",
    "            if biomass:\n",
    "                template.objective = biomass[0]\n",
    "            # If biomass reactions are not found, the model name is stored into \"failures\" list.\n",
    "            # The model won't change its objective, but it will be used anyway for gap filling\n",
    "            else:\n",
    "                failures.append(str(template))\n",
    "            print(\"Objective not changed for:\\n\", failures)\n",
    "            return templates\n",
    "    if obj != None and obj != \"biomass\":\n",
    "        for template in templates:\n",
    "            try:\n",
    "                template.objective = obj\n",
    "            except ValueError:\n",
    "                failures.append(str(template))\n",
    "        print(\"Objective not changed for:\\n\", failures)\n",
    "        return templates"
   ]
  },
  {
   "cell_type": "code",
   "execution_count": null,
   "metadata": {},
   "outputs": [],
   "source": [
    "def gapfilling(model, template, integer_threshold, it = 1):\n",
    "    \"\"\"\n",
    "    Calls GapFiller class from cobrapy.\n",
    "    \"\"\"\n",
    "    gapfiller = GapFiller(model, template, integer_threshold = integer_threshold,\n",
    "                         demand_reactions = False)\n",
    "    return gapfiller.fill(iterations = it)"
   ]
  },
  {
   "cell_type": "code",
   "execution_count": 7,
   "metadata": {},
   "outputs": [],
   "source": [
    "def add_exchange_reactions(model, template):\n",
    "    \"\"\"\n",
    "    Adds all exchange reactions from a template matching model metabolites. \n",
    "    \"\"\"\n",
    "    EX = [template.reactions.get_by_id(i.id) for i in template.reactions if i.id.startswith(\"EX_\")]\n",
    "    for reaction in EX:\n",
    "        if reaction not in model.reactions and str(list(reaction.metabolites.keys())[0]) in [i.id for i in model.metabolites]:\n",
    "            model.add_reaction(reaction.copy())\n",
    "    return model"
   ]
  },
  {
   "cell_type": "code",
   "execution_count": 9,
   "metadata": {},
   "outputs": [],
   "source": [
    "def is_transport(reaction, compartments_list, all_compounds = False, ignore_h = False):\n",
    "    \"\"\"\n",
    "    Takes a cobra model reaction as input and determines if it is a transport reaction.\n",
    "    all_compounds = True -> both sides of the reaction must be the same\n",
    "    all_compounds = False -> at least one compound must be in both sides\n",
    "    ignore_h = True -> does not consider proton transference as transport\n",
    "    \"\"\"\n",
    "    # left part of the reaction\n",
    "    r = list(str(x) for x in reaction.reactants)\n",
    "    # right part\n",
    "    p = list(str(x) for x in reaction.products)\n",
    "    if len(r) != len(p):\n",
    "        return False\n",
    "    c = compartments_list\n",
    "    # removing terminations\n",
    "    R = []\n",
    "    for i in r:\n",
    "        for e in c:\n",
    "            i = i.replace(e, \"\") \n",
    "        R.append(i)\n",
    "    P = []\n",
    "    for i in p:\n",
    "        for e in c:\n",
    "            i = i.replace(e, \"\")\n",
    "        P.append(i)\n",
    "    # we sort the lists to avoid missing transport reactions where the sequence of the compounds is not maintained\n",
    "    R = sorted(R)\n",
    "    P = sorted(P)\n",
    "    if all_compounds == False:\n",
    "        if ignore_h == True:\n",
    "            if \"h\" in R:\n",
    "                R.remove(\"h\")\n",
    "            if \"h\" in P:\n",
    "                P.remove(\"h\")\n",
    "        for i in R:\n",
    "            if i in P:\n",
    "                return True\n",
    "            else:\n",
    "                return False\n",
    "    if R == P:\n",
    "        return True\n",
    "    else:\n",
    "        return False"
   ]
  },
  {
   "cell_type": "code",
   "execution_count": 10,
   "metadata": {},
   "outputs": [],
   "source": [
    "def add_transport(model, template, all_compounds = False, ignore_h = False):\n",
    "    \"\"\"\n",
    "    Adds transport reactions from a template which metabolites are present in the model.\n",
    "    \"\"\"\n",
    "    # PREPARATION\n",
    "    # template compartments\n",
    "    t_compartments = list(template.compartments.keys())\n",
    "    t_Compartments = []\n",
    "    for i in t_compartments:\n",
    "        t_Compartments.append(\"_\" + str(i))\n",
    "    # getting compartments and metabolites from query model for further use\n",
    "    m_compartments = list(model.compartments.keys())\n",
    "    m_Compartments = []\n",
    "    for i in m_compartments:\n",
    "        m_Compartments.append(\"_\" + str(i))\n",
    "    m_metabolites = list(str(x) for x in model.metabolites)\n",
    "    # removing suffixes from metabolites\n",
    "    m_Metabolites = []\n",
    "    for i in m_metabolites:\n",
    "        for e in m_Compartments:\n",
    "            i = i.replace(e, \"\")\n",
    "        m_Metabolites.append(i)\n",
    "    # sorting and removing duplicates\n",
    "    m_Metabolites = list(dict.fromkeys(m_Metabolites))\n",
    "    # REACTION ADDING\n",
    "    for reaction in template.reactions:\n",
    "        if is_transport(reaction, t_Compartments, all_compounds = all_compounds, ignore_h = ignore_h) and reaction not in model.reactions:\n",
    "            # we will only use reactants as they'll be the same as products (apart from location)\n",
    "            m = list(str(x) for x in reaction.reactants)\n",
    "            M = []\n",
    "            for i in m:\n",
    "                for e in t_Compartments:\n",
    "                    i = i.replace(e, \"\")\n",
    "                M.append(i)\n",
    "            if all(x in m_Metabolites for x in M):  \n",
    "                model.add_reaction(reaction.copy())\n",
    "    return model\n"
   ]
  },
  {
   "cell_type": "code",
   "execution_count": 30,
   "metadata": {},
   "outputs": [],
   "source": [
    "# Changing \"model\" variable by \"Model\" and \"templates\" by \"Templates\"\n",
    "def homology_gapfilling(model, templates, model_obj = None, template_obj = None, use_all_templates = False,\n",
    "                       integer_threshold = 1e-6, force_exchange = False, force_transport = False, t_all_compounds = False,\n",
    "                       t_ignore_h = False, value_fraction = 0.8):\n",
    "    \"\"\"\n",
    "    Performs gap filling on a model using homology models as templates.\n",
    "    \"\"\"\n",
    "    Model = load_query_model(model, obj = model_obj)\n",
    "    Model.solver = 'gurobi'\n",
    "    Templates = load_template_models(templates, obj = template_obj)\n",
    "    # this dict will store used models, genes and reactions\n",
    "    added_reactions = {}\n",
    "    # initial flux value\n",
    "    value = Model.optimize().objective_value\n",
    "    if value == None:\n",
    "        value = 0.0\n",
    "    if use_all_templates == False:\n",
    "        for template in Templates:\n",
    "            # adding exchange reactions\n",
    "            if force_exchange == True:\n",
    "                add_exchange_reactions(Model, template)\n",
    "            # adding transport reactions\n",
    "            if force_transport == True:\n",
    "                add_transport(Model, template, all_compounds = t_all_compounds, ignore_h = t_ignore_h)\n",
    "            template.solver = 'gurobi'\n",
    "            # reactions \"log\"\n",
    "            log = []\n",
    "            try:\n",
    "                # result variable will store the reactions ids\n",
    "                result = gapfilling(Model, template, integer_threshold = integer_threshold)\n",
    "                for reaction in result[0]:\n",
    "                    if reaction.id.startswith(\"EX_\"):\n",
    "                        log.append((reaction.id, \"Exchange reaction\"))\n",
    "                    else:\n",
    "                        log.append((reaction.id, [str(list(reaction.genes)[i]) \n",
    "                                              for i in range(len(list(reaction.genes)))]))\n",
    "                added_reactions[str(template)] = log\n",
    "                # Adding reactions to the model\n",
    "                [Model.add_reaction(reaction.copy()) for reaction in result[0]]\n",
    "                # Flux will be evaluated here\n",
    "                new_value = Model.optimize().objective_value\n",
    "                if new_value != None and new_value > value:\n",
    "                    value = new_value\n",
    "                elif new_value == None:\n",
    "                    continue\n",
    "                elif new_value != None and new_value == value:\n",
    "                    break\n",
    "                elif new_value < value:\n",
    "                    if new_value >= value * value_fraction:\n",
    "                        for i in range(len(log)):\n",
    "                            Model.reactions.log[i][0].lower_bound = 0.\n",
    "                            Model.reactions.log[i][0].upper_bound = 0.\n",
    "                        new_value = Model.optimize().objective_value\n",
    "                        value = new_value\n",
    "                    else:\n",
    "                        [Model.remove_reactions(Model.reactions.log[i][0]) for i in range(len(log))]\n",
    "                        del added_reactions[str(template)]\n",
    "                        break\n",
    "                    \n",
    "            except RuntimeError:\n",
    "                print(\"\\n\" + str(template) + \": failed to validate gapfilled model, try lowering the integer_threshold\")\n",
    "            except exceptions.Infeasible:\n",
    "                print(\"\\n\" + str(template) + \": gapfilling optimization failed (infeasible)\")\n",
    "        return Model, added_reactions\n",
    "    else:\n",
    "        for template in Templates:\n",
    "            # adding exchange reactions\n",
    "            if force_exchange == True:\n",
    "                add_exchange_reactions(Model, template)\n",
    "            # adding transport reactions\n",
    "            if force_transport == True:\n",
    "                add_transport(Model, template, all_compounds = t_all_compounds, ignore_h = t_ignore_h)\n",
    "            template.solver = 'gurobi'\n",
    "            log = []\n",
    "            try:\n",
    "                result = gapfilling(Model, template, integer_threshold = integer_threshold)   \n",
    "                for reaction in result[0]:\n",
    "                    if reaction.id.startswith(\"EX_\"):\n",
    "                        log.append((reaction.id, \"Exchange reaction\"))\n",
    "                    else:\n",
    "                        log.append((reaction.id, [str(list(reaction.genes)[i]) \n",
    "                                              for i in range(len(list(reaction.genes)))]))\n",
    "                added_reactions[str(template)] = log\n",
    "                [Model.add_reaction(reaction.copy()) for reaction in result[0]]\n",
    "            except RuntimeError:\n",
    "                print(\"\\n\" + str(template) + \": failed to validate gapfilled model, try lowering the integer_threshold\")\n",
    "            except exceptions.Infeasible:\n",
    "                print(\"\\n\" + str(template) + \": gapfilling optimization failed (infeasible)\") \n",
    "        return Model, added_reactions"
   ]
  },
  {
   "cell_type": "code",
   "execution_count": 1,
   "metadata": {},
   "outputs": [
    {
     "ename": "NameError",
     "evalue": "name 'read_sbml_model' is not defined",
     "output_type": "error",
     "traceback": [
      "\u001b[0;31m---------------------------------------------------------------------------\u001b[0m",
      "\u001b[0;31mNameError\u001b[0m                                 Traceback (most recent call last)",
      "\u001b[0;32m<ipython-input-1-657df7488e62>\u001b[0m in \u001b[0;36m<module>\u001b[0;34m\u001b[0m\n\u001b[0;32m----> 1\u001b[0;31m \u001b[0miEC1344_C\u001b[0m \u001b[0;34m=\u001b[0m \u001b[0mread_sbml_model\u001b[0m\u001b[0;34m(\u001b[0m\u001b[0;34m\"iEC1344_C.xml\"\u001b[0m\u001b[0;34m)\u001b[0m\u001b[0;34m\u001b[0m\u001b[0;34m\u001b[0m\u001b[0m\n\u001b[0m\u001b[1;32m      2\u001b[0m \u001b[0miEC1364_W\u001b[0m \u001b[0;34m=\u001b[0m \u001b[0mread_sbml_model\u001b[0m\u001b[0;34m(\u001b[0m\u001b[0;34m\"iEC1364_W.xml\"\u001b[0m\u001b[0;34m)\u001b[0m\u001b[0;34m\u001b[0m\u001b[0;34m\u001b[0m\u001b[0m\n\u001b[1;32m      3\u001b[0m \u001b[0miJN746\u001b[0m \u001b[0;34m=\u001b[0m \u001b[0mread_sbml_model\u001b[0m\u001b[0;34m(\u001b[0m\u001b[0;34m\"iJN746.xml\"\u001b[0m\u001b[0;34m)\u001b[0m\u001b[0;34m\u001b[0m\u001b[0;34m\u001b[0m\u001b[0m\n",
      "\u001b[0;31mNameError\u001b[0m: name 'read_sbml_model' is not defined"
     ]
    }
   ],
   "source": [
    "iEC1344_C = read_sbml_model(\"iEC1344_C.xml\")\n",
    "iEC1364_W = read_sbml_model(\"iEC1364_W.xml\")\n",
    "iJN746 = read_sbml_model(\"iJN746.xml\")"
   ]
  },
  {
   "cell_type": "code",
   "execution_count": 27,
   "metadata": {},
   "outputs": [],
   "source": [
    "x = load_query_model(iEC1364_W)"
   ]
  },
  {
   "cell_type": "code",
   "execution_count": 31,
   "metadata": {},
   "outputs": [],
   "source": [
    "T = [iJN746, iEC1344_C]"
   ]
  },
  {
   "cell_type": "code",
   "execution_count": 32,
   "metadata": {},
   "outputs": [
    {
     "name": "stdout",
     "output_type": "stream",
     "text": [
      "Read LP format model from file /tmp/tmpffcswcgi.lp\n",
      "Reading time = 0.01 seconds\n",
      ": 1927 rows, 5528 columns, 21688 nonzeros\n",
      "Read LP format model from file /tmp/tmpueim988_.lp\n",
      "Reading time = 0.01 seconds\n",
      ": 1927 rows, 5528 columns, 21688 nonzeros\n",
      "Read LP format model from file /tmp/tmpgf0emk1i.lp\n",
      "Reading time = 0.01 seconds\n",
      ": 907 rows, 2108 columns, 8802 nonzeros\n",
      "Read LP format model from file /tmp/tmps1afps23.lp\n",
      "Reading time = 0.00 seconds\n",
      ": 907 rows, 2108 columns, 8802 nonzeros\n",
      "Read LP format model from file /tmp/tmpngk1791c.lp\n",
      "Reading time = 0.01 seconds\n",
      ": 1927 rows, 5530 columns, 21806 nonzeros\n",
      "Read LP format model from file /tmp/tmpat3jv5lk.lp\n",
      "Reading time = 0.01 seconds\n",
      ": 1927 rows, 5530 columns, 21806 nonzeros\n",
      "Read LP format model from file /tmp/tmpwogcdd_2.lp\n",
      "Reading time = 0.01 seconds\n",
      ": 1934 rows, 5452 columns, 21416 nonzeros\n",
      "Read LP format model from file /tmp/tmp6gjjjdew.lp\n",
      "Reading time = 0.01 seconds\n",
      ": 1934 rows, 5452 columns, 21416 nonzeros\n"
     ]
    },
    {
     "name": "stderr",
     "output_type": "stream",
     "text": [
      "Ignoring reaction 'BIOMASS_KT_TEMP' since it already exists.\n",
      "Ignoring reaction 'BIOMASS_KT_TEMP' since it already exists.\n"
     ]
    }
   ],
   "source": [
    "X, added_reactions = homology_gapfilling(x, T, use_all_templates=True)"
   ]
  },
  {
   "cell_type": "code",
   "execution_count": 33,
   "metadata": {
    "scrolled": true
   },
   "outputs": [
    {
     "data": {
      "text/plain": [
       "{'iJN746': [('BIOMASS_KT_TEMP', [])], 'iEC1344_C': [('BIOMASS_KT_TEMP', [])]}"
      ]
     },
     "execution_count": 33,
     "metadata": {},
     "output_type": "execute_result"
    }
   ],
   "source": [
    "added_reactions"
   ]
  },
  {
   "cell_type": "code",
   "execution_count": 34,
   "metadata": {},
   "outputs": [
    {
     "data": {
      "text/plain": [
       "0.18761640097381724"
      ]
     },
     "execution_count": 34,
     "metadata": {},
     "output_type": "execute_result"
    }
   ],
   "source": [
    "X.optimize().objective_value"
   ]
  }
 ],
 "metadata": {
  "kernelspec": {
   "display_name": "Python 3",
   "language": "python",
   "name": "python3"
  },
  "language_info": {
   "codemirror_mode": {
    "name": "ipython",
    "version": 3
   },
   "file_extension": ".py",
   "mimetype": "text/x-python",
   "name": "python",
   "nbconvert_exporter": "python",
   "pygments_lexer": "ipython3",
   "version": "3.8.5"
  }
 },
 "nbformat": 4,
 "nbformat_minor": 4
}
