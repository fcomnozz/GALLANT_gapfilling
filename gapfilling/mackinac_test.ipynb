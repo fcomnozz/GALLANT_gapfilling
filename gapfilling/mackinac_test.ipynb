{
 "cells": [
  {
   "cell_type": "code",
   "execution_count": 5,
   "metadata": {},
   "outputs": [],
   "source": [
    "import mackinac\n",
    "from Gapfilling import *\n",
    "import pandas as pd\n",
    "import re\n",
    "import gurobipy\n",
    "from contextlib import contextmanager"
   ]
  },
  {
   "cell_type": "code",
   "execution_count": 3,
   "metadata": {},
   "outputs": [],
   "source": [
    "mackinac.modelseed.ms_client.url = 'https://p3.theseed.org/services/ProbModelSEED/'\n",
    "mackinac.workspace.ws_client.url = 'https://p3.theseed.org/services/Workspace'\n",
    "mackinac.genome.patric_url = 'https://www.patricbrc.org/api/'"
   ]
  },
  {
   "cell_type": "code",
   "execution_count": 4,
   "metadata": {
    "scrolled": true
   },
   "outputs": [
    {
     "name": "stdout",
     "output_type": "stream",
     "text": [
      "patric password: ········\n"
     ]
    },
    {
     "data": {
      "text/plain": [
       "'fcomnozz@patricbrc.org'"
      ]
     },
     "execution_count": 4,
     "metadata": {},
     "output_type": "execute_result"
    }
   ],
   "source": [
    "# password: ASafSLUqQc@7zyP\n",
    "mackinac.get_token(\"fcomnozz\")"
   ]
  },
  {
   "cell_type": "code",
   "execution_count": 6,
   "metadata": {},
   "outputs": [],
   "source": [
    "# Function for avoiding stdout\n",
    "@contextmanager\n",
    "def suppress_stdout():\n",
    "    with open(os.devnull, \"w\") as devnull:\n",
    "        old_stdout = sys.stdout\n",
    "        sys.stdout = devnull\n",
    "        try:  \n",
    "            yield\n",
    "        finally:\n",
    "            sys.stdout = old_stdout"
   ]
  },
  {
   "cell_type": "code",
   "execution_count": 7,
   "metadata": {},
   "outputs": [],
   "source": [
    "def get_models(ID_list):\n",
    "    \"\"\"\n",
    "    This function receives a list with PATRIC IDs, reconstructs those models and converts them into COBRA models.\n",
    "    It returns a dictionary where keys are model IDs and values are the models.\n",
    "    \"\"\"\n",
    "    # Reconstructing models; this step will likely take a long time\n",
    "    for ID in ID_list:\n",
    "        # RAST can be used too (source = \"rast)\n",
    "        mackinac.reconstruct_modelseed_model(ID)\n",
    "    # Creating COBRA models\n",
    "    d = {}\n",
    "    for ID in ID_list:\n",
    "        d[ID] = mackinac.create_cobra_model_from_modelseed_model(model_id=ID)\n",
    "    return d"
   ]
  },
  {
   "cell_type": "code",
   "execution_count": 8,
   "metadata": {},
   "outputs": [],
   "source": [
    "IDs = ['1428.847', '451708.12']"
   ]
  },
  {
   "cell_type": "code",
   "execution_count": 9,
   "metadata": {},
   "outputs": [
    {
     "name": "stderr",
     "output_type": "stream",
     "text": [
      "/home/fco/miniconda3/envs/TFM/lib/python3.8/site-packages/mackinac/modelseed.py:905: UserWarning: Model for genome ID 451708.12 has no genes, verify genome ID is valid\n",
      "  warn('Model for genome ID {0} has no genes, verify genome ID is valid'.format(genome_id))\n"
     ]
    },
    {
     "name": "stdout",
     "output_type": "stream",
     "text": [
      "Using license file /home/fco/gurobi.lic\n",
      "Academic license - for non-commercial use only - expires 2021-06-01\n"
     ]
    }
   ],
   "source": [
    "D = get_models(IDs)"
   ]
  },
  {
   "cell_type": "code",
   "execution_count": 10,
   "metadata": {},
   "outputs": [
    {
     "data": {
      "text/plain": [
       "{'1428.847': <Model 1428.847 at 0x7fbb2d527ca0>,\n",
       " '451708.12': <Model 451708.12 at 0x7fba83dc4730>}"
      ]
     },
     "execution_count": 10,
     "metadata": {},
     "output_type": "execute_result"
    }
   ],
   "source": [
    "D"
   ]
  },
  {
   "cell_type": "code",
   "execution_count": 11,
   "metadata": {},
   "outputs": [],
   "source": [
    "def modelseed_gapfilling(model_dictionary):\n",
    "    \"\"\"\n",
    "    Performs ModelSEED gapfilling against SEED reaction database.\n",
    "    \"\"\"\n",
    "    for x in model_dictionary.values():\n",
    "        with suppress_stdout():\n",
    "            mackinac.gapfill_modelseed_model(x)"
   ]
  },
  {
   "cell_type": "code",
   "execution_count": 12,
   "metadata": {},
   "outputs": [],
   "source": [
    "modelseed_gapfilling(model_dictionary=D)"
   ]
  },
  {
   "cell_type": "code",
   "execution_count": 14,
   "metadata": {},
   "outputs": [],
   "source": [
    "def seed_to_bigg(model, m_table, r_table):\n",
    "    \"\"\"\n",
    "    Translates metabolites and reactions of the model to BiGG nomenclature.\n",
    "    \"\"\"\n",
    "    new_model = cobra.Model(str(model) + \" (translated)\")\n",
    "    # metabolites\n",
    "    for metabolite in model.metabolites:\n",
    "        m = metabolite.copy()\n",
    "        sid = m.id\n",
    "        # assumption -> nx_c; maybe will need to change it\n",
    "        c = sid[-2:]\n",
    "        sid = sid[:-2]\n",
    "        try:\n",
    "            bid = m_table[m_table[\"SEED\"] == sid][\"BiGG\"].values[0]\n",
    "        except IndexError:\n",
    "            new_model.add_metabolites(m)\n",
    "            continue\n",
    "        ID = str(bid)+str(c)\n",
    "        m.id = ID\n",
    "        new_model.add_metabolites(m)\n",
    "    # reactions\n",
    "    for reaction in model.reactions:\n",
    "        r = reaction.copy()\n",
    "        sid = r.id\n",
    "        # We will use metabolites table for exchange reactions\n",
    "        # ID\n",
    "        if sid.startswith('EX_'):\n",
    "            c = sid[-2:]\n",
    "            sid = sid[3:-2]\n",
    "            try:\n",
    "                bid = m_table[m_table[\"SEED\"] == sid][\"BiGG\"].values[0]\n",
    "                bid = \"EX_\" + str(bid) + str(c)\n",
    "                r.id = bid\n",
    "            except IndexError:\n",
    "                pass\n",
    "        else:\n",
    "            c = sid[-2:]\n",
    "            sid = sid[:-2]\n",
    "            try:\n",
    "                bid = r_table[r_table[\"SEED\"] == sid][\"BiGG\"].values[0]\n",
    "                # BiGG reactions' IDs don't have compartment termination\n",
    "                r.id = bid\n",
    "            except IndexError:\n",
    "                pass\n",
    "        # METABOLITES WITHIN REACTION\n",
    "        # metabolite objects\n",
    "        metab = [x.copy() for x in r.metabolites]\n",
    "        # SEED IDs\n",
    "        met_id = [str(x) for x in r.metabolites.keys()]\n",
    "        # stoichiometric coefficients\n",
    "        coef = [float(x) for x in r.metabolites.values()]\n",
    "        # managing compartment terminations\n",
    "        met_c = [x[-2:] for x in met_id]\n",
    "        met_id = [x[:-2] for x in met_id]\n",
    "        # getting BiGG ids\n",
    "        new_ids = []\n",
    "        for x in met_id:\n",
    "            try:\n",
    "                new_id = m_table[m_table[\"SEED\"] == x][\"BiGG\"].values[0]\n",
    "                new_ids.append(new_id)\n",
    "            except IndexError:\n",
    "                new_ids.append(x)\n",
    "        # dict\n",
    "        m_dict = {}\n",
    "        # adding compartment terminations\n",
    "        for i in range(len(new_ids)):\n",
    "            new_ids[i] = str(new_ids[i]) + str(met_c[i])\n",
    "            # changing metabolites' id\n",
    "            metab[i].id = new_ids[i]\n",
    "            # making the dict\n",
    "            m_dict[metab[i]] = coef[i]\n",
    "        # removing old metabolites\n",
    "        r.subtract_metabolites(r.metabolites)\n",
    "        # adding translated metabolites\n",
    "        r.add_metabolites(m_dict)\n",
    "        # ADDING REACTION\n",
    "        new_model.add_reaction(r)\n",
    "    return new_model\n"
   ]
  },
  {
   "cell_type": "code",
   "execution_count": 16,
   "metadata": {},
   "outputs": [
    {
     "name": "stderr",
     "output_type": "stream",
     "text": [
      "Ignoring reaction 'EX_h2o_e' since it already exists.\n",
      "Ignoring reaction 'EX_o2_e' since it already exists.\n",
      "Ignoring reaction 'EX_h2o_e' since it already exists.\n",
      "Ignoring reaction 'EX_o2_e' since it already exists.\n"
     ]
    },
    {
     "data": {
      "text/plain": [
       "{'1428.847': <Model 1428.847 (translated) at 0x7fba838fab80>,\n",
       " '451708.12': <Model 451708.12 (translated) at 0x7fba83950be0>}"
      ]
     },
     "execution_count": 16,
     "metadata": {},
     "output_type": "execute_result"
    }
   ],
   "source": [
    "n = {}\n",
    "for i in D:\n",
    "    n[i] = seed_to_bigg(D[i], m_table = Metabolites, r_table = Reactions)\n",
    "n"
   ]
  },
  {
   "cell_type": "code",
   "execution_count": 4,
   "metadata": {
    "scrolled": false
   },
   "outputs": [
    {
     "name": "stdout",
     "output_type": "stream",
     "text": [
      "Using license file /home/fco/gurobi.lic\n",
      "Academic license - for non-commercial use only - expires 2021-06-01\n"
     ]
    }
   ],
   "source": [
    "seed_model = mackinac.create_cobra_model_from_modelseed_model(model_id=\"226186.12\")"
   ]
  },
  {
   "cell_type": "code",
   "execution_count": 7,
   "metadata": {},
   "outputs": [
    {
     "data": {
      "text/plain": [
       "185.15224240824574"
      ]
     },
     "execution_count": 7,
     "metadata": {},
     "output_type": "execute_result"
    }
   ],
   "source": [
    "seed_model.optimize().objective_value"
   ]
  },
  {
   "cell_type": "code",
   "execution_count": 10,
   "metadata": {},
   "outputs": [
    {
     "data": {
      "text/plain": [
       "{'fba_count': 0,\n",
       " 'gapfilled_reactions': 0,\n",
       " 'gene_associated_reactions': 967,\n",
       " 'genome_ref': '/fcomnozz@patricbrc.org/modelseed/226186.12/genome',\n",
       " 'id': '226186.12',\n",
       " 'integrated_gapfills': 3,\n",
       " 'name': 'Bacteroides thetaiotaomicron VPI-5482',\n",
       " 'num_biomass_compounds': 85,\n",
       " 'num_biomasses': 1,\n",
       " 'num_compartments': 2,\n",
       " 'num_compounds': 1213,\n",
       " 'num_genes': 704,\n",
       " 'num_reactions': 1086,\n",
       " 'ref': '/fcomnozz@patricbrc.org/modelseed/226186.12',\n",
       " 'rundate': '2021-04-12T12:12:47Z',\n",
       " 'source': 'ModelSEED',\n",
       " 'source_id': '226186.12',\n",
       " 'template_ref': '/chenry/public/modelsupport/templates/GramNegModelTemplate',\n",
       " 'type': 'GenomeScale',\n",
       " 'unintegrated_gapfills': 0}"
      ]
     },
     "execution_count": 10,
     "metadata": {},
     "output_type": "execute_result"
    }
   ],
   "source": [
    "mackinac.gapfill_modelseed_model(seed_model)"
   ]
  },
  {
   "cell_type": "code",
   "execution_count": 14,
   "metadata": {},
   "outputs": [
    {
     "name": "stdout",
     "output_type": "stream",
     "text": [
      "a\n",
      "b\n"
     ]
    }
   ],
   "source": [
    "d = {1: 'a', 2: 'b'}\n",
    "for i in d.keys():\n",
    "    print(d[i])\n",
    "    "
   ]
  },
  {
   "cell_type": "code",
   "execution_count": 9,
   "metadata": {},
   "outputs": [
    {
     "data": {
      "text/plain": [
       "185.15224240824574"
      ]
     },
     "execution_count": 9,
     "metadata": {},
     "output_type": "execute_result"
    }
   ],
   "source": [
    "seed_model.optimize().objective_value"
   ]
  },
  {
   "cell_type": "code",
   "execution_count": 166,
   "metadata": {},
   "outputs": [
    {
     "data": {
      "text/plain": [
       "{'model_21232_34': 35}"
      ]
     },
     "execution_count": 166,
     "metadata": {},
     "output_type": "execute_result"
    }
   ],
   "source": [
    "d = {}\n",
    "name  = \"model_\" + \"21232.34\".replace(\".\",\"_\")\n",
    "d[name] = 35\n",
    "d"
   ]
  },
  {
   "cell_type": "code",
   "execution_count": 5,
   "metadata": {
    "scrolled": true
   },
   "outputs": [
    {
     "data": {
      "text/html": [
       "\n",
       "        <table>\n",
       "            <tr>\n",
       "                <td><strong>Reaction identifier</strong></td><td>rxn00011_c</td>\n",
       "            </tr><tr>\n",
       "                <td><strong>Name</strong></td><td>pyruvate:thiamin diphosphate acetaldehydetransferase (decarboxylating)</td>\n",
       "            </tr><tr>\n",
       "                <td><strong>Memory address</strong></td>\n",
       "                <td>0x07f5e59aa2fd0</td>\n",
       "            </tr><tr>\n",
       "                <td><strong>Stoichiometry</strong></td>\n",
       "                <td>\n",
       "                    <p style='text-align:right'>cpd00020_c + cpd00056_c + cpd00067_c --> cpd00011_c + cpd03049_c</p>\n",
       "                    <p style='text-align:right'>Pyruvate_c + TPP_c + H+_c --> CO2_c + 2-Hydroxyethyl-ThPP_c</p>\n",
       "                </td>\n",
       "            </tr><tr>\n",
       "                <td><strong>GPR</strong></td><td>( 226186.12.peg.2137 and 226186.12.peg.2138 )</td>\n",
       "            </tr><tr>\n",
       "                <td><strong>Lower bound</strong></td><td>0.0</td>\n",
       "            </tr><tr>\n",
       "                <td><strong>Upper bound</strong></td><td>1000.0</td>\n",
       "            </tr>\n",
       "        </table>\n",
       "        "
      ],
      "text/plain": [
       "<Reaction rxn00011_c at 0x7f5e59aa2fd0>"
      ]
     },
     "execution_count": 5,
     "metadata": {},
     "output_type": "execute_result"
    }
   ],
   "source": [
    "seed_model.reactions.rxn00011_c"
   ]
  },
  {
   "cell_type": "code",
   "execution_count": 6,
   "metadata": {},
   "outputs": [
    {
     "name": "stdout",
     "output_type": "stream",
     "text": [
      "Model /fcomnozz@patricbrc.org/modelseed/226186.12 for organism Bacteroides thetaiotaomicron VPI-5482 with 967 reactions and 1142 metabolites\n"
     ]
    }
   ],
   "source": [
    "# this function can be useful for extracting the name of organism\n",
    "mackinac.list_modelseed_models(print_output=True)"
   ]
  },
  {
   "cell_type": "code",
   "execution_count": 7,
   "metadata": {},
   "outputs": [],
   "source": [
    "# MODEL TRANSLATION TESTING\n",
    "# reference\n",
    "bigg_model = read_sbml_model(\"BiGG_files/iJN746.xml\")"
   ]
  },
  {
   "cell_type": "code",
   "execution_count": 8,
   "metadata": {},
   "outputs": [
    {
     "data": {
      "text/html": [
       "\n",
       "        <table>\n",
       "            <tr>\n",
       "                <td><strong>Reaction identifier</strong></td><td>ACS</td>\n",
       "            </tr><tr>\n",
       "                <td><strong>Name</strong></td><td>Acetyl-CoA synthetase</td>\n",
       "            </tr><tr>\n",
       "                <td><strong>Memory address</strong></td>\n",
       "                <td>0x07f5dd15701c0</td>\n",
       "            </tr><tr>\n",
       "                <td><strong>Stoichiometry</strong></td>\n",
       "                <td>\n",
       "                    <p style='text-align:right'>ac_c + atp_c + coa_c <=> accoa_c + amp_c + ppi_c</p>\n",
       "                    <p style='text-align:right'>Acetate + ATP C10H12N5O13P3 + Coenzyme A <=> Acetyl-CoA + AMP C10H12N5O7P + Diphosphate</p>\n",
       "                </td>\n",
       "            </tr><tr>\n",
       "                <td><strong>GPR</strong></td><td>PP_4487 or PP_4702</td>\n",
       "            </tr><tr>\n",
       "                <td><strong>Lower bound</strong></td><td>-999999.0</td>\n",
       "            </tr><tr>\n",
       "                <td><strong>Upper bound</strong></td><td>999999.0</td>\n",
       "            </tr>\n",
       "        </table>\n",
       "        "
      ],
      "text/plain": [
       "<Reaction ACS at 0x7f5dd15701c0>"
      ]
     },
     "execution_count": 8,
     "metadata": {},
     "output_type": "execute_result"
    }
   ],
   "source": [
    "bigg_model.reactions.ACS"
   ]
  },
  {
   "cell_type": "code",
   "execution_count": 15,
   "metadata": {},
   "outputs": [],
   "source": [
    "# loading translation tables\n",
    "Reactions = pd.read_csv(\"reactions.tsv\", sep = \"\\t\")\n",
    "Metabolites = pd.read_csv(\"compounds.tsv\", sep = \"\\t\")"
   ]
  },
  {
   "cell_type": "code",
   "execution_count": 10,
   "metadata": {},
   "outputs": [
    {
     "data": {
      "text/html": [
       "<div>\n",
       "<style scoped>\n",
       "    .dataframe tbody tr th:only-of-type {\n",
       "        vertical-align: middle;\n",
       "    }\n",
       "\n",
       "    .dataframe tbody tr th {\n",
       "        vertical-align: top;\n",
       "    }\n",
       "\n",
       "    .dataframe thead th {\n",
       "        text-align: right;\n",
       "    }\n",
       "</style>\n",
       "<table border=\"1\" class=\"dataframe\">\n",
       "  <thead>\n",
       "    <tr style=\"text-align: right;\">\n",
       "      <th></th>\n",
       "      <th>BiGG</th>\n",
       "      <th>SEED</th>\n",
       "    </tr>\n",
       "  </thead>\n",
       "  <tbody>\n",
       "    <tr>\n",
       "      <th>880</th>\n",
       "      <td>atp</td>\n",
       "      <td>cpd00002</td>\n",
       "    </tr>\n",
       "  </tbody>\n",
       "</table>\n",
       "</div>"
      ],
      "text/plain": [
       "    BiGG      SEED\n",
       "880  atp  cpd00002"
      ]
     },
     "execution_count": 10,
     "metadata": {},
     "output_type": "execute_result"
    }
   ],
   "source": [
    "Metabolites[Metabolites[\"BiGG\"]=='atp']"
   ]
  },
  {
   "cell_type": "code",
   "execution_count": 11,
   "metadata": {
    "scrolled": true
   },
   "outputs": [],
   "source": [
    "# Metabolites' table does not consider compartments so we must add them\n",
    "new_model = cobra.Model(\"test\")"
   ]
  },
  {
   "cell_type": "code",
   "execution_count": 12,
   "metadata": {},
   "outputs": [
    {
     "data": {
      "text/html": [
       "\n",
       "        <table>\n",
       "            <tr>\n",
       "                <td><strong>Metabolite identifier</strong></td><td>cpd00001_c</td>\n",
       "            </tr><tr>\n",
       "                <td><strong>Name</strong></td><td>H2O_c</td>\n",
       "            </tr><tr>\n",
       "                <td><strong>Memory address</strong></td>\n",
       "                <td>0x07f5dd14ae6d0</td>\n",
       "            </tr><tr>\n",
       "                <td><strong>Formula</strong></td><td>H2O</td>\n",
       "            </tr><tr>\n",
       "                <td><strong>Compartment</strong></td><td>c</td>\n",
       "            </tr><tr>\n",
       "                <td><strong>In 315 reaction(s)</strong></td><td>\n",
       "                    rxn12639_c, rxn12634_c, rxn02418_c, rxn06823_c, rxn05319_c, rxn00902_c, rxn00503_c, rxn03002_c, rxn00816_c, rxn12643_c, rxn00109_c, rxn03842_c, rxn00927_c, rxn02090_c, rxn00278_c, rxn00743_c, rxn07...</td>\n",
       "            </tr>\n",
       "        </table>"
      ],
      "text/plain": [
       "<Metabolite cpd00001_c at 0x7f5dd14ae6d0>"
      ]
     },
     "execution_count": 12,
     "metadata": {},
     "output_type": "execute_result"
    }
   ],
   "source": [
    "seed_model.metabolites.cpd00001_c"
   ]
  },
  {
   "cell_type": "code",
   "execution_count": 13,
   "metadata": {},
   "outputs": [],
   "source": [
    "m = seed_model.metabolites.cpd00001_c.copy()"
   ]
  },
  {
   "cell_type": "code",
   "execution_count": 14,
   "metadata": {},
   "outputs": [
    {
     "data": {
      "text/plain": [
       "'cpd00001_c'"
      ]
     },
     "execution_count": 14,
     "metadata": {},
     "output_type": "execute_result"
    }
   ],
   "source": [
    "ID = m.id\n",
    "ID"
   ]
  },
  {
   "cell_type": "code",
   "execution_count": 15,
   "metadata": {
    "scrolled": true
   },
   "outputs": [
    {
     "name": "stdout",
     "output_type": "stream",
     "text": [
      "_c cpd00001\n"
     ]
    }
   ],
   "source": [
    "c = ID[-2:]\n",
    "ID = ID[:-2]\n",
    "print(c, ID)"
   ]
  },
  {
   "cell_type": "code",
   "execution_count": 16,
   "metadata": {},
   "outputs": [
    {
     "data": {
      "text/plain": [
       "2634    h2o\n",
       "Name: BiGG, dtype: object"
      ]
     },
     "execution_count": 16,
     "metadata": {},
     "output_type": "execute_result"
    }
   ],
   "source": [
    "ID2 = Metabolites[Metabolites['SEED'] == ID][\"BiGG\"]\n",
    "ID2"
   ]
  },
  {
   "cell_type": "code",
   "execution_count": 17,
   "metadata": {},
   "outputs": [],
   "source": [
    "if 'cpd00001' in Metabolites['SEED']:\n",
    "    print(\"yes\")"
   ]
  },
  {
   "cell_type": "code",
   "execution_count": 18,
   "metadata": {},
   "outputs": [
    {
     "data": {
      "text/plain": [
       "'h2o'"
      ]
     },
     "execution_count": 18,
     "metadata": {},
     "output_type": "execute_result"
    }
   ],
   "source": [
    "ID2.values[0]"
   ]
  },
  {
   "cell_type": "code",
   "execution_count": 19,
   "metadata": {
    "scrolled": true
   },
   "outputs": [
    {
     "data": {
      "text/plain": [
       "'h2o_c'"
      ]
     },
     "execution_count": 19,
     "metadata": {},
     "output_type": "execute_result"
    }
   ],
   "source": [
    "meta = str(ID2.values[0])+str(c)\n",
    "meta"
   ]
  },
  {
   "cell_type": "code",
   "execution_count": 20,
   "metadata": {},
   "outputs": [],
   "source": [
    "m.id = meta"
   ]
  },
  {
   "cell_type": "code",
   "execution_count": 21,
   "metadata": {},
   "outputs": [
    {
     "data": {
      "text/html": [
       "\n",
       "        <table>\n",
       "            <tr>\n",
       "                <td><strong>Name</strong></td>\n",
       "                <td>test</td>\n",
       "            </tr><tr>\n",
       "                <td><strong>Memory address</strong></td>\n",
       "                <td>0x07f5e51213d30</td>\n",
       "            </tr><tr>\n",
       "                <td><strong>Number of metabolites</strong></td>\n",
       "                <td>1</td>\n",
       "            </tr><tr>\n",
       "                <td><strong>Number of reactions</strong></td>\n",
       "                <td>0</td>\n",
       "            </tr><tr>\n",
       "                <td><strong>Number of groups</strong></td>\n",
       "                <td>0</td>\n",
       "            </tr><tr>\n",
       "                <td><strong>Objective expression</strong></td>\n",
       "                <td>0</td>\n",
       "            </tr><tr>\n",
       "                <td><strong>Compartments</strong></td>\n",
       "                <td>c</td>\n",
       "            </tr>\n",
       "          </table>"
      ],
      "text/plain": [
       "<Model test at 0x7f5e51213d30>"
      ]
     },
     "execution_count": 21,
     "metadata": {},
     "output_type": "execute_result"
    }
   ],
   "source": [
    "new_model.add_metabolites(m)\n",
    "new_model"
   ]
  },
  {
   "cell_type": "code",
   "execution_count": 160,
   "metadata": {},
   "outputs": [],
   "source": [
    "def seed_to_bigg(model, m_table, r_table):\n",
    "    new_model = cobra.Model(str(model) + \" (translated)\")\n",
    "    # metabolites\n",
    "    for metabolite in model.metabolites:\n",
    "        m = metabolite.copy()\n",
    "        sid = m.id\n",
    "        # assumption -> nx_c; maybe will need to change it\n",
    "        c = sid[-2:]\n",
    "        sid = sid[:-2]\n",
    "        try:\n",
    "            bid = m_table[m_table[\"SEED\"] == sid][\"BiGG\"].values[0]\n",
    "        except IndexError:\n",
    "            new_model.add_metabolites(m)\n",
    "            continue\n",
    "        ID = str(bid)+str(c)\n",
    "        m.id = ID\n",
    "        new_model.add_metabolites(m)\n",
    "    # reactions\n",
    "    for reaction in model.reactions:\n",
    "        r = reaction.copy()\n",
    "        sid = r.id\n",
    "        # We will use metabolites table for exchange reactions\n",
    "        # ID\n",
    "        if sid.startswith('EX_'):\n",
    "            c = sid[-2:]\n",
    "            sid = sid[3:-2]\n",
    "            try:\n",
    "                bid = m_table[m_table[\"SEED\"] == sid][\"BiGG\"].values[0]\n",
    "                bid = \"EX_\" + str(bid) + str(c)\n",
    "                r.id = bid\n",
    "            except IndexError:\n",
    "                pass\n",
    "        else:\n",
    "            c = sid[-2:]\n",
    "            sid = sid[:-2]\n",
    "            try:\n",
    "                bid = r_table[r_table[\"SEED\"] == sid][\"BiGG\"].values[0]\n",
    "                # BiGG reactions' IDs don't have compartment termination\n",
    "                r.id = bid\n",
    "            except IndexError:\n",
    "                pass\n",
    "        # METABOLITES WITHIN REACTION\n",
    "        # metabolite objects\n",
    "        metab = [x.copy() for x in r.metabolites]\n",
    "        # SEED IDs\n",
    "        met_id = [str(x) for x in r.metabolites.keys()]\n",
    "        # stoichiometric coefficients\n",
    "        coef = [float(x) for x in r.metabolites.values()]\n",
    "        # managing compartment terminations\n",
    "        met_c = [x[-2:] for x in met_id]\n",
    "        met_id = [x[:-2] for x in met_id]\n",
    "        # getting BiGG ids\n",
    "        new_ids = []\n",
    "        for x in met_id:\n",
    "            try:\n",
    "                new_id = m_table[m_table[\"SEED\"] == x][\"BiGG\"].values[0]\n",
    "                new_ids.append(new_id)\n",
    "            except IndexError:\n",
    "                new_ids.append(x)\n",
    "        # dict\n",
    "        m_dict = {}\n",
    "        # adding compartment terminations\n",
    "        for i in range(len(new_ids)):\n",
    "            new_ids[i] = str(new_ids[i]) + str(met_c[i])\n",
    "            # changing metabolites' id\n",
    "            metab[i].id = new_ids[i]\n",
    "            # making the dict\n",
    "            m_dict[metab[i]] = coef[i]\n",
    "        # removing old metabolites\n",
    "        r.subtract_metabolites(r.metabolites)\n",
    "        # adding translated metabolites\n",
    "        r.add_metabolites(m_dict)\n",
    "        # ADDING REACTION\n",
    "        new_model.add_reaction(r)\n",
    "    return new_model"
   ]
  },
  {
   "cell_type": "code",
   "execution_count": 158,
   "metadata": {
    "scrolled": true
   },
   "outputs": [
    {
     "name": "stderr",
     "output_type": "stream",
     "text": [
      "Ignoring reaction 'EX_h2o_e' since it already exists.\n",
      "Ignoring reaction 'EX_nh4_e' since it already exists.\n",
      "Ignoring reaction 'EX_mg2_e' since it already exists.\n",
      "Ignoring reaction 'EX_o2_e' since it already exists.\n"
     ]
    }
   ],
   "source": [
    "model = seed_to_bigg(seed_model, m_table=Metabolites, r_table=Reactions)"
   ]
  },
  {
   "cell_type": "code",
   "execution_count": 23,
   "metadata": {},
   "outputs": [
    {
     "data": {
      "text/html": [
       "\n",
       "        <table>\n",
       "            <tr>\n",
       "                <td><strong>Reaction identifier</strong></td><td>rxn00011_c</td>\n",
       "            </tr><tr>\n",
       "                <td><strong>Name</strong></td><td>pyruvate:thiamin diphosphate acetaldehydetransferase (decarboxylating)</td>\n",
       "            </tr><tr>\n",
       "                <td><strong>Memory address</strong></td>\n",
       "                <td>0x07f5e59aa2fd0</td>\n",
       "            </tr><tr>\n",
       "                <td><strong>Stoichiometry</strong></td>\n",
       "                <td>\n",
       "                    <p style='text-align:right'>cpd00020_c + cpd00056_c + cpd00067_c --> cpd00011_c + cpd03049_c</p>\n",
       "                    <p style='text-align:right'>Pyruvate_c + TPP_c + H+_c --> CO2_c + 2-Hydroxyethyl-ThPP_c</p>\n",
       "                </td>\n",
       "            </tr><tr>\n",
       "                <td><strong>GPR</strong></td><td>( 226186.12.peg.2137 and 226186.12.peg.2138 )</td>\n",
       "            </tr><tr>\n",
       "                <td><strong>Lower bound</strong></td><td>0.0</td>\n",
       "            </tr><tr>\n",
       "                <td><strong>Upper bound</strong></td><td>1000.0</td>\n",
       "            </tr>\n",
       "        </table>\n",
       "        "
      ],
      "text/plain": [
       "<Reaction rxn00011_c at 0x7f5e59aa2fd0>"
      ]
     },
     "execution_count": 23,
     "metadata": {},
     "output_type": "execute_result"
    }
   ],
   "source": [
    "# REACTIONS\n",
    "seed_model.reactions.rxn00011_c"
   ]
  },
  {
   "cell_type": "markdown",
   "metadata": {},
   "source": [
    "BiGG reactions IDs don't usually have a compartment termination, except for exchange reactions. We must take that into account."
   ]
  },
  {
   "cell_type": "code",
   "execution_count": 26,
   "metadata": {},
   "outputs": [],
   "source": [
    "new_model = cobra.Model('test')"
   ]
  },
  {
   "cell_type": "code",
   "execution_count": 27,
   "metadata": {},
   "outputs": [],
   "source": [
    "r = seed_model.reactions.rxn00011_c"
   ]
  },
  {
   "cell_type": "code",
   "execution_count": 28,
   "metadata": {},
   "outputs": [
    {
     "name": "stdout",
     "output_type": "stream",
     "text": [
      "rxn00011 _c\n"
     ]
    }
   ],
   "source": [
    "ID = r.id\n",
    "c = ID[-2:]\n",
    "ID = ID[:-2]\n",
    "print(ID,c)"
   ]
  },
  {
   "cell_type": "code",
   "execution_count": 29,
   "metadata": {},
   "outputs": [],
   "source": [
    "ID2 = Reactions[Reactions['SEED'] == ID]['BiGG']"
   ]
  },
  {
   "cell_type": "code",
   "execution_count": 31,
   "metadata": {},
   "outputs": [
    {
     "data": {
      "text/plain": [
       "1833       ACLSa\n",
       "1834    PDHam1hi\n",
       "1835     PDHam1m\n",
       "1836    PDHam1mi\n",
       "Name: BiGG, dtype: object"
      ]
     },
     "execution_count": 31,
     "metadata": {},
     "output_type": "execute_result"
    }
   ],
   "source": [
    "ID2"
   ]
  },
  {
   "cell_type": "code",
   "execution_count": 30,
   "metadata": {},
   "outputs": [
    {
     "data": {
      "text/plain": [
       "'ACLSa'"
      ]
     },
     "execution_count": 30,
     "metadata": {},
     "output_type": "execute_result"
    }
   ],
   "source": [
    "ID2.values[0]"
   ]
  },
  {
   "cell_type": "code",
   "execution_count": 32,
   "metadata": {},
   "outputs": [],
   "source": [
    "# if there are several names the first one will be chosen "
   ]
  },
  {
   "cell_type": "code",
   "execution_count": 108,
   "metadata": {},
   "outputs": [
    {
     "data": {
      "text/html": [
       "\n",
       "        <table>\n",
       "            <tr>\n",
       "                <td><strong>Reaction identifier</strong></td><td>EX_cpd00159_e</td>\n",
       "            </tr><tr>\n",
       "                <td><strong>Name</strong></td><td>L-Lactate_e exchange</td>\n",
       "            </tr><tr>\n",
       "                <td><strong>Memory address</strong></td>\n",
       "                <td>0x07f5df7710c10</td>\n",
       "            </tr><tr>\n",
       "                <td><strong>Stoichiometry</strong></td>\n",
       "                <td>\n",
       "                    <p style='text-align:right'>cpd00159_e <=> </p>\n",
       "                    <p style='text-align:right'>L-Lactate_e <=> </p>\n",
       "                </td>\n",
       "            </tr><tr>\n",
       "                <td><strong>GPR</strong></td><td></td>\n",
       "            </tr><tr>\n",
       "                <td><strong>Lower bound</strong></td><td>-1000.0</td>\n",
       "            </tr><tr>\n",
       "                <td><strong>Upper bound</strong></td><td>1000.0</td>\n",
       "            </tr>\n",
       "        </table>\n",
       "        "
      ],
      "text/plain": [
       "<Reaction EX_cpd00159_e at 0x7f5df7710c10>"
      ]
     },
     "execution_count": 108,
     "metadata": {},
     "output_type": "execute_result"
    }
   ],
   "source": [
    "# there's no EX_ reactions in our translation table; we'll try with metabolites table\n",
    "r = seed_model.reactions.EX_cpd00159_e\n",
    "r"
   ]
  },
  {
   "cell_type": "code",
   "execution_count": 55,
   "metadata": {},
   "outputs": [
    {
     "data": {
      "text/plain": [
       "'cpd00159'"
      ]
     },
     "execution_count": 55,
     "metadata": {},
     "output_type": "execute_result"
    }
   ],
   "source": [
    "ID = r.id\n",
    "c = ID[-2:]\n",
    "ID = ID[3:-2]\n",
    "ID"
   ]
  },
  {
   "cell_type": "code",
   "execution_count": 57,
   "metadata": {},
   "outputs": [
    {
     "data": {
      "text/plain": [
       "'lac__L'"
      ]
     },
     "execution_count": 57,
     "metadata": {},
     "output_type": "execute_result"
    }
   ],
   "source": [
    "ID2 = Metabolites[Metabolites[\"SEED\"] == ID][\"BiGG\"].values[0]\n",
    "ID2"
   ]
  },
  {
   "cell_type": "code",
   "execution_count": 58,
   "metadata": {},
   "outputs": [
    {
     "data": {
      "text/plain": [
       "'EX_lac__L_e'"
      ]
     },
     "execution_count": 58,
     "metadata": {},
     "output_type": "execute_result"
    }
   ],
   "source": [
    "ID2 = 'EX_' + str(ID2) + str(c)\n",
    "ID2"
   ]
  },
  {
   "cell_type": "code",
   "execution_count": 133,
   "metadata": {},
   "outputs": [
    {
     "data": {
      "text/html": [
       "\n",
       "        <table>\n",
       "            <tr>\n",
       "                <td><strong>Reaction identifier</strong></td><td>rxn00011_c</td>\n",
       "            </tr><tr>\n",
       "                <td><strong>Name</strong></td><td>pyruvate:thiamin diphosphate acetaldehydetransferase (decarboxylating)</td>\n",
       "            </tr><tr>\n",
       "                <td><strong>Memory address</strong></td>\n",
       "                <td>0x07f5df772eac0</td>\n",
       "            </tr><tr>\n",
       "                <td><strong>Stoichiometry</strong></td>\n",
       "                <td>\n",
       "                    <p style='text-align:right'>cpd00020_c + cpd00056_c + cpd00067_c --> cpd00011_c + cpd03049_c</p>\n",
       "                    <p style='text-align:right'>Pyruvate_c + TPP_c + H+_c --> CO2_c + 2-Hydroxyethyl-ThPP_c</p>\n",
       "                </td>\n",
       "            </tr><tr>\n",
       "                <td><strong>GPR</strong></td><td>( 226186.12.peg.2137 and 226186.12.peg.2138 )</td>\n",
       "            </tr><tr>\n",
       "                <td><strong>Lower bound</strong></td><td>0.0</td>\n",
       "            </tr><tr>\n",
       "                <td><strong>Upper bound</strong></td><td>1000.0</td>\n",
       "            </tr>\n",
       "        </table>\n",
       "        "
      ],
      "text/plain": [
       "<Reaction rxn00011_c at 0x7f5df772eac0>"
      ]
     },
     "execution_count": 133,
     "metadata": {},
     "output_type": "execute_result"
    }
   ],
   "source": [
    "r = seed_model.reactions.rxn00011_c.copy()\n",
    "r"
   ]
  },
  {
   "cell_type": "code",
   "execution_count": 134,
   "metadata": {
    "scrolled": true
   },
   "outputs": [
    {
     "name": "stdout",
     "output_type": "stream",
     "text": [
      "[<Metabolite cpd00011_c at 0x7f5df6deafd0>, <Metabolite cpd03049_c at 0x7f5df7fe62b0>, <Metabolite cpd00020_c at 0x7f5df7fe6940>, <Metabolite cpd00056_c at 0x7f5df7fe66d0>, <Metabolite cpd00067_c at 0x7f5df812e040>] ['cpd00011', 'cpd03049', 'cpd00020', 'cpd00056', 'cpd00067'] ['_c', '_c', '_c', '_c', '_c'] [1.0, 1.0, -1.0, -1.0, -1.0]\n"
     ]
    }
   ],
   "source": [
    "# metabolite objects\n",
    "metab = [x.copy() for x in r.metabolites]\n",
    "# SEED IDs\n",
    "met_id = [str(x) for x in r.metabolites.keys()]\n",
    "# stoichiometric coefficients\n",
    "coef = [float(x) for x in r.metabolites.values()]\n",
    "# managing compartment terminations\n",
    "met_c = [x[-2:] for x in met_id]\n",
    "met_id = [x[:-2] for x in met_id]\n",
    "print(metab, met_id, met_c, coef)"
   ]
  },
  {
   "cell_type": "code",
   "execution_count": 139,
   "metadata": {},
   "outputs": [
    {
     "data": {
      "text/plain": [
       "['co2', '2ahethmpp', 'pyr', 'thmpp', 'h']"
      ]
     },
     "execution_count": 139,
     "metadata": {},
     "output_type": "execute_result"
    }
   ],
   "source": [
    "# getting BiGG ids\n",
    "new_ids = []\n",
    "for x in met_id:\n",
    "    try:\n",
    "        new_id = Metabolites[Metabolites[\"SEED\"] == x][\"BiGG\"].values[0]\n",
    "        new_ids.append(new_id)\n",
    "    except IndexError:\n",
    "        new_ids.append(x)\n",
    "new_ids"
   ]
  },
  {
   "cell_type": "code",
   "execution_count": 140,
   "metadata": {},
   "outputs": [
    {
     "data": {
      "text/plain": [
       "{<Metabolite co2_c at 0x7f5df6deafd0>: 1.0,\n",
       " <Metabolite 2ahethmpp_c at 0x7f5df7fe62b0>: 1.0,\n",
       " <Metabolite pyr_c at 0x7f5df7fe6940>: -1.0,\n",
       " <Metabolite thmpp_c at 0x7f5df7fe66d0>: -1.0,\n",
       " <Metabolite h_c at 0x7f5df812e040>: -1.0}"
      ]
     },
     "execution_count": 140,
     "metadata": {},
     "output_type": "execute_result"
    }
   ],
   "source": [
    "# dict\n",
    "m_dict = {}\n",
    "# adding compartment terminations\n",
    "for i in range(len(new_ids)):\n",
    "    new_ids[i] = str(new_ids[i]) + str(met_c[i])\n",
    "    # changing metabolites' id\n",
    "    metab[i].id = new_ids[i]\n",
    "    # making the dict\n",
    "    m_dict[metab[i]] = coef[i]\n",
    "m_dict"
   ]
  },
  {
   "cell_type": "code",
   "execution_count": 141,
   "metadata": {
    "scrolled": true
   },
   "outputs": [
    {
     "data": {
      "text/html": [
       "\n",
       "        <table>\n",
       "            <tr>\n",
       "                <td><strong>Reaction identifier</strong></td><td>rxn00011_c</td>\n",
       "            </tr><tr>\n",
       "                <td><strong>Name</strong></td><td>pyruvate:thiamin diphosphate acetaldehydetransferase (decarboxylating)</td>\n",
       "            </tr><tr>\n",
       "                <td><strong>Memory address</strong></td>\n",
       "                <td>0x07f5df772eac0</td>\n",
       "            </tr><tr>\n",
       "                <td><strong>Stoichiometry</strong></td>\n",
       "                <td>\n",
       "                    <p style='text-align:right'> --> </p>\n",
       "                    <p style='text-align:right'> --> </p>\n",
       "                </td>\n",
       "            </tr><tr>\n",
       "                <td><strong>GPR</strong></td><td>( 226186.12.peg.2137 and 226186.12.peg.2138 )</td>\n",
       "            </tr><tr>\n",
       "                <td><strong>Lower bound</strong></td><td>0.0</td>\n",
       "            </tr><tr>\n",
       "                <td><strong>Upper bound</strong></td><td>1000.0</td>\n",
       "            </tr>\n",
       "        </table>\n",
       "        "
      ],
      "text/plain": [
       "<Reaction rxn00011_c at 0x7f5df772eac0>"
      ]
     },
     "execution_count": 141,
     "metadata": {},
     "output_type": "execute_result"
    }
   ],
   "source": [
    "# removing old metabolites\n",
    "r.subtract_metabolites(r.metabolites)\n",
    "r"
   ]
  },
  {
   "cell_type": "code",
   "execution_count": 142,
   "metadata": {},
   "outputs": [],
   "source": [
    "# adding metabolites\n",
    "r.add_metabolites(m_dict)"
   ]
  },
  {
   "cell_type": "code",
   "execution_count": 143,
   "metadata": {
    "scrolled": true
   },
   "outputs": [
    {
     "data": {
      "text/html": [
       "\n",
       "        <table>\n",
       "            <tr>\n",
       "                <td><strong>Reaction identifier</strong></td><td>rxn00011_c</td>\n",
       "            </tr><tr>\n",
       "                <td><strong>Name</strong></td><td>pyruvate:thiamin diphosphate acetaldehydetransferase (decarboxylating)</td>\n",
       "            </tr><tr>\n",
       "                <td><strong>Memory address</strong></td>\n",
       "                <td>0x07f5df772eac0</td>\n",
       "            </tr><tr>\n",
       "                <td><strong>Stoichiometry</strong></td>\n",
       "                <td>\n",
       "                    <p style='text-align:right'>h_c + pyr_c + thmpp_c --> 2ahethmpp_c + co2_c</p>\n",
       "                    <p style='text-align:right'>H+_c + Pyruvate_c + TPP_c --> 2-Hydroxyethyl-ThPP_c + CO2_c</p>\n",
       "                </td>\n",
       "            </tr><tr>\n",
       "                <td><strong>GPR</strong></td><td>( 226186.12.peg.2137 and 226186.12.peg.2138 )</td>\n",
       "            </tr><tr>\n",
       "                <td><strong>Lower bound</strong></td><td>0.0</td>\n",
       "            </tr><tr>\n",
       "                <td><strong>Upper bound</strong></td><td>1000.0</td>\n",
       "            </tr>\n",
       "        </table>\n",
       "        "
      ],
      "text/plain": [
       "<Reaction rxn00011_c at 0x7f5df772eac0>"
      ]
     },
     "execution_count": 143,
     "metadata": {},
     "output_type": "execute_result"
    }
   ],
   "source": [
    "r"
   ]
  },
  {
   "cell_type": "code",
   "execution_count": 38,
   "metadata": {},
   "outputs": [
    {
     "data": {
      "text/plain": [
       "{'fba_count': 0,\n",
       " 'gapfilled_reactions': 0,\n",
       " 'gene_associated_reactions': 1283,\n",
       " 'genome_ref': '/fcomnozz@patricbrc.org/modelseed/86668.3/genome',\n",
       " 'id': '86668.3',\n",
       " 'integrated_gapfills': 0,\n",
       " 'name': 'Bacillus niacini F8',\n",
       " 'num_biomass_compounds': 100,\n",
       " 'num_biomasses': 1,\n",
       " 'num_compartments': 2,\n",
       " 'num_compounds': 1430,\n",
       " 'num_genes': 1003,\n",
       " 'num_reactions': 1283,\n",
       " 'ref': '/fcomnozz@patricbrc.org/modelseed/86668.3',\n",
       " 'rundate': '2021-05-03T10:32:14Z',\n",
       " 'source': 'ModelSEED',\n",
       " 'source_id': '86668.3',\n",
       " 'template_ref': '/chenry/public/modelsupport/templates/GramPosModelTemplate',\n",
       " 'type': 'GenomeScale',\n",
       " 'unintegrated_gapfills': 0}"
      ]
     },
     "execution_count": 38,
     "metadata": {},
     "output_type": "execute_result"
    }
   ],
   "source": [
    "# just one time\n",
    "\"\"\"\n",
    "mackinac.reconstruct_modelseed_model('86668.3')\n",
    "\"\"\""
   ]
  }
 ],
 "metadata": {
  "kernelspec": {
   "display_name": "Python 3",
   "language": "python",
   "name": "python3"
  },
  "language_info": {
   "codemirror_mode": {
    "name": "ipython",
    "version": 3
   },
   "file_extension": ".py",
   "mimetype": "text/x-python",
   "name": "python",
   "nbconvert_exporter": "python",
   "pygments_lexer": "ipython3",
   "version": "3.8.5"
  }
 },
 "nbformat": 4,
 "nbformat_minor": 4
}
