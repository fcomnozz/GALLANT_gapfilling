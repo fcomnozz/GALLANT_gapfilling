{
 "cells": [
  {
   "cell_type": "code",
   "execution_count": 27,
   "metadata": {},
   "outputs": [],
   "source": [
    "# from Gapfilling import *\n",
    "from modelseed_gapfilling import *\n",
    "import re\n",
    "import gurobipy\n",
    "import cobra\n",
    "from cobra.flux_analysis.gapfilling import GapFiller\n",
    "from cobra.io import read_sbml_model\n",
    "from cobra import exceptions\n",
    "from contextlib import contextmanager\n",
    "import sys, os\n",
    "import pandas as pd"
   ]
  },
  {
   "cell_type": "code",
   "execution_count": 28,
   "metadata": {},
   "outputs": [],
   "source": [
    "def load_query_model(model, obj = None):\n",
    "    \"\"\"\n",
    "    Loads a model. Objective can be changed to either \"biomass\" (regex\n",
    "    will be used) or a valid reaction ID.\n",
    "    Print is used temporary. A general log will be generated in the \n",
    "    final version.\n",
    "    \"\"\"\n",
    "    Model = model\n",
    "    if obj == \"biomass\":\n",
    "        b = re.compile(\"biomass\", re.IGNORECASE)\n",
    "        bc = re.compile(\"(biomass){1}.*(core){1}\", re.IGNORECASE)\n",
    "        reactions = [reaction.id for reaction in Model.reactions]\n",
    "        # searching for a biomass core reaction\n",
    "        core = list(filter(bc.match, reactions))\n",
    "        if core:\n",
    "            Model.objective = core[0]\n",
    "            return Model\n",
    "        # searching for a non core biomass reaction\n",
    "        biomass = list(filter(b.match, reactions))\n",
    "        if biomass:\n",
    "            Model.objective = biomass[0]\n",
    "            return Model\n",
    "        print(\"biomass not found in the query model\")\n",
    "        return Model\n",
    "    if obj != \"biomass\" and obj != None:\n",
    "        try:\n",
    "            Model.objective = obj\n",
    "        except ValueError:\n",
    "            print(str(obj) + \" not found in the query model\")\n",
    "            return Model\n",
    "        return Model\n",
    "    if obj == None:\n",
    "        return Model\n",
    "\n",
    "def load_template_models(template_list, obj = None):\n",
    "    \"\"\"\n",
    "    Takes a list of template models and changes objective if specified.\n",
    "    Objective can be either \"biomass\" or a specific reaction ID.\n",
    "    \"\"\"\n",
    "    templates = []\n",
    "    for t in template_list:\n",
    "        templates.append(t)\n",
    "    failures = []\n",
    "    if obj == None:\n",
    "        return templates\n",
    "    if obj == \"biomass\":\n",
    "        b = re.compile(\"biomass\", re.IGNORECASE)\n",
    "        bc = re.compile(\"(biomass){1}.*(core){1}\", re.IGNORECASE) \n",
    "        for model in templates:\n",
    "            reactions = [reaction.id for reaction in model.reactions]\n",
    "            # Searching for a biomass_core reaction\n",
    "            core = list(filter(bc.match, reactions))\n",
    "            if core:\n",
    "                model.objective = core[0]\n",
    "                continue\n",
    "            # Searching for a non core biomass reaction\n",
    "            biomass = list(filter(b.match, reactions))\n",
    "            if biomass:\n",
    "                model.objective = biomass[0]\n",
    "            # If biomass reactions are not found, the model name is stored into \"failures\" list.\n",
    "            # The model won't change its objective, but it will be used anyway for gap filling\n",
    "            else:\n",
    "                failures.append(str(model))\n",
    "            print(failures)\n",
    "            return templates\n",
    "    if obj != None and obj != \"biomass\":\n",
    "        for model in templates:\n",
    "            try:\n",
    "                model.objective = obj\n",
    "            except ValueError:\n",
    "                failures.append(str(model))\n",
    "        print(failures)\n",
    "        return templates\n",
    "    \n",
    "def gapfilling(model, template, integer_threshold, it = 1):\n",
    "    \"\"\"\n",
    "    Calls GapFiller class from cobrapy.\n",
    "    \"\"\"\n",
    "    gapfiller = GapFiller(model, template, integer_threshold = integer_threshold,\n",
    "                         demand_reactions = False)\n",
    "    return gapfiller.fill(iterations = it)\n",
    "\n",
    "def add_exchange_reactions(model, template):\n",
    "    \"\"\"\n",
    "    Adds all exchange reactions from a template matching model metabolites. \n",
    "    \"\"\"\n",
    "    EX = [template.reactions.get_by_id(i.id) for i in template.reactions if i.id.startswith(\"EX_\")]\n",
    "    for reaction in EX:\n",
    "        if reaction not in model.reactions and str(list(reaction.metabolites.keys())[0]) in [i.id for i in model.metabolites]:\n",
    "            model.add_reaction(reaction.copy())\n",
    "    return model\n",
    "\n",
    "def is_transport(reaction, compartments_list, all_compounds = False, ignore_h = False):\n",
    "    \"\"\"\n",
    "    Takes a cobra model reaction as input and determines if it is a transport reaction.\n",
    "    all_compounds = True -> both sides of the reaction must be the same\n",
    "    all_compounds = False -> at least one compound must be in both sides\n",
    "    ignore_h = True -> does not consider proton transference as transport\n",
    "    \"\"\"\n",
    "    # left part of the reaction\n",
    "    r = list(str(x) for x in reaction.reactants)\n",
    "    # right part\n",
    "    p = list(str(x) for x in reaction.products)\n",
    "    if len(r) != len(p):\n",
    "        return False\n",
    "    c = compartments_list\n",
    "    # removing terminations\n",
    "    R = []\n",
    "    for i in r:\n",
    "        for e in c:\n",
    "            i = i.replace(e, \"\") \n",
    "        R.append(i)\n",
    "    P = []\n",
    "    for i in p:\n",
    "        for e in c:\n",
    "            i = i.replace(e, \"\")\n",
    "        P.append(i)\n",
    "    # we sort the lists to avoid missing transport reactions where the sequence of the compounds is not maintained\n",
    "    R = sorted(R)\n",
    "    P = sorted(P)\n",
    "    if all_compounds == False:\n",
    "        if ignore_h == True:\n",
    "            if \"h\" in R:\n",
    "                R.remove(\"h\")\n",
    "            if \"h\" in P:\n",
    "                P.remove(\"h\")\n",
    "        for i in R:\n",
    "            if i in P:\n",
    "                return True\n",
    "            else:\n",
    "                return False\n",
    "    if R == P:\n",
    "        return True\n",
    "    else:\n",
    "        return False\n",
    "    \n",
    "def add_transport(model, template, all_compounds = False, ignore_h = False):\n",
    "    \"\"\"\n",
    "    Adds transport reactions from a template which metabolites are present in the model.\n",
    "    \"\"\"\n",
    "    # PREPARATION\n",
    "    # template compartments\n",
    "    t_compartments = list(template.compartments.keys())\n",
    "    t_Compartments = []\n",
    "    for i in t_compartments:\n",
    "        t_Compartments.append(\"_\" + str(i))\n",
    "    # getting compartments and metabolites from query model for further use\n",
    "    m_compartments = list(model.compartments.keys())\n",
    "    m_Compartments = []\n",
    "    for i in m_compartments:\n",
    "        m_Compartments.append(\"_\" + str(i))\n",
    "    m_metabolites = list(str(x) for x in model.metabolites)\n",
    "    # removing suffixes from metabolites\n",
    "    m_Metabolites = []\n",
    "    for i in m_metabolites:\n",
    "        for e in m_Compartments:\n",
    "            i = i.replace(e, \"\")\n",
    "        m_Metabolites.append(i)\n",
    "    # sorting and removing duplicates\n",
    "    m_Metabolites = list(dict.fromkeys(m_Metabolites))\n",
    "    # REACTION ADDING\n",
    "    for reaction in template.reactions:\n",
    "        if is_transport(reaction, t_Compartments, all_compounds = all_compounds, ignore_h = ignore_h) and reaction not in model.reactions:\n",
    "            # we will only use reactants as they'll be the same as products (apart from location)\n",
    "            m = list(str(x) for x in reaction.reactants)\n",
    "            M = []\n",
    "            for i in m:\n",
    "                for e in t_Compartments:\n",
    "                    i = i.replace(e, \"\")\n",
    "                M.append(i)\n",
    "            if all(x in m_Metabolites for x in M):  \n",
    "                model.add_reaction(reaction.copy())\n",
    "    return model\n",
    "\n",
    "def homology_gapfilling(model, templates, model_obj = None, template_obj = None, use_all_templates = False,\n",
    "                       integer_threshold = 1e-6, force_exchange = False, force_transport = False, t_all_compounds = False,\n",
    "                       t_ignore_h = False, value_fraction = 0.8):\n",
    "    \"\"\"\n",
    "    Performs gap filling on a model using homology models as templates.\n",
    "    \"\"\"\n",
    "    Model = load_query_model(model, obj = model_obj)\n",
    "    Model.solver = 'gurobi'\n",
    "    Templates = load_template_models(template_list = templates, obj = template_obj)\n",
    "    # this dict will store used models, genes and reactions\n",
    "    added_reactions = {}\n",
    "    # initial flux value\n",
    "    value = Model.optimize().objective_value\n",
    "    if value == None:\n",
    "        value = 0.0\n",
    "    if use_all_templates == False:\n",
    "        for template in Templates:\n",
    "            # adding exchange reactions\n",
    "            if force_exchange == True:\n",
    "                add_exchange_reactions(Model, template)\n",
    "            # adding transport reactions\n",
    "            if force_transport == True:\n",
    "                add_transport(Model, template, all_compounds = t_all_compounds, ignore_h = t_ignore_h)\n",
    "            template.solver = 'gurobi'\n",
    "            try:\n",
    "                # reactions \"log\"\n",
    "                log = []\n",
    "                # result variable will store the reactions ids\n",
    "                result = gapfilling(Model, template, integer_threshold = integer_threshold)\n",
    "                for reaction in result[0]:\n",
    "                    if reaction.id.startswith(\"EX_\"):\n",
    "                        log.append((reaction.id, \"Exchange reaction\"))\n",
    "                    else:\n",
    "                        log.append((reaction.id, [str(list(reaction.genes)[i]) \n",
    "                                              for i in range(len(list(reaction.genes)))]))\n",
    "                added_reactions[str(template)] = log\n",
    "                # Adding reactions to the model\n",
    "                [Model.add_reaction(reaction.copy()) for reaction in result[0]]\n",
    "                # Flux will be evaluated here\n",
    "                new_value = Model.optimize().objective_value\n",
    "                if new_value != None and new_value > value:\n",
    "                    value = new_value\n",
    "                elif new_value == None:\n",
    "                    continue\n",
    "                elif new_value != None and new_value == value:\n",
    "                    break\n",
    "                elif new_value < value:\n",
    "                    if new_value >= value * value_fraction:\n",
    "                        for i in range(len(log)):\n",
    "                            Model.reactions.log[i][0].lower_bound = 0.\n",
    "                            Model.reactions.log[i][0].upper_bound = 0.\n",
    "                        new_value = Model.optimize().objective_value\n",
    "                        value = new_value\n",
    "                    else:\n",
    "                        [Model.remove_reactions(Model.reactions.log[i][0]) for i in range(len(log))]\n",
    "                        del added_reactions[str(template)]\n",
    "                        break\n",
    "                write_sbml_model(Model, filename = \"model.tmp\")\n",
    "                Model = read_sbml_model(\"model.tmp\")\n",
    "                os.remove(\"model.tmp\")\n",
    "            except RuntimeError:\n",
    "                print(\"\\n\" + str(template) + \": failed to validate gapfilled model, try lowering the integer_threshold\")\n",
    "            except exceptions.Infeasible:\n",
    "                print(\"\\n\" + str(template) + \": gapfilling optimization failed (infeasible)\")\n",
    "        return Model, added_reactions\n",
    "    else:\n",
    "        for template in Templates:\n",
    "            # adding exchange reactions\n",
    "            if force_exchange == True:\n",
    "                add_exchange_reactions(Model, template)\n",
    "            # adding transport reactions\n",
    "            if force_transport == True:\n",
    "                add_transport(Model, template, all_compounds = t_all_compounds, ignore_h = t_ignore_h)\n",
    "            template.solver = 'gurobi'\n",
    "            try:\n",
    "                log = []\n",
    "                result = gapfilling(Model, template, integer_threshold = integer_threshold)   \n",
    "                for reaction in result[0]:\n",
    "                    if reaction.id.startswith(\"EX_\"):\n",
    "                        log.append((reaction.id, \"Exchange reaction\"))\n",
    "                    else:\n",
    "                        log.append((reaction.id, [str(list(reaction.genes)[i]) \n",
    "                                              for i in range(len(list(reaction.genes)))]))\n",
    "                added_reactions[str(template)] = log\n",
    "                [Model.add_reaction(reaction.copy()) for reaction in result[0]]\n",
    "                write_sbml_model(Model, filename = \"model.tmp\")\n",
    "                Model = read_sbml_model(\"model.tmp\")\n",
    "                os.remove(\"model.tmp\")\n",
    "            except RuntimeError:\n",
    "                print(\"\\n\" + str(template) + \": failed to validate gapfilled model, try lowering the integer_threshold\")\n",
    "            except exceptions.Infeasible:\n",
    "                print(\"\\n\" + str(template) + \": gapfilling optimization failed (infeasible)\") \n",
    "        return Model, added_reactions"
   ]
  },
  {
   "cell_type": "markdown",
   "metadata": {},
   "source": [
    "This notebook will be used for testing the homology_gafilling() function as well as its following options:\n",
    "- One or more templates\n",
    "- Changing model/template objective\n",
    "- Using all templates\n",
    "- Changing the integer threshold\n",
    "- Adding exchange reactions\n",
    "- Adding transport reactions (3 different ways)"
   ]
  },
  {
   "cell_type": "markdown",
   "metadata": {},
   "source": [
    "### Models\n"
   ]
  },
  {
   "cell_type": "markdown",
   "metadata": {},
   "source": [
    "#### *E. coli*"
   ]
  },
  {
   "cell_type": "code",
   "execution_count": 2,
   "metadata": {},
   "outputs": [
    {
     "name": "stdout",
     "output_type": "stream",
     "text": [
      "Using license file /home/fco/gurobi.lic\n",
      "Academic license - for non-commercial use only - expires 2021-06-01\n"
     ]
    },
    {
     "data": {
      "text/html": [
       "\n",
       "        <table>\n",
       "            <tr>\n",
       "                <td><strong>Name</strong></td>\n",
       "                <td>e_coli_core</td>\n",
       "            </tr><tr>\n",
       "                <td><strong>Memory address</strong></td>\n",
       "                <td>0x07fac6ccd0040</td>\n",
       "            </tr><tr>\n",
       "                <td><strong>Number of metabolites</strong></td>\n",
       "                <td>72</td>\n",
       "            </tr><tr>\n",
       "                <td><strong>Number of reactions</strong></td>\n",
       "                <td>95</td>\n",
       "            </tr><tr>\n",
       "                <td><strong>Number of groups</strong></td>\n",
       "                <td>0</td>\n",
       "            </tr><tr>\n",
       "                <td><strong>Objective expression</strong></td>\n",
       "                <td>1.0*BIOMASS_Ecoli_core_w_GAM - 1.0*BIOMASS_Ecoli_core_w_GAM_reverse_712e5</td>\n",
       "            </tr><tr>\n",
       "                <td><strong>Compartments</strong></td>\n",
       "                <td>extracellular space, cytosol</td>\n",
       "            </tr>\n",
       "          </table>"
      ],
      "text/plain": [
       "<Model e_coli_core at 0x7fac6ccd0040>"
      ]
     },
     "execution_count": 2,
     "metadata": {},
     "output_type": "execute_result"
    }
   ],
   "source": [
    "# E. coli core\n",
    "# bigg.ucsd.edu/models/e_coli_core\n",
    "ECC = read_sbml_model(\"BiGG_files/e_coli_core.xml\")\n",
    "ECC"
   ]
  },
  {
   "cell_type": "code",
   "execution_count": 3,
   "metadata": {
    "scrolled": true
   },
   "outputs": [
    {
     "data": {
      "text/html": [
       "\n",
       "        <table>\n",
       "            <tr>\n",
       "                <td><strong>Name</strong></td>\n",
       "                <td>iEC1344_C</td>\n",
       "            </tr><tr>\n",
       "                <td><strong>Memory address</strong></td>\n",
       "                <td>0x07fac54c5a7f0</td>\n",
       "            </tr><tr>\n",
       "                <td><strong>Number of metabolites</strong></td>\n",
       "                <td>1934</td>\n",
       "            </tr><tr>\n",
       "                <td><strong>Number of reactions</strong></td>\n",
       "                <td>2726</td>\n",
       "            </tr><tr>\n",
       "                <td><strong>Number of groups</strong></td>\n",
       "                <td>0</td>\n",
       "            </tr><tr>\n",
       "                <td><strong>Objective expression</strong></td>\n",
       "                <td>1.0*BIOMASS_Ec_iJO1366_core_53p95M - 1.0*BIOMASS_Ec_iJO1366_core_53p95M_reverse_5c8b1</td>\n",
       "            </tr><tr>\n",
       "                <td><strong>Compartments</strong></td>\n",
       "                <td>cytosol, periplasm, extracellular space</td>\n",
       "            </tr>\n",
       "          </table>"
      ],
      "text/plain": [
       "<Model iEC1344_C at 0x7fac54c5a7f0>"
      ]
     },
     "execution_count": 3,
     "metadata": {},
     "output_type": "execute_result"
    }
   ],
   "source": [
    "# E. coli str. C\n",
    "# bigg.ucsd.edu/models/iEC1344_C\n",
    "iEC1344_C = read_sbml_model(\"BiGG_files/iEC1344_C.xml\")\n",
    "iEC1344_C"
   ]
  },
  {
   "cell_type": "code",
   "execution_count": 4,
   "metadata": {
    "scrolled": true
   },
   "outputs": [
    {
     "data": {
      "text/html": [
       "\n",
       "        <table>\n",
       "            <tr>\n",
       "                <td><strong>Name</strong></td>\n",
       "                <td>iEC1364_W</td>\n",
       "            </tr><tr>\n",
       "                <td><strong>Memory address</strong></td>\n",
       "                <td>0x07fac6ccd47f0</td>\n",
       "            </tr><tr>\n",
       "                <td><strong>Number of metabolites</strong></td>\n",
       "                <td>1927</td>\n",
       "            </tr><tr>\n",
       "                <td><strong>Number of reactions</strong></td>\n",
       "                <td>2764</td>\n",
       "            </tr><tr>\n",
       "                <td><strong>Number of groups</strong></td>\n",
       "                <td>0</td>\n",
       "            </tr><tr>\n",
       "                <td><strong>Objective expression</strong></td>\n",
       "                <td>1.0*BIOMASS_Ec_iJO1366_core_53p95M - 1.0*BIOMASS_Ec_iJO1366_core_53p95M_reverse_5c8b1</td>\n",
       "            </tr><tr>\n",
       "                <td><strong>Compartments</strong></td>\n",
       "                <td>cytosol, extracellular space, periplasm</td>\n",
       "            </tr>\n",
       "          </table>"
      ],
      "text/plain": [
       "<Model iEC1364_W at 0x7fac6ccd47f0>"
      ]
     },
     "execution_count": 4,
     "metadata": {},
     "output_type": "execute_result"
    }
   ],
   "source": [
    "# E. coli str. W\n",
    "# bigg.ucsd.edu/models/iEC1364_W\n",
    "iEC1364_W = read_sbml_model(\"BiGG_files/iEC1364_W.xml\")\n",
    "iEC1364_W"
   ]
  },
  {
   "cell_type": "markdown",
   "metadata": {},
   "source": [
    "#### *P. putida*"
   ]
  },
  {
   "cell_type": "code",
   "execution_count": 5,
   "metadata": {},
   "outputs": [
    {
     "data": {
      "text/html": [
       "\n",
       "        <table>\n",
       "            <tr>\n",
       "                <td><strong>Name</strong></td>\n",
       "                <td>iJN746</td>\n",
       "            </tr><tr>\n",
       "                <td><strong>Memory address</strong></td>\n",
       "                <td>0x07fac6ccd49d0</td>\n",
       "            </tr><tr>\n",
       "                <td><strong>Number of metabolites</strong></td>\n",
       "                <td>907</td>\n",
       "            </tr><tr>\n",
       "                <td><strong>Number of reactions</strong></td>\n",
       "                <td>1054</td>\n",
       "            </tr><tr>\n",
       "                <td><strong>Number of groups</strong></td>\n",
       "                <td>0</td>\n",
       "            </tr><tr>\n",
       "                <td><strong>Objective expression</strong></td>\n",
       "                <td>1.0*BIOMASS_KT_TEMP - 1.0*BIOMASS_KT_TEMP_reverse_d18f7</td>\n",
       "            </tr><tr>\n",
       "                <td><strong>Compartments</strong></td>\n",
       "                <td>extracellular space, cytosol, periplasm</td>\n",
       "            </tr>\n",
       "          </table>"
      ],
      "text/plain": [
       "<Model iJN746 at 0x7fac6ccd49d0>"
      ]
     },
     "execution_count": 5,
     "metadata": {},
     "output_type": "execute_result"
    }
   ],
   "source": [
    "# P. putida str. KT2440 \n",
    "# bigg.ucsd.edu/models/iJN746\n",
    "iJN746 = read_sbml_model(\"BiGG_files/iJN746.xml\")\n",
    "iJN746"
   ]
  },
  {
   "cell_type": "code",
   "execution_count": 6,
   "metadata": {},
   "outputs": [
    {
     "data": {
      "text/html": [
       "\n",
       "        <table>\n",
       "            <tr>\n",
       "                <td><strong>Name</strong></td>\n",
       "                <td>iJN1463</td>\n",
       "            </tr><tr>\n",
       "                <td><strong>Memory address</strong></td>\n",
       "                <td>0x07fabea66adf0</td>\n",
       "            </tr><tr>\n",
       "                <td><strong>Number of metabolites</strong></td>\n",
       "                <td>2153</td>\n",
       "            </tr><tr>\n",
       "                <td><strong>Number of reactions</strong></td>\n",
       "                <td>2927</td>\n",
       "            </tr><tr>\n",
       "                <td><strong>Number of groups</strong></td>\n",
       "                <td>0</td>\n",
       "            </tr><tr>\n",
       "                <td><strong>Objective expression</strong></td>\n",
       "                <td>1.0*BIOMASS_KT2440_WT3 - 1.0*BIOMASS_KT2440_WT3_reverse_d86d5</td>\n",
       "            </tr><tr>\n",
       "                <td><strong>Compartments</strong></td>\n",
       "                <td>cytosol, extracellular space, periplasm</td>\n",
       "            </tr>\n",
       "          </table>"
      ],
      "text/plain": [
       "<Model iJN1463 at 0x7fabea66adf0>"
      ]
     },
     "execution_count": 6,
     "metadata": {},
     "output_type": "execute_result"
    }
   ],
   "source": [
    "# P. putida str. KT2440 (full)\n",
    "# bigg.ucsd.edu/models/iJN1463\n",
    "iJN1463 = read_sbml_model(\"BiGG_files/iJN1463.xml\")\n",
    "iJN1463"
   ]
  },
  {
   "cell_type": "markdown",
   "metadata": {},
   "source": [
    "#### *C. reinhardtii*"
   ]
  },
  {
   "cell_type": "code",
   "execution_count": 7,
   "metadata": {
    "scrolled": true
   },
   "outputs": [
    {
     "name": "stderr",
     "output_type": "stream",
     "text": [
      "No objective coefficients in model. Unclear what should be optimized\n"
     ]
    },
    {
     "data": {
      "text/html": [
       "\n",
       "        <table>\n",
       "            <tr>\n",
       "                <td><strong>Name</strong></td>\n",
       "                <td>iRC1080</td>\n",
       "            </tr><tr>\n",
       "                <td><strong>Memory address</strong></td>\n",
       "                <td>0x07fabea795100</td>\n",
       "            </tr><tr>\n",
       "                <td><strong>Number of metabolites</strong></td>\n",
       "                <td>1706</td>\n",
       "            </tr><tr>\n",
       "                <td><strong>Number of reactions</strong></td>\n",
       "                <td>2191</td>\n",
       "            </tr><tr>\n",
       "                <td><strong>Number of groups</strong></td>\n",
       "                <td>0</td>\n",
       "            </tr><tr>\n",
       "                <td><strong>Objective expression</strong></td>\n",
       "                <td>0</td>\n",
       "            </tr><tr>\n",
       "                <td><strong>Compartments</strong></td>\n",
       "                <td>cytosol, mitochondria, chloroplast, flagellum, peroxisome/glyoxysome, nucleus, golgi apparatus, extracellular space, eyespot, thylakoid</td>\n",
       "            </tr>\n",
       "          </table>"
      ],
      "text/plain": [
       "<Model iRC1080 at 0x7fabea795100>"
      ]
     },
     "execution_count": 7,
     "metadata": {},
     "output_type": "execute_result"
    }
   ],
   "source": [
    "# C. reinhardtii\n",
    "# bigg.ucsd.edu/models/iRC1080\n",
    "iRC1080 = read_sbml_model(\"BiGG_files/iRC1080.xml\")\n",
    "iRC1080"
   ]
  },
  {
   "cell_type": "markdown",
   "metadata": {},
   "source": [
    "#### *B. subtilis*"
   ]
  },
  {
   "cell_type": "code",
   "execution_count": 8,
   "metadata": {
    "scrolled": true
   },
   "outputs": [
    {
     "data": {
      "text/html": [
       "\n",
       "        <table>\n",
       "            <tr>\n",
       "                <td><strong>Name</strong></td>\n",
       "                <td>iYO844</td>\n",
       "            </tr><tr>\n",
       "                <td><strong>Memory address</strong></td>\n",
       "                <td>0x07fabe8c8abe0</td>\n",
       "            </tr><tr>\n",
       "                <td><strong>Number of metabolites</strong></td>\n",
       "                <td>990</td>\n",
       "            </tr><tr>\n",
       "                <td><strong>Number of reactions</strong></td>\n",
       "                <td>1250</td>\n",
       "            </tr><tr>\n",
       "                <td><strong>Number of groups</strong></td>\n",
       "                <td>0</td>\n",
       "            </tr><tr>\n",
       "                <td><strong>Objective expression</strong></td>\n",
       "                <td>1.0*BIOMASS_BS_10 - 1.0*BIOMASS_BS_10_reverse_8788b</td>\n",
       "            </tr><tr>\n",
       "                <td><strong>Compartments</strong></td>\n",
       "                <td>cytosol, extracellular space</td>\n",
       "            </tr>\n",
       "          </table>"
      ],
      "text/plain": [
       "<Model iYO844 at 0x7fabe8c8abe0>"
      ]
     },
     "execution_count": 8,
     "metadata": {},
     "output_type": "execute_result"
    }
   ],
   "source": [
    "# B. subtilis subsp. subtilis str. 168\n",
    "# bigg.ucsd.edu/models/iYO844\n",
    "iY0844 = read_sbml_model(\"BiGG_files/iYO844.xml\")\n",
    "iY0844"
   ]
  },
  {
   "cell_type": "markdown",
   "metadata": {},
   "source": [
    "#### *S. cerevisiae*"
   ]
  },
  {
   "cell_type": "code",
   "execution_count": 9,
   "metadata": {},
   "outputs": [
    {
     "data": {
      "text/html": [
       "\n",
       "        <table>\n",
       "            <tr>\n",
       "                <td><strong>Name</strong></td>\n",
       "                <td>iMM904</td>\n",
       "            </tr><tr>\n",
       "                <td><strong>Memory address</strong></td>\n",
       "                <td>0x07fabe7a3e610</td>\n",
       "            </tr><tr>\n",
       "                <td><strong>Number of metabolites</strong></td>\n",
       "                <td>1226</td>\n",
       "            </tr><tr>\n",
       "                <td><strong>Number of reactions</strong></td>\n",
       "                <td>1577</td>\n",
       "            </tr><tr>\n",
       "                <td><strong>Number of groups</strong></td>\n",
       "                <td>0</td>\n",
       "            </tr><tr>\n",
       "                <td><strong>Objective expression</strong></td>\n",
       "                <td>1.0*BIOMASS_SC5_notrace - 1.0*BIOMASS_SC5_notrace_reverse_93090</td>\n",
       "            </tr><tr>\n",
       "                <td><strong>Compartments</strong></td>\n",
       "                <td>cytosol, extracellular space, mitochondria, peroxisome/glyoxysome, endoplasmic reticulum, vacuole, golgi apparatus, nucleus</td>\n",
       "            </tr>\n",
       "          </table>"
      ],
      "text/plain": [
       "<Model iMM904 at 0x7fabe7a3e610>"
      ]
     },
     "execution_count": 9,
     "metadata": {},
     "output_type": "execute_result"
    }
   ],
   "source": [
    "# S. cerevisiae S288C\n",
    "# bigg.ucsd.edu/models/iMM904\n",
    "iMM904 = read_sbml_model(\"BiGG_files/iMM904.xml\")\n",
    "iMM904"
   ]
  },
  {
   "cell_type": "code",
   "execution_count": 10,
   "metadata": {
    "scrolled": true
   },
   "outputs": [
    {
     "data": {
      "text/html": [
       "\n",
       "        <table>\n",
       "            <tr>\n",
       "                <td><strong>Name</strong></td>\n",
       "                <td>iND750</td>\n",
       "            </tr><tr>\n",
       "                <td><strong>Memory address</strong></td>\n",
       "                <td>0x07fabe72e8be0</td>\n",
       "            </tr><tr>\n",
       "                <td><strong>Number of metabolites</strong></td>\n",
       "                <td>1059</td>\n",
       "            </tr><tr>\n",
       "                <td><strong>Number of reactions</strong></td>\n",
       "                <td>1266</td>\n",
       "            </tr><tr>\n",
       "                <td><strong>Number of groups</strong></td>\n",
       "                <td>0</td>\n",
       "            </tr><tr>\n",
       "                <td><strong>Objective expression</strong></td>\n",
       "                <td>1.0*BIOMASS_SC4_bal - 1.0*BIOMASS_SC4_bal_reverse_bb385</td>\n",
       "            </tr><tr>\n",
       "                <td><strong>Compartments</strong></td>\n",
       "                <td>extracellular space, cytosol, mitochondria, peroxisome/glyoxysome, nucleus, golgi apparatus, vacuole, endoplasmic reticulum</td>\n",
       "            </tr>\n",
       "          </table>"
      ],
      "text/plain": [
       "<Model iND750 at 0x7fabe72e8be0>"
      ]
     },
     "execution_count": 10,
     "metadata": {},
     "output_type": "execute_result"
    }
   ],
   "source": [
    "# S. cerevisiae S288C (another version)\n",
    "# bigg.ucsd.edu/models/iND750\n",
    "iND750 = read_sbml_model(\"BiGG_files/iND750.xml\")\n",
    "iND750"
   ]
  },
  {
   "cell_type": "markdown",
   "metadata": {},
   "source": [
    "#### *M. musculus*"
   ]
  },
  {
   "cell_type": "code",
   "execution_count": 11,
   "metadata": {},
   "outputs": [
    {
     "name": "stderr",
     "output_type": "stream",
     "text": [
      "No objective coefficients in model. Unclear what should be optimized\n"
     ]
    },
    {
     "data": {
      "text/html": [
       "\n",
       "        <table>\n",
       "            <tr>\n",
       "                <td><strong>Name</strong></td>\n",
       "                <td>iMM1415</td>\n",
       "            </tr><tr>\n",
       "                <td><strong>Memory address</strong></td>\n",
       "                <td>0x07fabe58daac0</td>\n",
       "            </tr><tr>\n",
       "                <td><strong>Number of metabolites</strong></td>\n",
       "                <td>2775</td>\n",
       "            </tr><tr>\n",
       "                <td><strong>Number of reactions</strong></td>\n",
       "                <td>3726</td>\n",
       "            </tr><tr>\n",
       "                <td><strong>Number of groups</strong></td>\n",
       "                <td>0</td>\n",
       "            </tr><tr>\n",
       "                <td><strong>Objective expression</strong></td>\n",
       "                <td>0</td>\n",
       "            </tr><tr>\n",
       "                <td><strong>Compartments</strong></td>\n",
       "                <td>cytosol, extracellular space, golgi apparatus, lysosome, mitochondria, nucleus, endoplasmic reticulum, peroxisome/glyoxysome</td>\n",
       "            </tr>\n",
       "          </table>"
      ],
      "text/plain": [
       "<Model iMM1415 at 0x7fabe58daac0>"
      ]
     },
     "execution_count": 11,
     "metadata": {},
     "output_type": "execute_result"
    }
   ],
   "source": [
    "# M. musculus\n",
    "# bigg.ucsd.edu/models/iMM1415\n",
    "iMM1415 = read_sbml_model(\"BiGG_files/iMM1415.xml\")\n",
    "iMM1415"
   ]
  },
  {
   "cell_type": "markdown",
   "metadata": {},
   "source": [
    "### Gap filling with default settings\n",
    "- integer_threshold = 1e-06\n",
    "- add_transport = False\n",
    "- add_exchange = False"
   ]
  },
  {
   "cell_type": "markdown",
   "metadata": {},
   "source": [
    "#### Filling a simple model with itself\n",
    "E. coli core model will be used as it contains just 95 reactions.\n",
    "\n",
    "First, we need to remove some reactions from the model. At the same time we will create another model with those reactions."
   ]
  },
  {
   "cell_type": "code",
   "execution_count": 29,
   "metadata": {
    "scrolled": false
   },
   "outputs": [
    {
     "data": {
      "text/html": [
       "\n",
       "        <table>\n",
       "            <tr>\n",
       "                <td><strong>Name</strong></td>\n",
       "                <td>e_coli_core</td>\n",
       "            </tr><tr>\n",
       "                <td><strong>Memory address</strong></td>\n",
       "                <td>0x07fabc2e23700</td>\n",
       "            </tr><tr>\n",
       "                <td><strong>Number of metabolites</strong></td>\n",
       "                <td>72</td>\n",
       "            </tr><tr>\n",
       "                <td><strong>Number of reactions</strong></td>\n",
       "                <td>95</td>\n",
       "            </tr><tr>\n",
       "                <td><strong>Number of groups</strong></td>\n",
       "                <td>0</td>\n",
       "            </tr><tr>\n",
       "                <td><strong>Objective expression</strong></td>\n",
       "                <td>1.0*BIOMASS_Ecoli_core_w_GAM - 1.0*BIOMASS_Ecoli_core_w_GAM_reverse_712e5</td>\n",
       "            </tr><tr>\n",
       "                <td><strong>Compartments</strong></td>\n",
       "                <td>extracellular space, cytosol</td>\n",
       "            </tr>\n",
       "          </table>"
      ],
      "text/plain": [
       "<Model e_coli_core at 0x7fabc2e23700>"
      ]
     },
     "execution_count": 29,
     "metadata": {},
     "output_type": "execute_result"
    }
   ],
   "source": [
    "with suppress_stdout():\n",
    "    x = read_sbml_model(\"BiGG_files/e_coli_core.xml\")\n",
    "x"
   ]
  },
  {
   "cell_type": "code",
   "execution_count": 30,
   "metadata": {
    "scrolled": true
   },
   "outputs": [
    {
     "data": {
      "text/plain": [
       "0.8739215069684302"
      ]
     },
     "execution_count": 30,
     "metadata": {},
     "output_type": "execute_result"
    }
   ],
   "source": [
    "x.optimize().objective_value"
   ]
  },
  {
   "cell_type": "code",
   "execution_count": 31,
   "metadata": {},
   "outputs": [
    {
     "data": {
      "text/plain": [
       "[<Reaction GLCpts at 0x7fabc2afd6d0>, <Reaction EX_glc__D_e at 0x7fabc2799370>]"
      ]
     },
     "execution_count": 31,
     "metadata": {},
     "output_type": "execute_result"
    }
   ],
   "source": [
    "# Removing all reactions involving essential metabolite glc__D_e\n",
    "y = cobra.Model(\"glc__D_e reactions\")\n",
    "for i in [i.id for i in x.metabolites.glc__D_e.reactions]:\n",
    "    reaction = x.reactions.get_by_id(i)\n",
    "    y.add_reaction(reaction.copy())\n",
    "    x.remove_reactions([reaction])\n",
    "y.reactions"
   ]
  },
  {
   "cell_type": "markdown",
   "metadata": {},
   "source": [
    "Calculating flux of the model:"
   ]
  },
  {
   "cell_type": "code",
   "execution_count": 32,
   "metadata": {
    "scrolled": true
   },
   "outputs": [
    {
     "name": "stdout",
     "output_type": "stream",
     "text": [
      "None\n"
     ]
    }
   ],
   "source": [
    "print(x.optimize().objective_value)"
   ]
  },
  {
   "cell_type": "markdown",
   "metadata": {},
   "source": [
    "Optimization is infeasible because we have deleted essential reactions. Carrying out gap filling:"
   ]
  },
  {
   "cell_type": "code",
   "execution_count": 33,
   "metadata": {
    "scrolled": true
   },
   "outputs": [],
   "source": [
    "with suppress_stdout():\n",
    "    x_gp, added_reactions = homology_gapfilling(x, [y])"
   ]
  },
  {
   "cell_type": "code",
   "execution_count": 34,
   "metadata": {
    "scrolled": false
   },
   "outputs": [
    {
     "data": {
      "text/plain": [
       "0.8739215069684302"
      ]
     },
     "execution_count": 34,
     "metadata": {},
     "output_type": "execute_result"
    }
   ],
   "source": [
    "x_gp.optimize().objective_value"
   ]
  },
  {
   "cell_type": "markdown",
   "metadata": {},
   "source": [
    "Let's see the added reactions and some information about them."
   ]
  },
  {
   "cell_type": "code",
   "execution_count": 35,
   "metadata": {
    "scrolled": false
   },
   "outputs": [
    {
     "data": {
      "text/html": [
       "<div>\n",
       "<style scoped>\n",
       "    .dataframe tbody tr th:only-of-type {\n",
       "        vertical-align: middle;\n",
       "    }\n",
       "\n",
       "    .dataframe tbody tr th {\n",
       "        vertical-align: top;\n",
       "    }\n",
       "\n",
       "    .dataframe thead th {\n",
       "        text-align: right;\n",
       "    }\n",
       "</style>\n",
       "<table border=\"1\" class=\"dataframe\">\n",
       "  <thead>\n",
       "    <tr style=\"text-align: right;\">\n",
       "      <th></th>\n",
       "      <th>glc__D_e reactions</th>\n",
       "    </tr>\n",
       "  </thead>\n",
       "  <tbody>\n",
       "    <tr>\n",
       "      <th>0</th>\n",
       "      <td>(GLCpts, [b1621, b1817, b2416, b2415, b1818, b...</td>\n",
       "    </tr>\n",
       "    <tr>\n",
       "      <th>1</th>\n",
       "      <td>(EX_glc__D_e, Exchange reaction)</td>\n",
       "    </tr>\n",
       "  </tbody>\n",
       "</table>\n",
       "</div>"
      ],
      "text/plain": [
       "                                  glc__D_e reactions\n",
       "0  (GLCpts, [b1621, b1817, b2416, b2415, b1818, b...\n",
       "1                   (EX_glc__D_e, Exchange reaction)"
      ]
     },
     "execution_count": 35,
     "metadata": {},
     "output_type": "execute_result"
    }
   ],
   "source": [
    "pd.DataFrame(added_reactions)"
   ]
  },
  {
   "cell_type": "markdown",
   "metadata": {},
   "source": [
    "- The title of the table shows the template name\n",
    "- Each line represents an added reaction\n",
    "- Each reaction is represented as a tuple with reaction name (left) and involved genes (right)"
   ]
  },
  {
   "cell_type": "markdown",
   "metadata": {},
   "source": [
    "Now we will create two templates with these reactions."
   ]
  },
  {
   "cell_type": "code",
   "execution_count": 36,
   "metadata": {},
   "outputs": [],
   "source": [
    "with suppress_stdout():\n",
    "    x = read_sbml_model(\"BiGG_files/e_coli_core.xml\")"
   ]
  },
  {
   "cell_type": "code",
   "execution_count": 37,
   "metadata": {},
   "outputs": [
    {
     "name": "stderr",
     "output_type": "stream",
     "text": [
      "/home/fco/miniconda3/envs/TFM/lib/python3.8/site-packages/cobra/core/model.py:746: UserWarning: need to pass in a list\n",
      "  warn(\"need to pass in a list\")\n"
     ]
    }
   ],
   "source": [
    "y = cobra.Model(\"GLCpts\")\n",
    "y.add_reaction(x.reactions.GLCpts.copy())\n",
    "x.remove_reactions(x.reactions.GLCpts)"
   ]
  },
  {
   "cell_type": "code",
   "execution_count": 38,
   "metadata": {},
   "outputs": [],
   "source": [
    "z = cobra.Model(\"EX_glc__D_e\")\n",
    "z.add_reaction(x.reactions.EX_glc__D_e.copy())\n",
    "x.remove_reactions(x.reactions.EX_glc__D_e)"
   ]
  },
  {
   "cell_type": "code",
   "execution_count": 39,
   "metadata": {
    "scrolled": true
   },
   "outputs": [
    {
     "name": "stdout",
     "output_type": "stream",
     "text": [
      "[<Reaction GLCpts at 0x7fabc24ceac0>] [<Reaction EX_glc__D_e at 0x7fabc230b220>]\n"
     ]
    }
   ],
   "source": [
    "print(y.reactions, z.reactions)"
   ]
  },
  {
   "cell_type": "code",
   "execution_count": 40,
   "metadata": {
    "scrolled": true
   },
   "outputs": [
    {
     "name": "stderr",
     "output_type": "stream",
     "text": [
      "/home/fco/miniconda3/envs/TFM/lib/python3.8/site-packages/cobra/util/solver.py:430: UserWarning: solver status is 'infeasible'\n",
      "  warn(\"solver status is '{}'\".format(status), UserWarning)\n"
     ]
    }
   ],
   "source": [
    "x.optimize().objective_value"
   ]
  },
  {
   "cell_type": "code",
   "execution_count": 41,
   "metadata": {
    "scrolled": false
   },
   "outputs": [],
   "source": [
    "with suppress_stdout():\n",
    "    X, added_reactions = homology_gapfilling(x, [y,z])"
   ]
  },
  {
   "cell_type": "code",
   "execution_count": 42,
   "metadata": {},
   "outputs": [
    {
     "data": {
      "text/html": [
       "\n",
       "        <table>\n",
       "            <tr>\n",
       "                <td><strong>Name</strong></td>\n",
       "                <td>e_coli_core</td>\n",
       "            </tr><tr>\n",
       "                <td><strong>Memory address</strong></td>\n",
       "                <td>0x07fabc264ebe0</td>\n",
       "            </tr><tr>\n",
       "                <td><strong>Number of metabolites</strong></td>\n",
       "                <td>72</td>\n",
       "            </tr><tr>\n",
       "                <td><strong>Number of reactions</strong></td>\n",
       "                <td>93</td>\n",
       "            </tr><tr>\n",
       "                <td><strong>Number of groups</strong></td>\n",
       "                <td>0</td>\n",
       "            </tr><tr>\n",
       "                <td><strong>Objective expression</strong></td>\n",
       "                <td>1.0*BIOMASS_Ecoli_core_w_GAM - 1.0*BIOMASS_Ecoli_core_w_GAM_reverse_712e5</td>\n",
       "            </tr><tr>\n",
       "                <td><strong>Compartments</strong></td>\n",
       "                <td>extracellular space, cytosol</td>\n",
       "            </tr>\n",
       "          </table>"
      ],
      "text/plain": [
       "<Model e_coli_core at 0x7fabc264ebe0>"
      ]
     },
     "execution_count": 42,
     "metadata": {},
     "output_type": "execute_result"
    }
   ],
   "source": [
    "X"
   ]
  },
  {
   "cell_type": "markdown",
   "metadata": {},
   "source": [
    "It appears that if several essential reactions (required for the model to work) are into different templates, they won't be added. That is reasonable if we take account of the algorithm's process."
   ]
  },
  {
   "cell_type": "markdown",
   "metadata": {},
   "source": [
    "#### Filling a more complex model with itself\n",
    "A *S. cerevisiae* model with 1266 reactions will be used."
   ]
  },
  {
   "cell_type": "code",
   "execution_count": 43,
   "metadata": {},
   "outputs": [],
   "source": [
    "with suppress_stdout():\n",
    "    x = read_sbml_model(\"BiGG_files/iND750.xml\")"
   ]
  },
  {
   "cell_type": "code",
   "execution_count": 44,
   "metadata": {},
   "outputs": [
    {
     "data": {
      "text/html": [
       "\n",
       "        <table>\n",
       "            <tr>\n",
       "                <td><strong>Name</strong></td>\n",
       "                <td>iND750</td>\n",
       "            </tr><tr>\n",
       "                <td><strong>Memory address</strong></td>\n",
       "                <td>0x07fabc20d6670</td>\n",
       "            </tr><tr>\n",
       "                <td><strong>Number of metabolites</strong></td>\n",
       "                <td>1059</td>\n",
       "            </tr><tr>\n",
       "                <td><strong>Number of reactions</strong></td>\n",
       "                <td>1266</td>\n",
       "            </tr><tr>\n",
       "                <td><strong>Number of groups</strong></td>\n",
       "                <td>0</td>\n",
       "            </tr><tr>\n",
       "                <td><strong>Objective expression</strong></td>\n",
       "                <td>1.0*BIOMASS_SC4_bal - 1.0*BIOMASS_SC4_bal_reverse_bb385</td>\n",
       "            </tr><tr>\n",
       "                <td><strong>Compartments</strong></td>\n",
       "                <td>extracellular space, cytosol, mitochondria, peroxisome/glyoxysome, nucleus, golgi apparatus, vacuole, endoplasmic reticulum</td>\n",
       "            </tr>\n",
       "          </table>"
      ],
      "text/plain": [
       "<Model iND750 at 0x7fabc20d6670>"
      ]
     },
     "execution_count": 44,
     "metadata": {},
     "output_type": "execute_result"
    }
   ],
   "source": [
    "x"
   ]
  },
  {
   "cell_type": "markdown",
   "metadata": {},
   "source": [
    "Let's take a look into the objective reaction (biomass) in order not to remove it accidentally."
   ]
  },
  {
   "cell_type": "code",
   "execution_count": 45,
   "metadata": {},
   "outputs": [
    {
     "data": {
      "text/plain": [
       "{<Metabolite 13BDglcn_c at 0x7fabc1facd30>: -1.1348,\n",
       " <Metabolite ala__L_c at 0x7fabc1fc05b0>: -0.4588,\n",
       " <Metabolite amp_c at 0x7fabc20147c0>: -0.046,\n",
       " <Metabolite arg__L_c at 0x7fabc1fed640>: -0.1607,\n",
       " <Metabolite asn__L_c at 0x7fabc1fff820>: -0.1017,\n",
       " <Metabolite asp__L_c at 0x7fabc2039730>: -0.2975,\n",
       " <Metabolite atp_c at 0x7fabc1fff430>: -59.276,\n",
       " <Metabolite cmp_c at 0x7fabc1f6eaf0>: -0.0447,\n",
       " <Metabolite cys__L_c at 0x7fabc1fa0790>: -0.0066,\n",
       " <Metabolite damp_c at 0x7fabc1f381c0>: -0.0036,\n",
       " <Metabolite dcmp_c at 0x7fabc1f38d60>: -0.0024,\n",
       " <Metabolite dgmp_c at 0x7fabc1f64700>: -0.0024,\n",
       " <Metabolite dtmp_c at 0x7fabc1eb1bb0>: -0.0036,\n",
       " <Metabolite ergst_c at 0x7fabc1ec51f0>: -0.0007,\n",
       " <Metabolite gln__L_c at 0x7fabc207ccd0>: -0.1054,\n",
       " <Metabolite glu__L_c at 0x7fabc207ceb0>: -0.3018,\n",
       " <Metabolite gly_c at 0x7fabc1fac460>: -0.2904,\n",
       " <Metabolite glycogen_c at 0x7fabc1ec5fd0>: -0.5185,\n",
       " <Metabolite gmp_c at 0x7fabc1ed82b0>: -0.046,\n",
       " <Metabolite h2o_c at 0x7fabc1fedca0>: -59.276,\n",
       " <Metabolite his__L_c at 0x7fabc1fff490>: -0.0663,\n",
       " <Metabolite ile__L_c at 0x7fabc1ed8190>: -0.1927,\n",
       " <Metabolite leu__L_c at 0x7fabc1e74ee0>: -0.2964,\n",
       " <Metabolite lys__L_c at 0x7fabc1e9a610>: -0.2862,\n",
       " <Metabolite mannan_c at 0x7fabc1e9a2b0>: -0.8079,\n",
       " <Metabolite met__L_c at 0x7fabc1fd8520>: -0.0507,\n",
       " <Metabolite pa_SC_c at 0x7fabc1facb80>: -6e-06,\n",
       " <Metabolite pc_SC_c at 0x7fabc1f4e910>: -6e-05,\n",
       " <Metabolite pe_SC_c at 0x7fabc1ed8520>: -4.5e-05,\n",
       " <Metabolite phe__L_c at 0x7fabc1e05b20>: -0.1339,\n",
       " <Metabolite pro__L_c at 0x7fabc1df1f40>: -0.1647,\n",
       " <Metabolite ps_SC_c at 0x7fabc1e43490>: -1.7e-05,\n",
       " <Metabolite ptd1ino_SC_c at 0x7fabc1ed8d30>: -5.3e-05,\n",
       " <Metabolite ser__L_c at 0x7fabc1f38820>: -0.1854,\n",
       " <Metabolite so4_c at 0x7fabc1e43d00>: -0.02,\n",
       " <Metabolite thr__L_c at 0x7fabc1e5b3d0>: -0.1914,\n",
       " <Metabolite tre_c at 0x7fabc1e5b910>: -0.0234,\n",
       " <Metabolite triglyc_SC_c at 0x7fabc1e5ba90>: -6.6e-05,\n",
       " <Metabolite trp__L_c at 0x7fabc1e5bb20>: -0.0284,\n",
       " <Metabolite tyr__L_c at 0x7fabc1e5be80>: -0.102,\n",
       " <Metabolite ump_c at 0x7fabc1df1bb0>: -0.0599,\n",
       " <Metabolite val__L_c at 0x7fabc1e5bee0>: -0.2646,\n",
       " <Metabolite zymst_c at 0x7fabc1f64ca0>: -0.0015,\n",
       " <Metabolite adp_c at 0x7fabc208ed90>: 59.276,\n",
       " <Metabolite h_c at 0x7fabc1fed490>: 58.7162,\n",
       " <Metabolite pi_c at 0x7fabc2039a30>: 59.305}"
      ]
     },
     "execution_count": 45,
     "metadata": {},
     "output_type": "execute_result"
    }
   ],
   "source": [
    "x.reactions.BIOMASS_SC4_bal.metabolites"
   ]
  },
  {
   "cell_type": "code",
   "execution_count": 46,
   "metadata": {
    "scrolled": true
   },
   "outputs": [
    {
     "data": {
      "text/plain": [
       "0.09732337590376772"
      ]
     },
     "execution_count": 46,
     "metadata": {},
     "output_type": "execute_result"
    }
   ],
   "source": [
    "x.optimize().objective_value"
   ]
  },
  {
   "cell_type": "code",
   "execution_count": 47,
   "metadata": {},
   "outputs": [
    {
     "data": {
      "text/html": [
       "\n",
       "        <table>\n",
       "            <tr>\n",
       "                <td><strong>Name</strong></td>\n",
       "                <td>co2_c reactions</td>\n",
       "            </tr><tr>\n",
       "                <td><strong>Memory address</strong></td>\n",
       "                <td>0x07fabc20d6c10</td>\n",
       "            </tr><tr>\n",
       "                <td><strong>Number of metabolites</strong></td>\n",
       "                <td>102</td>\n",
       "            </tr><tr>\n",
       "                <td><strong>Number of reactions</strong></td>\n",
       "                <td>55</td>\n",
       "            </tr><tr>\n",
       "                <td><strong>Number of groups</strong></td>\n",
       "                <td>0</td>\n",
       "            </tr><tr>\n",
       "                <td><strong>Objective expression</strong></td>\n",
       "                <td>0</td>\n",
       "            </tr><tr>\n",
       "                <td><strong>Compartments</strong></td>\n",
       "                <td>c, m, x, e, v, n, g</td>\n",
       "            </tr>\n",
       "          </table>"
      ],
      "text/plain": [
       "<Model co2_c reactions at 0x7fabc20d6c10>"
      ]
     },
     "execution_count": 47,
     "metadata": {},
     "output_type": "execute_result"
    }
   ],
   "source": [
    "y = cobra.Model(\"co2_c reactions\")\n",
    "for i in [i.id for i in x.metabolites.co2_c.reactions]:\n",
    "    reaction = x.reactions.get_by_id(i)\n",
    "    y.add_reaction(reaction.copy())\n",
    "    x.remove_reactions([reaction])\n",
    "y"
   ]
  },
  {
   "cell_type": "markdown",
   "metadata": {},
   "source": [
    "55 reactions have been taken from the model."
   ]
  },
  {
   "cell_type": "code",
   "execution_count": 48,
   "metadata": {
    "scrolled": true
   },
   "outputs": [
    {
     "data": {
      "text/plain": [
       "0.0"
      ]
     },
     "execution_count": 48,
     "metadata": {},
     "output_type": "execute_result"
    }
   ],
   "source": [
    "x.optimize().objective_value"
   ]
  },
  {
   "cell_type": "code",
   "execution_count": 49,
   "metadata": {
    "scrolled": true
   },
   "outputs": [
    {
     "data": {
      "text/plain": [
       "1211"
      ]
     },
     "execution_count": 49,
     "metadata": {},
     "output_type": "execute_result"
    }
   ],
   "source": [
    "len(x.reactions)"
   ]
  },
  {
   "cell_type": "code",
   "execution_count": 50,
   "metadata": {},
   "outputs": [],
   "source": [
    "with suppress_stdout():\n",
    "    X, added_reactions = homology_gapfilling(x, [y])"
   ]
  },
  {
   "cell_type": "code",
   "execution_count": 51,
   "metadata": {
    "scrolled": true
   },
   "outputs": [
    {
     "data": {
      "text/plain": [
       "0.0"
      ]
     },
     "execution_count": 51,
     "metadata": {},
     "output_type": "execute_result"
    }
   ],
   "source": [
    "X.optimize().objective_value"
   ]
  },
  {
   "cell_type": "code",
   "execution_count": 52,
   "metadata": {
    "scrolled": true
   },
   "outputs": [
    {
     "data": {
      "text/plain": [
       "1211"
      ]
     },
     "execution_count": 52,
     "metadata": {},
     "output_type": "execute_result"
    }
   ],
   "source": [
    "len(X.reactions)"
   ]
  },
  {
   "cell_type": "markdown",
   "metadata": {},
   "source": [
    "Adding exchange and transport reactions (we will get into this options later):"
   ]
  },
  {
   "cell_type": "code",
   "execution_count": 53,
   "metadata": {},
   "outputs": [],
   "source": [
    "with suppress_stdout():\n",
    "    X, added_reactions = homology_gapfilling(x, [y], force_transport=True, force_exchange=True)"
   ]
  },
  {
   "cell_type": "code",
   "execution_count": 54,
   "metadata": {
    "scrolled": true
   },
   "outputs": [
    {
     "data": {
      "text/plain": [
       "0.0"
      ]
     },
     "execution_count": 54,
     "metadata": {},
     "output_type": "execute_result"
    }
   ],
   "source": [
    "X.optimize().objective_value"
   ]
  },
  {
   "cell_type": "code",
   "execution_count": 55,
   "metadata": {},
   "outputs": [
    {
     "data": {
      "text/plain": [
       "1217"
      ]
     },
     "execution_count": 55,
     "metadata": {},
     "output_type": "execute_result"
    }
   ],
   "source": [
    "len(X.reactions)"
   ]
  },
  {
   "cell_type": "markdown",
   "metadata": {},
   "source": [
    "Lowering integrality threshold:"
   ]
  },
  {
   "cell_type": "code",
   "execution_count": 56,
   "metadata": {
    "scrolled": true
   },
   "outputs": [
    {
     "name": "stdout",
     "output_type": "stream",
     "text": [
      "Read LP format model from file /tmp/tmpwdq2y3e8.lp\n",
      "Reading time = 0.01 seconds\n",
      ": 1059 rows, 2434 columns, 9984 nonzeros\n",
      "Read LP format model from file /tmp/tmp20jdev77.lp\n",
      "Reading time = 0.01 seconds\n",
      ": 1059 rows, 2434 columns, 9984 nonzeros\n",
      "Read LP format model from file /tmp/tmp7p70sgav.lp\n",
      "Reading time = 0.00 seconds\n",
      ": 102 rows, 110 columns, 640 nonzeros\n",
      "Read LP format model from file /tmp/tmpn22ukiv2.lp\n",
      "Reading time = 0.00 seconds\n",
      ": 102 rows, 110 columns, 640 nonzeros\n",
      "\n",
      "co2_c reactions: failed to validate gapfilled model, try lowering the integer_threshold\n"
     ]
    }
   ],
   "source": [
    "X, added_reactions = homology_gapfilling(x, [y], force_transport=True, force_exchange=True, integer_threshold=1e-9)"
   ]
  },
  {
   "cell_type": "code",
   "execution_count": 57,
   "metadata": {
    "scrolled": false
   },
   "outputs": [
    {
     "data": {
      "text/plain": [
       "0.0"
      ]
     },
     "execution_count": 57,
     "metadata": {},
     "output_type": "execute_result"
    }
   ],
   "source": [
    "X.optimize().objective_value"
   ]
  },
  {
   "cell_type": "code",
   "execution_count": 58,
   "metadata": {},
   "outputs": [
    {
     "data": {
      "text/plain": [
       "1217"
      ]
     },
     "execution_count": 58,
     "metadata": {},
     "output_type": "execute_result"
    }
   ],
   "source": [
    "len(X.reactions)"
   ]
  },
  {
   "cell_type": "markdown",
   "metadata": {},
   "source": [
    "In this case all the options seem not to be enough for the gap filling to be efficient. Also the algorithm demands to lower the integrality value but it can't be lowered anymore. This situation is just too complex for this algorithm. "
   ]
  },
  {
   "cell_type": "markdown",
   "metadata": {},
   "source": [
    "#### Filling a model with another\n",
    "We will try to improve the biomass production of *E. coli* core model using other templates."
   ]
  },
  {
   "cell_type": "code",
   "execution_count": 59,
   "metadata": {},
   "outputs": [],
   "source": [
    "with suppress_stdout():\n",
    "    x = read_sbml_model(\"BiGG_files/e_coli_core.xml\")"
   ]
  },
  {
   "cell_type": "code",
   "execution_count": 60,
   "metadata": {
    "scrolled": true
   },
   "outputs": [
    {
     "name": "stdout",
     "output_type": "stream",
     "text": [
      "Maximize\n",
      "1.0*BIOMASS_Ecoli_core_w_GAM - 1.0*BIOMASS_Ecoli_core_w_GAM_reverse_712e5\n"
     ]
    }
   ],
   "source": [
    "print(x.objective)"
   ]
  },
  {
   "cell_type": "code",
   "execution_count": 61,
   "metadata": {
    "scrolled": true
   },
   "outputs": [
    {
     "data": {
      "text/plain": [
       "0.8739215069684302"
      ]
     },
     "execution_count": 61,
     "metadata": {},
     "output_type": "execute_result"
    }
   ],
   "source": [
    "x.optimize().objective_value"
   ]
  },
  {
   "cell_type": "code",
   "execution_count": 62,
   "metadata": {
    "scrolled": true
   },
   "outputs": [],
   "source": [
    "with suppress_stdout():\n",
    "    X, added_reactions = homology_gapfilling(x, [iEC1344_C, iEC1364_W])"
   ]
  },
  {
   "cell_type": "code",
   "execution_count": 116,
   "metadata": {
    "scrolled": false
   },
   "outputs": [
    {
     "data": {
      "text/html": [
       "<div>\n",
       "<style scoped>\n",
       "    .dataframe tbody tr th:only-of-type {\n",
       "        vertical-align: middle;\n",
       "    }\n",
       "\n",
       "    .dataframe tbody tr th {\n",
       "        vertical-align: top;\n",
       "    }\n",
       "\n",
       "    .dataframe thead th {\n",
       "        text-align: right;\n",
       "    }\n",
       "</style>\n",
       "<table border=\"1\" class=\"dataframe\">\n",
       "  <thead>\n",
       "    <tr style=\"text-align: right;\">\n",
       "      <th></th>\n",
       "      <th>iEC1344_C</th>\n",
       "    </tr>\n",
       "  </thead>\n",
       "  <tbody>\n",
       "  </tbody>\n",
       "</table>\n",
       "</div>"
      ],
      "text/plain": [
       "Empty DataFrame\n",
       "Columns: [iEC1344_C]\n",
       "Index: []"
      ]
     },
     "execution_count": 116,
     "metadata": {},
     "output_type": "execute_result"
    }
   ],
   "source": [
    "pd.DataFrame(added_reactions)"
   ]
  },
  {
   "cell_type": "markdown",
   "metadata": {},
   "source": [
    "No reaction has been added through gap filling. Probably the *E. coli* core model is optimized to carry out the best biomass production. It stopped after first template because they are supposed to be sorted by homology/identity with the model so if the first template didn't work the second one isn't expected to do so. Let's force the use of both templates just in case."
   ]
  },
  {
   "cell_type": "code",
   "execution_count": 63,
   "metadata": {},
   "outputs": [],
   "source": [
    "with suppress_stdout():\n",
    "    X, added_reactions = homology_gapfilling(x, [iEC1344_C, iEC1364_W], use_all_templates = True)"
   ]
  },
  {
   "cell_type": "code",
   "execution_count": 64,
   "metadata": {},
   "outputs": [
    {
     "data": {
      "text/html": [
       "<div>\n",
       "<style scoped>\n",
       "    .dataframe tbody tr th:only-of-type {\n",
       "        vertical-align: middle;\n",
       "    }\n",
       "\n",
       "    .dataframe tbody tr th {\n",
       "        vertical-align: top;\n",
       "    }\n",
       "\n",
       "    .dataframe thead th {\n",
       "        text-align: right;\n",
       "    }\n",
       "</style>\n",
       "<table border=\"1\" class=\"dataframe\">\n",
       "  <thead>\n",
       "    <tr style=\"text-align: right;\">\n",
       "      <th></th>\n",
       "      <th>iEC1344_C</th>\n",
       "      <th>iEC1364_W</th>\n",
       "    </tr>\n",
       "  </thead>\n",
       "  <tbody>\n",
       "  </tbody>\n",
       "</table>\n",
       "</div>"
      ],
      "text/plain": [
       "Empty DataFrame\n",
       "Columns: [iEC1344_C, iEC1364_W]\n",
       "Index: []"
      ]
     },
     "execution_count": 64,
     "metadata": {},
     "output_type": "execute_result"
    }
   ],
   "source": [
    "pd.DataFrame(added_reactions)"
   ]
  },
  {
   "cell_type": "markdown",
   "metadata": {},
   "source": [
    "It didn't add any reaction neither. Now we will use all available templates."
   ]
  },
  {
   "cell_type": "code",
   "execution_count": 65,
   "metadata": {},
   "outputs": [],
   "source": [
    "with suppress_stdout():\n",
    "    x = read_sbml_model(\"BiGG_files/e_coli_core.xml\")"
   ]
  },
  {
   "cell_type": "code",
   "execution_count": 66,
   "metadata": {},
   "outputs": [],
   "source": [
    "T = load_template_models([iEC1344_C, iEC1364_W, iND750, iJN1463, iJN746, iMM904, iMM1415, iY0844])"
   ]
  },
  {
   "cell_type": "code",
   "execution_count": 67,
   "metadata": {},
   "outputs": [
    {
     "data": {
      "text/plain": [
       "[<Model iEC1344_C at 0x7fac54c5a7f0>,\n",
       " <Model iEC1364_W at 0x7fac6ccd47f0>,\n",
       " <Model iND750 at 0x7fabe72e8be0>,\n",
       " <Model iJN1463 at 0x7fabea66adf0>,\n",
       " <Model iJN746 at 0x7fac6ccd49d0>,\n",
       " <Model iMM904 at 0x7fabe7a3e610>,\n",
       " <Model iMM1415 at 0x7fabe58daac0>,\n",
       " <Model iYO844 at 0x7fabe8c8abe0>]"
      ]
     },
     "execution_count": 67,
     "metadata": {},
     "output_type": "execute_result"
    }
   ],
   "source": [
    "T"
   ]
  },
  {
   "cell_type": "code",
   "execution_count": 68,
   "metadata": {},
   "outputs": [],
   "source": [
    "with suppress_stdout():\n",
    "    X, added_reactions = homology_gapfilling(x, T, use_all_templates=True)"
   ]
  },
  {
   "cell_type": "code",
   "execution_count": 69,
   "metadata": {
    "scrolled": true
   },
   "outputs": [
    {
     "data": {
      "text/html": [
       "<div>\n",
       "<style scoped>\n",
       "    .dataframe tbody tr th:only-of-type {\n",
       "        vertical-align: middle;\n",
       "    }\n",
       "\n",
       "    .dataframe tbody tr th {\n",
       "        vertical-align: top;\n",
       "    }\n",
       "\n",
       "    .dataframe thead th {\n",
       "        text-align: right;\n",
       "    }\n",
       "</style>\n",
       "<table border=\"1\" class=\"dataframe\">\n",
       "  <thead>\n",
       "    <tr style=\"text-align: right;\">\n",
       "      <th></th>\n",
       "      <th>iEC1344_C</th>\n",
       "      <th>iEC1364_W</th>\n",
       "      <th>iND750</th>\n",
       "      <th>iJN1463</th>\n",
       "      <th>iMM904</th>\n",
       "      <th>iMM1415</th>\n",
       "      <th>iYO844</th>\n",
       "    </tr>\n",
       "  </thead>\n",
       "  <tbody>\n",
       "  </tbody>\n",
       "</table>\n",
       "</div>"
      ],
      "text/plain": [
       "Empty DataFrame\n",
       "Columns: [iEC1344_C, iEC1364_W, iND750, iJN1463, iMM904, iMM1415, iYO844]\n",
       "Index: []"
      ]
     },
     "execution_count": 69,
     "metadata": {},
     "output_type": "execute_result"
    }
   ],
   "source": [
    "pd.DataFrame(added_reactions)"
   ]
  },
  {
   "cell_type": "markdown",
   "metadata": {},
   "source": [
    "The only model which has not been able to use is iJN746.\n",
    "Changing model's objective:"
   ]
  },
  {
   "cell_type": "code",
   "execution_count": 70,
   "metadata": {},
   "outputs": [],
   "source": [
    "with suppress_stdout():\n",
    "    X, added_reactions = homology_gapfilling(x, T, use_all_templates=True, model_obj=\"CO2t\")"
   ]
  },
  {
   "cell_type": "code",
   "execution_count": 71,
   "metadata": {},
   "outputs": [
    {
     "data": {
      "text/plain": [
       "11.104242424242424"
      ]
     },
     "execution_count": 71,
     "metadata": {},
     "output_type": "execute_result"
    }
   ],
   "source": [
    "X.optimize().objective_value"
   ]
  },
  {
   "cell_type": "code",
   "execution_count": 72,
   "metadata": {},
   "outputs": [
    {
     "data": {
      "text/html": [
       "<div>\n",
       "<style scoped>\n",
       "    .dataframe tbody tr th:only-of-type {\n",
       "        vertical-align: middle;\n",
       "    }\n",
       "\n",
       "    .dataframe tbody tr th {\n",
       "        vertical-align: top;\n",
       "    }\n",
       "\n",
       "    .dataframe thead th {\n",
       "        text-align: right;\n",
       "    }\n",
       "</style>\n",
       "<table border=\"1\" class=\"dataframe\">\n",
       "  <thead>\n",
       "    <tr style=\"text-align: right;\">\n",
       "      <th></th>\n",
       "      <th>iEC1344_C</th>\n",
       "      <th>iEC1364_W</th>\n",
       "      <th>iND750</th>\n",
       "      <th>iJN1463</th>\n",
       "      <th>iMM904</th>\n",
       "      <th>iMM1415</th>\n",
       "      <th>iYO844</th>\n",
       "    </tr>\n",
       "  </thead>\n",
       "  <tbody>\n",
       "  </tbody>\n",
       "</table>\n",
       "</div>"
      ],
      "text/plain": [
       "Empty DataFrame\n",
       "Columns: [iEC1344_C, iEC1364_W, iND750, iJN1463, iMM904, iMM1415, iYO844]\n",
       "Index: []"
      ]
     },
     "execution_count": 72,
     "metadata": {},
     "output_type": "execute_result"
    }
   ],
   "source": [
    "pd.DataFrame(added_reactions)"
   ]
  },
  {
   "cell_type": "markdown",
   "metadata": {},
   "source": [
    "The objective has been successfully changed but no reaction has been added."
   ]
  },
  {
   "cell_type": "markdown",
   "metadata": {},
   "source": [
    "Next we will try the same but using a complex model as query."
   ]
  },
  {
   "cell_type": "code",
   "execution_count": 87,
   "metadata": {},
   "outputs": [],
   "source": [
    "with suppress_stdout():\n",
    "    x = read_sbml_model(\"BiGG_files/iEC1364_W.xml\")"
   ]
  },
  {
   "cell_type": "code",
   "execution_count": 88,
   "metadata": {},
   "outputs": [
    {
     "name": "stdout",
     "output_type": "stream",
     "text": [
      "Maximize\n",
      "1.0*BIOMASS_Ec_iJO1366_core_53p95M - 1.0*BIOMASS_Ec_iJO1366_core_53p95M_reverse_5c8b1 0.985364865731541\n"
     ]
    }
   ],
   "source": [
    "print(x.objective, x.optimize().objective_value)"
   ]
  },
  {
   "cell_type": "code",
   "execution_count": 89,
   "metadata": {},
   "outputs": [],
   "source": [
    "T = [iEC1344_C, iJN746, iMM904, iY0844]"
   ]
  },
  {
   "cell_type": "code",
   "execution_count": 90,
   "metadata": {},
   "outputs": [],
   "source": [
    "with suppress_stdout():\n",
    "    X, added_reactions = homology_gapfilling(x, T, use_all_templates=False)"
   ]
  },
  {
   "cell_type": "code",
   "execution_count": 91,
   "metadata": {},
   "outputs": [
    {
     "data": {
      "text/plain": [
       "0.985364865731541"
      ]
     },
     "execution_count": 91,
     "metadata": {},
     "output_type": "execute_result"
    }
   ],
   "source": [
    "X.optimize().objective_value"
   ]
  },
  {
   "cell_type": "code",
   "execution_count": 92,
   "metadata": {
    "scrolled": true
   },
   "outputs": [
    {
     "data": {
      "text/html": [
       "<div>\n",
       "<style scoped>\n",
       "    .dataframe tbody tr th:only-of-type {\n",
       "        vertical-align: middle;\n",
       "    }\n",
       "\n",
       "    .dataframe tbody tr th {\n",
       "        vertical-align: top;\n",
       "    }\n",
       "\n",
       "    .dataframe thead th {\n",
       "        text-align: right;\n",
       "    }\n",
       "</style>\n",
       "<table border=\"1\" class=\"dataframe\">\n",
       "  <thead>\n",
       "    <tr style=\"text-align: right;\">\n",
       "      <th></th>\n",
       "      <th>iEC1344_C</th>\n",
       "    </tr>\n",
       "  </thead>\n",
       "  <tbody>\n",
       "  </tbody>\n",
       "</table>\n",
       "</div>"
      ],
      "text/plain": [
       "Empty DataFrame\n",
       "Columns: [iEC1344_C]\n",
       "Index: []"
      ]
     },
     "execution_count": 92,
     "metadata": {},
     "output_type": "execute_result"
    }
   ],
   "source": [
    "pd.DataFrame(added_reactions)"
   ]
  },
  {
   "cell_type": "code",
   "execution_count": 93,
   "metadata": {},
   "outputs": [],
   "source": [
    "# forcing the use of all templates\n",
    "with suppress_stdout():\n",
    "    X, added_reactions = homology_gapfilling(x, T, use_all_templates=True)"
   ]
  },
  {
   "cell_type": "code",
   "execution_count": 94,
   "metadata": {},
   "outputs": [
    {
     "data": {
      "text/plain": [
       "0.1876164009738142"
      ]
     },
     "execution_count": 94,
     "metadata": {},
     "output_type": "execute_result"
    }
   ],
   "source": [
    "X.optimize().objective_value"
   ]
  },
  {
   "cell_type": "code",
   "execution_count": 95,
   "metadata": {},
   "outputs": [
    {
     "data": {
      "text/plain": [
       "{'iEC1344_C': [],\n",
       " 'iJN746': [('BIOMASS_KT_TEMP', [])],\n",
       " 'iMM904': [],\n",
       " 'iYO844': []}"
      ]
     },
     "execution_count": 95,
     "metadata": {},
     "output_type": "execute_result"
    }
   ],
   "source": [
    "added_reactions"
   ]
  },
  {
   "cell_type": "code",
   "execution_count": 96,
   "metadata": {},
   "outputs": [
    {
     "data": {
      "text/html": [
       "\n",
       "        <table>\n",
       "            <tr>\n",
       "                <td><strong>Reaction identifier</strong></td><td>BIOMASS_KT_TEMP</td>\n",
       "            </tr><tr>\n",
       "                <td><strong>Name</strong></td><td>BiomassKT TEMP</td>\n",
       "            </tr><tr>\n",
       "                <td><strong>Memory address</strong></td>\n",
       "                <td>0x07fab9f1e0cd0</td>\n",
       "            </tr><tr>\n",
       "                <td><strong>Stoichiometry</strong></td>\n",
       "                <td>\n",
       "                    <p style='text-align:right'>0.05 5mthf_c + 5e-05 accoa_c + 0.488 ala__L_c + 0.001 amp_c + 0.281 arg__L_c + 0.229 asn__L_c + 0.229 asp__L_c + 45.7318 atp_c + 6e-06 coa_c + 0.0005 cpe160_c + 0.0005 cpe180_c + 0.0005 cpg160_c + ...</p>\n",
       "                    <p style='text-align:right'>0.05 5-Methyltetrahydrofolate + 5e-05 Acetyl-CoA + 0.488 L-Alanine + 0.001 AMP C10H12N5O7P + 0.281 L-Arginine + 0.229 L-Asparagine + 0.229 L-Aspartate + 45.7318 ATP C10H12N5O13P3 + 6e-06 Coenzyme A...</p>\n",
       "                </td>\n",
       "            </tr><tr>\n",
       "                <td><strong>GPR</strong></td><td></td>\n",
       "            </tr><tr>\n",
       "                <td><strong>Lower bound</strong></td><td>1.0</td>\n",
       "            </tr><tr>\n",
       "                <td><strong>Upper bound</strong></td><td>1.4</td>\n",
       "            </tr>\n",
       "        </table>\n",
       "        "
      ],
      "text/plain": [
       "<Reaction BIOMASS_KT_TEMP at 0x7fab9f1e0cd0>"
      ]
     },
     "execution_count": 96,
     "metadata": {},
     "output_type": "execute_result"
    }
   ],
   "source": [
    "X.reactions.BIOMASS_KT_TEMP"
   ]
  },
  {
   "cell_type": "markdown",
   "metadata": {},
   "source": [
    "This is a strange behavior. The algorithm has filled the model with a reaction which lowers the objective value. If that would have happened with use_all_templates = False (default), the bounds of the added reaction would be set to 0. "
   ]
  },
  {
   "cell_type": "code",
   "execution_count": null,
   "metadata": {},
   "outputs": [],
   "source": []
  }
 ],
 "metadata": {
  "kernelspec": {
   "display_name": "Python 3",
   "language": "python",
   "name": "python3"
  },
  "language_info": {
   "codemirror_mode": {
    "name": "ipython",
    "version": 3
   },
   "file_extension": ".py",
   "mimetype": "text/x-python",
   "name": "python",
   "nbconvert_exporter": "python",
   "pygments_lexer": "ipython3",
   "version": "3.8.5"
  }
 },
 "nbformat": 4,
 "nbformat_minor": 4
}
